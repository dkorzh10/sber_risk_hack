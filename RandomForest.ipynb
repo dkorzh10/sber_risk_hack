{
 "cells": [
  {
   "cell_type": "code",
   "execution_count": 62,
   "metadata": {},
   "outputs": [],
   "source": [
    "import pandas as pd\n",
    "import matplotlib.pyplot as plt\n",
    "import numpy as np\n",
    "from sklearn.model_selection import train_test_split\n",
    "from sklearn.ensemble import RandomForestClassifier\n",
    "from sklearn.linear_model import LogisticRegression\n",
    "from sklearn.metrics import roc_auc_score\n",
    "from sklearn.preprocessing import StandardScaler"
   ]
  },
  {
   "cell_type": "code",
   "execution_count": 63,
   "metadata": {},
   "outputs": [],
   "source": [
    "Y = pd.read_pickle('target.pkl')"
   ]
  },
  {
   "cell_type": "code",
   "execution_count": 64,
   "metadata": {},
   "outputs": [],
   "source": [
    "df01 = pd.read_pickle('train_not_norm.pkl')"
   ]
  },
  {
   "cell_type": "code",
   "execution_count": 65,
   "metadata": {},
   "outputs": [],
   "source": [
    "test = pd.read_pickle('test_not_norm.pkl')"
   ]
  },
  {
   "cell_type": "code",
   "execution_count": 66,
   "metadata": {},
   "outputs": [],
   "source": [
    "df01['x_13'] = df01['x_13'].apply(lambda x: int(x))\n",
    "test['x_13'] = test['x_13'].apply(lambda x: int(x))"
   ]
  },
  {
   "cell_type": "code",
   "execution_count": 67,
   "metadata": {},
   "outputs": [
    {
     "data": {
      "text/plain": [
       "x_2                    int64\n",
       "x_3                    int64\n",
       "x_4                  float64\n",
       "x_5                  float64\n",
       "year                   int64\n",
       "month                  int64\n",
       "x_13                   int64\n",
       "x_625                  int64\n",
       "x_627                float64\n",
       "mortgage_duration    float64\n",
       "A                    float64\n",
       "A1                   float64\n",
       "B                    float64\n",
       "B1                   float64\n",
       "C                    float64\n",
       "D                    float64\n",
       "N                    float64\n",
       "ЗП                   float64\n",
       "Сотрудники           float64\n",
       "Улица                float64\n",
       "autumn               float64\n",
       "spring               float64\n",
       "summer               float64\n",
       "winter               float64\n",
       "dtype: object"
      ]
     },
     "execution_count": 67,
     "metadata": {},
     "output_type": "execute_result"
    }
   ],
   "source": [
    "df01.dtypes"
   ]
  },
  {
   "cell_type": "code",
   "execution_count": 70,
   "metadata": {},
   "outputs": [],
   "source": [
    "scaler = StandardScaler()\n",
    "\n",
    "col_list = ['x_4', 'x_5', 'year', 'month', 'x_13', 'x_625', 'x_627',\n",
    "       'mortgage_duration', 'A', 'A1', 'B', 'B1', 'C', 'D', 'N', 'ЗП',\n",
    "       'Сотрудники', 'Улица', 'autumn', 'spring', 'summer', 'winter']\n",
    "\n",
    "SEED = 42\n",
    "from sklearn.model_selection import train_test_split\n",
    "X_train, X_val, y_train, y_val = train_test_split(df01, Y, test_size=0.15, random_state=SEED)\n"
   ]
  },
  {
   "cell_type": "code",
   "execution_count": 71,
   "metadata": {
    "scrolled": true
   },
   "outputs": [],
   "source": [
    "# X_train = scaler.fit_transform(X_train)\n",
    "# X_train"
   ]
  },
  {
   "cell_type": "code",
   "execution_count": 72,
   "metadata": {},
   "outputs": [],
   "source": [
    "# X_val = scaler.fit_transform(X_val)"
   ]
  },
  {
   "cell_type": "code",
   "execution_count": 73,
   "metadata": {},
   "outputs": [],
   "source": [
    "# X_test = np.array(test)\n",
    "# X_test = scaler.fit_transform(X_test)"
   ]
  },
  {
   "cell_type": "code",
   "execution_count": null,
   "metadata": {},
   "outputs": [],
   "source": []
  },
  {
   "cell_type": "code",
   "execution_count": 74,
   "metadata": {},
   "outputs": [
    {
     "data": {
      "text/plain": [
       "(1298458, 24)"
      ]
     },
     "execution_count": 74,
     "metadata": {},
     "output_type": "execute_result"
    }
   ],
   "source": [
    "X_train.shape"
   ]
  },
  {
   "cell_type": "code",
   "execution_count": 75,
   "metadata": {},
   "outputs": [
    {
     "data": {
      "text/plain": [
       "0          0\n",
       "1          0\n",
       "2          0\n",
       "3          0\n",
       "4          0\n",
       "          ..\n",
       "1943522    0\n",
       "1943523    0\n",
       "1943525    1\n",
       "1943526    0\n",
       "1943527    0\n",
       "Name: TARGET, Length: 1527598, dtype: int64"
      ]
     },
     "execution_count": 75,
     "metadata": {},
     "output_type": "execute_result"
    }
   ],
   "source": [
    "Y"
   ]
  },
  {
   "cell_type": "code",
   "execution_count": 80,
   "metadata": {},
   "outputs": [
    {
     "name": "stderr",
     "output_type": "stream",
     "text": [
      "[Parallel(n_jobs=-1)]: Using backend LokyBackend with 8 concurrent workers.\n",
      "[Parallel(n_jobs=-1)]: Done   1 out of   1 | elapsed:   36.2s finished\n"
     ]
    },
    {
     "data": {
      "text/plain": [
       "LogisticRegression(C=0.1, class_weight='balanced', max_iter=50, n_jobs=-1,\n",
       "                   random_state=42, verbose=2)"
      ]
     },
     "execution_count": 80,
     "metadata": {},
     "output_type": "execute_result"
    }
   ],
   "source": [
    "#clf = RandomForestClassifier(n_estimators=100, max_depth=20, random_state=42, n_jobs = -1)\n",
    "clf = LogisticRegression(random_state=SEED, solver = 'lbfgs', C=10000, max_iter=5000, n_jobs=-1, class_weight='balanced', verbose=2, penalty='l2') #penalty='l2'\n",
    "#clf = LogisticRegression(random_state=SEED, solver = 'sag', C=10, max_iter=100, n_jobs=-1)\n",
    "# clf = RandomForestClassifier(n_estimators=320, max_depth=12, random_state=42, max_features = 'auto', n_jobs=-1, \n",
    "#                             min_samples_leaf = 10)\n",
    "clf.fit(X_train, y_train)\n",
    "\n"
   ]
  },
  {
   "cell_type": "code",
   "execution_count": 81,
   "metadata": {},
   "outputs": [],
   "source": [
    "y_val_pred = clf.predict_proba(X_val)\n",
    "\n"
   ]
  },
  {
   "cell_type": "code",
   "execution_count": 82,
   "metadata": {},
   "outputs": [
    {
     "data": {
      "text/plain": [
       "0.5579641103582087"
      ]
     },
     "execution_count": 82,
     "metadata": {},
     "output_type": "execute_result"
    }
   ],
   "source": [
    "roc_auc_score(y_val, y_val_pred[:,1])"
   ]
  },
  {
   "cell_type": "code",
   "execution_count": 84,
   "metadata": {},
   "outputs": [
    {
     "name": "stdout",
     "output_type": "stream",
     "text": [
      "'Clear(almost)Notebook.ipynb'   submission.csv\r\n",
      " \u001b[0m\u001b[01;34mNon-Linear-Classifier\u001b[0m/         submission22.csv\r\n",
      " \u001b[01;32mRVM.py\u001b[0m*                        submission84.csv\r\n",
      " RVMReg.ipynb                   submission84_afterparty.csv\r\n",
      " RandomForest.ipynb             submission84_balanced.csv\r\n",
      " \u001b[01;34m__pycache__\u001b[0m/                   submission_RF_88.csv\r\n",
      " data1.pkl                      submission_XGB_76.csv\r\n",
      " data2.pkl                      target.pkl\r\n",
      " df00_dofinala.csv              test.pkl\r\n",
      " features.pkl                   test_data.pkl\r\n",
      " hack.ipynb                     test_norm.pkl\r\n",
      " model.pkl                      test_not_norm.pkl\r\n",
      " requirements.txt               train_norm.pkl\r\n",
      " \u001b[01;31mrisk-management-uiim.zip\u001b[0m       train_not_norm.pkl\r\n",
      " sk-learn-try-2.ipynb           train_part1.pkl\r\n",
      " sub2.csv                       train_part2.pkl\r\n"
     ]
    }
   ],
   "source": [
    "ls"
   ]
  },
  {
   "cell_type": "code",
   "execution_count": 85,
   "metadata": {},
   "outputs": [
    {
     "name": "stdout",
     "output_type": "stream",
     "text": [
      "tar: data2.pkl.gz: Cannot stat: No such file or directory\r\n",
      "tar: Exiting with failure status due to previous errors\r\n"
     ]
    }
   ],
   "source": [
    "!tar -czvf 'data2.pkl' 'data2.pkl.gz'"
   ]
  },
  {
   "cell_type": "code",
   "execution_count": null,
   "metadata": {},
   "outputs": [],
   "source": []
  }
 ],
 "metadata": {
  "kernelspec": {
   "display_name": "Python 3",
   "language": "python",
   "name": "python3"
  },
  "language_info": {
   "codemirror_mode": {
    "name": "ipython",
    "version": 3
   },
   "file_extension": ".py",
   "mimetype": "text/x-python",
   "name": "python",
   "nbconvert_exporter": "python",
   "pygments_lexer": "ipython3",
   "version": "3.6.8"
  }
 },
 "nbformat": 4,
 "nbformat_minor": 2
}
