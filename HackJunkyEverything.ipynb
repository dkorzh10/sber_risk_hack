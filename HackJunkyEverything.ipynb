{
 "cells": [
  {
   "cell_type": "code",
   "execution_count": 1,
   "metadata": {},
   "outputs": [],
   "source": [
    "#!/root/.kaggle competitions download -c home-credit-default-risk"
   ]
  },
  {
   "cell_type": "code",
   "execution_count": 2,
   "metadata": {},
   "outputs": [],
   "source": [
    "#!kaggle competitions download -c risk-management-uiim"
   ]
  },
  {
   "cell_type": "code",
   "execution_count": 3,
   "metadata": {},
   "outputs": [],
   "source": [
    "#!pip install kaggle"
   ]
  },
  {
   "cell_type": "code",
   "execution_count": 4,
   "metadata": {},
   "outputs": [],
   "source": [
    "#!unzip risk-management-uiim.zip"
   ]
  },
  {
   "cell_type": "markdown",
   "metadata": {},
   "source": [
    "# At the bottom of NB one can find our second approach (and in next NB RandomForest.ipynb)"
   ]
  },
  {
   "cell_type": "code",
   "execution_count": 9,
   "metadata": {},
   "outputs": [],
   "source": [
    "import pandas as pd\n",
    "import matplotlib.pyplot as plt\n",
    "import numpy as np\n"
   ]
  },
  {
   "cell_type": "code",
   "execution_count": 294,
   "metadata": {},
   "outputs": [],
   "source": [
    "df01 = pd.read_pickle('train_part1.pkl')\n",
    "df02 = pd.read_pickle('train_part2.pkl')\n",
    "df00 = df01.append(df02)"
   ]
  },
  {
   "cell_type": "code",
   "execution_count": 295,
   "metadata": {},
   "outputs": [
    {
     "data": {
      "text/plain": [
       "4     895330\n",
       "1     541873\n",
       "2      72587\n",
       "5      16584\n",
       "9       1059\n",
       "3         30\n",
       "19        28\n",
       "Name: x_13, dtype: int64"
      ]
     },
     "execution_count": 295,
     "metadata": {},
     "output_type": "execute_result"
    }
   ],
   "source": [
    "df00['x_13'].value_counts()"
   ]
  },
  {
   "cell_type": "code",
   "execution_count": 304,
   "metadata": {},
   "outputs": [
    {
     "ename": "DataError",
     "evalue": "No numeric types to aggregate",
     "output_type": "error",
     "traceback": [
      "\u001b[0;31m---------------------------------------------------------------------------\u001b[0m",
      "\u001b[0;31mDataError\u001b[0m                                 Traceback (most recent call last)",
      "\u001b[0;32m<ipython-input-304-4e6ccd300859>\u001b[0m in \u001b[0;36m<module>\u001b[0;34m\u001b[0m\n\u001b[0;32m----> 1\u001b[0;31m \u001b[0mdf00\u001b[0m\u001b[0;34m.\u001b[0m\u001b[0mgroupby\u001b[0m\u001b[0;34m(\u001b[0m\u001b[0;34m'x_21'\u001b[0m\u001b[0;34m)\u001b[0m\u001b[0;34m[\u001b[0m\u001b[0;34m'x_13'\u001b[0m\u001b[0;34m]\u001b[0m\u001b[0;34m.\u001b[0m\u001b[0mmean\u001b[0m\u001b[0;34m(\u001b[0m\u001b[0;34m)\u001b[0m\u001b[0;34m\u001b[0m\u001b[0;34m\u001b[0m\u001b[0m\n\u001b[0m",
      "\u001b[0;32m/opt/conda/lib/python3.6/site-packages/pandas/core/groupby/groupby.py\u001b[0m in \u001b[0;36mmean\u001b[0;34m(self, numeric_only)\u001b[0m\n\u001b[1;32m   1396\u001b[0m             \u001b[0;34m\"mean\"\u001b[0m\u001b[0;34m,\u001b[0m\u001b[0;34m\u001b[0m\u001b[0;34m\u001b[0m\u001b[0m\n\u001b[1;32m   1397\u001b[0m             \u001b[0malt\u001b[0m\u001b[0;34m=\u001b[0m\u001b[0;32mlambda\u001b[0m \u001b[0mx\u001b[0m\u001b[0;34m,\u001b[0m \u001b[0maxis\u001b[0m\u001b[0;34m:\u001b[0m \u001b[0mSeries\u001b[0m\u001b[0;34m(\u001b[0m\u001b[0mx\u001b[0m\u001b[0;34m)\u001b[0m\u001b[0;34m.\u001b[0m\u001b[0mmean\u001b[0m\u001b[0;34m(\u001b[0m\u001b[0mnumeric_only\u001b[0m\u001b[0;34m=\u001b[0m\u001b[0mnumeric_only\u001b[0m\u001b[0;34m)\u001b[0m\u001b[0;34m,\u001b[0m\u001b[0;34m\u001b[0m\u001b[0;34m\u001b[0m\u001b[0m\n\u001b[0;32m-> 1398\u001b[0;31m             \u001b[0mnumeric_only\u001b[0m\u001b[0;34m=\u001b[0m\u001b[0mnumeric_only\u001b[0m\u001b[0;34m,\u001b[0m\u001b[0;34m\u001b[0m\u001b[0;34m\u001b[0m\u001b[0m\n\u001b[0m\u001b[1;32m   1399\u001b[0m         )\n\u001b[1;32m   1400\u001b[0m \u001b[0;34m\u001b[0m\u001b[0m\n",
      "\u001b[0;32m/opt/conda/lib/python3.6/site-packages/pandas/core/groupby/groupby.py\u001b[0m in \u001b[0;36m_cython_agg_general\u001b[0;34m(self, how, alt, numeric_only, min_count)\u001b[0m\n\u001b[1;32m   1051\u001b[0m \u001b[0;34m\u001b[0m\u001b[0m\n\u001b[1;32m   1052\u001b[0m         \u001b[0;32mif\u001b[0m \u001b[0mlen\u001b[0m\u001b[0;34m(\u001b[0m\u001b[0moutput\u001b[0m\u001b[0;34m)\u001b[0m \u001b[0;34m==\u001b[0m \u001b[0;36m0\u001b[0m\u001b[0;34m:\u001b[0m\u001b[0;34m\u001b[0m\u001b[0;34m\u001b[0m\u001b[0m\n\u001b[0;32m-> 1053\u001b[0;31m             \u001b[0;32mraise\u001b[0m \u001b[0mDataError\u001b[0m\u001b[0;34m(\u001b[0m\u001b[0;34m\"No numeric types to aggregate\"\u001b[0m\u001b[0;34m)\u001b[0m\u001b[0;34m\u001b[0m\u001b[0;34m\u001b[0m\u001b[0m\n\u001b[0m\u001b[1;32m   1054\u001b[0m \u001b[0;34m\u001b[0m\u001b[0m\n\u001b[1;32m   1055\u001b[0m         \u001b[0;32mreturn\u001b[0m \u001b[0mself\u001b[0m\u001b[0;34m.\u001b[0m\u001b[0m_wrap_aggregated_output\u001b[0m\u001b[0;34m(\u001b[0m\u001b[0moutput\u001b[0m\u001b[0;34m,\u001b[0m \u001b[0mindex\u001b[0m\u001b[0;34m=\u001b[0m\u001b[0mself\u001b[0m\u001b[0;34m.\u001b[0m\u001b[0mgrouper\u001b[0m\u001b[0;34m.\u001b[0m\u001b[0mresult_index\u001b[0m\u001b[0;34m)\u001b[0m\u001b[0;34m\u001b[0m\u001b[0;34m\u001b[0m\u001b[0m\n",
      "\u001b[0;31mDataError\u001b[0m: No numeric types to aggregate"
     ]
    }
   ],
   "source": [
    "df00.groupby('x_13')['TARGET'].mean()"
   ]
  },
  {
   "cell_type": "code",
   "execution_count": 52,
   "metadata": {},
   "outputs": [
    {
     "data": {
      "text/html": [
       "<div>\n",
       "<style scoped>\n",
       "    .dataframe tbody tr th:only-of-type {\n",
       "        vertical-align: middle;\n",
       "    }\n",
       "\n",
       "    .dataframe tbody tr th {\n",
       "        vertical-align: top;\n",
       "    }\n",
       "\n",
       "    .dataframe thead th {\n",
       "        text-align: right;\n",
       "    }\n",
       "</style>\n",
       "<table border=\"1\" class=\"dataframe\">\n",
       "  <thead>\n",
       "    <tr style=\"text-align: right;\">\n",
       "      <th></th>\n",
       "      <th>REPORT_DT</th>\n",
       "      <th>x_0</th>\n",
       "      <th>x_1</th>\n",
       "      <th>x_2</th>\n",
       "      <th>x_3</th>\n",
       "      <th>x_4</th>\n",
       "      <th>x_5</th>\n",
       "      <th>x_7</th>\n",
       "      <th>x_9</th>\n",
       "      <th>x_10</th>\n",
       "      <th>...</th>\n",
       "      <th>x_639</th>\n",
       "      <th>x_640</th>\n",
       "      <th>x_641</th>\n",
       "      <th>x_642</th>\n",
       "      <th>x_643</th>\n",
       "      <th>x_644</th>\n",
       "      <th>x_645</th>\n",
       "      <th>x_646</th>\n",
       "      <th>TARGET</th>\n",
       "      <th>ID</th>\n",
       "    </tr>\n",
       "  </thead>\n",
       "  <tbody>\n",
       "    <tr>\n",
       "      <th>0</th>\n",
       "      <td>2019-08-25</td>\n",
       "      <td>1</td>\n",
       "      <td>0</td>\n",
       "      <td>1</td>\n",
       "      <td>1</td>\n",
       "      <td>2100000.0</td>\n",
       "      <td>1505828.87</td>\n",
       "      <td>1505828.87</td>\n",
       "      <td>2017-03-20</td>\n",
       "      <td>1400000.0</td>\n",
       "      <td>...</td>\n",
       "      <td>11.75</td>\n",
       "      <td>0.436268</td>\n",
       "      <td>0.436268</td>\n",
       "      <td>40.257001</td>\n",
       "      <td>28</td>\n",
       "      <td>22757.85</td>\n",
       "      <td>0.505730</td>\n",
       "      <td>0.716184</td>\n",
       "      <td>0</td>\n",
       "      <td>0</td>\n",
       "    </tr>\n",
       "    <tr>\n",
       "      <th>1</th>\n",
       "      <td>2019-06-27</td>\n",
       "      <td>1</td>\n",
       "      <td>0</td>\n",
       "      <td>1</td>\n",
       "      <td>1</td>\n",
       "      <td>900000.0</td>\n",
       "      <td>363535.29</td>\n",
       "      <td>363535.29</td>\n",
       "      <td>2017-02-02</td>\n",
       "      <td>900000.0</td>\n",
       "      <td>...</td>\n",
       "      <td>12.25</td>\n",
       "      <td>0.321785</td>\n",
       "      <td>0.321785</td>\n",
       "      <td>12.000000</td>\n",
       "      <td>28</td>\n",
       "      <td>20133.89</td>\n",
       "      <td>0.268452</td>\n",
       "      <td>0.268452</td>\n",
       "      <td>0</td>\n",
       "      <td>1</td>\n",
       "    </tr>\n",
       "    <tr>\n",
       "      <th>2</th>\n",
       "      <td>2018-01-09</td>\n",
       "      <td>1</td>\n",
       "      <td>0</td>\n",
       "      <td>1</td>\n",
       "      <td>1</td>\n",
       "      <td>1000000.0</td>\n",
       "      <td>990956.71</td>\n",
       "      <td>982069.19</td>\n",
       "      <td>2017-09-20</td>\n",
       "      <td>1000000.0</td>\n",
       "      <td>...</td>\n",
       "      <td>7.90</td>\n",
       "      <td>0.284704</td>\n",
       "      <td>0.284704</td>\n",
       "      <td>NaN</td>\n",
       "      <td>4</td>\n",
       "      <td>15536.44</td>\n",
       "      <td>0.154156</td>\n",
       "      <td>0.348582</td>\n",
       "      <td>0</td>\n",
       "      <td>2</td>\n",
       "    </tr>\n",
       "    <tr>\n",
       "      <th>3</th>\n",
       "      <td>2019-09-03</td>\n",
       "      <td>1</td>\n",
       "      <td>0</td>\n",
       "      <td>1</td>\n",
       "      <td>1</td>\n",
       "      <td>1400000.0</td>\n",
       "      <td>566338.60</td>\n",
       "      <td>564045.39</td>\n",
       "      <td>2015-02-06</td>\n",
       "      <td>1400000.0</td>\n",
       "      <td>...</td>\n",
       "      <td>15.75</td>\n",
       "      <td>0.274333</td>\n",
       "      <td>0.274333</td>\n",
       "      <td>16.470588</td>\n",
       "      <td>55</td>\n",
       "      <td>20318.31</td>\n",
       "      <td>0.239039</td>\n",
       "      <td>0.239039</td>\n",
       "      <td>0</td>\n",
       "      <td>3</td>\n",
       "    </tr>\n",
       "    <tr>\n",
       "      <th>4</th>\n",
       "      <td>2017-12-18</td>\n",
       "      <td>1</td>\n",
       "      <td>0</td>\n",
       "      <td>1</td>\n",
       "      <td>1</td>\n",
       "      <td>2114500.0</td>\n",
       "      <td>1414693.51</td>\n",
       "      <td>1396391.57</td>\n",
       "      <td>2014-10-13</td>\n",
       "      <td>1700000.0</td>\n",
       "      <td>...</td>\n",
       "      <td>13.00</td>\n",
       "      <td>0.382492</td>\n",
       "      <td>0.382492</td>\n",
       "      <td>16.700842</td>\n",
       "      <td>36</td>\n",
       "      <td>24772.97</td>\n",
       "      <td>0.190561</td>\n",
       "      <td>0.238575</td>\n",
       "      <td>0</td>\n",
       "      <td>4</td>\n",
       "    </tr>\n",
       "  </tbody>\n",
       "</table>\n",
       "<p>5 rows × 648 columns</p>\n",
       "</div>"
      ],
      "text/plain": [
       "   REPORT_DT  x_0  x_1  x_2  x_3        x_4         x_5         x_7  \\\n",
       "0 2019-08-25    1    0    1    1  2100000.0  1505828.87  1505828.87   \n",
       "1 2019-06-27    1    0    1    1   900000.0   363535.29   363535.29   \n",
       "2 2018-01-09    1    0    1    1  1000000.0   990956.71   982069.19   \n",
       "3 2019-09-03    1    0    1    1  1400000.0   566338.60   564045.39   \n",
       "4 2017-12-18    1    0    1    1  2114500.0  1414693.51  1396391.57   \n",
       "\n",
       "         x_9       x_10  ...  x_639     x_640     x_641      x_642  x_643  \\\n",
       "0 2017-03-20  1400000.0  ...  11.75  0.436268  0.436268  40.257001     28   \n",
       "1 2017-02-02   900000.0  ...  12.25  0.321785  0.321785  12.000000     28   \n",
       "2 2017-09-20  1000000.0  ...   7.90  0.284704  0.284704        NaN      4   \n",
       "3 2015-02-06  1400000.0  ...  15.75  0.274333  0.274333  16.470588     55   \n",
       "4 2014-10-13  1700000.0  ...  13.00  0.382492  0.382492  16.700842     36   \n",
       "\n",
       "      x_644     x_645     x_646 TARGET  ID  \n",
       "0  22757.85  0.505730  0.716184      0   0  \n",
       "1  20133.89  0.268452  0.268452      0   1  \n",
       "2  15536.44  0.154156  0.348582      0   2  \n",
       "3  20318.31  0.239039  0.239039      0   3  \n",
       "4  24772.97  0.190561  0.238575      0   4  \n",
       "\n",
       "[5 rows x 648 columns]"
      ]
     },
     "execution_count": 52,
     "metadata": {},
     "output_type": "execute_result"
    }
   ],
   "source": [
    "\n",
    "df1 = pd.read_pickle('train_part1.pkl')\n",
    "df1.head()"
   ]
  },
  {
   "cell_type": "code",
   "execution_count": 53,
   "metadata": {},
   "outputs": [
    {
     "data": {
      "text/plain": [
       "(763801, 648)"
      ]
     },
     "execution_count": 53,
     "metadata": {},
     "output_type": "execute_result"
    }
   ],
   "source": [
    "df1.shape"
   ]
  },
  {
   "cell_type": "code",
   "execution_count": 3,
   "metadata": {},
   "outputs": [
    {
     "data": {
      "text/html": [
       "<div>\n",
       "<style scoped>\n",
       "    .dataframe tbody tr th:only-of-type {\n",
       "        vertical-align: middle;\n",
       "    }\n",
       "\n",
       "    .dataframe tbody tr th {\n",
       "        vertical-align: top;\n",
       "    }\n",
       "\n",
       "    .dataframe thead th {\n",
       "        text-align: right;\n",
       "    }\n",
       "</style>\n",
       "<table border=\"1\" class=\"dataframe\">\n",
       "  <thead>\n",
       "    <tr style=\"text-align: right;\">\n",
       "      <th></th>\n",
       "      <th>REPORT_DT</th>\n",
       "      <th>x_0</th>\n",
       "      <th>x_1</th>\n",
       "      <th>x_2</th>\n",
       "      <th>x_3</th>\n",
       "      <th>x_4</th>\n",
       "      <th>x_5</th>\n",
       "      <th>x_7</th>\n",
       "      <th>x_9</th>\n",
       "      <th>x_10</th>\n",
       "      <th>...</th>\n",
       "      <th>x_639</th>\n",
       "      <th>x_640</th>\n",
       "      <th>x_641</th>\n",
       "      <th>x_642</th>\n",
       "      <th>x_643</th>\n",
       "      <th>x_644</th>\n",
       "      <th>x_645</th>\n",
       "      <th>x_646</th>\n",
       "      <th>TARGET</th>\n",
       "      <th>ID</th>\n",
       "    </tr>\n",
       "  </thead>\n",
       "  <tbody>\n",
       "    <tr>\n",
       "      <th>971632</th>\n",
       "      <td>2018-11-29</td>\n",
       "      <td>1</td>\n",
       "      <td>0</td>\n",
       "      <td>1</td>\n",
       "      <td>1</td>\n",
       "      <td>1586000.0</td>\n",
       "      <td>370525.32</td>\n",
       "      <td>370525.32</td>\n",
       "      <td>2017-08-02</td>\n",
       "      <td>1600000.0</td>\n",
       "      <td>...</td>\n",
       "      <td>9.0</td>\n",
       "      <td>0.519917</td>\n",
       "      <td>0.519917</td>\n",
       "      <td>57.786131</td>\n",
       "      <td>14</td>\n",
       "      <td>14269.65</td>\n",
       "      <td>0.150207</td>\n",
       "      <td>0.515368</td>\n",
       "      <td>1</td>\n",
       "      <td>971632</td>\n",
       "    </tr>\n",
       "    <tr>\n",
       "      <th>971633</th>\n",
       "      <td>2018-03-12</td>\n",
       "      <td>1</td>\n",
       "      <td>0</td>\n",
       "      <td>1</td>\n",
       "      <td>1</td>\n",
       "      <td>2892000.0</td>\n",
       "      <td>828797.94</td>\n",
       "      <td>827507.87</td>\n",
       "      <td>2014-07-28</td>\n",
       "      <td>2892000.0</td>\n",
       "      <td>...</td>\n",
       "      <td>13.5</td>\n",
       "      <td>0.370445</td>\n",
       "      <td>0.370445</td>\n",
       "      <td>31.780198</td>\n",
       "      <td>43</td>\n",
       "      <td>33710.45</td>\n",
       "      <td>0.293134</td>\n",
       "      <td>0.396594</td>\n",
       "      <td>0</td>\n",
       "      <td>971633</td>\n",
       "    </tr>\n",
       "    <tr>\n",
       "      <th>971634</th>\n",
       "      <td>2019-03-31</td>\n",
       "      <td>1</td>\n",
       "      <td>0</td>\n",
       "      <td>1</td>\n",
       "      <td>1</td>\n",
       "      <td>1242200.0</td>\n",
       "      <td>683018.20</td>\n",
       "      <td>683018.20</td>\n",
       "      <td>2016-04-29</td>\n",
       "      <td>2200000.0</td>\n",
       "      <td>...</td>\n",
       "      <td>12.0</td>\n",
       "      <td>0.276360</td>\n",
       "      <td>0.276360</td>\n",
       "      <td>16.185670</td>\n",
       "      <td>35</td>\n",
       "      <td>17821.96</td>\n",
       "      <td>0.133000</td>\n",
       "      <td>0.131118</td>\n",
       "      <td>0</td>\n",
       "      <td>971634</td>\n",
       "    </tr>\n",
       "    <tr>\n",
       "      <th>971635</th>\n",
       "      <td>2017-11-19</td>\n",
       "      <td>1</td>\n",
       "      <td>0</td>\n",
       "      <td>1</td>\n",
       "      <td>1</td>\n",
       "      <td>405000.0</td>\n",
       "      <td>326739.23</td>\n",
       "      <td>326739.23</td>\n",
       "      <td>2016-06-28</td>\n",
       "      <td>405000.0</td>\n",
       "      <td>...</td>\n",
       "      <td>14.5</td>\n",
       "      <td>0.119566</td>\n",
       "      <td>0.119566</td>\n",
       "      <td>NaN</td>\n",
       "      <td>16</td>\n",
       "      <td>9528.95</td>\n",
       "      <td>0.105877</td>\n",
       "      <td>0.119566</td>\n",
       "      <td>0</td>\n",
       "      <td>971635</td>\n",
       "    </tr>\n",
       "    <tr>\n",
       "      <th>971636</th>\n",
       "      <td>2019-06-03</td>\n",
       "      <td>1</td>\n",
       "      <td>0</td>\n",
       "      <td>1</td>\n",
       "      <td>1</td>\n",
       "      <td>680000.0</td>\n",
       "      <td>608045.43</td>\n",
       "      <td>608045.43</td>\n",
       "      <td>2017-08-19</td>\n",
       "      <td>680000.0</td>\n",
       "      <td>...</td>\n",
       "      <td>8.9</td>\n",
       "      <td>0.347095</td>\n",
       "      <td>0.347095</td>\n",
       "      <td>NaN</td>\n",
       "      <td>20</td>\n",
       "      <td>8577.19</td>\n",
       "      <td>0.276684</td>\n",
       "      <td>0.347095</td>\n",
       "      <td>0</td>\n",
       "      <td>971636</td>\n",
       "    </tr>\n",
       "  </tbody>\n",
       "</table>\n",
       "<p>5 rows × 648 columns</p>\n",
       "</div>"
      ],
      "text/plain": [
       "        REPORT_DT  x_0  x_1  x_2  x_3        x_4        x_5        x_7  \\\n",
       "971632 2018-11-29    1    0    1    1  1586000.0  370525.32  370525.32   \n",
       "971633 2018-03-12    1    0    1    1  2892000.0  828797.94  827507.87   \n",
       "971634 2019-03-31    1    0    1    1  1242200.0  683018.20  683018.20   \n",
       "971635 2017-11-19    1    0    1    1   405000.0  326739.23  326739.23   \n",
       "971636 2019-06-03    1    0    1    1   680000.0  608045.43  608045.43   \n",
       "\n",
       "              x_9       x_10  ...  x_639     x_640     x_641      x_642  \\\n",
       "971632 2017-08-02  1600000.0  ...    9.0  0.519917  0.519917  57.786131   \n",
       "971633 2014-07-28  2892000.0  ...   13.5  0.370445  0.370445  31.780198   \n",
       "971634 2016-04-29  2200000.0  ...   12.0  0.276360  0.276360  16.185670   \n",
       "971635 2016-06-28   405000.0  ...   14.5  0.119566  0.119566        NaN   \n",
       "971636 2017-08-19   680000.0  ...    8.9  0.347095  0.347095        NaN   \n",
       "\n",
       "        x_643     x_644     x_645     x_646 TARGET      ID  \n",
       "971632     14  14269.65  0.150207  0.515368      1  971632  \n",
       "971633     43  33710.45  0.293134  0.396594      0  971633  \n",
       "971634     35  17821.96  0.133000  0.131118      0  971634  \n",
       "971635     16   9528.95  0.105877  0.119566      0  971635  \n",
       "971636     20   8577.19  0.276684  0.347095      0  971636  \n",
       "\n",
       "[5 rows x 648 columns]"
      ]
     },
     "execution_count": 3,
     "metadata": {},
     "output_type": "execute_result"
    }
   ],
   "source": [
    "df2 = pd.read_pickle('train_part2.pkl')\n",
    "df2.head()"
   ]
  },
  {
   "cell_type": "code",
   "execution_count": 4,
   "metadata": {},
   "outputs": [
    {
     "data": {
      "text/plain": [
       "216"
      ]
     },
     "execution_count": 4,
     "metadata": {},
     "output_type": "execute_result"
    }
   ],
   "source": [
    "df1.iloc[0,:].isna().sum()"
   ]
  },
  {
   "cell_type": "code",
   "execution_count": 8,
   "metadata": {},
   "outputs": [],
   "source": [
    "df1_nans = df1.isna().sum().to_list()"
   ]
  },
  {
   "cell_type": "code",
   "execution_count": 9,
   "metadata": {},
   "outputs": [],
   "source": [
    "df1_nans_idx = [i for i in range(len(df1_nans)) if df1_nans[i]!=0]"
   ]
  },
  {
   "cell_type": "code",
   "execution_count": 10,
   "metadata": {},
   "outputs": [],
   "source": [
    "#df1_nans"
   ]
  },
  {
   "cell_type": "code",
   "execution_count": 11,
   "metadata": {},
   "outputs": [],
   "source": [
    "#df1_nans_idx"
   ]
  },
  {
   "cell_type": "code",
   "execution_count": 12,
   "metadata": {},
   "outputs": [
    {
     "data": {
      "text/plain": [
       "591"
      ]
     },
     "execution_count": 12,
     "metadata": {},
     "output_type": "execute_result"
    }
   ],
   "source": [
    "len(df1_nans_idx)"
   ]
  },
  {
   "cell_type": "code",
   "execution_count": 13,
   "metadata": {},
   "outputs": [],
   "source": [
    "df2_nans = df2.isna().sum().to_list()\n",
    "\n",
    "df2_nans_idx = [i for i in range(len(df2_nans)) if df2_nans[i]!=0]\n",
    "\n",
    "#df2_nans_idx"
   ]
  },
  {
   "cell_type": "code",
   "execution_count": 14,
   "metadata": {},
   "outputs": [
    {
     "data": {
      "text/plain": [
       "591"
      ]
     },
     "execution_count": 14,
     "metadata": {},
     "output_type": "execute_result"
    }
   ],
   "source": [
    "len(df1_nans_idx)"
   ]
  },
  {
   "cell_type": "code",
   "execution_count": 15,
   "metadata": {},
   "outputs": [
    {
     "data": {
      "text/plain": [
       "591"
      ]
     },
     "execution_count": 15,
     "metadata": {},
     "output_type": "execute_result"
    }
   ],
   "source": [
    "len(df2_nans_idx)"
   ]
  },
  {
   "cell_type": "code",
   "execution_count": 16,
   "metadata": {},
   "outputs": [
    {
     "data": {
      "text/plain": [
       "True"
      ]
     },
     "execution_count": 16,
     "metadata": {},
     "output_type": "execute_result"
    }
   ],
   "source": [
    "df1_nans_idx == df2_nans_idx"
   ]
  },
  {
   "cell_type": "code",
   "execution_count": 17,
   "metadata": {},
   "outputs": [
    {
     "data": {
      "text/plain": [
       "763801"
      ]
     },
     "execution_count": 17,
     "metadata": {},
     "output_type": "execute_result"
    }
   ],
   "source": [
    "len(df1)"
   ]
  },
  {
   "cell_type": "code",
   "execution_count": 18,
   "metadata": {},
   "outputs": [
    {
     "data": {
      "text/plain": [
       "763797"
      ]
     },
     "execution_count": 18,
     "metadata": {},
     "output_type": "execute_result"
    }
   ],
   "source": [
    "len(df2)"
   ]
  },
  {
   "cell_type": "code",
   "execution_count": 19,
   "metadata": {},
   "outputs": [
    {
     "data": {
      "text/plain": [
       "[<matplotlib.lines.Line2D at 0x7f367fa03518>]"
      ]
     },
     "execution_count": 19,
     "metadata": {},
     "output_type": "execute_result"
    },
    {
     "data": {
      "image/png": "[encoded data removed]",
      "text/plain": [
       "<Figure size 432x288 with 1 Axes>"
      ]
     },
     "metadata": {
      "needs_background": "light"
     },
     "output_type": "display_data"
    }
   ],
   "source": [
    "plt.plot(np.array(df2_nans)-np.array(df1_nans))"
   ]
  },
  {
   "cell_type": "code",
   "execution_count": 20,
   "metadata": {
    "scrolled": true
   },
   "outputs": [
    {
     "data": {
      "text/html": [
       "<div>\n",
       "<style scoped>\n",
       "    .dataframe tbody tr th:only-of-type {\n",
       "        vertical-align: middle;\n",
       "    }\n",
       "\n",
       "    .dataframe tbody tr th {\n",
       "        vertical-align: top;\n",
       "    }\n",
       "\n",
       "    .dataframe thead th {\n",
       "        text-align: right;\n",
       "    }\n",
       "</style>\n",
       "<table border=\"1\" class=\"dataframe\">\n",
       "  <thead>\n",
       "    <tr style=\"text-align: right;\">\n",
       "      <th></th>\n",
       "      <th>REPORT_DT</th>\n",
       "      <th>x_0</th>\n",
       "      <th>x_1</th>\n",
       "      <th>x_2</th>\n",
       "      <th>x_3</th>\n",
       "      <th>x_4</th>\n",
       "      <th>x_5</th>\n",
       "      <th>x_7</th>\n",
       "      <th>x_9</th>\n",
       "      <th>x_10</th>\n",
       "      <th>...</th>\n",
       "      <th>x_638</th>\n",
       "      <th>x_639</th>\n",
       "      <th>x_640</th>\n",
       "      <th>x_641</th>\n",
       "      <th>x_642</th>\n",
       "      <th>x_643</th>\n",
       "      <th>x_644</th>\n",
       "      <th>x_645</th>\n",
       "      <th>x_646</th>\n",
       "      <th>ID</th>\n",
       "    </tr>\n",
       "  </thead>\n",
       "  <tbody>\n",
       "    <tr>\n",
       "      <th>1943531</th>\n",
       "      <td>2019-09-01</td>\n",
       "      <td>1</td>\n",
       "      <td>0</td>\n",
       "      <td>1</td>\n",
       "      <td>1</td>\n",
       "      <td>1100000.0</td>\n",
       "      <td>157773.90</td>\n",
       "      <td>157773.90</td>\n",
       "      <td>2014-10-25</td>\n",
       "      <td>1000000.0</td>\n",
       "      <td>...</td>\n",
       "      <td>0.0</td>\n",
       "      <td>13.75</td>\n",
       "      <td>0.530767</td>\n",
       "      <td>0.530767</td>\n",
       "      <td>34.517588</td>\n",
       "      <td>58</td>\n",
       "      <td>16914.35</td>\n",
       "      <td>0.583844</td>\n",
       "      <td>0.583844</td>\n",
       "      <td>1943531</td>\n",
       "    </tr>\n",
       "    <tr>\n",
       "      <th>1943532</th>\n",
       "      <td>2017-12-18</td>\n",
       "      <td>1</td>\n",
       "      <td>0</td>\n",
       "      <td>1</td>\n",
       "      <td>1</td>\n",
       "      <td>2580000.0</td>\n",
       "      <td>2187426.61</td>\n",
       "      <td>2183868.19</td>\n",
       "      <td>2017-08-17</td>\n",
       "      <td>2600000.0</td>\n",
       "      <td>...</td>\n",
       "      <td>0.0</td>\n",
       "      <td>9.00</td>\n",
       "      <td>0.735124</td>\n",
       "      <td>0.735124</td>\n",
       "      <td>71.603967</td>\n",
       "      <td>3</td>\n",
       "      <td>23212.93</td>\n",
       "      <td>0.356027</td>\n",
       "      <td>0.633954</td>\n",
       "      <td>1943532</td>\n",
       "    </tr>\n",
       "    <tr>\n",
       "      <th>1943533</th>\n",
       "      <td>2019-04-24</td>\n",
       "      <td>1</td>\n",
       "      <td>0</td>\n",
       "      <td>1</td>\n",
       "      <td>1</td>\n",
       "      <td>1200000.0</td>\n",
       "      <td>385763.26</td>\n",
       "      <td>218655.96</td>\n",
       "      <td>2013-02-07</td>\n",
       "      <td>1200000.0</td>\n",
       "      <td>...</td>\n",
       "      <td>0.0</td>\n",
       "      <td>14.00</td>\n",
       "      <td>0.858073</td>\n",
       "      <td>0.858073</td>\n",
       "      <td>NaN</td>\n",
       "      <td>73</td>\n",
       "      <td>18631.97</td>\n",
       "      <td>0.388166</td>\n",
       "      <td>0.858072</td>\n",
       "      <td>1943533</td>\n",
       "    </tr>\n",
       "    <tr>\n",
       "      <th>1943534</th>\n",
       "      <td>2017-05-15</td>\n",
       "      <td>1</td>\n",
       "      <td>0</td>\n",
       "      <td>1</td>\n",
       "      <td>1</td>\n",
       "      <td>637500.0</td>\n",
       "      <td>595369.13</td>\n",
       "      <td>595369.13</td>\n",
       "      <td>2015-11-16</td>\n",
       "      <td>637500.0</td>\n",
       "      <td>...</td>\n",
       "      <td>0.0</td>\n",
       "      <td>14.45</td>\n",
       "      <td>0.268572</td>\n",
       "      <td>0.268572</td>\n",
       "      <td>NaN</td>\n",
       "      <td>17</td>\n",
       "      <td>10071.45</td>\n",
       "      <td>0.402858</td>\n",
       "      <td>0.268572</td>\n",
       "      <td>1943534</td>\n",
       "    </tr>\n",
       "    <tr>\n",
       "      <th>1943537</th>\n",
       "      <td>2019-03-10</td>\n",
       "      <td>1</td>\n",
       "      <td>0</td>\n",
       "      <td>1</td>\n",
       "      <td>1</td>\n",
       "      <td>1232500.0</td>\n",
       "      <td>1118118.29</td>\n",
       "      <td>1118118.29</td>\n",
       "      <td>2014-03-24</td>\n",
       "      <td>1870000.0</td>\n",
       "      <td>...</td>\n",
       "      <td>15000.0</td>\n",
       "      <td>13.50</td>\n",
       "      <td>0.651646</td>\n",
       "      <td>0.651646</td>\n",
       "      <td>56.539372</td>\n",
       "      <td>56</td>\n",
       "      <td>14366.57</td>\n",
       "      <td>0.287331</td>\n",
       "      <td>0.471809</td>\n",
       "      <td>1943537</td>\n",
       "    </tr>\n",
       "  </tbody>\n",
       "</table>\n",
       "<p>5 rows × 647 columns</p>\n",
       "</div>"
      ],
      "text/plain": [
       "         REPORT_DT  x_0  x_1  x_2  x_3        x_4         x_5         x_7  \\\n",
       "1943531 2019-09-01    1    0    1    1  1100000.0   157773.90   157773.90   \n",
       "1943532 2017-12-18    1    0    1    1  2580000.0  2187426.61  2183868.19   \n",
       "1943533 2019-04-24    1    0    1    1  1200000.0   385763.26   218655.96   \n",
       "1943534 2017-05-15    1    0    1    1   637500.0   595369.13   595369.13   \n",
       "1943537 2019-03-10    1    0    1    1  1232500.0  1118118.29  1118118.29   \n",
       "\n",
       "               x_9       x_10  ...    x_638  x_639     x_640     x_641  \\\n",
       "1943531 2014-10-25  1000000.0  ...      0.0  13.75  0.530767  0.530767   \n",
       "1943532 2017-08-17  2600000.0  ...      0.0   9.00  0.735124  0.735124   \n",
       "1943533 2013-02-07  1200000.0  ...      0.0  14.00  0.858073  0.858073   \n",
       "1943534 2015-11-16   637500.0  ...      0.0  14.45  0.268572  0.268572   \n",
       "1943537 2014-03-24  1870000.0  ...  15000.0  13.50  0.651646  0.651646   \n",
       "\n",
       "             x_642  x_643     x_644     x_645     x_646       ID  \n",
       "1943531  34.517588     58  16914.35  0.583844  0.583844  1943531  \n",
       "1943532  71.603967      3  23212.93  0.356027  0.633954  1943532  \n",
       "1943533        NaN     73  18631.97  0.388166  0.858072  1943533  \n",
       "1943534        NaN     17  10071.45  0.402858  0.268572  1943534  \n",
       "1943537  56.539372     56  14366.57  0.287331  0.471809  1943537  \n",
       "\n",
       "[5 rows x 647 columns]"
      ]
     },
     "execution_count": 20,
     "metadata": {},
     "output_type": "execute_result"
    }
   ],
   "source": [
    "df_test = pd.read_pickle('test_data.pkl')\n",
    "df_test.head()"
   ]
  },
  {
   "cell_type": "code",
   "execution_count": 21,
   "metadata": {},
   "outputs": [],
   "source": [
    "df_test_nans = df_test.isna().sum().to_list()\n",
    "\n",
    "df_test_nans_idx = [i for i in range(len(df_test_nans)) if df_test_nans[i]!=0]\n",
    "\n",
    "#df_test_nans_idx"
   ]
  },
  {
   "cell_type": "code",
   "execution_count": 22,
   "metadata": {},
   "outputs": [
    {
     "data": {
      "text/plain": [
       "595"
      ]
     },
     "execution_count": 22,
     "metadata": {},
     "output_type": "execute_result"
    }
   ],
   "source": [
    "len(df_test_nans_idx)"
   ]
  },
  {
   "cell_type": "code",
   "execution_count": 23,
   "metadata": {},
   "outputs": [],
   "source": [
    "#df1['Nnans'] = df1.apply(lambda x: x.isna().sum(), axis=1)"
   ]
  },
  {
   "cell_type": "code",
   "execution_count": 24,
   "metadata": {
    "scrolled": true
   },
   "outputs": [],
   "source": [
    "#df1['Nnans'].hist()\n",
    "#plt.show()"
   ]
  },
  {
   "cell_type": "code",
   "execution_count": 25,
   "metadata": {},
   "outputs": [],
   "source": [
    "#df2['Nnans'] = df2.apply(lambda x: x.isna().sum(), axis=1)\n",
    "\n",
    "#df2['Nnans'].hist()я\n",
    "#plt.show()"
   ]
  },
  {
   "cell_type": "code",
   "execution_count": 26,
   "metadata": {},
   "outputs": [],
   "source": [
    "#import numba"
   ]
  },
  {
   "cell_type": "code",
   "execution_count": 27,
   "metadata": {},
   "outputs": [],
   "source": [
    "#pip install pandarallel"
   ]
  },
  {
   "cell_type": "markdown",
   "metadata": {},
   "source": [
    "# Merging datasest and removing columns with>features"
   ]
  },
  {
   "cell_type": "code",
   "execution_count": 28,
   "metadata": {},
   "outputs": [
    {
     "data": {
      "text/plain": [
       "(1527598, 648)"
      ]
     },
     "execution_count": 28,
     "metadata": {},
     "output_type": "execute_result"
    }
   ],
   "source": [
    "df = df1.append(df2)\n",
    "df.shape"
   ]
  },
  {
   "cell_type": "code",
   "execution_count": 29,
   "metadata": {},
   "outputs": [
    {
     "name": "stdout",
     "output_type": "stream",
     "text": [
      "INFO: Pandarallel will run on 32 workers.\n",
      "INFO: Pandarallel will use Memory file system to transfer data between the main process and workers.\n"
     ]
    }
   ],
   "source": [
    "from pandarallel import pandarallel\n",
    "pandarallel.initialize(nb_workers = 32)"
   ]
  },
  {
   "cell_type": "code",
   "execution_count": 30,
   "metadata": {},
   "outputs": [],
   "source": [
    "def nans_counter_row(x):\n",
    "    return x.isna().sum()"
   ]
  },
  {
   "cell_type": "code",
   "execution_count": 31,
   "metadata": {},
   "outputs": [],
   "source": [
    "df['NnansParall'] = df.parallel_apply(nans_counter_row, axis=1)"
   ]
  },
  {
   "cell_type": "code",
   "execution_count": 33,
   "metadata": {},
   "outputs": [
    {
     "data": {
      "text/plain": [
       "<matplotlib.axes._subplots.AxesSubplot at 0x7f3744b9b208>"
      ]
     },
     "execution_count": 33,
     "metadata": {},
     "output_type": "execute_result"
    },
    {
     "data": {
      "image/png": "[encoded data removed]",
      "text/plain": [
       "<Figure size 432x288 with 1 Axes>"
      ]
     },
     "metadata": {
      "needs_background": "light"
     },
     "output_type": "display_data"
    }
   ],
   "source": [
    "df['NnansParall'].hist()"
   ]
  },
  {
   "cell_type": "code",
   "execution_count": 34,
   "metadata": {},
   "outputs": [],
   "source": [
    "nn = df.isna().sum()"
   ]
  },
  {
   "cell_type": "code",
   "execution_count": 35,
   "metadata": {},
   "outputs": [],
   "source": [
    "features_dict = dict(zip(df.columns, nn))\n"
   ]
  },
  {
   "cell_type": "code",
   "execution_count": 36,
   "metadata": {},
   "outputs": [],
   "source": [
    "columns_to_drop = {}\n",
    "\n",
    "for elem in features_dict:\n",
    "    if features_dict[elem]>=df1.shape[0]:\n",
    "        columns_to_drop[elem] = features_dict[elem]\n",
    "        #features_to_drop.append(features_dict[elem].keys())\n",
    "        "
   ]
  },
  {
   "cell_type": "code",
   "execution_count": 37,
   "metadata": {},
   "outputs": [
    {
     "data": {
      "text/plain": [
       "dict_keys(['x_17', 'x_25', 'x_26', 'x_27', 'x_29', 'x_30', 'x_32', 'x_36', 'x_37', 'x_38', 'x_39', 'x_40', 'x_41', 'x_42', 'x_43', 'x_44', 'x_60', 'x_61', 'x_63', 'x_64', 'x_65', 'x_66', 'x_67', 'x_68', 'x_69', 'x_70', 'x_71', 'x_72', 'x_73', 'x_74', 'x_76', 'x_77', 'x_78', 'x_100', 'x_101', 'x_102', 'x_103', 'x_104', 'x_105', 'x_106', 'x_107', 'x_111', 'x_112', 'x_113', 'x_114', 'x_115', 'x_116', 'x_117', 'x_118', 'x_122', 'x_123', 'x_128', 'x_129', 'x_130', 'x_132', 'x_135', 'x_142', 'x_143', 'x_164', 'x_166', 'x_171', 'x_172', 'x_173', 'x_174', 'x_175', 'x_176', 'x_177', 'x_203', 'x_204', 'x_205', 'x_206', 'x_207', 'x_208', 'x_209', 'x_210', 'x_214', 'x_215', 'x_216', 'x_217', 'x_218', 'x_219', 'x_220', 'x_221', 'x_225', 'x_226', 'x_231', 'x_232', 'x_233', 'x_245', 'x_246', 'x_278', 'x_279', 'x_306', 'x_307', 'x_308', 'x_309', 'x_310', 'x_311', 'x_312', 'x_313', 'x_317', 'x_318', 'x_319', 'x_320', 'x_321', 'x_322', 'x_323', 'x_324', 'x_328', 'x_329', 'x_334', 'x_335', 'x_336', 'x_343', 'x_344', 'x_345', 'x_346', 'x_349', 'x_351', 'x_353', 'x_355', 'x_356', 'x_357', 'x_358', 'x_361', 'x_362', 'x_363', 'x_364', 'x_365', 'x_366', 'x_367', 'x_368', 'x_369', 'x_370', 'x_372', 'x_463', 'x_490', 'x_491', 'x_492', 'x_493', 'x_494', 'x_495', 'x_496', 'x_497', 'x_498', 'x_499', 'x_540', 'x_541', 'x_543', 'x_546', 'x_548', 'x_549', 'x_550', 'x_551', 'x_609'])"
      ]
     },
     "execution_count": 37,
     "metadata": {},
     "output_type": "execute_result"
    }
   ],
   "source": [
    "features_to_drop = columns_to_drop.keys()\n",
    "features_to_drop"
   ]
  },
  {
   "cell_type": "code",
   "execution_count": 5,
   "metadata": {},
   "outputs": [],
   "source": []
  },
  {
   "cell_type": "code",
   "execution_count": 37,
   "metadata": {},
   "outputs": [
    {
     "data": {
      "text/plain": [
       "<matplotlib.axes._subplots.AxesSubplot at 0x7f6b27cfeb70>"
      ]
     },
     "execution_count": 37,
     "metadata": {},
     "output_type": "execute_result"
    },
    {
     "data": {
      "image/png": "[encoded data removed]",
      "text/plain": [
       "<Figure size 432x288 with 1 Axes>"
      ]
     },
     "metadata": {
      "needs_background": "light"
     },
     "output_type": "display_data"
    }
   ],
   "source": [
    "# imbalance? \n",
    "\n",
    "df['TARGET'].hist()"
   ]
  },
  {
   "cell_type": "code",
   "execution_count": null,
   "metadata": {},
   "outputs": [],
   "source": []
  },
  {
   "cell_type": "code",
   "execution_count": 38,
   "metadata": {},
   "outputs": [],
   "source": [
    "# do custom data preprocces\n",
    "import sklearn\n",
    "from sklearn.base import BaseEstimator, TransformerMixin\n",
    "class DateTransformer(BaseEstimator, TransformerMixin):\n",
    "    \n",
    "    def __init__(self):\n",
    "        pass\n",
    "    \n",
    "    def fit(self, X, y=None):\n",
    "        return self\n",
    "    \n",
    "    def transform(self, X):\n",
    "    # заменяю дату на месяц\n",
    "        for i in range(X.shape[0]):\n",
    "          X.date[i] = int(X.date[i][-1])\n",
    "        return X"
   ]
  },
  {
   "cell_type": "code",
   "execution_count": 39,
   "metadata": {},
   "outputs": [],
   "source": [
    "def dist(data, labels,idx):\n",
    "    for i in idx:\n",
    "        distance = []\n",
    "        for j in range(len(labels)):\n",
    "            distance.append(abs(data[i]-labels[j]))\n",
    "        min_dist = min(distance)\n",
    "        min_idx = distance.index(min_dist)\n",
    "        data[i] = labels[min_idx]"
   ]
  },
  {
   "cell_type": "code",
   "execution_count": 40,
   "metadata": {},
   "outputs": [],
   "source": [
    "class CatFeaturesToInt(BaseEstimator, TransformerMixin):\n",
    "    \n",
    "    def __init__(self):\n",
    "        pass\n",
    "    \n",
    "    def fit(self, X, y=None):\n",
    "        return self\n",
    "    \n",
    "    def transform(self, X):\n",
    "        X[\"date\"] = X[\"date\"].astype(np.int) \n",
    "        X[\"build_tech\"] = X[\"build_tech\"].astype(np.int) \n",
    "        X[\"street_id\"] = X[\"street_id\"].astype(np.int) \n",
    "        return X"
   ]
  },
  {
   "cell_type": "code",
   "execution_count": 41,
   "metadata": {},
   "outputs": [],
   "source": [
    "#!pip install -U scikit-learn"
   ]
  },
  {
   "cell_type": "code",
   "execution_count": 42,
   "metadata": {},
   "outputs": [],
   "source": [
    "# кастомный класс для заполнения NaN через KNNimputation \n",
    "# ничего толкового из этого не вышло\n",
    "from sklearn.impute import KNNImputer\n",
    "class NaNImputer(BaseEstimator, TransformerMixin):\n",
    "    \n",
    "    def __init__(self):\n",
    "        pass\n",
    "    \n",
    "    def fit(self, X, y=None):\n",
    "        return self\n",
    "    \n",
    "    def transform(self, X):\n",
    "        idx = np.array(X.index[X.isnull().any(axis=1)].tolist()) # индексы строк, в которых есть наны, чтобы прогонять цикл только по ним\n",
    "        g_lift_unique = X.g_lift.unique()  # убираю наны из списка уникальных значений\n",
    "        g_lift_unique = g_lift_unique[~np.isnan(g_lift_unique)]\n",
    "        build_tech_unique = X.build_tech.unique()\n",
    "        build_tech_unique = build_tech_unique[~np.isnan(build_tech_unique)]\n",
    "        metro_dist_unique = X.metro_dist.unique()\n",
    "        metro_dist_unique = metro_dist_unique[~np.isnan(metro_dist_unique)]\n",
    "        imputer = KNNImputer(n_neighbors=3, weights='uniform', metric='nan_euclidean') # число соседей подобрал эмпирически\n",
    "        filled_data = imputer.fit_transform(X.values)\n",
    "        # работает импутер не до конца корректно и на бинарных признаках может давать промежуточные значения\n",
    "        # подчищаю за импутером\n",
    "        filled_df = pd.DataFrame(filled_data,columns=X.columns)\n",
    "        dist(filled_df.g_lift,g_lift_unique,idx)\n",
    "        dist(filled_df.build_tech,build_tech_unique,idx)\n",
    "        dist(filled_df.metro_dist,metro_dist_unique,idx)\n",
    "        return filled_df"
   ]
  },
  {
   "cell_type": "code",
   "execution_count": 43,
   "metadata": {},
   "outputs": [],
   "source": [
    "from sklearn.pipeline import Pipeline\n",
    "\n",
    "pipeline = Pipeline([\n",
    "    ('transform_date', DateTransformer()),\n",
    "    ('imputer',NaNImputer()),\n",
    "    ('cat_feat_prepr',CatFeaturesToInt())\n",
    "])\n",
    "# X_train_prepared = pipeline.fit_transform(X_train)\n",
    "# X_test_prepared = pipeline.fit_transform(X_test)\n"
   ]
  },
  {
   "cell_type": "code",
   "execution_count": 44,
   "metadata": {},
   "outputs": [
    {
     "name": "stdout",
     "output_type": "stream",
     "text": [
      "\u001b[0m\u001b[01;34mNon-Linear-Classifier\u001b[0m/  hack.ipynb                train_part1.pkl\r\n",
      "\u001b[01;32mRVM.py\u001b[0m*                 \u001b[01;31mrisk-management-uiim.zip\u001b[0m  train_part2.pkl\r\n",
      "RVMReg.ipynb            submission.csv\r\n",
      "\u001b[01;34m__pycache__\u001b[0m/            test_data.pkl\r\n"
     ]
    }
   ],
   "source": [
    "ls"
   ]
  },
  {
   "cell_type": "code",
   "execution_count": 45,
   "metadata": {},
   "outputs": [
    {
     "data": {
      "text/html": [
       "<div>\n",
       "<style scoped>\n",
       "    .dataframe tbody tr th:only-of-type {\n",
       "        vertical-align: middle;\n",
       "    }\n",
       "\n",
       "    .dataframe tbody tr th {\n",
       "        vertical-align: top;\n",
       "    }\n",
       "\n",
       "    .dataframe thead th {\n",
       "        text-align: right;\n",
       "    }\n",
       "</style>\n",
       "<table border=\"1\" class=\"dataframe\">\n",
       "  <thead>\n",
       "    <tr style=\"text-align: right;\">\n",
       "      <th></th>\n",
       "      <th>ID</th>\n",
       "      <th>Probability</th>\n",
       "    </tr>\n",
       "  </thead>\n",
       "  <tbody>\n",
       "    <tr>\n",
       "      <th>0</th>\n",
       "      <td>1943531</td>\n",
       "      <td>0.172594</td>\n",
       "    </tr>\n",
       "    <tr>\n",
       "      <th>1</th>\n",
       "      <td>1943532</td>\n",
       "      <td>0.535728</td>\n",
       "    </tr>\n",
       "    <tr>\n",
       "      <th>2</th>\n",
       "      <td>1943533</td>\n",
       "      <td>0.658073</td>\n",
       "    </tr>\n",
       "    <tr>\n",
       "      <th>3</th>\n",
       "      <td>1943534</td>\n",
       "      <td>0.321833</td>\n",
       "    </tr>\n",
       "    <tr>\n",
       "      <th>4</th>\n",
       "      <td>1943537</td>\n",
       "      <td>0.695918</td>\n",
       "    </tr>\n",
       "  </tbody>\n",
       "</table>\n",
       "</div>"
      ],
      "text/plain": [
       "        ID  Probability\n",
       "0  1943531     0.172594\n",
       "1  1943532     0.535728\n",
       "2  1943533     0.658073\n",
       "3  1943534     0.321833\n",
       "4  1943537     0.695918"
      ]
     },
     "execution_count": 45,
     "metadata": {},
     "output_type": "execute_result"
    }
   ],
   "source": [
    "sub = pd.read_csv('submission.csv')\n",
    "sub.head()"
   ]
  },
  {
   "cell_type": "code",
   "execution_count": 46,
   "metadata": {},
   "outputs": [
    {
     "data": {
      "text/plain": [
       "<matplotlib.axes._subplots.AxesSubplot at 0x7f6985e9db38>"
      ]
     },
     "execution_count": 46,
     "metadata": {},
     "output_type": "execute_result"
    },
    {
     "data": {
      "image/png": "[encoded data removed]",
      "text/plain": [
       "<Figure size 432x288 with 1 Axes>"
      ]
     },
     "metadata": {
      "needs_background": "light"
     },
     "output_type": "display_data"
    }
   ],
   "source": [
    "sub['Probability'].hist(bins=20)"
   ]
  },
  {
   "cell_type": "markdown",
   "metadata": {},
   "source": [
    "# ebnev rf"
   ]
  },
  {
   "cell_type": "code",
   "execution_count": 47,
   "metadata": {},
   "outputs": [],
   "source": [
    "from sklearn.linear_model import LogisticRegression\n",
    "from sklearn.model_selection import train_test_split\n",
    "from sklearn.metrics import roc_auc_score"
   ]
  },
  {
   "cell_type": "code",
   "execution_count": 48,
   "metadata": {},
   "outputs": [],
   "source": [
    "FEATURES = ['x_0','x_1','x_2','x_3','x_4','x_5','x_7']"
   ]
  },
  {
   "cell_type": "code",
   "execution_count": 49,
   "metadata": {},
   "outputs": [],
   "source": [
    "SEED = 42"
   ]
  },
  {
   "cell_type": "code",
   "execution_count": 50,
   "metadata": {},
   "outputs": [],
   "source": [
    "X_train, X_val, y_train, y_val = train_test_split(df[FEATURES], df['TARGET'], test_size=0.25, random_state=SEED)"
   ]
  },
  {
   "cell_type": "code",
   "execution_count": 51,
   "metadata": {},
   "outputs": [
    {
     "data": {
      "text/plain": [
       "(1145698, 7)"
      ]
     },
     "execution_count": 51,
     "metadata": {},
     "output_type": "execute_result"
    }
   ],
   "source": [
    "X_train.shape"
   ]
  },
  {
   "cell_type": "code",
   "execution_count": 52,
   "metadata": {},
   "outputs": [],
   "source": [
    "from sklearn.ensemble import RandomForestClassifier"
   ]
  },
  {
   "cell_type": "code",
   "execution_count": 53,
   "metadata": {},
   "outputs": [
    {
     "data": {
      "text/plain": [
       "RandomForestClassifier(max_depth=20, n_jobs=-1, random_state=42)"
      ]
     },
     "execution_count": 53,
     "metadata": {},
     "output_type": "execute_result"
    }
   ],
   "source": [
    "clf = RandomForestClassifier(n_estimators=100, max_depth=20, random_state=42, n_jobs = -1)\n",
    "#clf = LogisticRegression(random_state=SEED)\n",
    "clf.fit(X_train, y_train)"
   ]
  },
  {
   "cell_type": "code",
   "execution_count": 54,
   "metadata": {},
   "outputs": [],
   "source": [
    "y_val_pred = clf.predict_proba(X_val)"
   ]
  },
  {
   "cell_type": "code",
   "execution_count": 55,
   "metadata": {},
   "outputs": [
    {
     "data": {
      "text/plain": [
       "array([1.56000794e-02, 5.04736020e-02, 6.59630607e-05, ...,\n",
       "       3.83261227e-02, 4.35104788e-02, 5.15279578e-02])"
      ]
     },
     "execution_count": 55,
     "metadata": {},
     "output_type": "execute_result"
    }
   ],
   "source": [
    "y_val_pred[:,1]"
   ]
  },
  {
   "cell_type": "code",
   "execution_count": 56,
   "metadata": {},
   "outputs": [],
   "source": [
    "#q = y_val.to_list()"
   ]
  },
  {
   "cell_type": "code",
   "execution_count": 57,
   "metadata": {},
   "outputs": [
    {
     "data": {
      "text/plain": [
       "0.6999680380451019"
      ]
     },
     "execution_count": 57,
     "metadata": {},
     "output_type": "execute_result"
    }
   ],
   "source": [
    "roc_auc_score(y_val, y_val_pred[:,1])"
   ]
  },
  {
   "cell_type": "markdown",
   "metadata": {},
   "source": [
    "# Сделаем группировку неуплат по датам"
   ]
  },
  {
   "cell_type": "code",
   "execution_count": 274,
   "metadata": {},
   "outputs": [],
   "source": [
    "df10 = pd.read_pickle('train_part1.pkl')"
   ]
  },
  {
   "cell_type": "code",
   "execution_count": 276,
   "metadata": {},
   "outputs": [],
   "source": [
    "df10['REPORT_DT'] = df10['REPORT_DT'].astype('datetime64')"
   ]
  },
  {
   "cell_type": "code",
   "execution_count": 288,
   "metadata": {},
   "outputs": [],
   "source": [
    "targetrate = df10.groupby(df10['REPORT_DT'].values.astype('<M8[M]'))['TARGET'].mean()"
   ]
  },
  {
   "cell_type": "code",
   "execution_count": 289,
   "metadata": {},
   "outputs": [
    {
     "data": {
      "text/plain": [
       "35"
      ]
     },
     "execution_count": 289,
     "metadata": {},
     "output_type": "execute_result"
    }
   ],
   "source": [
    "len(targetrate)"
   ]
  },
  {
   "cell_type": "code",
   "execution_count": 280,
   "metadata": {},
   "outputs": [],
   "source": [
    "X=np.array(df1[FEATURES_ALL])"
   ]
  },
  {
   "cell_type": "code",
   "execution_count": 281,
   "metadata": {},
   "outputs": [],
   "source": [
    "q = clf.predict(X)"
   ]
  },
  {
   "cell_type": "code",
   "execution_count": 282,
   "metadata": {},
   "outputs": [
    {
     "data": {
      "text/plain": [
       "{0, 1}"
      ]
     },
     "execution_count": 282,
     "metadata": {},
     "output_type": "execute_result"
    }
   ],
   "source": [
    "set(q)"
   ]
  },
  {
   "cell_type": "code",
   "execution_count": 283,
   "metadata": {},
   "outputs": [],
   "source": [
    "df10['pred'] = q"
   ]
  },
  {
   "cell_type": "code",
   "execution_count": 284,
   "metadata": {},
   "outputs": [],
   "source": [
    "q = df10.groupby(df10['REPORT_DT'].values.astype('<M8[M]'))['pred'].mean()"
   ]
  },
  {
   "cell_type": "code",
   "execution_count": 285,
   "metadata": {},
   "outputs": [
    {
     "data": {
      "text/plain": [
       "2017-01-01    0.000000\n",
       "2017-02-01    0.000000\n",
       "2017-03-01    0.000000\n",
       "2017-04-01    0.000052\n",
       "2017-05-01    0.000000\n",
       "2017-06-01    0.000000\n",
       "2017-07-01    0.000000\n",
       "2017-08-01    0.000044\n",
       "2017-09-01    0.000047\n",
       "2017-10-01    0.000039\n",
       "2017-11-01    0.000042\n",
       "2017-12-01    0.000000\n",
       "2018-01-01    0.000000\n",
       "2018-02-01    0.000000\n",
       "2018-03-01    0.000000\n",
       "2018-04-01    0.000000\n",
       "2018-05-01    0.000000\n",
       "2018-06-01    0.000000\n",
       "2018-07-01    0.000000\n",
       "2018-08-01    0.000000\n",
       "2018-09-01    0.000000\n",
       "2018-10-01    0.000000\n",
       "2018-11-01    0.000000\n",
       "2018-12-01    0.000000\n",
       "2019-01-01    0.000000\n",
       "2019-02-01    0.000000\n",
       "2019-03-01    0.000000\n",
       "2019-04-01    0.000050\n",
       "2019-05-01    0.000000\n",
       "2019-06-01    0.000000\n",
       "2019-07-01    0.000000\n",
       "2019-08-01    0.000000\n",
       "2019-09-01    0.000000\n",
       "2019-10-01    0.000000\n",
       "2019-11-01    0.000000\n",
       "Name: pred, dtype: float64"
      ]
     },
     "execution_count": 285,
     "metadata": {},
     "output_type": "execute_result"
    }
   ],
   "source": [
    "q"
   ]
  },
  {
   "cell_type": "code",
   "execution_count": 80,
   "metadata": {},
   "outputs": [
    {
     "data": {
      "text/plain": [
       "[<matplotlib.lines.Line2D at 0x7f6b1fd5efd0>]"
      ]
     },
     "execution_count": 80,
     "metadata": {},
     "output_type": "execute_result"
    },
    {
     "data": {
      "image/png": "[encoded data removed]",
      "text/plain": [
       "<Figure size 432x288 with 1 Axes>"
      ]
     },
     "metadata": {
      "needs_background": "light"
     },
     "output_type": "display_data"
    }
   ],
   "source": [
    "q0 = df.groupby(df['x_9'].values.astype('<M8[M]'))['TARGET'].mean()\n",
    "q1 = df.groupby(df['x_9'].values.astype('<M8[M]'))['pred'].mean()\n",
    "plt.plot(q1)"
   ]
  },
  {
   "cell_type": "code",
   "execution_count": 81,
   "metadata": {},
   "outputs": [
    {
     "data": {
      "text/plain": [
       "[<matplotlib.lines.Line2D at 0x7f6b1fbff5c0>]"
      ]
     },
     "execution_count": 81,
     "metadata": {},
     "output_type": "execute_result"
    },
    {
     "data": {
      "image/png": "[encoded data removed]",
      "text/plain": [
       "<Figure size 432x288 with 1 Axes>"
      ]
     },
     "metadata": {
      "needs_background": "light"
     },
     "output_type": "display_data"
    }
   ],
   "source": [
    "plt.plot(q0)\n",
    "plt.plot(q1)"
   ]
  },
  {
   "cell_type": "code",
   "execution_count": 286,
   "metadata": {},
   "outputs": [
    {
     "data": {
      "text/plain": [
       "[<matplotlib.lines.Line2D at 0x7fe9b203b198>]"
      ]
     },
     "execution_count": 286,
     "metadata": {},
     "output_type": "execute_result"
    },
    {
     "data": {
      "image/png": "[encoded data removed]",
      "text/plain": [
       "<Figure size 432x288 with 1 Axes>"
      ]
     },
     "metadata": {
      "needs_background": "light"
     },
     "output_type": "display_data"
    }
   ],
   "source": [
    "plt.plot(targetrate)\n",
    "plt.plot(q)"
   ]
  },
  {
   "cell_type": "markdown",
   "metadata": {},
   "source": [
    "# Чекнем чей-то рвм"
   ]
  },
  {
   "cell_type": "code",
   "execution_count": 67,
   "metadata": {},
   "outputs": [
    {
     "name": "stdout",
     "output_type": "stream",
     "text": [
      "fatal: destination path 'Non-Linear-Classifier' already exists and is not an empty directory.\r\n"
     ]
    }
   ],
   "source": [
    "!git clone https://github.com/karanchauhan/Non-Linear-Classifier.git"
   ]
  },
  {
   "cell_type": "code",
   "execution_count": 68,
   "metadata": {},
   "outputs": [
    {
     "name": "stdout",
     "output_type": "stream",
     "text": [
      "\u001b[0m\u001b[01;34mNon-Linear-Classifier\u001b[0m/  hack.ipynb                train_part1.pkl\r\n",
      "\u001b[01;32mRVM.py\u001b[0m*                 \u001b[01;31mrisk-management-uiim.zip\u001b[0m  train_part2.pkl\r\n",
      "RVMReg.ipynb            submission.csv\r\n",
      "\u001b[01;34m__pycache__\u001b[0m/            test_data.pkl\r\n"
     ]
    }
   ],
   "source": [
    "ls"
   ]
  },
  {
   "cell_type": "code",
   "execution_count": 69,
   "metadata": {},
   "outputs": [],
   "source": [
    "from RVM import *"
   ]
  },
  {
   "cell_type": "code",
   "execution_count": 70,
   "metadata": {},
   "outputs": [],
   "source": [
    "rvc = RVC()"
   ]
  },
  {
   "cell_type": "code",
   "execution_count": 71,
   "metadata": {},
   "outputs": [],
   "source": [
    "X=np.array(df[FEATURES])[:500]\n",
    "y = np.array(df['TARGET'])[:500]\n",
    "\n"
   ]
  },
  {
   "cell_type": "code",
   "execution_count": 72,
   "metadata": {},
   "outputs": [
    {
     "name": "stdout",
     "output_type": "stream",
     "text": [
      "[ True  True  True  True  True  True  True  True  True  True  True  True\n",
      "  True  True  True  True  True  True  True  True  True  True  True  True\n",
      "  True  True  True  True  True  True  True  True  True  True  True  True\n",
      "  True  True  True  True  True  True  True  True  True  True  True  True\n",
      "  True  True  True  True  True  True  True  True  True  True  True  True\n",
      "  True  True  True  True  True  True  True  True  True  True  True  True\n",
      "  True  True  True  True  True  True  True  True  True  True  True  True\n",
      "  True  True  True  True  True  True  True  True  True  True  True  True\n",
      "  True  True  True  True  True  True  True  True  True  True  True  True\n",
      "  True  True  True  True  True  True  True  True  True  True  True  True\n",
      "  True  True  True  True  True  True  True  True  True  True  True  True\n",
      "  True  True  True  True  True  True  True  True  True  True  True  True\n",
      "  True  True  True  True  True  True  True  True  True  True  True  True\n",
      "  True  True  True  True  True  True  True  True  True  True  True  True\n",
      "  True  True  True  True  True  True  True  True  True  True  True  True\n",
      "  True  True  True  True  True  True  True  True  True  True  True  True\n",
      "  True  True  True  True  True  True  True  True  True  True  True  True\n",
      "  True  True  True  True  True  True  True  True  True  True  True  True\n",
      "  True  True  True  True  True  True  True  True  True  True  True  True\n",
      "  True  True  True  True  True  True  True  True  True  True  True  True\n",
      "  True  True  True  True  True  True  True  True  True  True  True  True\n",
      "  True  True  True  True  True  True  True  True  True  True  True  True\n",
      "  True  True  True  True  True  True  True  True  True  True  True  True\n",
      "  True  True  True  True  True  True  True  True  True  True  True  True\n",
      "  True  True  True  True  True  True  True  True  True  True  True  True\n",
      "  True  True  True  True  True  True  True  True  True  True  True  True\n",
      "  True  True  True  True  True  True  True  True  True  True  True  True\n",
      "  True  True  True  True  True  True  True  True  True  True  True  True\n",
      "  True  True  True  True  True  True  True  True  True  True  True  True\n",
      "  True  True  True  True  True  True  True  True  True  True  True  True\n",
      "  True  True  True  True  True  True  True  True  True  True  True  True\n",
      "  True  True  True  True  True  True  True  True  True  True  True  True\n",
      "  True  True  True  True  True  True  True  True  True  True  True  True\n",
      "  True  True  True  True  True  True  True  True  True  True  True  True\n",
      "  True  True  True  True  True  True  True  True  True  True  True  True\n",
      "  True  True  True  True  True  True  True  True  True  True  True  True\n",
      "  True  True  True  True  True  True  True  True  True  True  True  True\n",
      "  True  True  True  True  True  True  True  True  True  True  True  True\n",
      "  True  True  True  True  True  True  True  True  True  True  True  True\n",
      "  True  True  True  True  True  True  True  True  True  True  True  True\n",
      "  True  True  True  True  True  True  True  True  True  True  True  True\n",
      "  True  True  True  True  True  True  True  True  True]\n",
      "[ True  True  True  True  True  True  True  True  True  True  True  True\n",
      "  True  True  True  True  True  True  True  True  True  True  True  True\n",
      "  True  True  True  True  True  True  True  True  True  True  True  True\n",
      "  True  True  True  True  True  True  True  True  True  True  True  True\n",
      "  True  True  True  True  True  True  True  True  True  True  True  True\n",
      "  True  True  True  True  True  True  True  True  True  True  True  True\n",
      "  True  True  True  True  True  True  True  True  True  True  True  True\n",
      "  True  True  True  True  True  True  True  True  True  True  True  True\n",
      "  True  True  True  True  True  True  True  True  True  True  True  True\n",
      "  True  True  True  True  True  True  True  True  True  True  True  True\n",
      "  True  True  True  True  True  True  True  True  True  True  True  True\n",
      "  True  True  True  True  True  True  True  True  True  True  True  True\n",
      "  True  True  True  True  True  True  True  True  True  True  True  True\n",
      "  True  True  True  True  True  True  True  True  True  True  True  True\n",
      "  True  True  True  True  True  True  True  True  True  True  True  True\n",
      "  True  True  True  True  True  True  True  True  True  True  True  True\n",
      "  True  True  True  True  True  True  True  True  True  True  True  True\n",
      "  True  True  True  True  True  True  True  True  True  True  True  True\n",
      "  True  True  True  True  True  True  True  True  True  True  True  True\n",
      "  True  True  True  True  True  True  True  True  True  True  True  True\n",
      "  True  True  True  True  True  True  True  True  True  True  True  True\n",
      "  True  True  True  True  True  True  True  True  True  True  True  True\n",
      "  True  True  True  True  True  True  True  True  True  True  True  True\n",
      "  True  True  True  True  True  True  True  True  True  True  True  True\n",
      "  True  True  True  True  True  True  True  True  True  True  True  True\n",
      "  True  True  True  True  True  True  True  True  True  True  True  True\n",
      "  True  True  True  True  True  True  True  True  True  True  True  True\n",
      "  True  True  True  True  True  True  True  True  True  True  True  True\n",
      "  True  True  True  True  True  True  True  True  True  True  True  True\n",
      "  True  True  True  True  True  True  True  True  True  True  True  True\n",
      "  True  True  True  True  True  True  True  True  True  True  True  True\n",
      "  True  True  True  True  True  True  True  True  True  True  True  True\n",
      "  True  True  True  True  True  True  True  True  True  True  True  True\n",
      "  True  True  True  True  True  True  True  True  True  True  True  True\n",
      "  True  True  True  True  True  True  True  True  True  True  True  True\n",
      "  True  True  True  True  True  True  True  True  True  True  True  True\n",
      "  True  True  True  True  True  True  True  True  True  True  True  True\n",
      "  True  True  True  True  True  True  True  True  True  True  True  True\n",
      "  True  True  True  True  True  True  True  True  True  True  True  True\n",
      "  True  True  True  True  True  True  True  True  True  True  True  True\n",
      "  True  True  True  True  True  True  True  True  True  True  True  True\n",
      "  True  True  True  True  True  True  True  True  True]\n",
      "[ True  True  True  True  True  True  True  True  True  True  True  True\n",
      "  True  True  True  True  True  True  True  True  True  True  True  True\n",
      "  True  True  True  True  True  True  True  True  True  True  True  True\n",
      "  True  True  True  True  True  True  True  True  True  True  True  True\n",
      "  True  True  True  True  True  True  True  True  True  True  True  True\n",
      "  True  True  True  True  True  True  True  True  True  True  True  True\n",
      "  True  True  True  True  True  True  True  True  True  True  True  True\n",
      "  True  True  True  True  True  True  True  True  True  True  True  True\n",
      "  True  True  True  True  True  True  True  True  True  True  True  True\n",
      "  True  True  True  True  True  True  True  True  True  True  True  True\n",
      "  True  True  True  True  True  True  True  True  True  True  True  True\n",
      "  True  True  True  True  True  True  True  True  True  True  True  True\n",
      "  True  True  True  True  True  True  True  True  True  True  True  True\n",
      "  True  True  True  True  True  True  True  True  True  True  True  True\n",
      "  True  True  True  True  True  True  True  True  True  True  True  True\n",
      "  True  True  True  True  True  True  True  True  True  True  True  True\n",
      "  True  True  True  True  True  True  True  True  True  True  True  True\n",
      "  True  True  True  True  True  True  True  True  True  True  True  True\n",
      "  True  True  True  True  True  True  True  True  True  True  True  True\n",
      "  True  True  True  True  True  True  True  True  True  True  True  True\n",
      "  True  True  True  True  True  True  True  True  True  True  True  True\n",
      "  True  True  True  True  True  True  True  True  True  True  True  True\n",
      "  True  True  True  True  True  True  True  True  True  True  True  True\n",
      "  True  True  True  True  True  True  True  True  True  True  True  True\n",
      "  True  True  True  True  True  True  True  True  True  True  True  True\n",
      "  True  True  True  True  True  True  True  True  True  True  True  True\n",
      "  True  True  True  True  True  True  True  True  True  True  True  True\n",
      "  True  True  True  True  True  True  True  True  True  True  True  True\n",
      "  True  True  True  True  True  True  True  True  True  True  True  True\n",
      "  True  True  True  True  True  True  True  True  True  True  True  True\n",
      "  True  True  True  True  True  True  True  True  True  True  True  True\n",
      "  True  True  True  True  True  True  True  True  True  True  True  True\n",
      "  True  True  True  True  True  True  True  True  True  True  True  True\n",
      "  True  True  True  True  True  True  True  True  True  True  True  True\n",
      "  True  True  True  True  True  True  True  True  True  True  True  True\n",
      "  True  True  True  True  True  True  True  True  True  True  True  True\n",
      "  True  True  True  True  True  True  True  True  True  True  True  True\n",
      "  True  True  True  True  True  True  True  True  True  True  True  True\n",
      "  True  True  True  True  True  True  True  True  True  True  True  True\n",
      "  True  True  True  True  True  True  True  True  True  True  True  True\n",
      "  True  True  True  True  True  True  True  True  True  True  True  True\n",
      "  True  True  True  True  True  True  True  True  True]\n"
     ]
    },
    {
     "name": "stdout",
     "output_type": "stream",
     "text": [
      "[ True  True  True  True  True  True  True  True  True  True  True  True\n",
      "  True  True  True  True  True  True  True  True  True  True  True  True\n",
      "  True  True  True  True  True  True  True  True  True  True  True  True\n",
      "  True  True  True  True  True  True  True  True  True  True  True  True\n",
      "  True  True  True  True  True  True  True  True  True  True  True  True\n",
      "  True  True  True  True  True  True  True  True  True  True  True  True\n",
      "  True  True  True  True  True  True  True  True  True  True  True  True\n",
      "  True  True  True  True  True  True  True  True  True  True  True  True\n",
      "  True  True  True  True  True  True  True  True  True  True  True  True\n",
      "  True  True  True  True  True  True  True  True  True  True  True  True\n",
      "  True  True  True  True  True  True  True  True  True  True  True  True\n",
      "  True  True  True  True  True  True  True  True  True  True  True  True\n",
      "  True  True  True  True  True  True  True  True  True  True  True  True\n",
      "  True  True  True  True  True  True  True  True  True  True  True  True\n",
      "  True  True  True  True  True  True  True  True  True  True  True  True\n",
      "  True  True  True  True  True  True  True  True  True  True  True  True\n",
      "  True  True  True  True  True  True  True  True  True  True  True  True\n",
      "  True  True  True  True  True  True  True  True  True  True  True  True\n",
      "  True  True  True  True  True  True  True  True  True  True  True  True\n",
      "  True  True  True  True  True  True  True  True  True  True  True  True\n",
      "  True  True  True  True  True  True  True  True  True  True  True  True\n",
      "  True  True  True  True  True  True  True  True  True  True  True  True\n",
      "  True  True  True  True  True  True  True  True  True  True  True  True\n",
      "  True  True  True  True  True  True  True  True  True  True  True  True\n",
      "  True  True  True  True  True  True  True  True  True  True  True  True\n",
      "  True  True  True  True  True  True  True  True  True  True  True  True\n",
      "  True  True  True  True  True  True  True  True  True  True  True  True\n",
      "  True  True  True  True  True  True  True  True  True  True  True  True\n",
      "  True  True  True  True  True  True  True  True  True  True  True  True\n",
      "  True  True  True  True  True  True  True  True  True  True  True  True\n",
      "  True  True  True  True  True  True  True  True  True  True  True  True\n",
      "  True  True  True  True  True  True  True  True  True  True  True  True\n",
      "  True  True  True  True  True  True  True  True  True  True  True  True\n",
      "  True  True  True  True  True  True  True  True  True  True  True  True\n",
      "  True  True  True  True  True  True  True  True  True  True  True  True\n",
      "  True  True  True  True  True  True  True  True  True  True  True  True\n",
      "  True  True  True  True  True  True  True  True  True  True  True  True\n",
      "  True  True  True  True  True  True  True  True  True  True  True  True\n",
      "  True  True  True  True  True  True  True  True  True  True  True  True\n",
      "  True  True  True  True  True  True  True  True  True  True  True  True\n",
      "  True  True  True  True  True  True  True  True  True  True  True  True\n",
      "  True  True  True  True  True  True  True  True  True]\n",
      "[False False False False False False False False False False False False\n",
      " False False False False False False False False False False False False\n",
      "  True False False False False False False False False False False False\n",
      " False False False  True False False False False False False False False\n",
      " False False False False False False False False False False False False\n",
      " False False False False False False False False False False False False\n",
      " False False False False False False False False False False False False\n",
      " False False False False False False False False False False False False\n",
      " False False False False False False False False False False False False\n",
      " False False False False False False False False False False False False\n",
      " False False False False False False False False False False False False\n",
      " False False False False False False False False False False False False\n",
      " False False False False False False False False False False False False\n",
      " False False False False False False False False False False False False\n",
      " False False False False False False False False False False False False\n",
      " False False False False False  True False False False False False False\n",
      " False False  True False False False False False False False False False\n",
      " False False False False False False False False False False False False\n",
      " False False False False False False False False False False False False\n",
      " False False False False False False False False False False False False\n",
      " False False False False  True False False False False False False False\n",
      " False False False False False False False False False False False False\n",
      " False False False False False False False False False False False False\n",
      " False False False False False False False False False False False False\n",
      " False False False False False  True False False False False False False\n",
      " False False False False False False False False False False False False\n",
      " False False False False False False False False False False False False\n",
      " False False False False False False False False False False False False\n",
      " False False False False  True False False False False False False False\n",
      " False False False False False False False False False False False False\n",
      " False False False False False False False False False  True False False\n",
      " False False  True False False False False False False False False False\n",
      " False False False False False False False  True False False False False\n",
      " False False False False False False False False False False False False\n",
      " False False False False False False False False False False  True False\n",
      " False False False False False False False False False False False False\n",
      " False  True False False False False  True False False False False False\n",
      " False False False False False False False False False False False False\n",
      " False False  True False False False False False False False False False\n",
      " False False False False False False  True False False False False False\n",
      " False False False False False False False False False False False False\n",
      " False False False  True False False False False  True]\n"
     ]
    },
    {
     "data": {
      "text/plain": [
       "RVC(alpha=1e-06, beta=1e-06, beta_fixed=False, bias_used=True, coef0=0.0,\n",
       "    coef1=None, degree=3, kernel='rbf', n_iter=3000,\n",
       "    threshold_alpha=1000000000.0, tol=0.001, verbose=False)"
      ]
     },
     "execution_count": 72,
     "metadata": {},
     "output_type": "execute_result"
    }
   ],
   "source": [
    "rvc.fit(X,y)"
   ]
  },
  {
   "cell_type": "code",
   "execution_count": 73,
   "metadata": {},
   "outputs": [],
   "source": [
    "q1 = rvc.predict_proba(X)\n",
    "\n",
    "#roc_auc_score(y, q1)"
   ]
  },
  {
   "cell_type": "code",
   "execution_count": 74,
   "metadata": {},
   "outputs": [
    {
     "ename": "TypeError",
     "evalue": "tuple indices must be integers or slices, not tuple",
     "output_type": "error",
     "traceback": [
      "\u001b[0;31m---------------------------------------------------------------------------\u001b[0m",
      "\u001b[0;31mTypeError\u001b[0m                                 Traceback (most recent call last)",
      "\u001b[0;32m<ipython-input-74-26099edac8e6>\u001b[0m in \u001b[0;36m<module>\u001b[0;34m\u001b[0m\n\u001b[0;32m----> 1\u001b[0;31m \u001b[0mroc_auc_score\u001b[0m\u001b[0;34m(\u001b[0m\u001b[0my\u001b[0m\u001b[0;34m,\u001b[0m \u001b[0mq1\u001b[0m\u001b[0;34m[\u001b[0m\u001b[0;34m:\u001b[0m\u001b[0;34m,\u001b[0m\u001b[0;36m1\u001b[0m\u001b[0;34m]\u001b[0m\u001b[0;34m)\u001b[0m\u001b[0;34m\u001b[0m\u001b[0;34m\u001b[0m\u001b[0m\n\u001b[0m",
      "\u001b[0;31mTypeError\u001b[0m: tuple indices must be integers or slices, not tuple"
     ]
    }
   ],
   "source": [
    "roc_auc_score(y, q1[:,1])"
   ]
  },
  {
   "cell_type": "markdown",
   "metadata": {},
   "source": [
    "# Finally, deleting thrash"
   ]
  },
  {
   "cell_type": "code",
   "execution_count": 38,
   "metadata": {},
   "outputs": [],
   "source": [
    "# do custom data preprocces\n",
    "import sklearn\n",
    "from sklearn.base import BaseEstimator, TransformerMixin\n",
    "class DateTransformer(BaseEstimator, TransformerMixin):\n",
    "    \n",
    "    def __init__(self):\n",
    "        pass\n",
    "    \n",
    "    def fit(self, X, y=None):\n",
    "        return self\n",
    "    \n",
    "    def transform(self, X):\n",
    "    # заменяю дату на месяц\n",
    "        for i in range(X.shape[0]):\n",
    "            X.date[i] = int(X.date[i][-1])\n",
    "        return X"
   ]
  },
  {
   "cell_type": "code",
   "execution_count": 39,
   "metadata": {},
   "outputs": [],
   "source": [
    "def dist(data, labels,idx):\n",
    "    for i in idx:\n",
    "        distance = []\n",
    "        for j in range(len(labels)):\n",
    "            distance.append(abs(data[i]-labels[j]))\n",
    "        min_dist = min(distance)\n",
    "        min_idx = distance.index(min_dist)\n",
    "        data[i] = labels[min_idx]"
   ]
  },
  {
   "cell_type": "code",
   "execution_count": 40,
   "metadata": {},
   "outputs": [],
   "source": [
    "class CatFeaturesToInt(BaseEstimator, TransformerMixin):\n",
    "    \n",
    "    def __init__(self):\n",
    "        pass\n",
    "    \n",
    "    def fit(self, X, y=None):\n",
    "        return self\n",
    "    \n",
    "    def transform(self, X):\n",
    "        X[\"date\"] = X[\"date\"].astype(np.int) \n",
    "        X[\"build_tech\"] = X[\"build_tech\"].astype(np.int) \n",
    "        X[\"street_id\"] = X[\"street_id\"].astype(np.int) \n",
    "        return X"
   ]
  },
  {
   "cell_type": "code",
   "execution_count": 41,
   "metadata": {},
   "outputs": [],
   "source": [
    "#!pip install -U scikit-learn"
   ]
  },
  {
   "cell_type": "code",
   "execution_count": 42,
   "metadata": {},
   "outputs": [],
   "source": [
    "# кастомный класс для заполнения NaN через KNNimputation \n",
    "# ничего толкового из этого не вышло\n",
    "from sklearn.impute import KNNImputer\n",
    "class NaNImputer(BaseEstimator, TransformerMixin):\n",
    "    \n",
    "    def __init__(self):\n",
    "        pass\n",
    "    \n",
    "    def fit(self, X, y=None):\n",
    "        return self\n",
    "    \n",
    "    def transform(self, X):\n",
    "        idx = np.array(X.index[X.isnull().any(axis=1)].tolist()) # индексы строк, в которых есть наны, чтобы прогонять цикл только по ним\n",
    "        g_lift_unique = X.g_lift.unique()  # убираю наны из списка уникальных значений\n",
    "        g_lift_unique = g_lift_unique[~np.isnan(g_lift_unique)]\n",
    "        build_tech_unique = X.build_tech.unique()\n",
    "        build_tech_unique = build_tech_unique[~np.isnan(build_tech_unique)]\n",
    "        metro_dist_unique = X.metro_dist.unique()\n",
    "        metro_dist_unique = metro_dist_unique[~np.isnan(metro_dist_unique)]\n",
    "        imputer = KNNImputer(n_neighbors=3, weights='uniform', metric='nan_euclidean') # число соседей подобрал эмпирически\n",
    "        filled_data = imputer.fit_transform(X.values)\n",
    "        # работает импутер не до конца корректно и на бинарных признаках может давать промежуточные значения\n",
    "        # подчищаю за импутером\n",
    "        filled_df = pd.DataFrame(filled_data,columns=X.columns)\n",
    "        dist(filled_df.g_lift,g_lift_unique,idx)\n",
    "        dist(filled_df.build_tech,build_tech_unique,idx)\n",
    "        dist(filled_df.metro_dist,metro_dist_unique,idx)\n",
    "        return filled_df"
   ]
  },
  {
   "cell_type": "code",
   "execution_count": 43,
   "metadata": {},
   "outputs": [],
   "source": [
    "from sklearn.pipeline import Pipeline\n",
    "\n",
    "pipeline = Pipeline([\n",
    "    ('transform_date', DateTransformer()),\n",
    "    ('imputer',NaNImputer()),\n",
    "    ('cat_feat_prepr',CatFeaturesToInt())\n",
    "])\n",
    "# X_train_prepared = pipeline.fit_transform(X_train)\n",
    "# X_test_prepared = pipeline.fit_transform(X_test)\n"
   ]
  },
  {
   "cell_type": "code",
   "execution_count": 75,
   "metadata": {},
   "outputs": [
    {
     "data": {
      "text/plain": [
       "dict_keys(['x_17', 'x_25', 'x_26', 'x_27', 'x_29', 'x_30', 'x_32', 'x_36', 'x_37', 'x_38', 'x_39', 'x_40', 'x_41', 'x_42', 'x_43', 'x_44', 'x_60', 'x_61', 'x_63', 'x_64', 'x_65', 'x_66', 'x_67', 'x_68', 'x_69', 'x_70', 'x_71', 'x_72', 'x_73', 'x_74', 'x_76', 'x_77', 'x_78', 'x_100', 'x_101', 'x_102', 'x_103', 'x_104', 'x_105', 'x_106', 'x_107', 'x_111', 'x_112', 'x_113', 'x_114', 'x_115', 'x_116', 'x_117', 'x_118', 'x_122', 'x_123', 'x_128', 'x_129', 'x_130', 'x_132', 'x_135', 'x_142', 'x_143', 'x_164', 'x_166', 'x_171', 'x_172', 'x_173', 'x_174', 'x_175', 'x_176', 'x_177', 'x_203', 'x_204', 'x_205', 'x_206', 'x_207', 'x_208', 'x_209', 'x_210', 'x_214', 'x_215', 'x_216', 'x_217', 'x_218', 'x_219', 'x_220', 'x_221', 'x_225', 'x_226', 'x_231', 'x_232', 'x_233', 'x_245', 'x_246', 'x_278', 'x_279', 'x_306', 'x_307', 'x_308', 'x_309', 'x_310', 'x_311', 'x_312', 'x_313', 'x_317', 'x_318', 'x_319', 'x_320', 'x_321', 'x_322', 'x_323', 'x_324', 'x_328', 'x_329', 'x_334', 'x_335', 'x_336', 'x_343', 'x_344', 'x_345', 'x_346', 'x_349', 'x_351', 'x_353', 'x_355', 'x_356', 'x_357', 'x_358', 'x_361', 'x_362', 'x_363', 'x_364', 'x_365', 'x_366', 'x_367', 'x_368', 'x_369', 'x_370', 'x_372', 'x_463', 'x_490', 'x_491', 'x_492', 'x_493', 'x_494', 'x_495', 'x_496', 'x_497', 'x_498', 'x_499', 'x_540', 'x_541', 'x_543', 'x_546', 'x_548', 'x_549', 'x_550', 'x_551', 'x_609'])"
      ]
     },
     "execution_count": 75,
     "metadata": {},
     "output_type": "execute_result"
    }
   ],
   "source": [
    "features_to_drop"
   ]
  },
  {
   "cell_type": "code",
   "execution_count": 76,
   "metadata": {},
   "outputs": [
    {
     "data": {
      "text/html": [
       "<div>\n",
       "<style scoped>\n",
       "    .dataframe tbody tr th:only-of-type {\n",
       "        vertical-align: middle;\n",
       "    }\n",
       "\n",
       "    .dataframe tbody tr th {\n",
       "        vertical-align: top;\n",
       "    }\n",
       "\n",
       "    .dataframe thead th {\n",
       "        text-align: right;\n",
       "    }\n",
       "</style>\n",
       "<table border=\"1\" class=\"dataframe\">\n",
       "  <thead>\n",
       "    <tr style=\"text-align: right;\">\n",
       "      <th></th>\n",
       "      <th>x_12</th>\n",
       "      <th>x_13</th>\n",
       "      <th>x_17</th>\n",
       "      <th>x_18</th>\n",
       "      <th>x_19</th>\n",
       "      <th>x_21</th>\n",
       "      <th>x_25</th>\n",
       "      <th>x_26</th>\n",
       "      <th>x_27</th>\n",
       "      <th>x_614</th>\n",
       "      <th>x_615</th>\n",
       "      <th>x_617</th>\n",
       "      <th>x_618</th>\n",
       "      <th>x_625</th>\n",
       "      <th>x_628</th>\n",
       "      <th>x_634</th>\n",
       "    </tr>\n",
       "  </thead>\n",
       "  <tbody>\n",
       "    <tr>\n",
       "      <th>0</th>\n",
       "      <td>B1</td>\n",
       "      <td>4</td>\n",
       "      <td>None</td>\n",
       "      <td>Пн</td>\n",
       "      <td>1</td>\n",
       "      <td>Приобретение</td>\n",
       "      <td>None</td>\n",
       "      <td>None</td>\n",
       "      <td>None</td>\n",
       "      <td>1</td>\n",
       "      <td>1</td>\n",
       "      <td>4</td>\n",
       "      <td>Приобретение</td>\n",
       "      <td>living in city in apart</td>\n",
       "      <td>ЗП</td>\n",
       "      <td>0</td>\n",
       "    </tr>\n",
       "    <tr>\n",
       "      <th>1</th>\n",
       "      <td>B1</td>\n",
       "      <td>4</td>\n",
       "      <td>None</td>\n",
       "      <td>Чт</td>\n",
       "      <td>1</td>\n",
       "      <td>Приобретение</td>\n",
       "      <td>None</td>\n",
       "      <td>None</td>\n",
       "      <td>None</td>\n",
       "      <td>0</td>\n",
       "      <td>1</td>\n",
       "      <td>4</td>\n",
       "      <td>Приобретение</td>\n",
       "      <td>other</td>\n",
       "      <td>ЗП</td>\n",
       "      <td>0</td>\n",
       "    </tr>\n",
       "    <tr>\n",
       "      <th>2</th>\n",
       "      <td>D</td>\n",
       "      <td>1</td>\n",
       "      <td>None</td>\n",
       "      <td>Ср</td>\n",
       "      <td>0</td>\n",
       "      <td>Инвестирование</td>\n",
       "      <td>None</td>\n",
       "      <td>None</td>\n",
       "      <td>None</td>\n",
       "      <td>1</td>\n",
       "      <td>0</td>\n",
       "      <td>1</td>\n",
       "      <td>Инвестирование</td>\n",
       "      <td>living in city in apart</td>\n",
       "      <td>Улица</td>\n",
       "      <td>1</td>\n",
       "    </tr>\n",
       "    <tr>\n",
       "      <th>3</th>\n",
       "      <td>N</td>\n",
       "      <td>4</td>\n",
       "      <td>None</td>\n",
       "      <td>Пт</td>\n",
       "      <td>0</td>\n",
       "      <td>Приобретение</td>\n",
       "      <td>None</td>\n",
       "      <td>None</td>\n",
       "      <td>None</td>\n",
       "      <td>1</td>\n",
       "      <td>0</td>\n",
       "      <td>4</td>\n",
       "      <td>Приобретение</td>\n",
       "      <td>living in city in apart</td>\n",
       "      <td>Улица</td>\n",
       "      <td>1</td>\n",
       "    </tr>\n",
       "    <tr>\n",
       "      <th>4</th>\n",
       "      <td>A</td>\n",
       "      <td>1</td>\n",
       "      <td>None</td>\n",
       "      <td>Пн</td>\n",
       "      <td>0</td>\n",
       "      <td>Инвестирование</td>\n",
       "      <td>None</td>\n",
       "      <td>None</td>\n",
       "      <td>None</td>\n",
       "      <td>1</td>\n",
       "      <td>0</td>\n",
       "      <td>1</td>\n",
       "      <td>Инвестирование</td>\n",
       "      <td>living in city in apart</td>\n",
       "      <td>Сотрудники</td>\n",
       "      <td>1</td>\n",
       "    </tr>\n",
       "    <tr>\n",
       "      <th>...</th>\n",
       "      <td>...</td>\n",
       "      <td>...</td>\n",
       "      <td>...</td>\n",
       "      <td>...</td>\n",
       "      <td>...</td>\n",
       "      <td>...</td>\n",
       "      <td>...</td>\n",
       "      <td>...</td>\n",
       "      <td>...</td>\n",
       "      <td>...</td>\n",
       "      <td>...</td>\n",
       "      <td>...</td>\n",
       "      <td>...</td>\n",
       "      <td>...</td>\n",
       "      <td>...</td>\n",
       "      <td>...</td>\n",
       "    </tr>\n",
       "    <tr>\n",
       "      <th>1943522</th>\n",
       "      <td>D</td>\n",
       "      <td>1</td>\n",
       "      <td>None</td>\n",
       "      <td>Пн</td>\n",
       "      <td>0</td>\n",
       "      <td>Инвестирование</td>\n",
       "      <td>None</td>\n",
       "      <td>None</td>\n",
       "      <td>None</td>\n",
       "      <td>1</td>\n",
       "      <td>0</td>\n",
       "      <td>1</td>\n",
       "      <td>Инвестирование</td>\n",
       "      <td>living in city in apart</td>\n",
       "      <td>Улица</td>\n",
       "      <td>0</td>\n",
       "    </tr>\n",
       "    <tr>\n",
       "      <th>1943523</th>\n",
       "      <td>B1</td>\n",
       "      <td>4</td>\n",
       "      <td>None</td>\n",
       "      <td>Пн</td>\n",
       "      <td>1</td>\n",
       "      <td>Приобретение</td>\n",
       "      <td>None</td>\n",
       "      <td>None</td>\n",
       "      <td>None</td>\n",
       "      <td>0</td>\n",
       "      <td>1</td>\n",
       "      <td>4</td>\n",
       "      <td>Приобретение</td>\n",
       "      <td>other</td>\n",
       "      <td>ЗП</td>\n",
       "      <td>0</td>\n",
       "    </tr>\n",
       "    <tr>\n",
       "      <th>1943525</th>\n",
       "      <td>D</td>\n",
       "      <td>4</td>\n",
       "      <td>None</td>\n",
       "      <td>Пн</td>\n",
       "      <td>0</td>\n",
       "      <td>Приобретение</td>\n",
       "      <td>None</td>\n",
       "      <td>None</td>\n",
       "      <td>None</td>\n",
       "      <td>0</td>\n",
       "      <td>0</td>\n",
       "      <td>4</td>\n",
       "      <td>Приобретение</td>\n",
       "      <td>other</td>\n",
       "      <td>Улица</td>\n",
       "      <td>0</td>\n",
       "    </tr>\n",
       "    <tr>\n",
       "      <th>1943526</th>\n",
       "      <td>B1</td>\n",
       "      <td>4</td>\n",
       "      <td>None</td>\n",
       "      <td>Вт</td>\n",
       "      <td>0</td>\n",
       "      <td>Приобретение</td>\n",
       "      <td>None</td>\n",
       "      <td>None</td>\n",
       "      <td>None</td>\n",
       "      <td>1</td>\n",
       "      <td>0</td>\n",
       "      <td>4</td>\n",
       "      <td>Приобретение</td>\n",
       "      <td>living in city in apart</td>\n",
       "      <td>ЗП</td>\n",
       "      <td>0</td>\n",
       "    </tr>\n",
       "    <tr>\n",
       "      <th>1943527</th>\n",
       "      <td>D</td>\n",
       "      <td>4</td>\n",
       "      <td>None</td>\n",
       "      <td>Чт</td>\n",
       "      <td>0</td>\n",
       "      <td>Приобретение</td>\n",
       "      <td>None</td>\n",
       "      <td>None</td>\n",
       "      <td>None</td>\n",
       "      <td>0</td>\n",
       "      <td>0</td>\n",
       "      <td>4</td>\n",
       "      <td>Приобретение</td>\n",
       "      <td>other</td>\n",
       "      <td>Улица</td>\n",
       "      <td>1</td>\n",
       "    </tr>\n",
       "  </tbody>\n",
       "</table>\n",
       "<p>1527598 rows × 16 columns</p>\n",
       "</div>"
      ],
      "text/plain": [
       "        x_12 x_13  x_17 x_18 x_19            x_21  x_25  x_26  x_27 x_614  \\\n",
       "0         B1    4  None   Пн    1    Приобретение  None  None  None     1   \n",
       "1         B1    4  None   Чт    1    Приобретение  None  None  None     0   \n",
       "2          D    1  None   Ср    0  Инвестирование  None  None  None     1   \n",
       "3          N    4  None   Пт    0    Приобретение  None  None  None     1   \n",
       "4          A    1  None   Пн    0  Инвестирование  None  None  None     1   \n",
       "...      ...  ...   ...  ...  ...             ...   ...   ...   ...   ...   \n",
       "1943522    D    1  None   Пн    0  Инвестирование  None  None  None     1   \n",
       "1943523   B1    4  None   Пн    1    Приобретение  None  None  None     0   \n",
       "1943525    D    4  None   Пн    0    Приобретение  None  None  None     0   \n",
       "1943526   B1    4  None   Вт    0    Приобретение  None  None  None     1   \n",
       "1943527    D    4  None   Чт    0    Приобретение  None  None  None     0   \n",
       "\n",
       "        x_615 x_617           x_618                    x_625       x_628 x_634  \n",
       "0           1     4    Приобретение  living in city in apart          ЗП     0  \n",
       "1           1     4    Приобретение                    other          ЗП     0  \n",
       "2           0     1  Инвестирование  living in city in apart       Улица     1  \n",
       "3           0     4    Приобретение  living in city in apart       Улица     1  \n",
       "4           0     1  Инвестирование  living in city in apart  Сотрудники     1  \n",
       "...       ...   ...             ...                      ...         ...   ...  \n",
       "1943522     0     1  Инвестирование  living in city in apart       Улица     0  \n",
       "1943523     1     4    Приобретение                    other          ЗП     0  \n",
       "1943525     0     4    Приобретение                    other       Улица     0  \n",
       "1943526     0     4    Приобретение  living in city in apart          ЗП     0  \n",
       "1943527     0     4    Приобретение                    other       Улица     1  \n",
       "\n",
       "[1527598 rows x 16 columns]"
      ]
     },
     "execution_count": 76,
     "metadata": {},
     "output_type": "execute_result"
    }
   ],
   "source": [
    "df.select_dtypes('object')"
   ]
  },
  {
   "cell_type": "code",
   "execution_count": 77,
   "metadata": {},
   "outputs": [],
   "source": [
    "for column in ['x_13', 'x_19', 'x_614', 'x_615', 'x_617', 'x_634']:\n",
    "    pd.to_numeric(df[column])"
   ]
  },
  {
   "cell_type": "code",
   "execution_count": 78,
   "metadata": {},
   "outputs": [],
   "source": [
    "description = df.describe()\n",
    "\n",
    "std_stat = description.loc['std', :].values\n",
    "features = df.select_dtypes(['float64', 'int64']).columns[std_stat == 0]"
   ]
  },
  {
   "cell_type": "code",
   "execution_count": 83,
   "metadata": {},
   "outputs": [],
   "source": [
    "without_nan = features[df[features].isnull().sum() == 0]\n",
    "with_nan = features[df[features].isnull().sum() != 0]"
   ]
  },
  {
   "cell_type": "code",
   "execution_count": 84,
   "metadata": {},
   "outputs": [
    {
     "data": {
      "text/plain": [
       "(1527598, 650)"
      ]
     },
     "execution_count": 84,
     "metadata": {},
     "output_type": "execute_result"
    }
   ],
   "source": [
    "df.shape"
   ]
  },
  {
   "cell_type": "code",
   "execution_count": 85,
   "metadata": {},
   "outputs": [],
   "source": [
    "### first drop\n",
    "df0 = df.drop(features_to_drop, axis=1)"
   ]
  },
  {
   "cell_type": "code",
   "execution_count": 86,
   "metadata": {},
   "outputs": [
    {
     "data": {
      "text/plain": [
       "(1527598, 495)"
      ]
     },
     "execution_count": 86,
     "metadata": {},
     "output_type": "execute_result"
    }
   ],
   "source": [
    "df0.shape"
   ]
  },
  {
   "cell_type": "code",
   "execution_count": 87,
   "metadata": {},
   "outputs": [],
   "source": [
    "df0 = df0.drop(with_nan, axis=1)"
   ]
  },
  {
   "cell_type": "code",
   "execution_count": 88,
   "metadata": {},
   "outputs": [
    {
     "data": {
      "text/plain": [
       "(1527598, 482)"
      ]
     },
     "execution_count": 88,
     "metadata": {},
     "output_type": "execute_result"
    }
   ],
   "source": [
    "df0.shape"
   ]
  },
  {
   "cell_type": "code",
   "execution_count": 91,
   "metadata": {},
   "outputs": [],
   "source": [
    "##datetime preprocces\n",
    "\n",
    "df0['REPORT_DT'] = df0['REPORT_DT'].astype('datetime64')\n",
    "df0['x_9'] = df0['x_9'].astype('datetime64')"
   ]
  },
  {
   "cell_type": "code",
   "execution_count": 92,
   "metadata": {},
   "outputs": [],
   "source": [
    "df0['month_9'] = df0['x_9'].dt.month\n",
    "df0['year_9'] = df0['x_9'].dt.year"
   ]
  },
  {
   "cell_type": "code",
   "execution_count": 93,
   "metadata": {},
   "outputs": [],
   "source": [
    "df0['month_rep'] = df0['REPORT_DT'].dt.month\n",
    "df0['year_rep'] = df0['REPORT_DT'].dt.year"
   ]
  },
  {
   "cell_type": "code",
   "execution_count": 98,
   "metadata": {},
   "outputs": [],
   "source": [
    "df0['month_9'] = df0['month_9'].astype('int64')\n",
    "df0['year_9'] = df0['year_9'].astype('int64')\n",
    "\n",
    "df0['month_rep'] = df0['month_rep'].astype('int64')\n",
    "df0['year_rep'] = df0['year_rep'].astype('int64')"
   ]
  },
  {
   "cell_type": "code",
   "execution_count": 94,
   "metadata": {},
   "outputs": [
    {
     "data": {
      "text/html": [
       "<div>\n",
       "<style scoped>\n",
       "    .dataframe tbody tr th:only-of-type {\n",
       "        vertical-align: middle;\n",
       "    }\n",
       "\n",
       "    .dataframe tbody tr th {\n",
       "        vertical-align: top;\n",
       "    }\n",
       "\n",
       "    .dataframe thead th {\n",
       "        text-align: right;\n",
       "    }\n",
       "</style>\n",
       "<table border=\"1\" class=\"dataframe\">\n",
       "  <thead>\n",
       "    <tr style=\"text-align: right;\">\n",
       "      <th></th>\n",
       "      <th>REPORT_DT</th>\n",
       "      <th>x_0</th>\n",
       "      <th>x_1</th>\n",
       "      <th>x_2</th>\n",
       "      <th>x_3</th>\n",
       "      <th>x_4</th>\n",
       "      <th>x_5</th>\n",
       "      <th>x_7</th>\n",
       "      <th>x_9</th>\n",
       "      <th>x_10</th>\n",
       "      <th>...</th>\n",
       "      <th>x_645</th>\n",
       "      <th>x_646</th>\n",
       "      <th>TARGET</th>\n",
       "      <th>ID</th>\n",
       "      <th>NnansParall</th>\n",
       "      <th>pred</th>\n",
       "      <th>month_9</th>\n",
       "      <th>year_9</th>\n",
       "      <th>month_rep</th>\n",
       "      <th>year_rep</th>\n",
       "    </tr>\n",
       "  </thead>\n",
       "  <tbody>\n",
       "    <tr>\n",
       "      <th>0</th>\n",
       "      <td>2019-08-25</td>\n",
       "      <td>1</td>\n",
       "      <td>0</td>\n",
       "      <td>1</td>\n",
       "      <td>1</td>\n",
       "      <td>2100000.0</td>\n",
       "      <td>1505828.87</td>\n",
       "      <td>1505828.87</td>\n",
       "      <td>2017-03-20</td>\n",
       "      <td>1400000.0</td>\n",
       "      <td>...</td>\n",
       "      <td>0.505730</td>\n",
       "      <td>0.716184</td>\n",
       "      <td>0</td>\n",
       "      <td>0</td>\n",
       "      <td>216</td>\n",
       "      <td>0</td>\n",
       "      <td>3</td>\n",
       "      <td>2017</td>\n",
       "      <td>8</td>\n",
       "      <td>2019</td>\n",
       "    </tr>\n",
       "    <tr>\n",
       "      <th>1</th>\n",
       "      <td>2019-06-27</td>\n",
       "      <td>1</td>\n",
       "      <td>0</td>\n",
       "      <td>1</td>\n",
       "      <td>1</td>\n",
       "      <td>900000.0</td>\n",
       "      <td>363535.29</td>\n",
       "      <td>363535.29</td>\n",
       "      <td>2017-02-02</td>\n",
       "      <td>900000.0</td>\n",
       "      <td>...</td>\n",
       "      <td>0.268452</td>\n",
       "      <td>0.268452</td>\n",
       "      <td>0</td>\n",
       "      <td>1</td>\n",
       "      <td>140</td>\n",
       "      <td>0</td>\n",
       "      <td>2</td>\n",
       "      <td>2017</td>\n",
       "      <td>6</td>\n",
       "      <td>2019</td>\n",
       "    </tr>\n",
       "    <tr>\n",
       "      <th>2</th>\n",
       "      <td>2018-01-09</td>\n",
       "      <td>1</td>\n",
       "      <td>0</td>\n",
       "      <td>1</td>\n",
       "      <td>1</td>\n",
       "      <td>1000000.0</td>\n",
       "      <td>990956.71</td>\n",
       "      <td>982069.19</td>\n",
       "      <td>2017-09-20</td>\n",
       "      <td>1000000.0</td>\n",
       "      <td>...</td>\n",
       "      <td>0.154156</td>\n",
       "      <td>0.348582</td>\n",
       "      <td>0</td>\n",
       "      <td>2</td>\n",
       "      <td>581</td>\n",
       "      <td>0</td>\n",
       "      <td>9</td>\n",
       "      <td>2017</td>\n",
       "      <td>1</td>\n",
       "      <td>2018</td>\n",
       "    </tr>\n",
       "    <tr>\n",
       "      <th>3</th>\n",
       "      <td>2019-09-03</td>\n",
       "      <td>1</td>\n",
       "      <td>0</td>\n",
       "      <td>1</td>\n",
       "      <td>1</td>\n",
       "      <td>1400000.0</td>\n",
       "      <td>566338.60</td>\n",
       "      <td>564045.39</td>\n",
       "      <td>2015-02-06</td>\n",
       "      <td>1400000.0</td>\n",
       "      <td>...</td>\n",
       "      <td>0.239039</td>\n",
       "      <td>0.239039</td>\n",
       "      <td>0</td>\n",
       "      <td>3</td>\n",
       "      <td>136</td>\n",
       "      <td>0</td>\n",
       "      <td>2</td>\n",
       "      <td>2015</td>\n",
       "      <td>9</td>\n",
       "      <td>2019</td>\n",
       "    </tr>\n",
       "    <tr>\n",
       "      <th>4</th>\n",
       "      <td>2017-12-18</td>\n",
       "      <td>1</td>\n",
       "      <td>0</td>\n",
       "      <td>1</td>\n",
       "      <td>1</td>\n",
       "      <td>2114500.0</td>\n",
       "      <td>1414693.51</td>\n",
       "      <td>1396391.57</td>\n",
       "      <td>2014-10-13</td>\n",
       "      <td>1700000.0</td>\n",
       "      <td>...</td>\n",
       "      <td>0.190561</td>\n",
       "      <td>0.238575</td>\n",
       "      <td>0</td>\n",
       "      <td>4</td>\n",
       "      <td>123</td>\n",
       "      <td>0</td>\n",
       "      <td>10</td>\n",
       "      <td>2014</td>\n",
       "      <td>12</td>\n",
       "      <td>2017</td>\n",
       "    </tr>\n",
       "  </tbody>\n",
       "</table>\n",
       "<p>5 rows × 486 columns</p>\n",
       "</div>"
      ],
      "text/plain": [
       "   REPORT_DT  x_0  x_1  x_2  x_3        x_4         x_5         x_7  \\\n",
       "0 2019-08-25    1    0    1    1  2100000.0  1505828.87  1505828.87   \n",
       "1 2019-06-27    1    0    1    1   900000.0   363535.29   363535.29   \n",
       "2 2018-01-09    1    0    1    1  1000000.0   990956.71   982069.19   \n",
       "3 2019-09-03    1    0    1    1  1400000.0   566338.60   564045.39   \n",
       "4 2017-12-18    1    0    1    1  2114500.0  1414693.51  1396391.57   \n",
       "\n",
       "         x_9       x_10  ...     x_645     x_646 TARGET  ID  NnansParall  \\\n",
       "0 2017-03-20  1400000.0  ...  0.505730  0.716184      0   0          216   \n",
       "1 2017-02-02   900000.0  ...  0.268452  0.268452      0   1          140   \n",
       "2 2017-09-20  1000000.0  ...  0.154156  0.348582      0   2          581   \n",
       "3 2015-02-06  1400000.0  ...  0.239039  0.239039      0   3          136   \n",
       "4 2014-10-13  1700000.0  ...  0.190561  0.238575      0   4          123   \n",
       "\n",
       "   pred month_9 year_9  month_rep year_rep  \n",
       "0     0       3   2017          8     2019  \n",
       "1     0       2   2017          6     2019  \n",
       "2     0       9   2017          1     2018  \n",
       "3     0       2   2015          9     2019  \n",
       "4     0      10   2014         12     2017  \n",
       "\n",
       "[5 rows x 486 columns]"
      ]
     },
     "execution_count": 94,
     "metadata": {},
     "output_type": "execute_result"
    }
   ],
   "source": [
    "df0.head()"
   ]
  },
  {
   "cell_type": "code",
   "execution_count": 95,
   "metadata": {},
   "outputs": [],
   "source": [
    "df0 = df0.drop(['x_9', 'REPORT_DT'], axis = 1)"
   ]
  },
  {
   "cell_type": "code",
   "execution_count": 105,
   "metadata": {},
   "outputs": [
    {
     "data": {
      "text/plain": [
       "Приобретение                               1048421\n",
       "Инвестирование                              447882\n",
       "Рефинансирование                             14018\n",
       "Индивидуальное строительство                  9206\n",
       "Нецелевой кредит под залог недвижимости       8071\n",
       "Name: x_21, dtype: int64"
      ]
     },
     "execution_count": 105,
     "metadata": {},
     "output_type": "execute_result"
    }
   ],
   "source": [
    "inv = df0['x_21']\n",
    "inv.value_counts()"
   ]
  },
  {
   "cell_type": "code",
   "execution_count": 108,
   "metadata": {},
   "outputs": [
    {
     "data": {
      "text/plain": [
       "array(['Инвестирование', 'Индивидуальное строительство',\n",
       "       'Нецелевой кредит под залог недвижимости', 'Приобретение',\n",
       "       'Рефинансирование'], dtype=object)"
      ]
     },
     "execution_count": 108,
     "metadata": {},
     "output_type": "execute_result"
    }
   ],
   "source": [
    "from sklearn import preprocessing\n",
    "le = preprocessing.LabelEncoder()\n",
    "le.fit(inv)\n",
    "le.classes_"
   ]
  },
  {
   "cell_type": "code",
   "execution_count": 109,
   "metadata": {},
   "outputs": [],
   "source": [
    "q = le.transform(df0['x_21'])"
   ]
  },
  {
   "cell_type": "code",
   "execution_count": 111,
   "metadata": {},
   "outputs": [],
   "source": [
    "df0['x_21'] = q\n",
    "df0['x_21'] = df0['x_21'].astype('int64')"
   ]
  },
  {
   "cell_type": "code",
   "execution_count": 97,
   "metadata": {},
   "outputs": [],
   "source": [
    "#the same as another one\n",
    "\n",
    "df0.drop(columns=['x_617'], inplace=True)"
   ]
  },
  {
   "cell_type": "code",
   "execution_count": 120,
   "metadata": {},
   "outputs": [
    {
     "ename": "TypeError",
     "evalue": "int() argument must be a string, a bytes-like object or a number, not 'NoneType'",
     "output_type": "error",
     "traceback": [
      "\u001b[0;31m---------------------------------------------------------------------------\u001b[0m",
      "\u001b[0;31mTypeError\u001b[0m                                 Traceback (most recent call last)",
      "\u001b[0;32m<ipython-input-120-409c1008a5cb>\u001b[0m in \u001b[0;36m<module>\u001b[0;34m\u001b[0m\n\u001b[1;32m      1\u001b[0m \u001b[0mdf0\u001b[0m\u001b[0;34m[\u001b[0m\u001b[0;34m'x_634'\u001b[0m\u001b[0;34m]\u001b[0m \u001b[0;34m=\u001b[0m \u001b[0mdf0\u001b[0m\u001b[0;34m[\u001b[0m\u001b[0;34m'x_634'\u001b[0m\u001b[0;34m]\u001b[0m\u001b[0;34m.\u001b[0m\u001b[0mastype\u001b[0m\u001b[0;34m(\u001b[0m\u001b[0;34m'int64'\u001b[0m\u001b[0;34m)\u001b[0m\u001b[0;34m\u001b[0m\u001b[0;34m\u001b[0m\u001b[0m\n\u001b[0;32m----> 2\u001b[0;31m \u001b[0mdf0\u001b[0m\u001b[0;34m[\u001b[0m\u001b[0;34m'x_13'\u001b[0m\u001b[0;34m]\u001b[0m \u001b[0;34m=\u001b[0m \u001b[0mdf0\u001b[0m\u001b[0;34m[\u001b[0m\u001b[0;34m'x_13'\u001b[0m\u001b[0;34m]\u001b[0m\u001b[0;34m.\u001b[0m\u001b[0mastype\u001b[0m\u001b[0;34m(\u001b[0m\u001b[0;34m'int64'\u001b[0m\u001b[0;34m)\u001b[0m\u001b[0;34m\u001b[0m\u001b[0;34m\u001b[0m\u001b[0m\n\u001b[0m\u001b[1;32m      3\u001b[0m \u001b[0;31m#df0['x_19'] = df0['x_19'].astype('int64')\u001b[0m\u001b[0;34m\u001b[0m\u001b[0;34m\u001b[0m\u001b[0;34m\u001b[0m\u001b[0m\n",
      "\u001b[0;32m/opt/conda/lib/python3.6/site-packages/pandas/core/generic.py\u001b[0m in \u001b[0;36mastype\u001b[0;34m(self, dtype, copy, errors)\u001b[0m\n\u001b[1;32m   5546\u001b[0m         \u001b[0;32melse\u001b[0m\u001b[0;34m:\u001b[0m\u001b[0;34m\u001b[0m\u001b[0;34m\u001b[0m\u001b[0m\n\u001b[1;32m   5547\u001b[0m             \u001b[0;31m# else, only a single dtype is given\u001b[0m\u001b[0;34m\u001b[0m\u001b[0;34m\u001b[0m\u001b[0;34m\u001b[0m\u001b[0m\n\u001b[0;32m-> 5548\u001b[0;31m             \u001b[0mnew_data\u001b[0m \u001b[0;34m=\u001b[0m \u001b[0mself\u001b[0m\u001b[0;34m.\u001b[0m\u001b[0m_mgr\u001b[0m\u001b[0;34m.\u001b[0m\u001b[0mastype\u001b[0m\u001b[0;34m(\u001b[0m\u001b[0mdtype\u001b[0m\u001b[0;34m=\u001b[0m\u001b[0mdtype\u001b[0m\u001b[0;34m,\u001b[0m \u001b[0mcopy\u001b[0m\u001b[0;34m=\u001b[0m\u001b[0mcopy\u001b[0m\u001b[0;34m,\u001b[0m \u001b[0merrors\u001b[0m\u001b[0;34m=\u001b[0m\u001b[0merrors\u001b[0m\u001b[0;34m,\u001b[0m\u001b[0;34m)\u001b[0m\u001b[0;34m\u001b[0m\u001b[0;34m\u001b[0m\u001b[0m\n\u001b[0m\u001b[1;32m   5549\u001b[0m             \u001b[0;32mreturn\u001b[0m \u001b[0mself\u001b[0m\u001b[0;34m.\u001b[0m\u001b[0m_constructor\u001b[0m\u001b[0;34m(\u001b[0m\u001b[0mnew_data\u001b[0m\u001b[0;34m)\u001b[0m\u001b[0;34m.\u001b[0m\u001b[0m__finalize__\u001b[0m\u001b[0;34m(\u001b[0m\u001b[0mself\u001b[0m\u001b[0;34m,\u001b[0m \u001b[0mmethod\u001b[0m\u001b[0;34m=\u001b[0m\u001b[0;34m\"astype\"\u001b[0m\u001b[0;34m)\u001b[0m\u001b[0;34m\u001b[0m\u001b[0;34m\u001b[0m\u001b[0m\n\u001b[1;32m   5550\u001b[0m \u001b[0;34m\u001b[0m\u001b[0m\n",
      "\u001b[0;32m/opt/conda/lib/python3.6/site-packages/pandas/core/internals/managers.py\u001b[0m in \u001b[0;36mastype\u001b[0;34m(self, dtype, copy, errors)\u001b[0m\n\u001b[1;32m    602\u001b[0m         \u001b[0mself\u001b[0m\u001b[0;34m,\u001b[0m \u001b[0mdtype\u001b[0m\u001b[0;34m,\u001b[0m \u001b[0mcopy\u001b[0m\u001b[0;34m:\u001b[0m \u001b[0mbool\u001b[0m \u001b[0;34m=\u001b[0m \u001b[0;32mFalse\u001b[0m\u001b[0;34m,\u001b[0m \u001b[0merrors\u001b[0m\u001b[0;34m:\u001b[0m \u001b[0mstr\u001b[0m \u001b[0;34m=\u001b[0m \u001b[0;34m\"raise\"\u001b[0m\u001b[0;34m\u001b[0m\u001b[0;34m\u001b[0m\u001b[0m\n\u001b[1;32m    603\u001b[0m     ) -> \"BlockManager\":\n\u001b[0;32m--> 604\u001b[0;31m         \u001b[0;32mreturn\u001b[0m \u001b[0mself\u001b[0m\u001b[0;34m.\u001b[0m\u001b[0mapply\u001b[0m\u001b[0;34m(\u001b[0m\u001b[0;34m\"astype\"\u001b[0m\u001b[0;34m,\u001b[0m \u001b[0mdtype\u001b[0m\u001b[0;34m=\u001b[0m\u001b[0mdtype\u001b[0m\u001b[0;34m,\u001b[0m \u001b[0mcopy\u001b[0m\u001b[0;34m=\u001b[0m\u001b[0mcopy\u001b[0m\u001b[0;34m,\u001b[0m \u001b[0merrors\u001b[0m\u001b[0;34m=\u001b[0m\u001b[0merrors\u001b[0m\u001b[0;34m)\u001b[0m\u001b[0;34m\u001b[0m\u001b[0;34m\u001b[0m\u001b[0m\n\u001b[0m\u001b[1;32m    605\u001b[0m \u001b[0;34m\u001b[0m\u001b[0m\n\u001b[1;32m    606\u001b[0m     def convert(\n",
      "\u001b[0;32m/opt/conda/lib/python3.6/site-packages/pandas/core/internals/managers.py\u001b[0m in \u001b[0;36mapply\u001b[0;34m(self, f, align_keys, **kwargs)\u001b[0m\n\u001b[1;32m    407\u001b[0m                 \u001b[0mapplied\u001b[0m \u001b[0;34m=\u001b[0m \u001b[0mb\u001b[0m\u001b[0;34m.\u001b[0m\u001b[0mapply\u001b[0m\u001b[0;34m(\u001b[0m\u001b[0mf\u001b[0m\u001b[0;34m,\u001b[0m \u001b[0;34m**\u001b[0m\u001b[0mkwargs\u001b[0m\u001b[0;34m)\u001b[0m\u001b[0;34m\u001b[0m\u001b[0;34m\u001b[0m\u001b[0m\n\u001b[1;32m    408\u001b[0m             \u001b[0;32melse\u001b[0m\u001b[0;34m:\u001b[0m\u001b[0;34m\u001b[0m\u001b[0;34m\u001b[0m\u001b[0m\n\u001b[0;32m--> 409\u001b[0;31m                 \u001b[0mapplied\u001b[0m \u001b[0;34m=\u001b[0m \u001b[0mgetattr\u001b[0m\u001b[0;34m(\u001b[0m\u001b[0mb\u001b[0m\u001b[0;34m,\u001b[0m \u001b[0mf\u001b[0m\u001b[0;34m)\u001b[0m\u001b[0;34m(\u001b[0m\u001b[0;34m**\u001b[0m\u001b[0mkwargs\u001b[0m\u001b[0;34m)\u001b[0m\u001b[0;34m\u001b[0m\u001b[0;34m\u001b[0m\u001b[0m\n\u001b[0m\u001b[1;32m    410\u001b[0m             \u001b[0mresult_blocks\u001b[0m \u001b[0;34m=\u001b[0m \u001b[0m_extend_blocks\u001b[0m\u001b[0;34m(\u001b[0m\u001b[0mapplied\u001b[0m\u001b[0;34m,\u001b[0m \u001b[0mresult_blocks\u001b[0m\u001b[0;34m)\u001b[0m\u001b[0;34m\u001b[0m\u001b[0;34m\u001b[0m\u001b[0m\n\u001b[1;32m    411\u001b[0m \u001b[0;34m\u001b[0m\u001b[0m\n",
      "\u001b[0;32m/opt/conda/lib/python3.6/site-packages/pandas/core/internals/blocks.py\u001b[0m in \u001b[0;36mastype\u001b[0;34m(self, dtype, copy, errors)\u001b[0m\n\u001b[1;32m    593\u001b[0m             \u001b[0mvals1d\u001b[0m \u001b[0;34m=\u001b[0m \u001b[0mvalues\u001b[0m\u001b[0;34m.\u001b[0m\u001b[0mravel\u001b[0m\u001b[0;34m(\u001b[0m\u001b[0;34m)\u001b[0m\u001b[0;34m\u001b[0m\u001b[0;34m\u001b[0m\u001b[0m\n\u001b[1;32m    594\u001b[0m             \u001b[0;32mtry\u001b[0m\u001b[0;34m:\u001b[0m\u001b[0;34m\u001b[0m\u001b[0;34m\u001b[0m\u001b[0m\n\u001b[0;32m--> 595\u001b[0;31m                 \u001b[0mvalues\u001b[0m \u001b[0;34m=\u001b[0m \u001b[0mastype_nansafe\u001b[0m\u001b[0;34m(\u001b[0m\u001b[0mvals1d\u001b[0m\u001b[0;34m,\u001b[0m \u001b[0mdtype\u001b[0m\u001b[0;34m,\u001b[0m \u001b[0mcopy\u001b[0m\u001b[0;34m=\u001b[0m\u001b[0;32mTrue\u001b[0m\u001b[0;34m)\u001b[0m\u001b[0;34m\u001b[0m\u001b[0;34m\u001b[0m\u001b[0m\n\u001b[0m\u001b[1;32m    596\u001b[0m             \u001b[0;32mexcept\u001b[0m \u001b[0;34m(\u001b[0m\u001b[0mValueError\u001b[0m\u001b[0;34m,\u001b[0m \u001b[0mTypeError\u001b[0m\u001b[0;34m)\u001b[0m\u001b[0;34m:\u001b[0m\u001b[0;34m\u001b[0m\u001b[0;34m\u001b[0m\u001b[0m\n\u001b[1;32m    597\u001b[0m                 \u001b[0;31m# e.g. astype_nansafe can fail on object-dtype of strings\u001b[0m\u001b[0;34m\u001b[0m\u001b[0;34m\u001b[0m\u001b[0;34m\u001b[0m\u001b[0m\n",
      "\u001b[0;32m/opt/conda/lib/python3.6/site-packages/pandas/core/dtypes/cast.py\u001b[0m in \u001b[0;36mastype_nansafe\u001b[0;34m(arr, dtype, copy, skipna)\u001b[0m\n\u001b[1;32m    972\u001b[0m         \u001b[0;31m# work around NumPy brokenness, #1987\u001b[0m\u001b[0;34m\u001b[0m\u001b[0;34m\u001b[0m\u001b[0;34m\u001b[0m\u001b[0m\n\u001b[1;32m    973\u001b[0m         \u001b[0;32mif\u001b[0m \u001b[0mnp\u001b[0m\u001b[0;34m.\u001b[0m\u001b[0missubdtype\u001b[0m\u001b[0;34m(\u001b[0m\u001b[0mdtype\u001b[0m\u001b[0;34m.\u001b[0m\u001b[0mtype\u001b[0m\u001b[0;34m,\u001b[0m \u001b[0mnp\u001b[0m\u001b[0;34m.\u001b[0m\u001b[0minteger\u001b[0m\u001b[0;34m)\u001b[0m\u001b[0;34m:\u001b[0m\u001b[0;34m\u001b[0m\u001b[0;34m\u001b[0m\u001b[0m\n\u001b[0;32m--> 974\u001b[0;31m             \u001b[0;32mreturn\u001b[0m \u001b[0mlib\u001b[0m\u001b[0;34m.\u001b[0m\u001b[0mastype_intsafe\u001b[0m\u001b[0;34m(\u001b[0m\u001b[0marr\u001b[0m\u001b[0;34m.\u001b[0m\u001b[0mravel\u001b[0m\u001b[0;34m(\u001b[0m\u001b[0;34m)\u001b[0m\u001b[0;34m,\u001b[0m \u001b[0mdtype\u001b[0m\u001b[0;34m)\u001b[0m\u001b[0;34m.\u001b[0m\u001b[0mreshape\u001b[0m\u001b[0;34m(\u001b[0m\u001b[0marr\u001b[0m\u001b[0;34m.\u001b[0m\u001b[0mshape\u001b[0m\u001b[0;34m)\u001b[0m\u001b[0;34m\u001b[0m\u001b[0;34m\u001b[0m\u001b[0m\n\u001b[0m\u001b[1;32m    975\u001b[0m \u001b[0;34m\u001b[0m\u001b[0m\n\u001b[1;32m    976\u001b[0m         \u001b[0;31m# if we have a datetime/timedelta array of objects\u001b[0m\u001b[0;34m\u001b[0m\u001b[0;34m\u001b[0m\u001b[0;34m\u001b[0m\u001b[0m\n",
      "\u001b[0;32mpandas/_libs/lib.pyx\u001b[0m in \u001b[0;36mpandas._libs.lib.astype_intsafe\u001b[0;34m()\u001b[0m\n",
      "\u001b[0;31mTypeError\u001b[0m: int() argument must be a string, a bytes-like object or a number, not 'NoneType'"
     ]
    }
   ],
   "source": [
    "df0['x_634'] = df0['x_634'].astype('int64')\n",
    "df0['x_13'] = df0['x_13'].astype('int64')\n",
    "df0['x_19'] = df0['x_19'].astype('int64')"
   ]
  },
  {
   "cell_type": "code",
   "execution_count": null,
   "metadata": {},
   "outputs": [],
   "source": []
  },
  {
   "cell_type": "code",
   "execution_count": 116,
   "metadata": {},
   "outputs": [
    {
     "data": {
      "text/plain": [
       "0    1060486\n",
       "1     467112\n",
       "Name: x_634, dtype: int64"
      ]
     },
     "execution_count": 116,
     "metadata": {},
     "output_type": "execute_result"
    }
   ],
   "source": [
    "df0['x_634'].value_counts()"
   ]
  },
  {
   "cell_type": "code",
   "execution_count": 118,
   "metadata": {},
   "outputs": [
    {
     "data": {
      "text/plain": [
       "1    792426\n",
       "0    735172\n",
       "Name: x_19, dtype: int64"
      ]
     },
     "execution_count": 118,
     "metadata": {},
     "output_type": "execute_result"
    }
   ],
   "source": [
    "df0['x_19'].value_counts()"
   ]
  },
  {
   "cell_type": "code",
   "execution_count": 133,
   "metadata": {},
   "outputs": [
    {
     "data": {
      "text/plain": [
       "Index(['x_12', 'x_13', 'x_18', 'x_618', 'x_625', 'x_628'], dtype='object')"
      ]
     },
     "execution_count": 133,
     "metadata": {},
     "output_type": "execute_result"
    }
   ],
   "source": [
    "df0.select_dtypes('object').columns"
   ]
  },
  {
   "cell_type": "code",
   "execution_count": 123,
   "metadata": {},
   "outputs": [],
   "source": [
    "df0['x_19'] = df0['x_19'].astype('int64')"
   ]
  },
  {
   "cell_type": "code",
   "execution_count": 125,
   "metadata": {},
   "outputs": [],
   "source": [
    "df0['x_614'] = df0['x_614'].astype('int64')\n",
    "df0['x_615'] = df0['x_615'].astype('int64')"
   ]
  },
  {
   "cell_type": "code",
   "execution_count": 131,
   "metadata": {},
   "outputs": [
    {
     "data": {
      "text/plain": [
       "107"
      ]
     },
     "execution_count": 131,
     "metadata": {},
     "output_type": "execute_result"
    }
   ],
   "source": [
    "df0['x_13'].isna().sum()"
   ]
  },
  {
   "cell_type": "code",
   "execution_count": 134,
   "metadata": {},
   "outputs": [],
   "source": [
    "categorical_features = ['x_12', 'x_13', 'x_18', 'x_618', 'x_625', 'x_628']\n",
    "\n"
   ]
  },
  {
   "cell_type": "code",
   "execution_count": 138,
   "metadata": {},
   "outputs": [],
   "source": [
    "from sklearn import preprocessing\n",
    "from tqdm import tqdm\n",
    "def cat_to_le(df, categs):\n",
    "    for cat in tqdm(categs):\n",
    "        inv = df[cat]\n",
    "        #inv.value_counts()\n",
    "\n",
    " \n",
    "        le = preprocessing.LabelEncoder()\n",
    "        le.fit(inv)\n",
    "        q = le.transform(df[cat])\n",
    "        df[cat] = q\n",
    "        df[cat]= df[cat].astype('int64')\n",
    "    return df"
   ]
  },
  {
   "cell_type": "code",
   "execution_count": 139,
   "metadata": {},
   "outputs": [
    {
     "name": "stderr",
     "output_type": "stream",
     "text": [
      "100%|██████████| 6/6 [01:08<00:00, 11.34s/it]\n"
     ]
    }
   ],
   "source": [
    "df0 = cat_to_le(df0, categorical_features)"
   ]
  },
  {
   "cell_type": "code",
   "execution_count": 140,
   "metadata": {},
   "outputs": [
    {
     "data": {
      "text/html": [
       "<div>\n",
       "<style scoped>\n",
       "    .dataframe tbody tr th:only-of-type {\n",
       "        vertical-align: middle;\n",
       "    }\n",
       "\n",
       "    .dataframe tbody tr th {\n",
       "        vertical-align: top;\n",
       "    }\n",
       "\n",
       "    .dataframe thead th {\n",
       "        text-align: right;\n",
       "    }\n",
       "</style>\n",
       "<table border=\"1\" class=\"dataframe\">\n",
       "  <thead>\n",
       "    <tr style=\"text-align: right;\">\n",
       "      <th></th>\n",
       "    </tr>\n",
       "  </thead>\n",
       "  <tbody>\n",
       "    <tr>\n",
       "      <th>0</th>\n",
       "    </tr>\n",
       "    <tr>\n",
       "      <th>1</th>\n",
       "    </tr>\n",
       "    <tr>\n",
       "      <th>2</th>\n",
       "    </tr>\n",
       "    <tr>\n",
       "      <th>3</th>\n",
       "    </tr>\n",
       "    <tr>\n",
       "      <th>4</th>\n",
       "    </tr>\n",
       "    <tr>\n",
       "      <th>...</th>\n",
       "    </tr>\n",
       "    <tr>\n",
       "      <th>1943522</th>\n",
       "    </tr>\n",
       "    <tr>\n",
       "      <th>1943523</th>\n",
       "    </tr>\n",
       "    <tr>\n",
       "      <th>1943525</th>\n",
       "    </tr>\n",
       "    <tr>\n",
       "      <th>1943526</th>\n",
       "    </tr>\n",
       "    <tr>\n",
       "      <th>1943527</th>\n",
       "    </tr>\n",
       "  </tbody>\n",
       "</table>\n",
       "<p>1527598 rows × 0 columns</p>\n",
       "</div>"
      ],
      "text/plain": [
       "Empty DataFrame\n",
       "Columns: []\n",
       "Index: [0, 1, 2, 3, 4, 6, 7, 8, 9, 10, 11, 12, 13, 14, 15, 16, 17, 18, 19, 20, 23, 24, 27, 29, 30, 31, 32, 34, 35, 36, 38, 39, 42, 43, 44, 45, 46, 47, 48, 50, 51, 52, 54, 55, 57, 58, 59, 60, 61, 62, 63, 64, 65, 66, 67, 68, 71, 72, 73, 74, 75, 76, 77, 79, 80, 81, 82, 83, 84, 86, 87, 88, 89, 90, 91, 92, 93, 94, 98, 100, 101, 103, 104, 105, 106, 107, 108, 111, 112, 114, 118, 119, 120, 123, 125, 126, 127, 129, 130, 131, ...]\n",
       "\n",
       "[1527598 rows x 0 columns]"
      ]
     },
     "execution_count": 140,
     "metadata": {},
     "output_type": "execute_result"
    }
   ],
   "source": [
    "df0.select_dtypes('object')"
   ]
  },
  {
   "cell_type": "code",
   "execution_count": 143,
   "metadata": {},
   "outputs": [],
   "source": [
    "idx = df0.isna().sum().to_list()"
   ]
  },
  {
   "cell_type": "code",
   "execution_count": 144,
   "metadata": {},
   "outputs": [
    {
     "data": {
      "text/plain": [
       "[0,\n",
       " 0,\n",
       " 0,\n",
       " 0,\n",
       " 0,\n",
       " 0,\n",
       " 0,\n",
       " 0,\n",
       " 0,\n",
       " 0,\n",
       " 0,\n",
       " 0,\n",
       " 6842,\n",
       " 6396,\n",
       " 0,\n",
       " 0,\n",
       " 0,\n",
       " 0,\n",
       " 0,\n",
       " 0,\n",
       " 0,\n",
       " 582020,\n",
       " 582020,\n",
       " 582020,\n",
       " 582020,\n",
       " 582020,\n",
       " 279978,\n",
       " 582020,\n",
       " 279978,\n",
       " 279978,\n",
       " 279978,\n",
       " 279978,\n",
       " 279978,\n",
       " 279978,\n",
       " 279978,\n",
       " 279978,\n",
       " 279978,\n",
       " 279978,\n",
       " 279978,\n",
       " 279978,\n",
       " 582020,\n",
       " 582020,\n",
       " 582020,\n",
       " 279978,\n",
       " 279978,\n",
       " 279978,\n",
       " 279978,\n",
       " 279978,\n",
       " 279978,\n",
       " 582020,\n",
       " 279978,\n",
       " 279978,\n",
       " 279978,\n",
       " 279978,\n",
       " 279978,\n",
       " 279978,\n",
       " 279978,\n",
       " 279978,\n",
       " 279978,\n",
       " 279978,\n",
       " 279978,\n",
       " 279978,\n",
       " 279978,\n",
       " 279978,\n",
       " 279978,\n",
       " 279978,\n",
       " 279978,\n",
       " 279978,\n",
       " 279978,\n",
       " 279978,\n",
       " 582020,\n",
       " 582020,\n",
       " 582020,\n",
       " 582020,\n",
       " 652113,\n",
       " 739907,\n",
       " 652113,\n",
       " 652113,\n",
       " 652113,\n",
       " 652113,\n",
       " 739907,\n",
       " 739907,\n",
       " 739907,\n",
       " 739907,\n",
       " 739907,\n",
       " 739907,\n",
       " 739907,\n",
       " 279978,\n",
       " 652113,\n",
       " 279978,\n",
       " 279978,\n",
       " 279978,\n",
       " 279978,\n",
       " 279978,\n",
       " 279978,\n",
       " 279978,\n",
       " 279978,\n",
       " 279978,\n",
       " 279978,\n",
       " 279978,\n",
       " 279978,\n",
       " 652113,\n",
       " 757068,\n",
       " 652113,\n",
       " 739907,\n",
       " 757068,\n",
       " 739907,\n",
       " 757068,\n",
       " 652113,\n",
       " 739907,\n",
       " 739907,\n",
       " 739907,\n",
       " 279978,\n",
       " 279978,\n",
       " 279978,\n",
       " 279978,\n",
       " 279978,\n",
       " 279978,\n",
       " 652113,\n",
       " 279978,\n",
       " 279978,\n",
       " 279978,\n",
       " 279978,\n",
       " 279978,\n",
       " 279978,\n",
       " 279978,\n",
       " 279978,\n",
       " 279978,\n",
       " 279978,\n",
       " 279978,\n",
       " 279978,\n",
       " 279978,\n",
       " 279978,\n",
       " 279978,\n",
       " 279978,\n",
       " 279978,\n",
       " 279978,\n",
       " 279978,\n",
       " 279978,\n",
       " 652113,\n",
       " 652113,\n",
       " 652113,\n",
       " 652113,\n",
       " 279978,\n",
       " 635852,\n",
       " 434988,\n",
       " 279978,\n",
       " 489276,\n",
       " 279978,\n",
       " 279978,\n",
       " 279978,\n",
       " 434988,\n",
       " 434988,\n",
       " 434988,\n",
       " 434988,\n",
       " 434988,\n",
       " 434988,\n",
       " 434988,\n",
       " 279978,\n",
       " 279978,\n",
       " 279978,\n",
       " 279978,\n",
       " 279978,\n",
       " 279978,\n",
       " 279978,\n",
       " 279978,\n",
       " 279978,\n",
       " 279978,\n",
       " 279978,\n",
       " 279978,\n",
       " 279978,\n",
       " 279978,\n",
       " 279978,\n",
       " 474037,\n",
       " 635852,\n",
       " 279978,\n",
       " 635852,\n",
       " 434988,\n",
       " 474037,\n",
       " 434988,\n",
       " 474037,\n",
       " 544143,\n",
       " 586520,\n",
       " 544143,\n",
       " 586520,\n",
       " 730990,\n",
       " 279978,\n",
       " 434988,\n",
       " 434988,\n",
       " 434988,\n",
       " 279978,\n",
       " 279978,\n",
       " 279978,\n",
       " 279978,\n",
       " 279978,\n",
       " 279978,\n",
       " 279978,\n",
       " 279978,\n",
       " 279978,\n",
       " 279978,\n",
       " 279978,\n",
       " 279978,\n",
       " 279978,\n",
       " 279978,\n",
       " 279978,\n",
       " 279978,\n",
       " 279978,\n",
       " 279978,\n",
       " 279978,\n",
       " 279978,\n",
       " 279978,\n",
       " 279978,\n",
       " 279978,\n",
       " 279978,\n",
       " 279978,\n",
       " 279978,\n",
       " 279978,\n",
       " 279978,\n",
       " 279978,\n",
       " 279978,\n",
       " 279978,\n",
       " 586718,\n",
       " 473285,\n",
       " 586718,\n",
       " 473285,\n",
       " 586718,\n",
       " 473285,\n",
       " 306833,\n",
       " 473285,\n",
       " 756887,\n",
       " 756887,\n",
       " 756887,\n",
       " 673379,\n",
       " 756887,\n",
       " 632507,\n",
       " 278072,\n",
       " 278072,\n",
       " 278072,\n",
       " 278072,\n",
       " 278072,\n",
       " 278072,\n",
       " 278072,\n",
       " 278072,\n",
       " 278072,\n",
       " 278072,\n",
       " 278072,\n",
       " 278072,\n",
       " 278072,\n",
       " 278072,\n",
       " 278072,\n",
       " 278072,\n",
       " 278072,\n",
       " 278072,\n",
       " 278072,\n",
       " 278072,\n",
       " 278072,\n",
       " 278072,\n",
       " 278072,\n",
       " 278072,\n",
       " 278072,\n",
       " 278072,\n",
       " 278072,\n",
       " 278072,\n",
       " 278072,\n",
       " 278072,\n",
       " 278072,\n",
       " 278072,\n",
       " 278072,\n",
       " 278072,\n",
       " 278072,\n",
       " 278072,\n",
       " 278202,\n",
       " 278202,\n",
       " 278072,\n",
       " 278072,\n",
       " 278072,\n",
       " 278072,\n",
       " 278072,\n",
       " 278072,\n",
       " 278072,\n",
       " 278072,\n",
       " 278072,\n",
       " 278072,\n",
       " 278072,\n",
       " 278072,\n",
       " 278072,\n",
       " 278072,\n",
       " 278072,\n",
       " 278072,\n",
       " 278072,\n",
       " 278072,\n",
       " 278072,\n",
       " 278072,\n",
       " 278072,\n",
       " 278072,\n",
       " 278072,\n",
       " 278072,\n",
       " 278072,\n",
       " 278072,\n",
       " 278072,\n",
       " 278072,\n",
       " 278072,\n",
       " 278072,\n",
       " 278072,\n",
       " 278072,\n",
       " 278072,\n",
       " 278072,\n",
       " 278072,\n",
       " 278072,\n",
       " 278072,\n",
       " 278072,\n",
       " 278072,\n",
       " 278072,\n",
       " 278202,\n",
       " 278202,\n",
       " 278202,\n",
       " 278202,\n",
       " 278202,\n",
       " 300845,\n",
       " 300845,\n",
       " 300845,\n",
       " 300845,\n",
       " 300845,\n",
       " 278202,\n",
       " 582267,\n",
       " 585439,\n",
       " 300845,\n",
       " 278202,\n",
       " 278202,\n",
       " 300845,\n",
       " 278202,\n",
       " 278202,\n",
       " 278202,\n",
       " 278202,\n",
       " 300845,\n",
       " 278202,\n",
       " 278202,\n",
       " 278202,\n",
       " 278202,\n",
       " 278202,\n",
       " 278202,\n",
       " 300845,\n",
       " 278202,\n",
       " 300845,\n",
       " 300845,\n",
       " 278202,\n",
       " 300845,\n",
       " 300845,\n",
       " 278202,\n",
       " 278202,\n",
       " 300845,\n",
       " 278202,\n",
       " 278072,\n",
       " 278072,\n",
       " 278072,\n",
       " 278072,\n",
       " 278072,\n",
       " 278072,\n",
       " 278072,\n",
       " 278072,\n",
       " 278072,\n",
       " 278072,\n",
       " 278072,\n",
       " 278072,\n",
       " 278072,\n",
       " 278072,\n",
       " 278072,\n",
       " 278072,\n",
       " 278072,\n",
       " 278072,\n",
       " 278072,\n",
       " 278072,\n",
       " 278072,\n",
       " 278072,\n",
       " 278072,\n",
       " 278072,\n",
       " 278072,\n",
       " 278072,\n",
       " 278072,\n",
       " 278072,\n",
       " 0,\n",
       " 0,\n",
       " 0,\n",
       " 0,\n",
       " 0,\n",
       " 0,\n",
       " 0,\n",
       " 0,\n",
       " 278072,\n",
       " 0,\n",
       " 278072,\n",
       " 278072,\n",
       " 278072,\n",
       " 278072,\n",
       " 278072,\n",
       " 278072,\n",
       " 278072,\n",
       " 278072,\n",
       " 278072,\n",
       " 300845,\n",
       " 300845,\n",
       " 300845,\n",
       " 300845,\n",
       " 300845,\n",
       " 300845,\n",
       " 300845,\n",
       " 300845,\n",
       " 300845,\n",
       " 300845,\n",
       " 300845,\n",
       " 300845,\n",
       " 300845,\n",
       " 300845,\n",
       " 300845,\n",
       " 300845,\n",
       " 300845,\n",
       " 300845,\n",
       " 278072,\n",
       " 300845,\n",
       " 300845,\n",
       " 300845,\n",
       " 300845,\n",
       " 300960,\n",
       " 300975,\n",
       " 300960,\n",
       " 300975,\n",
       " 300960,\n",
       " 300975,\n",
       " 302168,\n",
       " 302168,\n",
       " 302168,\n",
       " 300845,\n",
       " 300845,\n",
       " 300845,\n",
       " 300845,\n",
       " 300845,\n",
       " 300845,\n",
       " 278072,\n",
       " 278072,\n",
       " 278072,\n",
       " 757068,\n",
       " 474037,\n",
       " 0,\n",
       " 0,\n",
       " 0,\n",
       " 0,\n",
       " 0,\n",
       " 0,\n",
       " 22283,\n",
       " 22297,\n",
       " 16415,\n",
       " 156,\n",
       " 0,\n",
       " 0,\n",
       " 0,\n",
       " 0,\n",
       " 0,\n",
       " 0,\n",
       " 0,\n",
       " 0,\n",
       " 0,\n",
       " 0,\n",
       " 0,\n",
       " 0,\n",
       " 0,\n",
       " 0,\n",
       " 0,\n",
       " 0,\n",
       " 50,\n",
       " 50,\n",
       " 300890,\n",
       " 0,\n",
       " 0,\n",
       " 0,\n",
       " 0,\n",
       " 0,\n",
       " 0,\n",
       " 0,\n",
       " 0,\n",
       " 0,\n",
       " 0,\n",
       " 0,\n",
       " 0]"
      ]
     },
     "execution_count": 144,
     "metadata": {},
     "output_type": "execute_result"
    }
   ],
   "source": [
    "idx"
   ]
  },
  {
   "cell_type": "code",
   "execution_count": 145,
   "metadata": {},
   "outputs": [],
   "source": [
    "#DUPLICATES\n",
    "\n",
    "description = df0.describe().transpose()\n",
    "\n",
    "features = description.duplicated(subset=['mean', 'std', 'min', 'max'])"
   ]
  },
  {
   "cell_type": "code",
   "execution_count": 146,
   "metadata": {},
   "outputs": [],
   "source": [
    "duplicates = df0.select_dtypes(['float64', 'int64']).columns[features]"
   ]
  },
  {
   "cell_type": "code",
   "execution_count": 147,
   "metadata": {},
   "outputs": [
    {
     "data": {
      "text/plain": [
       "Index(['x_22', 'x_23', 'x_410', 'x_529', 'x_555', 'x_556', 'x_557', 'x_558',\n",
       "       'x_560', 'x_563', 'x_564', 'x_565', 'x_574', 'x_582', 'x_583', 'x_608',\n",
       "       'x_612', 'x_613', 'x_615', 'x_616', 'x_618', 'x_623', 'x_624', 'x_626',\n",
       "       'x_641'],\n",
       "      dtype='object')"
      ]
     },
     "execution_count": 147,
     "metadata": {},
     "output_type": "execute_result"
    }
   ],
   "source": [
    "duplicates"
   ]
  },
  {
   "cell_type": "code",
   "execution_count": 148,
   "metadata": {},
   "outputs": [],
   "source": [
    "df0 = df0.drop(columns= duplicates)"
   ]
  },
  {
   "cell_type": "code",
   "execution_count": 149,
   "metadata": {},
   "outputs": [
    {
     "data": {
      "text/plain": [
       "(1527598, 458)"
      ]
     },
     "execution_count": 149,
     "metadata": {},
     "output_type": "execute_result"
    }
   ],
   "source": [
    "df0.shape"
   ]
  },
  {
   "cell_type": "code",
   "execution_count": null,
   "metadata": {},
   "outputs": [],
   "source": [
    "df0"
   ]
  },
  {
   "cell_type": "code",
   "execution_count": 2,
   "metadata": {},
   "outputs": [],
   "source": [
    "FEATURES = ['x_0','x_1','x_2','x_3','x_4','x_5','x_7']\n",
    "\n"
   ]
  },
  {
   "cell_type": "code",
   "execution_count": 6,
   "metadata": {},
   "outputs": [],
   "source": [
    "# 337 не брать\n",
    "\n",
    "#features_to_drop= ['x_17', 'x_25', 'x_26', 'x_27', 'x_29', 'x_30', 'x_32', 'x_36', 'x_37', 'x_38', 'x_39', 'x_40', 'x_41', 'x_42', 'x_43', 'x_44', 'x_60', 'x_61', 'x_63', 'x_64', 'x_65', 'x_66', 'x_67', 'x_68', 'x_69', 'x_70', 'x_71', 'x_72', 'x_73', 'x_74', 'x_76', 'x_77', 'x_78', 'x_100', 'x_101', 'x_102', 'x_103', 'x_104', 'x_105', 'x_106', 'x_107', 'x_111', 'x_112', 'x_113', 'x_114', 'x_115', 'x_116', 'x_117', 'x_118', 'x_122', 'x_123', 'x_128', 'x_129', 'x_130', 'x_132', 'x_135', 'x_142', 'x_143', 'x_164', 'x_166', 'x_171', 'x_172', 'x_173', 'x_174', 'x_175', 'x_176', 'x_177', 'x_203', 'x_204', 'x_205', 'x_206', 'x_207', 'x_208', 'x_209', 'x_210', 'x_214', 'x_215', 'x_216', 'x_217', 'x_218', 'x_219', 'x_220', 'x_221', 'x_225', 'x_226', 'x_231', 'x_232', 'x_233', 'x_245', 'x_246', 'x_278', 'x_279', 'x_306', 'x_307', 'x_308', 'x_309', 'x_310', 'x_311', 'x_312', 'x_313', 'x_317', 'x_318', 'x_319', 'x_320', 'x_321', 'x_322', 'x_323', 'x_324', 'x_328', 'x_329', 'x_334', 'x_335', 'x_336', 'x_343', 'x_344', 'x_345', 'x_346', 'x_349', 'x_351', 'x_353', 'x_355', 'x_356', 'x_357', 'x_358', 'x_361', 'x_362', 'x_363', 'x_364', 'x_365', 'x_366', 'x_367', 'x_368', 'x_369', 'x_370', 'x_372', 'x_463', 'x_490', 'x_491', 'x_492', 'x_493', 'x_494', 'x_495', 'x_496', 'x_497', 'x_498', 'x_499', 'x_540', 'x_541', 'x_543', 'x_546', 'x_548', 'x_549', 'x_550', 'x_551', 'x_609']"
   ]
  },
  {
   "cell_type": "code",
   "execution_count": 10,
   "metadata": {},
   "outputs": [
    {
     "data": {
      "text/plain": [
       "17"
      ]
     },
     "execution_count": 10,
     "metadata": {},
     "output_type": "execute_result"
    }
   ],
   "source": [
    "FEATURES_ALL = ['x_0','x_1',\n",
    "                'x_2','x_3','x_4','x_5','x_7',\n",
    "                'month_9', 'year_9', 'month_rep', 'year_rep', 'x_12', 'x_13', 'x_18', 'x_618', 'x_625', 'x_628' ]\n",
    "len(FEATURES_ALL)"
   ]
  },
  {
   "cell_type": "code",
   "execution_count": 293,
   "metadata": {},
   "outputs": [
    {
     "data": {
      "text/plain": [
       "1    763801\n",
       "Name: x_0, dtype: int64"
      ]
     },
     "execution_count": 293,
     "metadata": {},
     "output_type": "execute_result"
    }
   ],
   "source": [
    "df1['x_0'].value_counts() # drop nahui"
   ]
  },
  {
   "cell_type": "code",
   "execution_count": 291,
   "metadata": {},
   "outputs": [
    {
     "data": {
      "text/plain": [
       "0"
      ]
     },
     "execution_count": 291,
     "metadata": {},
     "output_type": "execute_result"
    }
   ],
   "source": [
    "df1['x_11'].isna().sum()"
   ]
  },
  {
   "cell_type": "code",
   "execution_count": 305,
   "metadata": {},
   "outputs": [
    {
     "data": {
      "text/plain": [
       "x_12\n",
       "A     0.030955\n",
       "A1    0.018381\n",
       "B     0.043212\n",
       "B1    0.034102\n",
       "C     0.051913\n",
       "D     0.049693\n",
       "N     0.058373\n",
       "Name: TARGET, dtype: float64"
      ]
     },
     "execution_count": 305,
     "metadata": {},
     "output_type": "execute_result"
    }
   ],
   "source": [
    "df00.groupby('x_12')['TARGET'].mean() #x_12 credit history rating"
   ]
  },
  {
   "cell_type": "code",
   "execution_count": 307,
   "metadata": {
    "scrolled": true
   },
   "outputs": [
    {
     "data": {
      "text/plain": [
       "B1    776279\n",
       "D     636008\n",
       "A      50396\n",
       "C      31649\n",
       "N      21140\n",
       "B      10113\n",
       "A1      2013\n",
       "Name: x_12, dtype: int64"
      ]
     },
     "execution_count": 307,
     "metadata": {},
     "output_type": "execute_result"
    }
   ],
   "source": [
    "df00['x_12'].value_counts() "
   ]
  },
  {
   "cell_type": "code",
   "execution_count": 310,
   "metadata": {},
   "outputs": [
    {
     "data": {
      "text/plain": [
       "x_12\n",
       "A     30.899595\n",
       "A1    32.819175\n",
       "B     34.125680\n",
       "B1    35.698903\n",
       "C     34.322569\n",
       "D     36.302883\n",
       "N     35.140208\n",
       "Name: x_14, dtype: float64"
      ]
     },
     "execution_count": 310,
     "metadata": {},
     "output_type": "execute_result"
    }
   ],
   "source": [
    "df00.groupby(df00['x_12'])['x_14'].mean()"
   ]
  },
  {
   "cell_type": "code",
   "execution_count": 311,
   "metadata": {},
   "outputs": [
    {
     "data": {
      "text/plain": [
       "1    1527598\n",
       "Name: x_0, dtype: int64"
      ]
     },
     "execution_count": 311,
     "metadata": {},
     "output_type": "execute_result"
    }
   ],
   "source": [
    "df00['x_0'].value_counts()"
   ]
  },
  {
   "cell_type": "code",
   "execution_count": 315,
   "metadata": {},
   "outputs": [
    {
     "data": {
      "text/plain": [
       "1    1500200\n",
       "2      26073\n",
       "3       1106\n",
       "4        219\n",
       "Name: x_2, dtype: int64"
      ]
     },
     "execution_count": 315,
     "metadata": {},
     "output_type": "execute_result"
    }
   ],
   "source": [
    "df00['x_2'].value_counts()"
   ]
  },
  {
   "cell_type": "code",
   "execution_count": 316,
   "metadata": {},
   "outputs": [
    {
     "data": {
      "text/plain": [
       "x_2\n",
       "1    0.041231\n",
       "2    0.040272\n",
       "3    0.072333\n",
       "4    0.018265\n",
       "Name: TARGET, dtype: float64"
      ]
     },
     "execution_count": 316,
     "metadata": {},
     "output_type": "execute_result"
    }
   ],
   "source": [
    "df00.groupby('x_2')['TARGET'].mean()"
   ]
  },
  {
   "cell_type": "code",
   "execution_count": 327,
   "metadata": {
    "scrolled": true
   },
   "outputs": [
    {
     "data": {
      "text/plain": [
       "(0, 10000000.0)"
      ]
     },
     "execution_count": 327,
     "metadata": {},
     "output_type": "execute_result"
    },
    {
     "data": {
      "image/png": "[encoded data removed]",
      "text/plain": [
       "<Figure size 432x288 with 1 Axes>"
      ]
     },
     "metadata": {
      "needs_background": "light"
     },
     "output_type": "display_data"
    }
   ],
   "source": [
    "df00['x_4'].hist(bins=100)\n",
    "plt.xlim((0, 1e7))"
   ]
  },
  {
   "cell_type": "code",
   "execution_count": null,
   "metadata": {},
   "outputs": [],
   "source": [
    "df"
   ]
  },
  {
   "cell_type": "code",
   "execution_count": 334,
   "metadata": {},
   "outputs": [
    {
     "name": "stdout",
     "output_type": "stream",
     "text": [
      "INFO: Pandarallel will run on 32 workers.\n",
      "INFO: Pandarallel will use Memory file system to transfer data between the main process and workers.\n"
     ]
    },
    {
     "data": {
      "text/plain": [
       "<matplotlib.axes._subplots.AxesSubplot at 0x7fea97ff86d8>"
      ]
     },
     "execution_count": 334,
     "metadata": {},
     "output_type": "execute_result"
    },
    {
     "data": {
      "image/png": "[encoded data removed]",
      "text/plain": [
       "<Figure size 432x288 with 1 Axes>"
      ]
     },
     "metadata": {
      "needs_background": "light"
     },
     "output_type": "display_data"
    }
   ],
   "source": [
    "from pandarallel import pandarallel\n",
    "pandarallel.initialize(nb_workers = 32)\n",
    "\n",
    "def nans_counter_row(x,y):\n",
    "    return x-y\n",
    "\n",
    "df00['x4-x5'] = df00[['x_4', 'x_5']].parallel_apply(lambda x: x[0] - x[1], axis=1)\n",
    "\n",
    "df00['x4-x5'].hist()"
   ]
  },
  {
   "cell_type": "code",
   "execution_count": 336,
   "metadata": {
    "scrolled": true
   },
   "outputs": [
    {
     "data": {
      "text/plain": [
       "(0, 10000000.0)"
      ]
     },
     "execution_count": 336,
     "metadata": {},
     "output_type": "execute_result"
    },
    {
     "data": {
      "image/png": "[encoded data removed]",
      "text/plain": [
       "<Figure size 432x288 with 1 Axes>"
      ]
     },
     "metadata": {
      "needs_background": "light"
     },
     "output_type": "display_data"
    }
   ],
   "source": [
    "df00['x4-x5'].hist(bins = 100)\n",
    "plt.xlim((0, 1e7))"
   ]
  },
  {
   "cell_type": "code",
   "execution_count": 339,
   "metadata": {},
   "outputs": [
    {
     "data": {
      "text/plain": [
       "TARGET\n",
       "0    471169.297544\n",
       "1    367900.337676\n",
       "Name: x4-x5, dtype: float64"
      ]
     },
     "execution_count": 339,
     "metadata": {},
     "output_type": "execute_result"
    }
   ],
   "source": [
    "df00.groupby('TARGET')['x4-x5'].mean()"
   ]
  },
  {
   "cell_type": "code",
   "execution_count": 338,
   "metadata": {
    "scrolled": false
   },
   "outputs": [
    {
     "name": "stderr",
     "output_type": "stream",
     "text": [
      "/opt/conda/lib/python3.6/site-packages/seaborn/_decorators.py:43: FutureWarning: Pass the following variable as a keyword arg: x. From version 0.12, the only valid positional argument will be `data`, and passing other arguments without an explicit keyword will result in an error or misinterpretation.\n",
      "  FutureWarning\n"
     ]
    },
    {
     "data": {
      "text/plain": [
       "<matplotlib.axes._subplots.AxesSubplot at 0x7fe7c5e2ab70>"
      ]
     },
     "execution_count": 338,
     "metadata": {},
     "output_type": "execute_result"
    },
    {
     "data": {
      "image/png": "[encoded data removed]",
      "text/plain": [
       "<Figure size 432x288 with 1 Axes>"
      ]
     },
     "metadata": {
      "needs_background": "light"
     },
     "output_type": "display_data"
    }
   ],
   "source": [
    "sns.countplot(df00['x4-x5'][:100], hue = df00['TARGET'][:100])"
   ]
  },
  {
   "cell_type": "code",
   "execution_count": 332,
   "metadata": {},
   "outputs": [
    {
     "name": "stderr",
     "output_type": "stream",
     "text": [
      "/opt/conda/lib/python3.6/site-packages/seaborn/_decorators.py:43: FutureWarning: Pass the following variable as a keyword arg: x. From version 0.12, the only valid positional argument will be `data`, and passing other arguments without an explicit keyword will result in an error or misinterpretation.\n",
      "  FutureWarning\n"
     ]
    },
    {
     "data": {
      "text/plain": [
       "<matplotlib.axes._subplots.AxesSubplot at 0x7fe7bad9efd0>"
      ]
     },
     "execution_count": 332,
     "metadata": {},
     "output_type": "execute_result"
    },
    {
     "data": {
      "image/png": "[encoded data removed]",
      "text/plain": [
       "<Figure size 432x288 with 1 Axes>"
      ]
     },
     "metadata": {
      "needs_background": "light"
     },
     "output_type": "display_data"
    }
   ],
   "source": [
    "sns.countplot(df00['x_4'][:100], hue = df00['TARGET'][:100])"
   ]
  },
  {
   "cell_type": "code",
   "execution_count": 320,
   "metadata": {},
   "outputs": [
    {
     "data": {
      "text/plain": [
       "x_3\n",
       "0    0.000000\n",
       "1    0.041646\n",
       "2    0.041011\n",
       "3    0.072744\n",
       "4    0.018779\n",
       "Name: TARGET, dtype: float64"
      ]
     },
     "execution_count": 320,
     "metadata": {},
     "output_type": "execute_result"
    }
   ],
   "source": [
    "df00.groupby('x_3')['TARGET'].mean()"
   ]
  },
  {
   "cell_type": "code",
   "execution_count": 342,
   "metadata": {},
   "outputs": [
    {
     "data": {
      "text/plain": [
       "x_317\n",
       "0.0    0.044774\n",
       "1.0    0.099142\n",
       "Name: TARGET, dtype: float64"
      ]
     },
     "execution_count": 342,
     "metadata": {},
     "output_type": "execute_result"
    }
   ],
   "source": [
    "df00.groupby('x_317')['TARGET'].mean()"
   ]
  },
  {
   "cell_type": "code",
   "execution_count": 343,
   "metadata": {},
   "outputs": [],
   "source": [
    "import seaborn as sns"
   ]
  },
  {
   "cell_type": "code",
   "execution_count": 330,
   "metadata": {},
   "outputs": [],
   "source": [
    "#x_0 - бросатьи \n",
    "#x_1 -> drop\n",
    "#x_2 -> похоже на комнатность квартир, выгляд логично, что спадает число\n",
    "#x_3 - хз что, пока не берем, особо не влияет\n",
    "#x5-x4 возможен инсайд, но пока хз\n",
    "# x6 - хз\n",
    "#x5 and x7 lin dependent, so let's took x5\n",
    "#x_11 -  месяцы заема -> в годы НЕ БРАЛ\n",
    "#x_12 -- походу рейтинг^ \n",
    "#x_13 -> число комнат, object БРАЛ\n",
    "\n",
    "#x_317 - hren\n",
    "#x_292 - заполнить походу надо, но вроде полезно, но пока не берем\n",
    "# x_492 посмотрим потом\n",
    "# delta      int64\n",
    "# сделать дельту"
   ]
  },
  {
   "cell_type": "code",
   "execution_count": 312,
   "metadata": {},
   "outputs": [
    {
     "data": {
      "text/plain": [
       "TimedeltaIndex([ '883 days',  '850 days',  '122 days', '1673 days',\n",
       "                '1157 days',   '61 days', '1248 days', '2222 days',\n",
       "                 '579 days', '1675 days',\n",
       "                ...\n",
       "                '1584 days',  '792 days',  '669 days',  '854 days',\n",
       "                 '821 days',  '518 days', '1918 days', '1645 days',\n",
       "                 '396 days',  '791 days'],\n",
       "               dtype='timedelta64[ns]', length=1527598, freq=None)"
      ]
     },
     "execution_count": 312,
     "metadata": {},
     "output_type": "execute_result"
    }
   ],
   "source": [
    "d1 = pd.DatetimeIndex(df00['REPORT_DT'].values.astype('<M8[M]'))\n",
    "d0=pd.DatetimeIndex(df00['x_9'].values.astype('<M8[M]'))\n",
    "delta = d1 - d0\n",
    "# print(delta.days)\n",
    "# data_p1['delta']=delta.days\n",
    "# data_p1\n",
    "delta"
   ]
  },
  {
   "cell_type": "code",
   "execution_count": 314,
   "metadata": {},
   "outputs": [],
   "source": [
    "#delta.value_counts()"
   ]
  },
  {
   "cell_type": "code",
   "execution_count": 347,
   "metadata": {},
   "outputs": [
    {
     "data": {
      "text/plain": [
       "279978"
      ]
     },
     "execution_count": 347,
     "metadata": {},
     "output_type": "execute_result"
    }
   ],
   "source": [
    "df00['x_292'].isna().sum()"
   ]
  },
  {
   "cell_type": "code",
   "execution_count": 346,
   "metadata": {
    "scrolled": true
   },
   "outputs": [
    {
     "data": {
      "text/plain": [
       "x_292\n",
       "0.0     0.026876\n",
       "1.0     0.055572\n",
       "2.0     0.084859\n",
       "3.0     0.096751\n",
       "4.0     0.122288\n",
       "5.0     0.139896\n",
       "6.0     0.145507\n",
       "7.0     0.163153\n",
       "8.0     0.159955\n",
       "9.0     0.124717\n",
       "10.0    0.207595\n",
       "11.0    0.121951\n",
       "12.0    0.121212\n",
       "13.0    0.000000\n",
       "14.0    0.416667\n",
       "Name: TARGET, dtype: float64"
      ]
     },
     "execution_count": 346,
     "metadata": {},
     "output_type": "execute_result"
    }
   ],
   "source": [
    "df00.groupby('x_292')['TARGET'].mean()"
   ]
  },
  {
   "cell_type": "code",
   "execution_count": 351,
   "metadata": {},
   "outputs": [
    {
     "data": {
      "text/plain": [
       "Приобретение                               1048421\n",
       "Инвестирование                              447882\n",
       "Рефинансирование                             14018\n",
       "Индивидуальное строительство                  9206\n",
       "Нецелевой кредит под залог недвижимости       8071\n",
       "Name: x_618, dtype: int64"
      ]
     },
     "execution_count": 351,
     "metadata": {},
     "output_type": "execute_result"
    }
   ],
   "source": [
    "df00['x_618'].value_counts()"
   ]
  },
  {
   "cell_type": "code",
   "execution_count": 350,
   "metadata": {},
   "outputs": [
    {
     "data": {
      "text/plain": [
       "x_618\n",
       "Инвестирование                             0.028420\n",
       "Индивидуальное строительство               0.086683\n",
       "Нецелевой кредит под залог недвижимости    0.063189\n",
       "Приобретение                               0.046559\n",
       "Рефинансирование                           0.009916\n",
       "Name: TARGET, dtype: float64"
      ]
     },
     "execution_count": 350,
     "metadata": {},
     "output_type": "execute_result"
    }
   ],
   "source": [
    "df00.groupby('x_618')['TARGET'].mean()"
   ]
  },
  {
   "cell_type": "code",
   "execution_count": 352,
   "metadata": {},
   "outputs": [
    {
     "data": {
      "text/plain": [
       "living in city in apart    995998\n",
       "other                      531600\n",
       "Name: x_625, dtype: int64"
      ]
     },
     "execution_count": 352,
     "metadata": {},
     "output_type": "execute_result"
    }
   ],
   "source": [
    "df00['x_625'].value_counts()\n",
    "\n"
   ]
  },
  {
   "cell_type": "code",
   "execution_count": 353,
   "metadata": {},
   "outputs": [
    {
     "data": {
      "text/plain": [
       "x_625\n",
       "living in city in apart    0.036522\n",
       "other                      0.050062\n",
       "Name: TARGET, dtype: float64"
      ]
     },
     "execution_count": 353,
     "metadata": {},
     "output_type": "execute_result"
    }
   ],
   "source": [
    "df00.groupby('x_625')['TARGET'].mean()"
   ]
  },
  {
   "cell_type": "code",
   "execution_count": 357,
   "metadata": {},
   "outputs": [
    {
     "data": {
      "text/plain": [
       "0"
      ]
     },
     "execution_count": 357,
     "metadata": {},
     "output_type": "execute_result"
    }
   ],
   "source": [
    "df00['x_627'].isna().sum()"
   ]
  },
  {
   "cell_type": "code",
   "execution_count": 354,
   "metadata": {
    "scrolled": true
   },
   "outputs": [
    {
     "data": {
      "text/plain": [
       "ЗП            788405\n",
       "Улица         688797\n",
       "Сотрудники     50396\n",
       "Name: x_628, dtype: int64"
      ]
     },
     "execution_count": 354,
     "metadata": {},
     "output_type": "execute_result"
    }
   ],
   "source": [
    "df00['x_628'].value_counts()\n",
    "\n"
   ]
  },
  {
   "cell_type": "code",
   "execution_count": 358,
   "metadata": {},
   "outputs": [
    {
     "data": {
      "text/plain": [
       "0"
      ]
     },
     "execution_count": 358,
     "metadata": {},
     "output_type": "execute_result"
    }
   ],
   "source": [
    "df00['x_628'].isna().sum()"
   ]
  },
  {
   "cell_type": "code",
   "execution_count": 355,
   "metadata": {},
   "outputs": [
    {
     "data": {
      "text/plain": [
       "x_628\n",
       "ЗП            0.034179\n",
       "Сотрудники    0.030955\n",
       "Улица         0.050061\n",
       "Name: TARGET, dtype: float64"
      ]
     },
     "execution_count": 355,
     "metadata": {},
     "output_type": "execute_result"
    }
   ],
   "source": [
    "df00.groupby('x_628')['TARGET'].mean()"
   ]
  },
  {
   "cell_type": "code",
   "execution_count": 377,
   "metadata": {},
   "outputs": [],
   "source": [
    "df00['month'] = df00['x_9'].dt.month"
   ]
  },
  {
   "cell_type": "code",
   "execution_count": 381,
   "metadata": {},
   "outputs": [
    {
     "data": {
      "text/plain": [
       "[<matplotlib.lines.Line2D at 0x7fe7b9c22898>]"
      ]
     },
     "execution_count": 381,
     "metadata": {},
     "output_type": "execute_result"
    },
    {
     "data": {
      "image/png": "[encoded data removed]",
      "text/plain": [
       "<Figure size 432x288 with 1 Axes>"
      ]
     },
     "metadata": {
      "needs_background": "light"
     },
     "output_type": "display_data"
    }
   ],
   "source": [
    "plt.plot(df00.groupby(df00['month'])['TARGET'].mean())"
   ]
  },
  {
   "cell_type": "code",
   "execution_count": 380,
   "metadata": {},
   "outputs": [],
   "source": [
    "df00['year'] = df00['x_9'].dt.year"
   ]
  },
  {
   "cell_type": "code",
   "execution_count": 382,
   "metadata": {},
   "outputs": [],
   "source": [
    "import typing as t"
   ]
  },
  {
   "cell_type": "code",
   "execution_count": 386,
   "metadata": {},
   "outputs": [],
   "source": [
    "autumn = [9, 10, 11]\n",
    "winter = [12, 1, 2]\n",
    "spring = [3, 4, 5]\n",
    "summer = [6, 7, 8] \n",
    "import typing as t\n",
    "def get_season(value: t.Iterable) -> str:\n",
    "    if value in autumn:\n",
    "        return 'autumn'\n",
    "    elif value in winter:\n",
    "        return 'winter'\n",
    "    elif value in spring:\n",
    "        return 'spring'\n",
    "    else:\n",
    "        return 'summer'"
   ]
  },
  {
   "cell_type": "code",
   "execution_count": 387,
   "metadata": {},
   "outputs": [],
   "source": [
    "df00['seasons'] = df00['month'].apply(get_season)"
   ]
  },
  {
   "cell_type": "code",
   "execution_count": null,
   "metadata": {},
   "outputs": [],
   "source": []
  },
  {
   "cell_type": "code",
   "execution_count": null,
   "metadata": {},
   "outputs": [],
   "source": []
  },
  {
   "cell_type": "code",
   "execution_count": null,
   "metadata": {},
   "outputs": [],
   "source": [
    "FEATURES_ALL = ['x_0','x_1',\n",
    "                'x_2','x_3','x_4','x_5','x_7',\n",
    "                'month_9', 'year_9', 'month_rep', 'year_rep', 'x_12', 'x_13', 'x_18', 'x_618', 'x_625', 'x_628' ]"
   ]
  },
  {
   "cell_type": "code",
   "execution_count": 372,
   "metadata": {},
   "outputs": [],
   "source": [
    "FEATURES_ALL_NEW = ['x_2','x_3','x_4','x_5',\n",
    "                'seasons', 'year', 'month_rep', 'year_rep', 'x_11', 'x_12', 'x_13', 'x_11', 'x_625', 'x_628', 'x_627' ]"
   ]
  },
  {
   "cell_type": "code",
   "execution_count": null,
   "metadata": {},
   "outputs": [],
   "source": []
  },
  {
   "cell_type": "code",
   "execution_count": 373,
   "metadata": {},
   "outputs": [],
   "source": [
    "features_DM = ['x_2',\n",
    " 'x_3',\n",
    " 'x_4',\n",
    " 'x_5',\n",
    " 'x_7',\n",
    " 'year',\n",
    " 'x_11', # months of credit (duration)\n",
    " 'x_625',\n",
    " 'seasons',\n",
    " 'ЗП',\n",
    " 'Сотрудники',\n",
    " 'Улица',\n",
    " 'eldery', # x_13\n",
    " 'normal',\n",
    " 'youth',\n",
    " 'A', # x_12\n",
    " 'A1',\n",
    " 'B',\n",
    " 'B1',\n",
    " 'C',\n",
    " 'D',\n",
    " 'N']"
   ]
  },
  {
   "cell_type": "code",
   "execution_count": 374,
   "metadata": {},
   "outputs": [
    {
     "data": {
      "text/plain": [
       "120    396567\n",
       "180    372899\n",
       "240    324479\n",
       "144     80277\n",
       "60      62433\n",
       "        ...  \n",
       "306         8\n",
       "271         8\n",
       "325         2\n",
       "303         2\n",
       "307         1\n",
       "Name: x_11, Length: 338, dtype: int64"
      ]
     },
     "execution_count": 374,
     "metadata": {},
     "output_type": "execute_result"
    }
   ],
   "source": [
    "df00['x_11'].value_counts()"
   ]
  },
  {
   "cell_type": "code",
   "execution_count": 375,
   "metadata": {},
   "outputs": [
    {
     "ename": "KeyError",
     "evalue": "\"['month_9', 'month_rep', 'year_rep', 'year_9'] not in index\"",
     "output_type": "error",
     "traceback": [
      "\u001b[0;31m---------------------------------------------------------------------------\u001b[0m",
      "\u001b[0;31mKeyError\u001b[0m                                  Traceback (most recent call last)",
      "\u001b[0;32m<ipython-input-375-e00b9bfe0286>\u001b[0m in \u001b[0;36m<module>\u001b[0;34m\u001b[0m\n\u001b[0;32m----> 1\u001b[0;31m \u001b[0mdf00\u001b[0m\u001b[0;34m[\u001b[0m\u001b[0mFEATURES_ALL_NEW\u001b[0m\u001b[0;34m]\u001b[0m\u001b[0;34m.\u001b[0m\u001b[0misna\u001b[0m\u001b[0;34m(\u001b[0m\u001b[0;34m)\u001b[0m\u001b[0;34m.\u001b[0m\u001b[0msum\u001b[0m\u001b[0;34m(\u001b[0m\u001b[0;34m)\u001b[0m\u001b[0;34m\u001b[0m\u001b[0;34m\u001b[0m\u001b[0m\n\u001b[0m",
      "\u001b[0;32m/opt/conda/lib/python3.6/site-packages/pandas/core/frame.py\u001b[0m in \u001b[0;36m__getitem__\u001b[0;34m(self, key)\u001b[0m\n\u001b[1;32m   2910\u001b[0m             \u001b[0;32mif\u001b[0m \u001b[0mis_iterator\u001b[0m\u001b[0;34m(\u001b[0m\u001b[0mkey\u001b[0m\u001b[0;34m)\u001b[0m\u001b[0;34m:\u001b[0m\u001b[0;34m\u001b[0m\u001b[0;34m\u001b[0m\u001b[0m\n\u001b[1;32m   2911\u001b[0m                 \u001b[0mkey\u001b[0m \u001b[0;34m=\u001b[0m \u001b[0mlist\u001b[0m\u001b[0;34m(\u001b[0m\u001b[0mkey\u001b[0m\u001b[0;34m)\u001b[0m\u001b[0;34m\u001b[0m\u001b[0;34m\u001b[0m\u001b[0m\n\u001b[0;32m-> 2912\u001b[0;31m             \u001b[0mindexer\u001b[0m \u001b[0;34m=\u001b[0m \u001b[0mself\u001b[0m\u001b[0;34m.\u001b[0m\u001b[0mloc\u001b[0m\u001b[0;34m.\u001b[0m\u001b[0m_get_listlike_indexer\u001b[0m\u001b[0;34m(\u001b[0m\u001b[0mkey\u001b[0m\u001b[0;34m,\u001b[0m \u001b[0maxis\u001b[0m\u001b[0;34m=\u001b[0m\u001b[0;36m1\u001b[0m\u001b[0;34m,\u001b[0m \u001b[0mraise_missing\u001b[0m\u001b[0;34m=\u001b[0m\u001b[0;32mTrue\u001b[0m\u001b[0;34m)\u001b[0m\u001b[0;34m[\u001b[0m\u001b[0;36m1\u001b[0m\u001b[0;34m]\u001b[0m\u001b[0;34m\u001b[0m\u001b[0;34m\u001b[0m\u001b[0m\n\u001b[0m\u001b[1;32m   2913\u001b[0m \u001b[0;34m\u001b[0m\u001b[0m\n\u001b[1;32m   2914\u001b[0m         \u001b[0;31m# take() does not accept boolean indexers\u001b[0m\u001b[0;34m\u001b[0m\u001b[0;34m\u001b[0m\u001b[0;34m\u001b[0m\u001b[0m\n",
      "\u001b[0;32m/opt/conda/lib/python3.6/site-packages/pandas/core/indexing.py\u001b[0m in \u001b[0;36m_get_listlike_indexer\u001b[0;34m(self, key, axis, raise_missing)\u001b[0m\n\u001b[1;32m   1252\u001b[0m             \u001b[0mkeyarr\u001b[0m\u001b[0;34m,\u001b[0m \u001b[0mindexer\u001b[0m\u001b[0;34m,\u001b[0m \u001b[0mnew_indexer\u001b[0m \u001b[0;34m=\u001b[0m \u001b[0max\u001b[0m\u001b[0;34m.\u001b[0m\u001b[0m_reindex_non_unique\u001b[0m\u001b[0;34m(\u001b[0m\u001b[0mkeyarr\u001b[0m\u001b[0;34m)\u001b[0m\u001b[0;34m\u001b[0m\u001b[0;34m\u001b[0m\u001b[0m\n\u001b[1;32m   1253\u001b[0m \u001b[0;34m\u001b[0m\u001b[0m\n\u001b[0;32m-> 1254\u001b[0;31m         \u001b[0mself\u001b[0m\u001b[0;34m.\u001b[0m\u001b[0m_validate_read_indexer\u001b[0m\u001b[0;34m(\u001b[0m\u001b[0mkeyarr\u001b[0m\u001b[0;34m,\u001b[0m \u001b[0mindexer\u001b[0m\u001b[0;34m,\u001b[0m \u001b[0maxis\u001b[0m\u001b[0;34m,\u001b[0m \u001b[0mraise_missing\u001b[0m\u001b[0;34m=\u001b[0m\u001b[0mraise_missing\u001b[0m\u001b[0;34m)\u001b[0m\u001b[0;34m\u001b[0m\u001b[0;34m\u001b[0m\u001b[0m\n\u001b[0m\u001b[1;32m   1255\u001b[0m         \u001b[0;32mreturn\u001b[0m \u001b[0mkeyarr\u001b[0m\u001b[0;34m,\u001b[0m \u001b[0mindexer\u001b[0m\u001b[0;34m\u001b[0m\u001b[0;34m\u001b[0m\u001b[0m\n\u001b[1;32m   1256\u001b[0m \u001b[0;34m\u001b[0m\u001b[0m\n",
      "\u001b[0;32m/opt/conda/lib/python3.6/site-packages/pandas/core/indexing.py\u001b[0m in \u001b[0;36m_validate_read_indexer\u001b[0;34m(self, key, indexer, axis, raise_missing)\u001b[0m\n\u001b[1;32m   1302\u001b[0m             \u001b[0;32mif\u001b[0m \u001b[0mraise_missing\u001b[0m\u001b[0;34m:\u001b[0m\u001b[0;34m\u001b[0m\u001b[0;34m\u001b[0m\u001b[0m\n\u001b[1;32m   1303\u001b[0m                 \u001b[0mnot_found\u001b[0m \u001b[0;34m=\u001b[0m \u001b[0mlist\u001b[0m\u001b[0;34m(\u001b[0m\u001b[0mset\u001b[0m\u001b[0;34m(\u001b[0m\u001b[0mkey\u001b[0m\u001b[0;34m)\u001b[0m \u001b[0;34m-\u001b[0m \u001b[0mset\u001b[0m\u001b[0;34m(\u001b[0m\u001b[0max\u001b[0m\u001b[0;34m)\u001b[0m\u001b[0;34m)\u001b[0m\u001b[0;34m\u001b[0m\u001b[0;34m\u001b[0m\u001b[0m\n\u001b[0;32m-> 1304\u001b[0;31m                 \u001b[0;32mraise\u001b[0m \u001b[0mKeyError\u001b[0m\u001b[0;34m(\u001b[0m\u001b[0;34mf\"{not_found} not in index\"\u001b[0m\u001b[0;34m)\u001b[0m\u001b[0;34m\u001b[0m\u001b[0;34m\u001b[0m\u001b[0m\n\u001b[0m\u001b[1;32m   1305\u001b[0m \u001b[0;34m\u001b[0m\u001b[0m\n\u001b[1;32m   1306\u001b[0m             \u001b[0;31m# we skip the warning on Categorical\u001b[0m\u001b[0;34m\u001b[0m\u001b[0;34m\u001b[0m\u001b[0;34m\u001b[0m\u001b[0m\n",
      "\u001b[0;31mKeyError\u001b[0m: \"['month_9', 'month_rep', 'year_rep', 'year_9'] not in index\""
     ]
    }
   ],
   "source": [
    "df00[FEATURES_ALL_NEW].isna().sum()"
   ]
  },
  {
   "cell_type": "code",
   "execution_count": null,
   "metadata": {},
   "outputs": [],
   "source": [
    "x_618      int64\n",
    "x_628      int64\n",
    "x_13       int64\n",
    "\n",
    "x_317    float64\n",
    "x_286    float64\n",
    "\n",
    "x_189    float64\n",
    "x_321    float64\n",
    "x_291    float64\n",
    "x_63     float64\n",
    "x_85     float64\n",
    "x_124    float64\n",
    "x_421    float64\n",
    "x_183    float64\n",
    "x_111    float64\n",
    "x_100    float64\n",
    "\n",
    "\n"
   ]
  },
  {
   "cell_type": "code",
   "execution_count": null,
   "metadata": {},
   "outputs": [],
   "source": []
  },
  {
   "cell_type": "code",
   "execution_count": 11,
   "metadata": {},
   "outputs": [],
   "source": [
    "features_to_drop = ['x_17', 'x_25', 'x_26', 'x_27', 'x_29', 'x_30', 'x_32', 'x_36', 'x_37', 'x_38', 'x_39', 'x_40', 'x_41', 'x_42', 'x_43', 'x_44', 'x_60', 'x_61', 'x_63', 'x_64', 'x_65', 'x_66', 'x_67', 'x_68', 'x_69', 'x_70', 'x_71', 'x_72', 'x_73', 'x_74', 'x_76', 'x_77', 'x_78', 'x_100', 'x_101', 'x_102', 'x_103', 'x_104', 'x_105', 'x_106', 'x_107', 'x_111', 'x_112', 'x_113', 'x_114', 'x_115', 'x_116', 'x_117', 'x_118', 'x_122', 'x_123', 'x_128', 'x_129', 'x_130', 'x_132', 'x_135', 'x_142', 'x_143', 'x_164', 'x_166', 'x_171', 'x_172', 'x_173', 'x_174', 'x_175', 'x_176', 'x_177', 'x_203', 'x_204', 'x_205', 'x_206', 'x_207', 'x_208', 'x_209', 'x_210', 'x_214', 'x_215', 'x_216', 'x_217', 'x_218', 'x_219', 'x_220', 'x_221', 'x_225', 'x_226', 'x_231', 'x_232', 'x_233', 'x_245', 'x_246', 'x_278', 'x_279', 'x_306', 'x_307', 'x_308', 'x_309', 'x_310', 'x_311', 'x_312', 'x_313', 'x_317', 'x_318', 'x_319', 'x_320', 'x_321', 'x_322', 'x_323', 'x_324', 'x_328', 'x_329', 'x_334', 'x_335', 'x_336', 'x_343', 'x_344', 'x_345', 'x_346', 'x_349', 'x_351', 'x_353', 'x_355', 'x_356', 'x_357', 'x_358', 'x_361', 'x_362', 'x_363', 'x_364', 'x_365', 'x_366', 'x_367', 'x_368', 'x_369', 'x_370', 'x_372', 'x_463', 'x_490', 'x_491', 'x_492', 'x_493', 'x_494', 'x_495', 'x_496', 'x_497', 'x_498', 'x_499', 'x_540', 'x_541', 'x_543', 'x_546', 'x_548', 'x_549', 'x_550', 'x_551', 'x_609']"
   ]
  },
  {
   "cell_type": "code",
   "execution_count": 12,
   "metadata": {},
   "outputs": [],
   "source": [
    "from sklearn import preprocessing\n",
    "from sklearn.preprocessing import StandardScaler\n",
    "from tqdm import tqdm\n",
    "def cat_to_le(df, categs):\n",
    "    for cat in tqdm(categs):\n",
    "        inv = df[cat]\n",
    "        #inv.value_counts()\n",
    "\n",
    " \n",
    "        le = preprocessing.LabelEncoder()\n",
    "        le.fit(inv)\n",
    "        q = le.transform(df[cat])\n",
    "        df[cat] = q\n",
    "        df[cat]= df[cat].astype('int64')\n",
    "    return df"
   ]
  },
  {
   "cell_type": "code",
   "execution_count": 13,
   "metadata": {},
   "outputs": [],
   "source": [
    "def dataset_preproc(df, features_to_drop = features_to_drop):\n",
    "    \n",
    "    df = df.drop(columns = features_to_drop, axis = 1)\n",
    "    for column in ['x_19', 'x_614', 'x_615', 'x_617', 'x_634']:\n",
    "        pd.to_numeric(df[column])\n",
    "    \n",
    "    description = df.describe()\n",
    "\n",
    "    std_stat = description.loc['std', :].values\n",
    "    features = df.select_dtypes(['float64', 'int64']).columns[std_stat == 0]\n",
    "\n",
    "    without_nan = features[df[features].isnull().sum() == 0]\n",
    "    with_nan = features[df[features].isnull().sum() != 0]\n",
    "    \n",
    "    df = df.drop(with_nan, axis=1)\n",
    "\n",
    "    df.shape\n",
    "\n",
    "    ##datetime preprocces\n",
    "\n",
    "    df['REPORT_DT'] = df['REPORT_DT'].astype('datetime64')\n",
    "    df['x_9'] = df['x_9'].astype('datetime64')\n",
    "\n",
    "    df['month_9'] = df['x_9'].dt.month\n",
    "    df['year_9'] = df['x_9'].dt.year\n",
    "\n",
    "    df['month_rep'] = df['REPORT_DT'].dt.month\n",
    "    df['year_rep'] = df['REPORT_DT'].dt.year\n",
    "\n",
    "    df['month_9'] = df['month_9'].astype('int64')\n",
    "    df['year_9'] = df['year_9'].astype('int64')\n",
    "\n",
    "    df['month_rep'] = df['month_rep'].astype('int64')\n",
    "    df['year_rep'] = df['year_rep'].astype('int64')\n",
    "    df = df.drop(['x_9', 'REPORT_DT'], axis = 1)\n",
    "    \n",
    "    #df['x_19'] = df['x_19'].astype('int64')\n",
    "\n",
    "    #df['x_614'] = df['x_614'].astype('int64')\n",
    "    #df['x_615'] = df['x_615'].astype('int64')\n",
    "    categorical_features = ['x_12', 'x_13', 'x_18', 'x_618', 'x_625', 'x_628']\n",
    "    df = cat_to_le(df, categorical_features)\n",
    "    \n",
    "    #DUPLICATES\n",
    "\n",
    "    description = df.describe().transpose()\n",
    "\n",
    "    features = description.duplicated(subset=['mean', 'std', 'min', 'max'])\n",
    "\n",
    "    duplicates = df.select_dtypes(['float64', 'int64']).columns[features]\n",
    "\n",
    "    df = df.drop(columns= duplicates, axis = 1)\n",
    "    \n",
    "    return df"
   ]
  },
  {
   "cell_type": "code",
   "execution_count": 14,
   "metadata": {},
   "outputs": [],
   "source": [
    "def date_pars(df):\n",
    "    df['REPORT_DT'] = df['REPORT_DT'].astype('datetime64')\n",
    "    df['x_9'] = df['x_9'].astype('datetime64')\n",
    "\n",
    "    df['month_9'] = df['x_9'].dt.month\n",
    "    df['year_9'] = df['x_9'].dt.year\n",
    "\n",
    "    df['month_rep'] = df['REPORT_DT'].dt.month\n",
    "    df['year_rep'] = df['REPORT_DT'].dt.year\n",
    "\n",
    "    df['month_9'] = df['month_9'].astype('int64')\n",
    "    df['year_9'] = df['year_9'].astype('int64')\n",
    "    return df"
   ]
  },
  {
   "cell_type": "code",
   "execution_count": 15,
   "metadata": {},
   "outputs": [],
   "source": [
    "#df1 = pd.read_pickle('train_part1.pkl')\n",
    "df1 = pd.read_pickle('data1.pkl')"
   ]
  },
  {
   "cell_type": "code",
   "execution_count": 8,
   "metadata": {},
   "outputs": [
    {
     "ename": "NameError",
     "evalue": "name 'df1' is not defined",
     "output_type": "error",
     "traceback": [
      "\u001b[0;31m---------------------------------------------------------------------------\u001b[0m",
      "\u001b[0;31mNameError\u001b[0m                                 Traceback (most recent call last)",
      "\u001b[0;32m<ipython-input-8-0a62c37d6ccf>\u001b[0m in \u001b[0;36m<module>\u001b[0;34m\u001b[0m\n\u001b[0;32m----> 1\u001b[0;31m \u001b[0mlen\u001b[0m\u001b[0;34m(\u001b[0m\u001b[0mdf1\u001b[0m\u001b[0;34m)\u001b[0m\u001b[0;34m\u001b[0m\u001b[0;34m\u001b[0m\u001b[0m\n\u001b[0m",
      "\u001b[0;31mNameError\u001b[0m: name 'df1' is not defined"
     ]
    }
   ],
   "source": [
    "len(df1)"
   ]
  },
  {
   "cell_type": "code",
   "execution_count": 59,
   "metadata": {},
   "outputs": [
    {
     "name": "stderr",
     "output_type": "stream",
     "text": [
      "100%|██████████| 6/6 [00:03<00:00,  1.74it/s]\n"
     ]
    }
   ],
   "source": [
    "#df1 = dataset_preproc(df1)"
   ]
  },
  {
   "cell_type": "code",
   "execution_count": 60,
   "metadata": {},
   "outputs": [
    {
     "data": {
      "text/plain": [
       "763801"
      ]
     },
     "execution_count": 60,
     "metadata": {},
     "output_type": "execute_result"
    }
   ],
   "source": [
    "len(df1)"
   ]
  },
  {
   "cell_type": "code",
   "execution_count": 154,
   "metadata": {},
   "outputs": [
    {
     "data": {
      "text/plain": [
       "0"
      ]
     },
     "execution_count": 154,
     "metadata": {},
     "output_type": "execute_result"
    }
   ],
   "source": [
    "df1['x_13'].isna().sum()"
   ]
  },
  {
   "cell_type": "code",
   "execution_count": 61,
   "metadata": {},
   "outputs": [],
   "source": [
    "#df1.to_pickle('data1.pkl')"
   ]
  },
  {
   "cell_type": "code",
   "execution_count": 216,
   "metadata": {
    "scrolled": true
   },
   "outputs": [],
   "source": [
    "#df2 = pd.read_pickle('train_part2.pkl')\n",
    "df2 = pd.read_pickle('data2.pkl')\n"
   ]
  },
  {
   "cell_type": "code",
   "execution_count": 50,
   "metadata": {},
   "outputs": [
    {
     "name": "stderr",
     "output_type": "stream",
     "text": [
      "100%|██████████| 6/6 [00:03<00:00,  1.66it/s]\n"
     ]
    }
   ],
   "source": [
    "#df2 = dataset_preproc(df2)"
   ]
  },
  {
   "cell_type": "code",
   "execution_count": 51,
   "metadata": {},
   "outputs": [],
   "source": [
    "#df2.to_pickle('data2.pkl')"
   ]
  },
  {
   "cell_type": "code",
   "execution_count": 15,
   "metadata": {},
   "outputs": [],
   "source": [
    "#df2['year_9'].value_counts()"
   ]
  },
  {
   "cell_type": "code",
   "execution_count": 53,
   "metadata": {},
   "outputs": [
    {
     "name": "stdout",
     "output_type": "stream",
     "text": [
      "\u001b[0m\u001b[01;34mNon-Linear-Classifier\u001b[0m/  \u001b[01;34m__pycache__\u001b[0m/  hack.ipynb                test_data.pkl\r\n",
      "\u001b[01;32mRVM.py\u001b[0m*                 data1.pkl     \u001b[01;31mrisk-management-uiim.zip\u001b[0m  train_part1.pkl\r\n",
      "RVMReg.ipynb            data2.pkl     submission.csv            train_part2.pkl\r\n"
     ]
    }
   ],
   "source": [
    "ls"
   ]
  },
  {
   "cell_type": "code",
   "execution_count": 16,
   "metadata": {},
   "outputs": [],
   "source": [
    "#test = pd.read_pickle('test_data.pkl')\n",
    "test = pd.read_pickle('test.pkl')"
   ]
  },
  {
   "cell_type": "code",
   "execution_count": 17,
   "metadata": {},
   "outputs": [
    {
     "data": {
      "text/plain": [
       "763809"
      ]
     },
     "execution_count": 17,
     "metadata": {},
     "output_type": "execute_result"
    }
   ],
   "source": [
    "len(test)"
   ]
  },
  {
   "cell_type": "code",
   "execution_count": 64,
   "metadata": {},
   "outputs": [
    {
     "name": "stderr",
     "output_type": "stream",
     "text": [
      "100%|██████████| 6/6 [00:03<00:00,  1.64it/s]\n"
     ]
    }
   ],
   "source": [
    "#test = dataset_preproc(test)"
   ]
  },
  {
   "cell_type": "code",
   "execution_count": 65,
   "metadata": {},
   "outputs": [
    {
     "data": {
      "text/plain": [
       "763809"
      ]
     },
     "execution_count": 65,
     "metadata": {},
     "output_type": "execute_result"
    }
   ],
   "source": [
    "len(test)"
   ]
  },
  {
   "cell_type": "code",
   "execution_count": 66,
   "metadata": {},
   "outputs": [],
   "source": [
    "#test.to_pickle('test.pkl')"
   ]
  },
  {
   "cell_type": "code",
   "execution_count": null,
   "metadata": {},
   "outputs": [],
   "source": []
  },
  {
   "cell_type": "code",
   "execution_count": null,
   "metadata": {},
   "outputs": [],
   "source": []
  },
  {
   "cell_type": "code",
   "execution_count": 167,
   "metadata": {},
   "outputs": [],
   "source": [
    "# test = date_pars(test)\n",
    "\n",
    "# test.head()"
   ]
  },
  {
   "cell_type": "code",
   "execution_count": 168,
   "metadata": {},
   "outputs": [],
   "source": [
    "#test['month_9'].value_counts()"
   ]
  },
  {
   "cell_type": "code",
   "execution_count": 169,
   "metadata": {
    "scrolled": true
   },
   "outputs": [],
   "source": [
    "#test['year_9'].value_counts()"
   ]
  },
  {
   "cell_type": "code",
   "execution_count": 18,
   "metadata": {},
   "outputs": [],
   "source": [
    "from sklearn.linear_model import LogisticRegression\n",
    "from sklearn.model_selection import train_test_split\n",
    "from sklearn.metrics import roc_auc_score"
   ]
  },
  {
   "cell_type": "code",
   "execution_count": 19,
   "metadata": {},
   "outputs": [],
   "source": [
    "SEED = 42"
   ]
  },
  {
   "cell_type": "code",
   "execution_count": 129,
   "metadata": {},
   "outputs": [],
   "source": [
    "X_train, X_val, y_train, y_val = train_test_split(df1[FEATURES_ALL], df1['TARGET'], test_size=0.25, random_state=SEED)"
   ]
  },
  {
   "cell_type": "code",
   "execution_count": 130,
   "metadata": {},
   "outputs": [],
   "source": [
    "scaler = StandardScaler()\n",
    "X_train = scaler.fit_transform(X_train)"
   ]
  },
  {
   "cell_type": "code",
   "execution_count": 131,
   "metadata": {},
   "outputs": [],
   "source": [
    "X_val = scaler.transform(X_val)"
   ]
  },
  {
   "cell_type": "code",
   "execution_count": 132,
   "metadata": {},
   "outputs": [
    {
     "data": {
      "text/plain": [
       "(572850, 17)"
      ]
     },
     "execution_count": 132,
     "metadata": {},
     "output_type": "execute_result"
    }
   ],
   "source": [
    "X_train.shape"
   ]
  },
  {
   "cell_type": "code",
   "execution_count": 133,
   "metadata": {},
   "outputs": [],
   "source": [
    "from sklearn.ensemble import RandomForestClassifier"
   ]
  },
  {
   "cell_type": "code",
   "execution_count": 145,
   "metadata": {},
   "outputs": [
    {
     "name": "stderr",
     "output_type": "stream",
     "text": [
      "/opt/conda/lib/python3.6/site-packages/sklearn/linear_model/_logistic.py:1357: UserWarning: 'n_jobs' > 1 does not have any effect when 'solver' is set to 'liblinear'. Got 'n_jobs' = 8.\n",
      "  \" = {}.\".format(effective_n_jobs(self.n_jobs)))\n"
     ]
    },
    {
     "data": {
      "text/plain": [
       "LogisticRegression(C=1000, max_iter=50, n_jobs=-1, random_state=42,\n",
       "                   solver='liblinear')"
      ]
     },
     "execution_count": 145,
     "metadata": {},
     "output_type": "execute_result"
    }
   ],
   "source": [
    "#clf = RandomForestClassifier(n_estimators=100, max_depth=20, random_state=42, n_jobs = -1)\n",
    "clf = LogisticRegression(random_state=SEED, solver = 'liblinear', C=1000, max_iter=50, n_jobs=-1) #penalty='l2'\n",
    "#clf = LogisticRegression(random_state=SEED, solver = 'sag', C=10, max_iter=100, n_jobs=-1)\n",
    "clf.fit(X_train, y_train)"
   ]
  },
  {
   "cell_type": "code",
   "execution_count": 146,
   "metadata": {},
   "outputs": [],
   "source": [
    "y_val_pred = clf.predict_proba(X_val)"
   ]
  },
  {
   "cell_type": "code",
   "execution_count": 147,
   "metadata": {},
   "outputs": [
    {
     "data": {
      "text/plain": [
       "array([7.16187705e-07, 5.80028139e-07, 4.68903777e-02, ...,\n",
       "       7.82449345e-03, 7.94144180e-03, 5.13546757e-03])"
      ]
     },
     "execution_count": 147,
     "metadata": {},
     "output_type": "execute_result"
    }
   ],
   "source": [
    "y_val_pred[:,1]"
   ]
  },
  {
   "cell_type": "code",
   "execution_count": 148,
   "metadata": {},
   "outputs": [],
   "source": [
    "#q = y_val.to_list()"
   ]
  },
  {
   "cell_type": "code",
   "execution_count": 149,
   "metadata": {},
   "outputs": [
    {
     "data": {
      "text/plain": [
       "0.840910593546906"
      ]
     },
     "execution_count": 149,
     "metadata": {},
     "output_type": "execute_result"
    }
   ],
   "source": [
    "roc_auc_score(y_val, y_val_pred[:,1])"
   ]
  },
  {
   "cell_type": "code",
   "execution_count": 150,
   "metadata": {},
   "outputs": [
    {
     "data": {
      "text/plain": [
       "array([[ 0.00000000e+00,  0.00000000e+00, -1.25407455e+00,\n",
       "         1.52666809e+00, -8.17997087e-01, -5.23092587e+02,\n",
       "         5.21599376e+02, -1.12622433e-01, -6.22476373e-01,\n",
       "         1.11448142e-01,  1.16462830e-01,  1.27699904e-01,\n",
       "        -6.49729021e-02, -4.30571101e-03,  1.23294812e-01,\n",
       "         9.22658677e-02,  5.68872399e-02]])"
      ]
     },
     "execution_count": 150,
     "metadata": {},
     "output_type": "execute_result"
    }
   ],
   "source": [
    "clf.coef_"
   ]
  },
  {
   "cell_type": "code",
   "execution_count": 76,
   "metadata": {},
   "outputs": [],
   "source": [
    "# #clf = RandomForestClassifier(n_estimators=100, max_depth=20, random_state=42, n_jobs = -1)\n",
    "# X_train, X_val, y_train, y_val = train_test_split(df1[FEATURES_ALL], df1['TARGET'], test_size=0.25, random_state=SEED)\n",
    "# clf2 = LogisticRegression(random_state=SEED, C=1, max_iter=500, n_jobs=-1, solver = 'saga')\n",
    "# clf2.fit(X_train, y_train)\n",
    "\n",
    "# y_val_pred = clf2.predict_proba(X_val)\n",
    "\n",
    "# y_val_pred[:,1]\n",
    "\n",
    "# #q = y_val.to_list()\n",
    "\n",
    "# roc_auc_score(y_val, y_val_pred[:,1])"
   ]
  },
  {
   "cell_type": "code",
   "execution_count": 77,
   "metadata": {},
   "outputs": [
    {
     "data": {
      "text/plain": [
       "(763809, 17)"
      ]
     },
     "execution_count": 77,
     "metadata": {},
     "output_type": "execute_result"
    }
   ],
   "source": [
    "X_test = np.array(test[FEATURES_ALL])\n",
    "\n",
    "X_test.shape"
   ]
  },
  {
   "cell_type": "code",
   "execution_count": 78,
   "metadata": {},
   "outputs": [],
   "source": [
    "X_test = scaler.transform(X_test)"
   ]
  },
  {
   "cell_type": "code",
   "execution_count": 79,
   "metadata": {},
   "outputs": [],
   "source": [
    "q = clf.predict_proba(X_test)"
   ]
  },
  {
   "cell_type": "code",
   "execution_count": 80,
   "metadata": {},
   "outputs": [
    {
     "data": {
      "text/plain": [
       "763809"
      ]
     },
     "execution_count": 80,
     "metadata": {},
     "output_type": "execute_result"
    }
   ],
   "source": [
    "len(q)"
   ]
  },
  {
   "cell_type": "code",
   "execution_count": 81,
   "metadata": {},
   "outputs": [
    {
     "name": "stdout",
     "output_type": "stream",
     "text": [
      "\u001b[0m\u001b[01;34mNon-Linear-Classifier\u001b[0m/  data2.pkl                 submission22.csv\r\n",
      "\u001b[01;32mRVM.py\u001b[0m*                 hack.ipynb                test.pkl\r\n",
      "RVMReg.ipynb            \u001b[01;31mrisk-management-uiim.zip\u001b[0m  test_data.pkl\r\n",
      "\u001b[01;34m__pycache__\u001b[0m/            sub2.csv                  train_part1.pkl\r\n",
      "data1.pkl               submission.csv            train_part2.pkl\r\n"
     ]
    }
   ],
   "source": [
    "ls"
   ]
  },
  {
   "cell_type": "code",
   "execution_count": 82,
   "metadata": {},
   "outputs": [
    {
     "data": {
      "text/html": [
       "<div>\n",
       "<style scoped>\n",
       "    .dataframe tbody tr th:only-of-type {\n",
       "        vertical-align: middle;\n",
       "    }\n",
       "\n",
       "    .dataframe tbody tr th {\n",
       "        vertical-align: top;\n",
       "    }\n",
       "\n",
       "    .dataframe thead th {\n",
       "        text-align: right;\n",
       "    }\n",
       "</style>\n",
       "<table border=\"1\" class=\"dataframe\">\n",
       "  <thead>\n",
       "    <tr style=\"text-align: right;\">\n",
       "      <th></th>\n",
       "      <th>ID</th>\n",
       "      <th>Probability</th>\n",
       "    </tr>\n",
       "  </thead>\n",
       "  <tbody>\n",
       "    <tr>\n",
       "      <th>0</th>\n",
       "      <td>1943531</td>\n",
       "      <td>0.172594</td>\n",
       "    </tr>\n",
       "    <tr>\n",
       "      <th>1</th>\n",
       "      <td>1943532</td>\n",
       "      <td>0.535728</td>\n",
       "    </tr>\n",
       "    <tr>\n",
       "      <th>2</th>\n",
       "      <td>1943533</td>\n",
       "      <td>0.658073</td>\n",
       "    </tr>\n",
       "    <tr>\n",
       "      <th>3</th>\n",
       "      <td>1943534</td>\n",
       "      <td>0.321833</td>\n",
       "    </tr>\n",
       "    <tr>\n",
       "      <th>4</th>\n",
       "      <td>1943537</td>\n",
       "      <td>0.695918</td>\n",
       "    </tr>\n",
       "  </tbody>\n",
       "</table>\n",
       "</div>"
      ],
      "text/plain": [
       "        ID  Probability\n",
       "0  1943531     0.172594\n",
       "1  1943532     0.535728\n",
       "2  1943533     0.658073\n",
       "3  1943534     0.321833\n",
       "4  1943537     0.695918"
      ]
     },
     "execution_count": 82,
     "metadata": {},
     "output_type": "execute_result"
    }
   ],
   "source": [
    "sub = pd.read_csv('submission.csv')\n",
    "sub.head()"
   ]
  },
  {
   "cell_type": "code",
   "execution_count": 83,
   "metadata": {},
   "outputs": [
    {
     "data": {
      "text/plain": [
       "763809"
      ]
     },
     "execution_count": 83,
     "metadata": {},
     "output_type": "execute_result"
    }
   ],
   "source": [
    "len(sub)"
   ]
  },
  {
   "cell_type": "code",
   "execution_count": 84,
   "metadata": {},
   "outputs": [
    {
     "data": {
      "text/html": [
       "<div>\n",
       "<style scoped>\n",
       "    .dataframe tbody tr th:only-of-type {\n",
       "        vertical-align: middle;\n",
       "    }\n",
       "\n",
       "    .dataframe tbody tr th {\n",
       "        vertical-align: top;\n",
       "    }\n",
       "\n",
       "    .dataframe thead th {\n",
       "        text-align: right;\n",
       "    }\n",
       "</style>\n",
       "<table border=\"1\" class=\"dataframe\">\n",
       "  <thead>\n",
       "    <tr style=\"text-align: right;\">\n",
       "      <th></th>\n",
       "      <th>ID</th>\n",
       "      <th>Probability</th>\n",
       "    </tr>\n",
       "  </thead>\n",
       "  <tbody>\n",
       "    <tr>\n",
       "      <th>0</th>\n",
       "      <td>1943531</td>\n",
       "      <td>9.353642e-02</td>\n",
       "    </tr>\n",
       "    <tr>\n",
       "      <th>1</th>\n",
       "      <td>1943532</td>\n",
       "      <td>9.860573e-03</td>\n",
       "    </tr>\n",
       "    <tr>\n",
       "      <th>2</th>\n",
       "      <td>1943533</td>\n",
       "      <td>1.481581e-39</td>\n",
       "    </tr>\n",
       "    <tr>\n",
       "      <th>3</th>\n",
       "      <td>1943534</td>\n",
       "      <td>6.148672e-02</td>\n",
       "    </tr>\n",
       "    <tr>\n",
       "      <th>4</th>\n",
       "      <td>1943537</td>\n",
       "      <td>2.133411e-01</td>\n",
       "    </tr>\n",
       "  </tbody>\n",
       "</table>\n",
       "</div>"
      ],
      "text/plain": [
       "        ID   Probability\n",
       "0  1943531  9.353642e-02\n",
       "1  1943532  9.860573e-03\n",
       "2  1943533  1.481581e-39\n",
       "3  1943534  6.148672e-02\n",
       "4  1943537  2.133411e-01"
      ]
     },
     "execution_count": 84,
     "metadata": {},
     "output_type": "execute_result"
    }
   ],
   "source": [
    "sub['Probability'] = q[:,1]\n",
    "sub.head()"
   ]
  },
  {
   "cell_type": "code",
   "execution_count": 85,
   "metadata": {},
   "outputs": [],
   "source": [
    "sub.to_csv('submission84.csv',index=False)"
   ]
  },
  {
   "cell_type": "markdown",
   "metadata": {},
   "source": [
    "## Simple boosting"
   ]
  },
  {
   "cell_type": "code",
   "execution_count": 164,
   "metadata": {},
   "outputs": [
    {
     "name": "stdout",
     "output_type": "stream",
     "text": [
      "      Iter       Train Loss   Remaining Time \n",
      "         1           0.3381            8.53m\n",
      "         2           0.3367            8.17m\n",
      "         3           0.3353            8.18m\n",
      "         4           0.3340            8.11m\n",
      "         5           0.3328            8.01m\n",
      "         6           0.3318            7.95m\n",
      "         7           0.3307            7.86m\n",
      "         8           0.3297            7.76m\n",
      "         9           0.3286            7.72m\n",
      "        10           0.3276            7.66m\n",
      "        20           0.3194            6.90m\n",
      "        30           0.3124            6.09m\n",
      "        40           0.3061            5.21m\n",
      "        50           0.3004            4.34m\n",
      "        60           0.2952            3.37m\n",
      "        70           0.2897            2.42m\n",
      "        80           0.2850            1.66m\n",
      "        90           0.2806           50.97s\n",
      "       100           0.2769            0.00s\n"
     ]
    }
   ],
   "source": [
    "from sklearn.ensemble import GradientBoostingClassifier\n",
    "\n",
    "\n",
    "clf = GradientBoostingClassifier(loss= 'deviance', criterion = 'mse', n_estimators=100, learning_rate=0.01,\n",
    "    max_depth=12, random_state=SEED, verbose=1).fit(X_train, y_train)\n",
    "\n"
   ]
  },
  {
   "cell_type": "code",
   "execution_count": 165,
   "metadata": {},
   "outputs": [],
   "source": [
    "y_val_pred = clf.predict_proba(X_val)\n",
    "\n"
   ]
  },
  {
   "cell_type": "code",
   "execution_count": 166,
   "metadata": {},
   "outputs": [
    {
     "data": {
      "text/plain": [
       "0.7583006108876147"
      ]
     },
     "execution_count": 166,
     "metadata": {},
     "output_type": "execute_result"
    }
   ],
   "source": [
    "roc_auc_score(y_val, y_val_pred[:,1])"
   ]
  },
  {
   "cell_type": "code",
   "execution_count": 85,
   "metadata": {},
   "outputs": [
    {
     "name": "stdout",
     "output_type": "stream",
     "text": [
      "\u001b[0m\u001b[01;34mNon-Linear-Classifier\u001b[0m/  data2.pkl                 test.pkl\r\n",
      "\u001b[01;32mRVM.py\u001b[0m*                 hack.ipynb                test_data.pkl\r\n",
      "RVMReg.ipynb            \u001b[01;31mrisk-management-uiim.zip\u001b[0m  train_part1.pkl\r\n",
      "\u001b[01;34m__pycache__\u001b[0m/            sub2.csv                  train_part2.pkl\r\n",
      "data1.pkl               submission.csv\r\n"
     ]
    }
   ],
   "source": [
    "ls"
   ]
  },
  {
   "cell_type": "markdown",
   "metadata": {},
   "source": [
    "# Not so stupid boosting"
   ]
  },
  {
   "cell_type": "code",
   "execution_count": null,
   "metadata": {},
   "outputs": [],
   "source": []
  },
  {
   "cell_type": "markdown",
   "metadata": {},
   "source": [
    "# Handling imbalance in logreg"
   ]
  },
  {
   "cell_type": "code",
   "execution_count": 167,
   "metadata": {},
   "outputs": [],
   "source": [
    "weights = {0:1.0, 1:100.0}"
   ]
  },
  {
   "cell_type": "code",
   "execution_count": 168,
   "metadata": {},
   "outputs": [],
   "source": [
    "X_train, X_val, y_train, y_val = train_test_split(df1[FEATURES_ALL], df1['TARGET'], test_size=0.25, random_state=SEED)"
   ]
  },
  {
   "cell_type": "code",
   "execution_count": 169,
   "metadata": {},
   "outputs": [],
   "source": [
    "scaler = StandardScaler()\n",
    "X_train = scaler.fit_transform(X_train)"
   ]
  },
  {
   "cell_type": "code",
   "execution_count": 170,
   "metadata": {},
   "outputs": [],
   "source": [
    "X_val = scaler.transform(X_val)"
   ]
  },
  {
   "cell_type": "code",
   "execution_count": 171,
   "metadata": {},
   "outputs": [
    {
     "data": {
      "text/plain": [
       "(572850, 17)"
      ]
     },
     "execution_count": 171,
     "metadata": {},
     "output_type": "execute_result"
    }
   ],
   "source": [
    "X_train.shape"
   ]
  },
  {
   "cell_type": "code",
   "execution_count": 133,
   "metadata": {},
   "outputs": [],
   "source": [
    "from sklearn.ensemble import RandomForestClassifier"
   ]
  },
  {
   "cell_type": "code",
   "execution_count": 211,
   "metadata": {},
   "outputs": [
    {
     "name": "stderr",
     "output_type": "stream",
     "text": [
      "/opt/conda/lib/python3.6/site-packages/sklearn/linear_model/_logistic.py:1357: UserWarning: 'n_jobs' > 1 does not have any effect when 'solver' is set to 'liblinear'. Got 'n_jobs' = 8.\n",
      "  \" = {}.\".format(effective_n_jobs(self.n_jobs)))\n"
     ]
    },
    {
     "name": "stdout",
     "output_type": "stream",
     "text": [
      "[LibLinear]"
     ]
    },
    {
     "data": {
      "text/plain": [
       "LogisticRegression(C=10000, class_weight='balanced', n_jobs=-1, random_state=42,\n",
       "                   solver='liblinear', verbose=1)"
      ]
     },
     "execution_count": 211,
     "metadata": {},
     "output_type": "execute_result"
    }
   ],
   "source": [
    "#clf = RandomForestClassifier(n_estimators=100, max_depth=20, random_state=42, n_jobs = -1)\n",
    "clf = LogisticRegression(random_state=SEED, solver = 'liblinear', C=10000, max_iter=100, n_jobs=-1, \n",
    "                         class_weight = 'balanced', verbose=1) #penalty='l2'\n",
    "#clf = LogisticRegression(random_state=SEED, solver = 'sag', C=10, max_iter=100, n_jobs=-1)\n",
    "clf.fit(X_train, y_train)"
   ]
  },
  {
   "cell_type": "code",
   "execution_count": 212,
   "metadata": {},
   "outputs": [],
   "source": [
    "y_val_pred = clf.predict_proba(X_val)"
   ]
  },
  {
   "cell_type": "code",
   "execution_count": 213,
   "metadata": {},
   "outputs": [
    {
     "data": {
      "text/plain": [
       "array([5.14361969e-05, 4.49306757e-05, 4.87036826e-01, ...,\n",
       "       1.82707361e-01, 1.68301164e-01, 1.26789806e-01])"
      ]
     },
     "execution_count": 213,
     "metadata": {},
     "output_type": "execute_result"
    }
   ],
   "source": [
    "y_val_pred[:,1]"
   ]
  },
  {
   "cell_type": "code",
   "execution_count": 214,
   "metadata": {},
   "outputs": [],
   "source": [
    "#q = y_val.to_list()"
   ]
  },
  {
   "cell_type": "code",
   "execution_count": 215,
   "metadata": {},
   "outputs": [
    {
     "data": {
      "text/plain": [
       "0.8381474780132385"
      ]
     },
     "execution_count": 215,
     "metadata": {},
     "output_type": "execute_result"
    }
   ],
   "source": [
    "roc_auc_score(y_val, y_val_pred[:,1])"
   ]
  },
  {
   "cell_type": "code",
   "execution_count": 201,
   "metadata": {},
   "outputs": [],
   "source": [
    "#targetrate\n",
    "\n",
    "X = df1[FEATURES_ALL]\n",
    "y = df1['TARGET']\n",
    "\n",
    "y_pred = clf.predict(X)"
   ]
  },
  {
   "cell_type": "code",
   "execution_count": 202,
   "metadata": {},
   "outputs": [],
   "source": [
    "df1['pred'] = y_pred\n",
    "\n"
   ]
  },
  {
   "cell_type": "code",
   "execution_count": 203,
   "metadata": {},
   "outputs": [
    {
     "ename": "KeyError",
     "evalue": "'REPORT_DT'",
     "output_type": "error",
     "traceback": [
      "\u001b[0;31m---------------------------------------------------------------------------\u001b[0m",
      "\u001b[0;31mKeyError\u001b[0m                                  Traceback (most recent call last)",
      "\u001b[0;32m/opt/conda/lib/python3.6/site-packages/pandas/core/indexes/base.py\u001b[0m in \u001b[0;36mget_loc\u001b[0;34m(self, key, method, tolerance)\u001b[0m\n\u001b[1;32m   2897\u001b[0m             \u001b[0;32mtry\u001b[0m\u001b[0;34m:\u001b[0m\u001b[0;34m\u001b[0m\u001b[0;34m\u001b[0m\u001b[0m\n\u001b[0;32m-> 2898\u001b[0;31m                 \u001b[0;32mreturn\u001b[0m \u001b[0mself\u001b[0m\u001b[0;34m.\u001b[0m\u001b[0m_engine\u001b[0m\u001b[0;34m.\u001b[0m\u001b[0mget_loc\u001b[0m\u001b[0;34m(\u001b[0m\u001b[0mcasted_key\u001b[0m\u001b[0;34m)\u001b[0m\u001b[0;34m\u001b[0m\u001b[0;34m\u001b[0m\u001b[0m\n\u001b[0m\u001b[1;32m   2899\u001b[0m             \u001b[0;32mexcept\u001b[0m \u001b[0mKeyError\u001b[0m \u001b[0;32mas\u001b[0m \u001b[0merr\u001b[0m\u001b[0;34m:\u001b[0m\u001b[0;34m\u001b[0m\u001b[0;34m\u001b[0m\u001b[0m\n",
      "\u001b[0;32mpandas/_libs/index.pyx\u001b[0m in \u001b[0;36mpandas._libs.index.IndexEngine.get_loc\u001b[0;34m()\u001b[0m\n",
      "\u001b[0;32mpandas/_libs/index.pyx\u001b[0m in \u001b[0;36mpandas._libs.index.IndexEngine.get_loc\u001b[0;34m()\u001b[0m\n",
      "\u001b[0;32mpandas/_libs/hashtable_class_helper.pxi\u001b[0m in \u001b[0;36mpandas._libs.hashtable.PyObjectHashTable.get_item\u001b[0;34m()\u001b[0m\n",
      "\u001b[0;32mpandas/_libs/hashtable_class_helper.pxi\u001b[0m in \u001b[0;36mpandas._libs.hashtable.PyObjectHashTable.get_item\u001b[0;34m()\u001b[0m\n",
      "\u001b[0;31mKeyError\u001b[0m: 'REPORT_DT'",
      "\nThe above exception was the direct cause of the following exception:\n",
      "\u001b[0;31mKeyError\u001b[0m                                  Traceback (most recent call last)",
      "\u001b[0;32m<ipython-input-203-d3ea77296f49>\u001b[0m in \u001b[0;36m<module>\u001b[0;34m\u001b[0m\n\u001b[0;32m----> 1\u001b[0;31m \u001b[0mdf1\u001b[0m\u001b[0;34m[\u001b[0m\u001b[0;34m'REPORT_DT'\u001b[0m\u001b[0;34m]\u001b[0m \u001b[0;34m=\u001b[0m \u001b[0mdf1\u001b[0m\u001b[0;34m[\u001b[0m\u001b[0;34m'REPORT_DT'\u001b[0m\u001b[0;34m]\u001b[0m\u001b[0;34m.\u001b[0m\u001b[0mastype\u001b[0m\u001b[0;34m(\u001b[0m\u001b[0;34m'datetime64'\u001b[0m\u001b[0;34m)\u001b[0m\u001b[0;34m\u001b[0m\u001b[0;34m\u001b[0m\u001b[0m\n\u001b[0m",
      "\u001b[0;32m/opt/conda/lib/python3.6/site-packages/pandas/core/frame.py\u001b[0m in \u001b[0;36m__getitem__\u001b[0;34m(self, key)\u001b[0m\n\u001b[1;32m   2904\u001b[0m             \u001b[0;32mif\u001b[0m \u001b[0mself\u001b[0m\u001b[0;34m.\u001b[0m\u001b[0mcolumns\u001b[0m\u001b[0;34m.\u001b[0m\u001b[0mnlevels\u001b[0m \u001b[0;34m>\u001b[0m \u001b[0;36m1\u001b[0m\u001b[0;34m:\u001b[0m\u001b[0;34m\u001b[0m\u001b[0;34m\u001b[0m\u001b[0m\n\u001b[1;32m   2905\u001b[0m                 \u001b[0;32mreturn\u001b[0m \u001b[0mself\u001b[0m\u001b[0;34m.\u001b[0m\u001b[0m_getitem_multilevel\u001b[0m\u001b[0;34m(\u001b[0m\u001b[0mkey\u001b[0m\u001b[0;34m)\u001b[0m\u001b[0;34m\u001b[0m\u001b[0;34m\u001b[0m\u001b[0m\n\u001b[0;32m-> 2906\u001b[0;31m             \u001b[0mindexer\u001b[0m \u001b[0;34m=\u001b[0m \u001b[0mself\u001b[0m\u001b[0;34m.\u001b[0m\u001b[0mcolumns\u001b[0m\u001b[0;34m.\u001b[0m\u001b[0mget_loc\u001b[0m\u001b[0;34m(\u001b[0m\u001b[0mkey\u001b[0m\u001b[0;34m)\u001b[0m\u001b[0;34m\u001b[0m\u001b[0;34m\u001b[0m\u001b[0m\n\u001b[0m\u001b[1;32m   2907\u001b[0m             \u001b[0;32mif\u001b[0m \u001b[0mis_integer\u001b[0m\u001b[0;34m(\u001b[0m\u001b[0mindexer\u001b[0m\u001b[0;34m)\u001b[0m\u001b[0;34m:\u001b[0m\u001b[0;34m\u001b[0m\u001b[0;34m\u001b[0m\u001b[0m\n\u001b[1;32m   2908\u001b[0m                 \u001b[0mindexer\u001b[0m \u001b[0;34m=\u001b[0m \u001b[0;34m[\u001b[0m\u001b[0mindexer\u001b[0m\u001b[0;34m]\u001b[0m\u001b[0;34m\u001b[0m\u001b[0;34m\u001b[0m\u001b[0m\n",
      "\u001b[0;32m/opt/conda/lib/python3.6/site-packages/pandas/core/indexes/base.py\u001b[0m in \u001b[0;36mget_loc\u001b[0;34m(self, key, method, tolerance)\u001b[0m\n\u001b[1;32m   2898\u001b[0m                 \u001b[0;32mreturn\u001b[0m \u001b[0mself\u001b[0m\u001b[0;34m.\u001b[0m\u001b[0m_engine\u001b[0m\u001b[0;34m.\u001b[0m\u001b[0mget_loc\u001b[0m\u001b[0;34m(\u001b[0m\u001b[0mcasted_key\u001b[0m\u001b[0;34m)\u001b[0m\u001b[0;34m\u001b[0m\u001b[0;34m\u001b[0m\u001b[0m\n\u001b[1;32m   2899\u001b[0m             \u001b[0;32mexcept\u001b[0m \u001b[0mKeyError\u001b[0m \u001b[0;32mas\u001b[0m \u001b[0merr\u001b[0m\u001b[0;34m:\u001b[0m\u001b[0;34m\u001b[0m\u001b[0;34m\u001b[0m\u001b[0m\n\u001b[0;32m-> 2900\u001b[0;31m                 \u001b[0;32mraise\u001b[0m \u001b[0mKeyError\u001b[0m\u001b[0;34m(\u001b[0m\u001b[0mkey\u001b[0m\u001b[0;34m)\u001b[0m \u001b[0;32mfrom\u001b[0m \u001b[0merr\u001b[0m\u001b[0;34m\u001b[0m\u001b[0;34m\u001b[0m\u001b[0m\n\u001b[0m\u001b[1;32m   2901\u001b[0m \u001b[0;34m\u001b[0m\u001b[0m\n\u001b[1;32m   2902\u001b[0m         \u001b[0;32mif\u001b[0m \u001b[0mtolerance\u001b[0m \u001b[0;32mis\u001b[0m \u001b[0;32mnot\u001b[0m \u001b[0;32mNone\u001b[0m\u001b[0;34m:\u001b[0m\u001b[0;34m\u001b[0m\u001b[0;34m\u001b[0m\u001b[0m\n",
      "\u001b[0;31mKeyError\u001b[0m: 'REPORT_DT'"
     ]
    }
   ],
   "source": [
    "df1['REPORT_DT'] = df1['REPORT_DT'].astype('datetime64')"
   ]
  },
  {
   "cell_type": "code",
   "execution_count": 204,
   "metadata": {},
   "outputs": [
    {
     "data": {
      "text/html": [
       "<div>\n",
       "<style scoped>\n",
       "    .dataframe tbody tr th:only-of-type {\n",
       "        vertical-align: middle;\n",
       "    }\n",
       "\n",
       "    .dataframe tbody tr th {\n",
       "        vertical-align: top;\n",
       "    }\n",
       "\n",
       "    .dataframe thead th {\n",
       "        text-align: right;\n",
       "    }\n",
       "</style>\n",
       "<table border=\"1\" class=\"dataframe\">\n",
       "  <thead>\n",
       "    <tr style=\"text-align: right;\">\n",
       "      <th></th>\n",
       "      <th>x_0</th>\n",
       "      <th>x_1</th>\n",
       "      <th>x_2</th>\n",
       "      <th>x_3</th>\n",
       "      <th>x_4</th>\n",
       "      <th>x_5</th>\n",
       "      <th>x_7</th>\n",
       "      <th>x_10</th>\n",
       "      <th>x_11</th>\n",
       "      <th>x_12</th>\n",
       "      <th>...</th>\n",
       "      <th>x_644</th>\n",
       "      <th>x_645</th>\n",
       "      <th>x_646</th>\n",
       "      <th>TARGET</th>\n",
       "      <th>ID</th>\n",
       "      <th>month_9</th>\n",
       "      <th>year_9</th>\n",
       "      <th>month_rep</th>\n",
       "      <th>year_rep</th>\n",
       "      <th>pred</th>\n",
       "    </tr>\n",
       "  </thead>\n",
       "  <tbody>\n",
       "    <tr>\n",
       "      <th>0</th>\n",
       "      <td>1</td>\n",
       "      <td>0</td>\n",
       "      <td>1</td>\n",
       "      <td>1</td>\n",
       "      <td>2100000.00</td>\n",
       "      <td>1505828.87</td>\n",
       "      <td>1505828.87</td>\n",
       "      <td>1400000.0</td>\n",
       "      <td>240</td>\n",
       "      <td>3</td>\n",
       "      <td>...</td>\n",
       "      <td>22757.85</td>\n",
       "      <td>0.505730</td>\n",
       "      <td>0.716184</td>\n",
       "      <td>0</td>\n",
       "      <td>0</td>\n",
       "      <td>3</td>\n",
       "      <td>2017</td>\n",
       "      <td>8</td>\n",
       "      <td>2019</td>\n",
       "      <td>0</td>\n",
       "    </tr>\n",
       "    <tr>\n",
       "      <th>1</th>\n",
       "      <td>1</td>\n",
       "      <td>0</td>\n",
       "      <td>1</td>\n",
       "      <td>1</td>\n",
       "      <td>900000.00</td>\n",
       "      <td>363535.29</td>\n",
       "      <td>363535.29</td>\n",
       "      <td>900000.0</td>\n",
       "      <td>60</td>\n",
       "      <td>3</td>\n",
       "      <td>...</td>\n",
       "      <td>20133.89</td>\n",
       "      <td>0.268452</td>\n",
       "      <td>0.268452</td>\n",
       "      <td>0</td>\n",
       "      <td>1</td>\n",
       "      <td>2</td>\n",
       "      <td>2017</td>\n",
       "      <td>6</td>\n",
       "      <td>2019</td>\n",
       "      <td>0</td>\n",
       "    </tr>\n",
       "    <tr>\n",
       "      <th>2</th>\n",
       "      <td>1</td>\n",
       "      <td>0</td>\n",
       "      <td>1</td>\n",
       "      <td>1</td>\n",
       "      <td>1000000.00</td>\n",
       "      <td>990956.71</td>\n",
       "      <td>982069.19</td>\n",
       "      <td>1000000.0</td>\n",
       "      <td>84</td>\n",
       "      <td>5</td>\n",
       "      <td>...</td>\n",
       "      <td>15536.44</td>\n",
       "      <td>0.154156</td>\n",
       "      <td>0.348582</td>\n",
       "      <td>0</td>\n",
       "      <td>2</td>\n",
       "      <td>9</td>\n",
       "      <td>2017</td>\n",
       "      <td>1</td>\n",
       "      <td>2018</td>\n",
       "      <td>0</td>\n",
       "    </tr>\n",
       "    <tr>\n",
       "      <th>3</th>\n",
       "      <td>1</td>\n",
       "      <td>0</td>\n",
       "      <td>1</td>\n",
       "      <td>1</td>\n",
       "      <td>1400000.00</td>\n",
       "      <td>566338.60</td>\n",
       "      <td>564045.39</td>\n",
       "      <td>1400000.0</td>\n",
       "      <td>180</td>\n",
       "      <td>6</td>\n",
       "      <td>...</td>\n",
       "      <td>20318.31</td>\n",
       "      <td>0.239039</td>\n",
       "      <td>0.239039</td>\n",
       "      <td>0</td>\n",
       "      <td>3</td>\n",
       "      <td>2</td>\n",
       "      <td>2015</td>\n",
       "      <td>9</td>\n",
       "      <td>2019</td>\n",
       "      <td>0</td>\n",
       "    </tr>\n",
       "    <tr>\n",
       "      <th>4</th>\n",
       "      <td>1</td>\n",
       "      <td>0</td>\n",
       "      <td>1</td>\n",
       "      <td>1</td>\n",
       "      <td>2114500.00</td>\n",
       "      <td>1414693.51</td>\n",
       "      <td>1396391.57</td>\n",
       "      <td>1700000.0</td>\n",
       "      <td>240</td>\n",
       "      <td>0</td>\n",
       "      <td>...</td>\n",
       "      <td>24772.97</td>\n",
       "      <td>0.190561</td>\n",
       "      <td>0.238575</td>\n",
       "      <td>0</td>\n",
       "      <td>4</td>\n",
       "      <td>10</td>\n",
       "      <td>2014</td>\n",
       "      <td>12</td>\n",
       "      <td>2017</td>\n",
       "      <td>0</td>\n",
       "    </tr>\n",
       "    <tr>\n",
       "      <th>...</th>\n",
       "      <td>...</td>\n",
       "      <td>...</td>\n",
       "      <td>...</td>\n",
       "      <td>...</td>\n",
       "      <td>...</td>\n",
       "      <td>...</td>\n",
       "      <td>...</td>\n",
       "      <td>...</td>\n",
       "      <td>...</td>\n",
       "      <td>...</td>\n",
       "      <td>...</td>\n",
       "      <td>...</td>\n",
       "      <td>...</td>\n",
       "      <td>...</td>\n",
       "      <td>...</td>\n",
       "      <td>...</td>\n",
       "      <td>...</td>\n",
       "      <td>...</td>\n",
       "      <td>...</td>\n",
       "      <td>...</td>\n",
       "      <td>...</td>\n",
       "    </tr>\n",
       "    <tr>\n",
       "      <th>971623</th>\n",
       "      <td>1</td>\n",
       "      <td>0</td>\n",
       "      <td>1</td>\n",
       "      <td>1</td>\n",
       "      <td>1117098.61</td>\n",
       "      <td>733851.20</td>\n",
       "      <td>733851.20</td>\n",
       "      <td>1115000.0</td>\n",
       "      <td>180</td>\n",
       "      <td>5</td>\n",
       "      <td>...</td>\n",
       "      <td>14318.26</td>\n",
       "      <td>0.193490</td>\n",
       "      <td>0.365728</td>\n",
       "      <td>0</td>\n",
       "      <td>971623</td>\n",
       "      <td>4</td>\n",
       "      <td>2014</td>\n",
       "      <td>7</td>\n",
       "      <td>2018</td>\n",
       "      <td>0</td>\n",
       "    </tr>\n",
       "    <tr>\n",
       "      <th>971624</th>\n",
       "      <td>1</td>\n",
       "      <td>0</td>\n",
       "      <td>1</td>\n",
       "      <td>1</td>\n",
       "      <td>1670000.00</td>\n",
       "      <td>1327497.45</td>\n",
       "      <td>1131818.19</td>\n",
       "      <td>1666800.0</td>\n",
       "      <td>264</td>\n",
       "      <td>0</td>\n",
       "      <td>...</td>\n",
       "      <td>16704.09</td>\n",
       "      <td>0.451462</td>\n",
       "      <td>0.300975</td>\n",
       "      <td>0</td>\n",
       "      <td>971624</td>\n",
       "      <td>5</td>\n",
       "      <td>2017</td>\n",
       "      <td>12</td>\n",
       "      <td>2018</td>\n",
       "      <td>0</td>\n",
       "    </tr>\n",
       "    <tr>\n",
       "      <th>971628</th>\n",
       "      <td>1</td>\n",
       "      <td>0</td>\n",
       "      <td>1</td>\n",
       "      <td>1</td>\n",
       "      <td>1022000.00</td>\n",
       "      <td>113893.44</td>\n",
       "      <td>113893.44</td>\n",
       "      <td>1320000.0</td>\n",
       "      <td>180</td>\n",
       "      <td>3</td>\n",
       "      <td>...</td>\n",
       "      <td>14129.19</td>\n",
       "      <td>0.523303</td>\n",
       "      <td>0.801371</td>\n",
       "      <td>0</td>\n",
       "      <td>971628</td>\n",
       "      <td>9</td>\n",
       "      <td>2015</td>\n",
       "      <td>6</td>\n",
       "      <td>2019</td>\n",
       "      <td>0</td>\n",
       "    </tr>\n",
       "    <tr>\n",
       "      <th>971630</th>\n",
       "      <td>1</td>\n",
       "      <td>0</td>\n",
       "      <td>1</td>\n",
       "      <td>1</td>\n",
       "      <td>2100000.00</td>\n",
       "      <td>1986766.32</td>\n",
       "      <td>1983202.53</td>\n",
       "      <td>2500000.0</td>\n",
       "      <td>227</td>\n",
       "      <td>5</td>\n",
       "      <td>...</td>\n",
       "      <td>24175.15</td>\n",
       "      <td>0.302189</td>\n",
       "      <td>0.449951</td>\n",
       "      <td>0</td>\n",
       "      <td>971630</td>\n",
       "      <td>10</td>\n",
       "      <td>2016</td>\n",
       "      <td>9</td>\n",
       "      <td>2019</td>\n",
       "      <td>0</td>\n",
       "    </tr>\n",
       "    <tr>\n",
       "      <th>971631</th>\n",
       "      <td>1</td>\n",
       "      <td>0</td>\n",
       "      <td>1</td>\n",
       "      <td>1</td>\n",
       "      <td>850000.00</td>\n",
       "      <td>785771.25</td>\n",
       "      <td>783897.69</td>\n",
       "      <td>1020000.0</td>\n",
       "      <td>180</td>\n",
       "      <td>5</td>\n",
       "      <td>...</td>\n",
       "      <td>11177.39</td>\n",
       "      <td>0.657494</td>\n",
       "      <td>0.502016</td>\n",
       "      <td>0</td>\n",
       "      <td>971631</td>\n",
       "      <td>8</td>\n",
       "      <td>2014</td>\n",
       "      <td>6</td>\n",
       "      <td>2017</td>\n",
       "      <td>0</td>\n",
       "    </tr>\n",
       "  </tbody>\n",
       "</table>\n",
       "<p>763801 rows × 460 columns</p>\n",
       "</div>"
      ],
      "text/plain": [
       "        x_0  x_1  x_2  x_3         x_4         x_5         x_7       x_10  \\\n",
       "0         1    0    1    1  2100000.00  1505828.87  1505828.87  1400000.0   \n",
       "1         1    0    1    1   900000.00   363535.29   363535.29   900000.0   \n",
       "2         1    0    1    1  1000000.00   990956.71   982069.19  1000000.0   \n",
       "3         1    0    1    1  1400000.00   566338.60   564045.39  1400000.0   \n",
       "4         1    0    1    1  2114500.00  1414693.51  1396391.57  1700000.0   \n",
       "...     ...  ...  ...  ...         ...         ...         ...        ...   \n",
       "971623    1    0    1    1  1117098.61   733851.20   733851.20  1115000.0   \n",
       "971624    1    0    1    1  1670000.00  1327497.45  1131818.19  1666800.0   \n",
       "971628    1    0    1    1  1022000.00   113893.44   113893.44  1320000.0   \n",
       "971630    1    0    1    1  2100000.00  1986766.32  1983202.53  2500000.0   \n",
       "971631    1    0    1    1   850000.00   785771.25   783897.69  1020000.0   \n",
       "\n",
       "        x_11  x_12  ...     x_644     x_645     x_646  TARGET      ID month_9  \\\n",
       "0        240     3  ...  22757.85  0.505730  0.716184       0       0       3   \n",
       "1         60     3  ...  20133.89  0.268452  0.268452       0       1       2   \n",
       "2         84     5  ...  15536.44  0.154156  0.348582       0       2       9   \n",
       "3        180     6  ...  20318.31  0.239039  0.239039       0       3       2   \n",
       "4        240     0  ...  24772.97  0.190561  0.238575       0       4      10   \n",
       "...      ...   ...  ...       ...       ...       ...     ...     ...     ...   \n",
       "971623   180     5  ...  14318.26  0.193490  0.365728       0  971623       4   \n",
       "971624   264     0  ...  16704.09  0.451462  0.300975       0  971624       5   \n",
       "971628   180     3  ...  14129.19  0.523303  0.801371       0  971628       9   \n",
       "971630   227     5  ...  24175.15  0.302189  0.449951       0  971630      10   \n",
       "971631   180     5  ...  11177.39  0.657494  0.502016       0  971631       8   \n",
       "\n",
       "        year_9 month_rep  year_rep  pred  \n",
       "0         2017         8      2019     0  \n",
       "1         2017         6      2019     0  \n",
       "2         2017         1      2018     0  \n",
       "3         2015         9      2019     0  \n",
       "4         2014        12      2017     0  \n",
       "...        ...       ...       ...   ...  \n",
       "971623    2014         7      2018     0  \n",
       "971624    2017        12      2018     0  \n",
       "971628    2015         6      2019     0  \n",
       "971630    2016         9      2019     0  \n",
       "971631    2014         6      2017     0  \n",
       "\n",
       "[763801 rows x 460 columns]"
      ]
     },
     "execution_count": 204,
     "metadata": {},
     "output_type": "execute_result"
    }
   ],
   "source": [
    "df1"
   ]
  },
  {
   "cell_type": "code",
   "execution_count": 205,
   "metadata": {},
   "outputs": [],
   "source": [
    "targetrate = df1.groupby(df1['month_rep'].values.astype('<M8[M]'))['TARGET'].mean()"
   ]
  },
  {
   "cell_type": "code",
   "execution_count": null,
   "metadata": {},
   "outputs": [],
   "source": []
  },
  {
   "cell_type": "code",
   "execution_count": 208,
   "metadata": {},
   "outputs": [],
   "source": [
    "q = df1.groupby(df1['month_rep'].values.astype('<M8[M]'))['pred'].mean()"
   ]
  },
  {
   "cell_type": "code",
   "execution_count": 209,
   "metadata": {},
   "outputs": [
    {
     "data": {
      "text/plain": [
       "1970-02-01    0.000000\n",
       "1970-03-01    0.000000\n",
       "1970-04-01    0.000000\n",
       "1970-05-01    0.000032\n",
       "1970-06-01    0.000000\n",
       "1970-07-01    0.000000\n",
       "1970-08-01    0.000000\n",
       "1970-09-01    0.000016\n",
       "1970-10-01    0.000015\n",
       "1970-11-01    0.000015\n",
       "1970-12-01    0.000016\n",
       "1971-01-01    0.000000\n",
       "Name: pred, dtype: float64"
      ]
     },
     "execution_count": 209,
     "metadata": {},
     "output_type": "execute_result"
    }
   ],
   "source": [
    "q"
   ]
  },
  {
   "cell_type": "code",
   "execution_count": 80,
   "metadata": {},
   "outputs": [
    {
     "data": {
      "text/plain": [
       "[<matplotlib.lines.Line2D at 0x7f6b1fd5efd0>]"
      ]
     },
     "execution_count": 80,
     "metadata": {},
     "output_type": "execute_result"
    },
    {
     "data": {
      "image/png": "[encoded data removed]",
      "text/plain": [
       "<Figure size 432x288 with 1 Axes>"
      ]
     },
     "metadata": {
      "needs_background": "light"
     },
     "output_type": "display_data"
    }
   ],
   "source": [
    "q0 = df.groupby(df['x_9'].values.astype('<M8[M]'))['TARGET'].mean()\n",
    "q1 = df.groupby(df['x_9'].values.astype('<M8[M]'))['pred'].mean()\n",
    "plt.plot(q1)"
   ]
  },
  {
   "cell_type": "code",
   "execution_count": 81,
   "metadata": {},
   "outputs": [
    {
     "data": {
      "text/plain": [
       "[<matplotlib.lines.Line2D at 0x7f6b1fbff5c0>]"
      ]
     },
     "execution_count": 81,
     "metadata": {},
     "output_type": "execute_result"
    },
    {
     "data": {
      "image/png": "[encoded data removed]",
      "text/plain": [
       "<Figure size 432x288 with 1 Axes>"
      ]
     },
     "metadata": {
      "needs_background": "light"
     },
     "output_type": "display_data"
    }
   ],
   "source": [
    "plt.plot(q0)\n",
    "plt.plot(q1)"
   ]
  },
  {
   "cell_type": "code",
   "execution_count": 210,
   "metadata": {},
   "outputs": [
    {
     "data": {
      "text/plain": [
       "[<matplotlib.lines.Line2D at 0x7fe9b1e97160>]"
      ]
     },
     "execution_count": 210,
     "metadata": {},
     "output_type": "execute_result"
    },
    {
     "data": {
      "image/png": "[encoded data removed]",
      "text/plain": [
       "<Figure size 432x288 with 1 Axes>"
      ]
     },
     "metadata": {
      "needs_background": "light"
     },
     "output_type": "display_data"
    }
   ],
   "source": [
    "plt.plot(targetrate)\n",
    "plt.plot(q)"
   ]
  },
  {
   "cell_type": "code",
   "execution_count": null,
   "metadata": {},
   "outputs": [],
   "source": []
  },
  {
   "cell_type": "code",
   "execution_count": null,
   "metadata": {},
   "outputs": [],
   "source": []
  },
  {
   "cell_type": "code",
   "execution_count": null,
   "metadata": {},
   "outputs": [],
   "source": []
  },
  {
   "cell_type": "code",
   "execution_count": 217,
   "metadata": {},
   "outputs": [],
   "source": [
    "df22 = df2[df2.TARGET == 1]"
   ]
  },
  {
   "cell_type": "code",
   "execution_count": 219,
   "metadata": {},
   "outputs": [
    {
     "data": {
      "text/plain": [
       "0.04153328698593998"
      ]
     },
     "execution_count": 219,
     "metadata": {},
     "output_type": "execute_result"
    }
   ],
   "source": [
    "len(df22)/len(df2)"
   ]
  },
  {
   "cell_type": "code",
   "execution_count": 220,
   "metadata": {},
   "outputs": [],
   "source": [
    "df12 = df1.append(df22)"
   ]
  },
  {
   "cell_type": "code",
   "execution_count": 221,
   "metadata": {},
   "outputs": [],
   "source": [
    "weights = {0:1.0, 1:100.0}"
   ]
  },
  {
   "cell_type": "code",
   "execution_count": 222,
   "metadata": {},
   "outputs": [],
   "source": [
    "X_train, X_val, y_train, y_val = train_test_split(df12[FEATURES_ALL], df12['TARGET'], test_size=0.15, random_state=SEED)"
   ]
  },
  {
   "cell_type": "code",
   "execution_count": 223,
   "metadata": {},
   "outputs": [],
   "source": [
    "scaler = StandardScaler()\n",
    "X_train = scaler.fit_transform(X_train)"
   ]
  },
  {
   "cell_type": "code",
   "execution_count": 224,
   "metadata": {},
   "outputs": [],
   "source": [
    "X_val = scaler.transform(X_val)"
   ]
  },
  {
   "cell_type": "code",
   "execution_count": 225,
   "metadata": {},
   "outputs": [
    {
     "data": {
      "text/plain": [
       "(676195, 17)"
      ]
     },
     "execution_count": 225,
     "metadata": {},
     "output_type": "execute_result"
    }
   ],
   "source": [
    "X_train.shape"
   ]
  },
  {
   "cell_type": "code",
   "execution_count": 226,
   "metadata": {},
   "outputs": [],
   "source": [
    "from sklearn.ensemble import RandomForestClassifier"
   ]
  },
  {
   "cell_type": "code",
   "execution_count": 242,
   "metadata": {},
   "outputs": [
    {
     "name": "stderr",
     "output_type": "stream",
     "text": [
      "/opt/conda/lib/python3.6/site-packages/sklearn/linear_model/_logistic.py:1357: UserWarning: 'n_jobs' > 1 does not have any effect when 'solver' is set to 'liblinear'. Got 'n_jobs' = 8.\n",
      "  \" = {}.\".format(effective_n_jobs(self.n_jobs)))\n"
     ]
    },
    {
     "name": "stdout",
     "output_type": "stream",
     "text": [
      "[LibLinear]"
     ]
    },
    {
     "data": {
      "text/plain": [
       "LogisticRegression(C=2000, class_weight='balanced', max_iter=150, n_jobs=-1,\n",
       "                   random_state=42, solver='liblinear', verbose=1)"
      ]
     },
     "execution_count": 242,
     "metadata": {},
     "output_type": "execute_result"
    }
   ],
   "source": [
    "#clf = RandomForestClassifier(n_estimators=100, max_depth=20, random_state=42, n_jobs = -1)\n",
    "clf = LogisticRegression(random_state=SEED, solver = 'liblinear', C=2000, max_iter=150, n_jobs=-1, \n",
    "                         class_weight = 'balanced', verbose=1) #penalty='l2'\n",
    "#clf = LogisticRegression(random_state=SEED, solver = 'sag', C=10, max_iter=100, n_jobs=-1)\n",
    "clf.fit(X_train, y_train)"
   ]
  },
  {
   "cell_type": "code",
   "execution_count": 243,
   "metadata": {},
   "outputs": [],
   "source": [
    "y_val_pred = clf.predict_proba(X_val)"
   ]
  },
  {
   "cell_type": "code",
   "execution_count": 244,
   "metadata": {},
   "outputs": [
    {
     "data": {
      "text/plain": [
       "array([0.62889771, 0.62777505, 0.61096956, ..., 0.16842229, 0.69049665,\n",
       "       0.51673634])"
      ]
     },
     "execution_count": 244,
     "metadata": {},
     "output_type": "execute_result"
    }
   ],
   "source": [
    "y_val_pred[:,1]"
   ]
  },
  {
   "cell_type": "code",
   "execution_count": 245,
   "metadata": {},
   "outputs": [],
   "source": [
    "#q = y_val.to_list()"
   ]
  },
  {
   "cell_type": "code",
   "execution_count": 246,
   "metadata": {},
   "outputs": [
    {
     "data": {
      "text/plain": [
       "0.8411799853544675"
      ]
     },
     "execution_count": 246,
     "metadata": {},
     "output_type": "execute_result"
    }
   ],
   "source": [
    "roc_auc_score(y_val, y_val_pred[:,1])"
   ]
  },
  {
   "cell_type": "code",
   "execution_count": 247,
   "metadata": {},
   "outputs": [],
   "source": [
    "#roc_auc_score(y_val, y_val_pred[:,1])"
   ]
  },
  {
   "cell_type": "code",
   "execution_count": 248,
   "metadata": {},
   "outputs": [
    {
     "data": {
      "text/plain": [
       "(763809, 17)"
      ]
     },
     "execution_count": 248,
     "metadata": {},
     "output_type": "execute_result"
    }
   ],
   "source": [
    "X_test = np.array(test[FEATURES_ALL])\n",
    "\n",
    "X_test.shape"
   ]
  },
  {
   "cell_type": "code",
   "execution_count": 249,
   "metadata": {},
   "outputs": [],
   "source": [
    "X_test = scaler.transform(X_test)"
   ]
  },
  {
   "cell_type": "code",
   "execution_count": 250,
   "metadata": {},
   "outputs": [],
   "source": [
    "q = clf.predict_proba(X_test)"
   ]
  },
  {
   "cell_type": "code",
   "execution_count": 251,
   "metadata": {},
   "outputs": [
    {
     "data": {
      "text/plain": [
       "763809"
      ]
     },
     "execution_count": 251,
     "metadata": {},
     "output_type": "execute_result"
    }
   ],
   "source": [
    "len(q)"
   ]
  },
  {
   "cell_type": "code",
   "execution_count": 252,
   "metadata": {},
   "outputs": [
    {
     "data": {
      "text/html": [
       "<div>\n",
       "<style scoped>\n",
       "    .dataframe tbody tr th:only-of-type {\n",
       "        vertical-align: middle;\n",
       "    }\n",
       "\n",
       "    .dataframe tbody tr th {\n",
       "        vertical-align: top;\n",
       "    }\n",
       "\n",
       "    .dataframe thead th {\n",
       "        text-align: right;\n",
       "    }\n",
       "</style>\n",
       "<table border=\"1\" class=\"dataframe\">\n",
       "  <thead>\n",
       "    <tr style=\"text-align: right;\">\n",
       "      <th></th>\n",
       "      <th>ID</th>\n",
       "      <th>Probability</th>\n",
       "    </tr>\n",
       "  </thead>\n",
       "  <tbody>\n",
       "    <tr>\n",
       "      <th>0</th>\n",
       "      <td>1943531</td>\n",
       "      <td>0.172594</td>\n",
       "    </tr>\n",
       "    <tr>\n",
       "      <th>1</th>\n",
       "      <td>1943532</td>\n",
       "      <td>0.535728</td>\n",
       "    </tr>\n",
       "    <tr>\n",
       "      <th>2</th>\n",
       "      <td>1943533</td>\n",
       "      <td>0.658073</td>\n",
       "    </tr>\n",
       "    <tr>\n",
       "      <th>3</th>\n",
       "      <td>1943534</td>\n",
       "      <td>0.321833</td>\n",
       "    </tr>\n",
       "    <tr>\n",
       "      <th>4</th>\n",
       "      <td>1943537</td>\n",
       "      <td>0.695918</td>\n",
       "    </tr>\n",
       "  </tbody>\n",
       "</table>\n",
       "</div>"
      ],
      "text/plain": [
       "        ID  Probability\n",
       "0  1943531     0.172594\n",
       "1  1943532     0.535728\n",
       "2  1943533     0.658073\n",
       "3  1943534     0.321833\n",
       "4  1943537     0.695918"
      ]
     },
     "execution_count": 252,
     "metadata": {},
     "output_type": "execute_result"
    }
   ],
   "source": [
    "sub = pd.read_csv('submission.csv')\n",
    "sub.head()"
   ]
  },
  {
   "cell_type": "code",
   "execution_count": 253,
   "metadata": {},
   "outputs": [
    {
     "data": {
      "text/plain": [
       "763809"
      ]
     },
     "execution_count": 253,
     "metadata": {},
     "output_type": "execute_result"
    }
   ],
   "source": [
    "len(sub)"
   ]
  },
  {
   "cell_type": "code",
   "execution_count": 254,
   "metadata": {},
   "outputs": [
    {
     "data": {
      "text/html": [
       "<div>\n",
       "<style scoped>\n",
       "    .dataframe tbody tr th:only-of-type {\n",
       "        vertical-align: middle;\n",
       "    }\n",
       "\n",
       "    .dataframe tbody tr th {\n",
       "        vertical-align: top;\n",
       "    }\n",
       "\n",
       "    .dataframe thead th {\n",
       "        text-align: right;\n",
       "    }\n",
       "</style>\n",
       "<table border=\"1\" class=\"dataframe\">\n",
       "  <thead>\n",
       "    <tr style=\"text-align: right;\">\n",
       "      <th></th>\n",
       "      <th>ID</th>\n",
       "      <th>Probability</th>\n",
       "    </tr>\n",
       "  </thead>\n",
       "  <tbody>\n",
       "    <tr>\n",
       "      <th>0</th>\n",
       "      <td>1943531</td>\n",
       "      <td>7.005866e-01</td>\n",
       "    </tr>\n",
       "    <tr>\n",
       "      <th>1</th>\n",
       "      <td>1943532</td>\n",
       "      <td>2.087309e-01</td>\n",
       "    </tr>\n",
       "    <tr>\n",
       "      <th>2</th>\n",
       "      <td>1943533</td>\n",
       "      <td>6.121548e-34</td>\n",
       "    </tr>\n",
       "    <tr>\n",
       "      <th>3</th>\n",
       "      <td>1943534</td>\n",
       "      <td>5.565168e-01</td>\n",
       "    </tr>\n",
       "    <tr>\n",
       "      <th>4</th>\n",
       "      <td>1943537</td>\n",
       "      <td>8.443053e-01</td>\n",
       "    </tr>\n",
       "  </tbody>\n",
       "</table>\n",
       "</div>"
      ],
      "text/plain": [
       "        ID   Probability\n",
       "0  1943531  7.005866e-01\n",
       "1  1943532  2.087309e-01\n",
       "2  1943533  6.121548e-34\n",
       "3  1943534  5.565168e-01\n",
       "4  1943537  8.443053e-01"
      ]
     },
     "execution_count": 254,
     "metadata": {},
     "output_type": "execute_result"
    }
   ],
   "source": [
    "sub['Probability'] = q[:,1]\n",
    "sub.head()"
   ]
  },
  {
   "cell_type": "code",
   "execution_count": 255,
   "metadata": {},
   "outputs": [],
   "source": [
    "sub.to_csv('submission84_balanced.csv',index=False)"
   ]
  },
  {
   "cell_type": "code",
   "execution_count": null,
   "metadata": {},
   "outputs": [],
   "source": []
  },
  {
   "cell_type": "code",
   "execution_count": null,
   "metadata": {},
   "outputs": [],
   "source": []
  },
  {
   "cell_type": "code",
   "execution_count": 41,
   "metadata": {},
   "outputs": [
    {
     "name": "stdout",
     "output_type": "stream",
     "text": [
      "              total        used        free      shared  buff/cache   available\r\n",
      "Mem:         515875      243543      242365        3917       29966      265083\r\n",
      "Swap:             0           0           0\r\n"
     ]
    }
   ],
   "source": [
    "!free -m"
   ]
  },
  {
   "cell_type": "markdown",
   "metadata": {},
   "source": [
    "# EDM"
   ]
  },
  {
   "cell_type": "code",
   "execution_count": 102,
   "metadata": {},
   "outputs": [
    {
     "data": {
      "text/plain": [
       "x_21\n",
       "Инвестирование                             0.028420\n",
       "Индивидуальное строительство               0.086683\n",
       "Нецелевой кредит под залог недвижимости    0.063189\n",
       "Приобретение                               0.046559\n",
       "Рефинансирование                           0.009916\n",
       "Name: TARGET, dtype: float64"
      ]
     },
     "execution_count": 102,
     "metadata": {},
     "output_type": "execute_result"
    }
   ],
   "source": [
    "df0.groupby('x_21')['TARGET'].mean()"
   ]
  },
  {
   "cell_type": "code",
   "execution_count": 103,
   "metadata": {},
   "outputs": [
    {
     "data": {
      "text/plain": [
       "year_9\n",
       "2012    0.076754\n",
       "2013    0.069263\n",
       "2014    0.057858\n",
       "2015    0.046184\n",
       "2016    0.029541\n",
       "2017    0.016679\n",
       "Name: TARGET, dtype: float64"
      ]
     },
     "execution_count": 103,
     "metadata": {},
     "output_type": "execute_result"
    }
   ],
   "source": [
    "df0.groupby('year_9')['TARGET'].mean()"
   ]
  },
  {
   "cell_type": "code",
   "execution_count": 104,
   "metadata": {},
   "outputs": [
    {
     "data": {
      "text/plain": [
       "year_rep\n",
       "2017    0.044461\n",
       "2018    0.038145\n",
       "2019    0.041418\n",
       "Name: TARGET, dtype: float64"
      ]
     },
     "execution_count": 104,
     "metadata": {},
     "output_type": "execute_result"
    }
   ],
   "source": [
    "df0.groupby('year_rep')['TARGET'].mean()"
   ]
  },
  {
   "cell_type": "code",
   "execution_count": null,
   "metadata": {},
   "outputs": [],
   "source": []
  },
  {
   "cell_type": "markdown",
   "metadata": {},
   "source": [
    "# IMPORTANT"
   ]
  },
  {
   "cell_type": "markdown",
   "metadata": {},
   "source": [
    "# NEW FEATURES EXPERIMENTS"
   ]
  },
  {
   "cell_type": "code",
   "execution_count": 1,
   "metadata": {},
   "outputs": [],
   "source": [
    "FEATURES_ALL_NEW = ['x_2','x_3','x_4','x_5',\n",
    "                'seasons', 'year', 'month', \n",
    "                    'x_11', 'x_12', 'x_13',  'x_625', 'x_627', 'x_628']"
   ]
  },
  {
   "cell_type": "code",
   "execution_count": 2,
   "metadata": {},
   "outputs": [],
   "source": [
    "import pandas as pd\n",
    "import matplotlib.pyplot as plt\n",
    "import numpy as np\n"
   ]
  },
  {
   "cell_type": "code",
   "execution_count": 3,
   "metadata": {},
   "outputs": [],
   "source": [
    "df01 = pd.read_pickle('train_part1.pkl')\n",
    "df02 = pd.read_pickle('train_part2.pkl')\n",
    "\n",
    "df00 = df01.append(df02)\n",
    "del df01\n",
    "del df02"
   ]
  },
  {
   "cell_type": "code",
   "execution_count": 4,
   "metadata": {},
   "outputs": [],
   "source": [
    "Y = df00[\"TARGET\"].copy()"
   ]
  },
  {
   "cell_type": "code",
   "execution_count": 5,
   "metadata": {},
   "outputs": [
    {
     "data": {
      "text/plain": [
       "(1527598, 648)"
      ]
     },
     "execution_count": 5,
     "metadata": {},
     "output_type": "execute_result"
    }
   ],
   "source": [
    "df00.shape"
   ]
  },
  {
   "cell_type": "code",
   "execution_count": 6,
   "metadata": {},
   "outputs": [],
   "source": [
    "test = pd.read_pickle('test_data.pkl')"
   ]
  },
  {
   "cell_type": "code",
   "execution_count": 7,
   "metadata": {},
   "outputs": [
    {
     "data": {
      "text/plain": [
       "(763809, 647)"
      ]
     },
     "execution_count": 7,
     "metadata": {},
     "output_type": "execute_result"
    }
   ],
   "source": [
    "test.shape"
   ]
  },
  {
   "cell_type": "code",
   "execution_count": 8,
   "metadata": {},
   "outputs": [
    {
     "data": {
      "image/png": "[encoded data removed]",
      "text/plain": [
       "<Figure size 432x288 with 1 Axes>"
      ]
     },
     "metadata": {
      "needs_background": "light"
     },
     "output_type": "display_data"
    }
   ],
   "source": [
    "df00['month'] = df00['x_9'].dt.month\n",
    "\n",
    "plt.plot(df00.groupby(df00['month'])['TARGET'].mean())\n",
    "\n",
    "df00['year'] = df00['x_9'].dt.year\n",
    "\n",
    "import typing as t\n",
    "\n",
    "autumn = [9, 10, 11]\n",
    "winter = [12, 1, 2]\n",
    "spring = [3, 4, 5]\n",
    "summer = [6, 7, 8] \n",
    "import typing as t\n",
    "def get_season(value: t.Iterable) -> str:\n",
    "    if value in autumn:\n",
    "        return 'autumn'\n",
    "    elif value in winter:\n",
    "        return 'winter'\n",
    "    elif value in spring:\n",
    "        return 'spring'\n",
    "    else:\n",
    "        return 'summer'\n",
    "\n",
    "df00['seasons'] = df00['month'].apply(get_season)"
   ]
  },
  {
   "cell_type": "code",
   "execution_count": 9,
   "metadata": {},
   "outputs": [],
   "source": [
    "test['month'] = test['x_9'].dt.month\n",
    "\n",
    "\n",
    "test['year'] = test['x_9'].dt.year\n",
    "\n",
    "import typing as t\n",
    "\n",
    "autumn = [9, 10, 11]\n",
    "winter = [12, 1, 2]\n",
    "spring = [3, 4, 5]\n",
    "summer = [6, 7, 8] \n",
    "import typing as t\n",
    "def get_season(value: t.Iterable) -> str:\n",
    "    if value in autumn:\n",
    "        return 'autumn'\n",
    "    elif value in winter:\n",
    "        return 'winter'\n",
    "    elif value in spring:\n",
    "        return 'spring'\n",
    "    else:\n",
    "        return 'summer'\n",
    "\n",
    "test['seasons'] = test['month'].apply(get_season)"
   ]
  },
  {
   "cell_type": "code",
   "execution_count": 10,
   "metadata": {},
   "outputs": [],
   "source": [
    "df00 = df00[FEATURES_ALL_NEW]#.isna().sum()"
   ]
  },
  {
   "cell_type": "code",
   "execution_count": 11,
   "metadata": {},
   "outputs": [],
   "source": [
    "test = test[FEATURES_ALL_NEW]"
   ]
  },
  {
   "cell_type": "code",
   "execution_count": 12,
   "metadata": {},
   "outputs": [
    {
     "data": {
      "text/plain": [
       "x_2          0\n",
       "x_3          0\n",
       "x_4          0\n",
       "x_5          0\n",
       "seasons      0\n",
       "year         0\n",
       "month        0\n",
       "x_11         0\n",
       "x_12         0\n",
       "x_13       107\n",
       "x_625        0\n",
       "x_627        0\n",
       "x_628        0\n",
       "dtype: int64"
      ]
     },
     "execution_count": 12,
     "metadata": {},
     "output_type": "execute_result"
    }
   ],
   "source": [
    "df00.isna().sum()"
   ]
  },
  {
   "cell_type": "code",
   "execution_count": 13,
   "metadata": {},
   "outputs": [
    {
     "data": {
      "text/plain": [
       "x_2         0\n",
       "x_3         0\n",
       "x_4         0\n",
       "x_5         0\n",
       "seasons     0\n",
       "year        0\n",
       "month       0\n",
       "x_11        0\n",
       "x_12        0\n",
       "x_13       66\n",
       "x_625       0\n",
       "x_627       0\n",
       "x_628       0\n",
       "dtype: int64"
      ]
     },
     "execution_count": 13,
     "metadata": {},
     "output_type": "execute_result"
    }
   ],
   "source": [
    "test.isna().sum()"
   ]
  },
  {
   "cell_type": "code",
   "execution_count": 14,
   "metadata": {},
   "outputs": [
    {
     "data": {
      "text/plain": [
       "1527598"
      ]
     },
     "execution_count": 14,
     "metadata": {},
     "output_type": "execute_result"
    }
   ],
   "source": [
    "len(df00)"
   ]
  },
  {
   "cell_type": "code",
   "execution_count": 15,
   "metadata": {},
   "outputs": [
    {
     "data": {
      "text/plain": [
       "x_2         0\n",
       "x_3         0\n",
       "x_4         0\n",
       "x_5         0\n",
       "seasons     0\n",
       "year        0\n",
       "month       0\n",
       "x_11        0\n",
       "x_12        0\n",
       "x_13       66\n",
       "x_625       0\n",
       "x_627       0\n",
       "x_628       0\n",
       "dtype: int64"
      ]
     },
     "execution_count": 15,
     "metadata": {},
     "output_type": "execute_result"
    }
   ],
   "source": [
    "test.isna().sum()"
   ]
  },
  {
   "cell_type": "code",
   "execution_count": 16,
   "metadata": {},
   "outputs": [
    {
     "data": {
      "text/plain": [
       "763809"
      ]
     },
     "execution_count": 16,
     "metadata": {},
     "output_type": "execute_result"
    }
   ],
   "source": [
    "len(test)"
   ]
  },
  {
   "cell_type": "code",
   "execution_count": 16,
   "metadata": {},
   "outputs": [
    {
     "data": {
      "text/plain": [
       "4     895330\n",
       "1     541873\n",
       "2      72587\n",
       "5      16584\n",
       "9       1059\n",
       "3         30\n",
       "19        28\n",
       "Name: x_13, dtype: int64"
      ]
     },
     "execution_count": 16,
     "metadata": {},
     "output_type": "execute_result"
    }
   ],
   "source": [
    "#x_13 - число knn\n",
    "df00['x_13'].value_counts()"
   ]
  },
  {
   "cell_type": "code",
   "execution_count": 17,
   "metadata": {},
   "outputs": [],
   "source": [
    "#simple approach\n",
    "df00['x_13'].replace(to_replace=np.nan, value=4, inplace=True)"
   ]
  },
  {
   "cell_type": "code",
   "execution_count": 18,
   "metadata": {},
   "outputs": [
    {
     "data": {
      "text/plain": [
       "x_2        0\n",
       "x_3        0\n",
       "x_4        0\n",
       "x_5        0\n",
       "seasons    0\n",
       "year       0\n",
       "month      0\n",
       "x_11       0\n",
       "x_12       0\n",
       "x_13       0\n",
       "x_625      0\n",
       "x_627      0\n",
       "x_628      0\n",
       "dtype: int64"
      ]
     },
     "execution_count": 18,
     "metadata": {},
     "output_type": "execute_result"
    }
   ],
   "source": [
    "df00.isna().sum()"
   ]
  },
  {
   "cell_type": "code",
   "execution_count": 19,
   "metadata": {},
   "outputs": [],
   "source": [
    "df00['mortgage_duration'] = df00['x_11'].apply(lambda x: x / 12)"
   ]
  },
  {
   "cell_type": "code",
   "execution_count": 20,
   "metadata": {},
   "outputs": [
    {
     "data": {
      "text/plain": [
       "x_2                  0\n",
       "x_3                  0\n",
       "x_4                  0\n",
       "x_5                  0\n",
       "seasons              0\n",
       "year                 0\n",
       "month                0\n",
       "x_11                 0\n",
       "x_12                 0\n",
       "x_13                 0\n",
       "x_625                0\n",
       "x_627                0\n",
       "x_628                0\n",
       "mortgage_duration    0\n",
       "dtype: int64"
      ]
     },
     "execution_count": 20,
     "metadata": {},
     "output_type": "execute_result"
    }
   ],
   "source": [
    "df00.isna().sum()"
   ]
  },
  {
   "cell_type": "code",
   "execution_count": 21,
   "metadata": {
    "scrolled": true
   },
   "outputs": [],
   "source": [
    "df00.drop('x_11', inplace = True, axis = 1)"
   ]
  },
  {
   "cell_type": "code",
   "execution_count": 22,
   "metadata": {},
   "outputs": [
    {
     "data": {
      "text/html": [
       "<div>\n",
       "<style scoped>\n",
       "    .dataframe tbody tr th:only-of-type {\n",
       "        vertical-align: middle;\n",
       "    }\n",
       "\n",
       "    .dataframe tbody tr th {\n",
       "        vertical-align: top;\n",
       "    }\n",
       "\n",
       "    .dataframe thead th {\n",
       "        text-align: right;\n",
       "    }\n",
       "</style>\n",
       "<table border=\"1\" class=\"dataframe\">\n",
       "  <thead>\n",
       "    <tr style=\"text-align: right;\">\n",
       "      <th></th>\n",
       "      <th>x_2</th>\n",
       "      <th>x_3</th>\n",
       "      <th>x_4</th>\n",
       "      <th>x_5</th>\n",
       "      <th>seasons</th>\n",
       "      <th>year</th>\n",
       "      <th>month</th>\n",
       "      <th>x_12</th>\n",
       "      <th>x_13</th>\n",
       "      <th>x_625</th>\n",
       "      <th>x_627</th>\n",
       "      <th>x_628</th>\n",
       "      <th>mortgage_duration</th>\n",
       "    </tr>\n",
       "  </thead>\n",
       "  <tbody>\n",
       "    <tr>\n",
       "      <th>0</th>\n",
       "      <td>1</td>\n",
       "      <td>1</td>\n",
       "      <td>2100000.0</td>\n",
       "      <td>1505828.87</td>\n",
       "      <td>spring</td>\n",
       "      <td>2017</td>\n",
       "      <td>3</td>\n",
       "      <td>B1</td>\n",
       "      <td>4</td>\n",
       "      <td>living in city in apart</td>\n",
       "      <td>31776.56</td>\n",
       "      <td>ЗП</td>\n",
       "      <td>20.0</td>\n",
       "    </tr>\n",
       "    <tr>\n",
       "      <th>1</th>\n",
       "      <td>1</td>\n",
       "      <td>1</td>\n",
       "      <td>900000.0</td>\n",
       "      <td>363535.29</td>\n",
       "      <td>winter</td>\n",
       "      <td>2017</td>\n",
       "      <td>2</td>\n",
       "      <td>B1</td>\n",
       "      <td>4</td>\n",
       "      <td>other</td>\n",
       "      <td>75000.00</td>\n",
       "      <td>ЗП</td>\n",
       "      <td>5.0</td>\n",
       "    </tr>\n",
       "    <tr>\n",
       "      <th>2</th>\n",
       "      <td>1</td>\n",
       "      <td>1</td>\n",
       "      <td>1000000.0</td>\n",
       "      <td>990956.71</td>\n",
       "      <td>autumn</td>\n",
       "      <td>2017</td>\n",
       "      <td>9</td>\n",
       "      <td>D</td>\n",
       "      <td>1</td>\n",
       "      <td>living in city in apart</td>\n",
       "      <td>44570.41</td>\n",
       "      <td>Улица</td>\n",
       "      <td>7.0</td>\n",
       "    </tr>\n",
       "    <tr>\n",
       "      <th>3</th>\n",
       "      <td>1</td>\n",
       "      <td>1</td>\n",
       "      <td>1400000.0</td>\n",
       "      <td>566338.60</td>\n",
       "      <td>winter</td>\n",
       "      <td>2015</td>\n",
       "      <td>2</td>\n",
       "      <td>N</td>\n",
       "      <td>4</td>\n",
       "      <td>living in city in apart</td>\n",
       "      <td>85000.00</td>\n",
       "      <td>Улица</td>\n",
       "      <td>15.0</td>\n",
       "    </tr>\n",
       "    <tr>\n",
       "      <th>4</th>\n",
       "      <td>1</td>\n",
       "      <td>1</td>\n",
       "      <td>2114500.0</td>\n",
       "      <td>1414693.51</td>\n",
       "      <td>autumn</td>\n",
       "      <td>2014</td>\n",
       "      <td>10</td>\n",
       "      <td>A</td>\n",
       "      <td>1</td>\n",
       "      <td>living in city in apart</td>\n",
       "      <td>103837.03</td>\n",
       "      <td>Сотрудники</td>\n",
       "      <td>20.0</td>\n",
       "    </tr>\n",
       "  </tbody>\n",
       "</table>\n",
       "</div>"
      ],
      "text/plain": [
       "   x_2  x_3        x_4         x_5 seasons  year  month x_12 x_13  \\\n",
       "0    1    1  2100000.0  1505828.87  spring  2017      3   B1    4   \n",
       "1    1    1   900000.0   363535.29  winter  2017      2   B1    4   \n",
       "2    1    1  1000000.0   990956.71  autumn  2017      9    D    1   \n",
       "3    1    1  1400000.0   566338.60  winter  2015      2    N    4   \n",
       "4    1    1  2114500.0  1414693.51  autumn  2014     10    A    1   \n",
       "\n",
       "                     x_625      x_627       x_628  mortgage_duration  \n",
       "0  living in city in apart   31776.56          ЗП               20.0  \n",
       "1                    other   75000.00          ЗП                5.0  \n",
       "2  living in city in apart   44570.41       Улица                7.0  \n",
       "3  living in city in apart   85000.00       Улица               15.0  \n",
       "4  living in city in apart  103837.03  Сотрудники               20.0  "
      ]
     },
     "execution_count": 22,
     "metadata": {},
     "output_type": "execute_result"
    }
   ],
   "source": [
    "df00.head()"
   ]
  },
  {
   "cell_type": "code",
   "execution_count": 23,
   "metadata": {},
   "outputs": [],
   "source": [
    "#simple approach\n",
    "test['x_13'].replace(to_replace=np.nan, value=4, inplace=True)\n",
    "\n",
    "test['mortgage_duration'] = test['x_11'].apply(lambda x: x / 12)\n",
    "\n",
    "test.drop('x_11', inplace = True, axis = 1)"
   ]
  },
  {
   "cell_type": "code",
   "execution_count": 24,
   "metadata": {},
   "outputs": [
    {
     "data": {
      "text/html": [
       "<div>\n",
       "<style scoped>\n",
       "    .dataframe tbody tr th:only-of-type {\n",
       "        vertical-align: middle;\n",
       "    }\n",
       "\n",
       "    .dataframe tbody tr th {\n",
       "        vertical-align: top;\n",
       "    }\n",
       "\n",
       "    .dataframe thead th {\n",
       "        text-align: right;\n",
       "    }\n",
       "</style>\n",
       "<table border=\"1\" class=\"dataframe\">\n",
       "  <thead>\n",
       "    <tr style=\"text-align: right;\">\n",
       "      <th></th>\n",
       "      <th>x_2</th>\n",
       "      <th>x_3</th>\n",
       "      <th>x_4</th>\n",
       "      <th>x_5</th>\n",
       "      <th>seasons</th>\n",
       "      <th>year</th>\n",
       "      <th>month</th>\n",
       "      <th>x_12</th>\n",
       "      <th>x_13</th>\n",
       "      <th>x_625</th>\n",
       "      <th>x_627</th>\n",
       "      <th>x_628</th>\n",
       "      <th>mortgage_duration</th>\n",
       "    </tr>\n",
       "  </thead>\n",
       "  <tbody>\n",
       "    <tr>\n",
       "      <th>1943531</th>\n",
       "      <td>1</td>\n",
       "      <td>1</td>\n",
       "      <td>1100000.0</td>\n",
       "      <td>157773.90</td>\n",
       "      <td>autumn</td>\n",
       "      <td>2014</td>\n",
       "      <td>10</td>\n",
       "      <td>D</td>\n",
       "      <td>4</td>\n",
       "      <td>other</td>\n",
       "      <td>28970.68</td>\n",
       "      <td>Улица</td>\n",
       "      <td>10.0</td>\n",
       "    </tr>\n",
       "    <tr>\n",
       "      <th>1943532</th>\n",
       "      <td>1</td>\n",
       "      <td>1</td>\n",
       "      <td>2580000.0</td>\n",
       "      <td>2187426.61</td>\n",
       "      <td>summer</td>\n",
       "      <td>2017</td>\n",
       "      <td>8</td>\n",
       "      <td>D</td>\n",
       "      <td>1</td>\n",
       "      <td>living in city in apart</td>\n",
       "      <td>36616.10</td>\n",
       "      <td>Улица</td>\n",
       "      <td>20.0</td>\n",
       "    </tr>\n",
       "    <tr>\n",
       "      <th>1943533</th>\n",
       "      <td>1</td>\n",
       "      <td>1</td>\n",
       "      <td>1200000.0</td>\n",
       "      <td>385763.26</td>\n",
       "      <td>winter</td>\n",
       "      <td>2013</td>\n",
       "      <td>2</td>\n",
       "      <td>D</td>\n",
       "      <td>4</td>\n",
       "      <td>living in city in apart</td>\n",
       "      <td>21713.75</td>\n",
       "      <td>Улица</td>\n",
       "      <td>10.0</td>\n",
       "    </tr>\n",
       "    <tr>\n",
       "      <th>1943534</th>\n",
       "      <td>1</td>\n",
       "      <td>1</td>\n",
       "      <td>637500.0</td>\n",
       "      <td>595369.13</td>\n",
       "      <td>autumn</td>\n",
       "      <td>2015</td>\n",
       "      <td>11</td>\n",
       "      <td>B1</td>\n",
       "      <td>4</td>\n",
       "      <td>other</td>\n",
       "      <td>37500.00</td>\n",
       "      <td>ЗП</td>\n",
       "      <td>10.0</td>\n",
       "    </tr>\n",
       "    <tr>\n",
       "      <th>1943537</th>\n",
       "      <td>1</td>\n",
       "      <td>1</td>\n",
       "      <td>1232500.0</td>\n",
       "      <td>1118118.29</td>\n",
       "      <td>spring</td>\n",
       "      <td>2014</td>\n",
       "      <td>3</td>\n",
       "      <td>D</td>\n",
       "      <td>2</td>\n",
       "      <td>other</td>\n",
       "      <td>30450.00</td>\n",
       "      <td>Улица</td>\n",
       "      <td>25.0</td>\n",
       "    </tr>\n",
       "  </tbody>\n",
       "</table>\n",
       "</div>"
      ],
      "text/plain": [
       "         x_2  x_3        x_4         x_5 seasons  year  month x_12 x_13  \\\n",
       "1943531    1    1  1100000.0   157773.90  autumn  2014     10    D    4   \n",
       "1943532    1    1  2580000.0  2187426.61  summer  2017      8    D    1   \n",
       "1943533    1    1  1200000.0   385763.26  winter  2013      2    D    4   \n",
       "1943534    1    1   637500.0   595369.13  autumn  2015     11   B1    4   \n",
       "1943537    1    1  1232500.0  1118118.29  spring  2014      3    D    2   \n",
       "\n",
       "                           x_625     x_627  x_628  mortgage_duration  \n",
       "1943531                    other  28970.68  Улица               10.0  \n",
       "1943532  living in city in apart  36616.10  Улица               20.0  \n",
       "1943533  living in city in apart  21713.75  Улица               10.0  \n",
       "1943534                    other  37500.00     ЗП               10.0  \n",
       "1943537                    other  30450.00  Улица               25.0  "
      ]
     },
     "execution_count": 24,
     "metadata": {},
     "output_type": "execute_result"
    }
   ],
   "source": [
    "test.head()"
   ]
  },
  {
   "cell_type": "code",
   "execution_count": 23,
   "metadata": {},
   "outputs": [],
   "source": [
    "#np.sort(df00['year'].value_counts().index)"
   ]
  },
  {
   "cell_type": "code",
   "execution_count": 25,
   "metadata": {},
   "outputs": [
    {
     "data": {
      "text/plain": [
       "0     2017\n",
       "1     2017\n",
       "2     2017\n",
       "3     2015\n",
       "4     2014\n",
       "6     2017\n",
       "7     2016\n",
       "8     2013\n",
       "9     2017\n",
       "10    2013\n",
       "Name: year, dtype: int64"
      ]
     },
     "execution_count": 25,
     "metadata": {},
     "output_type": "execute_result"
    }
   ],
   "source": [
    "df00['year'][:10]"
   ]
  },
  {
   "cell_type": "code",
   "execution_count": 26,
   "metadata": {},
   "outputs": [
    {
     "data": {
      "text/plain": [
       "x_2                  0\n",
       "x_3                  0\n",
       "x_4                  0\n",
       "x_5                  0\n",
       "seasons              0\n",
       "year                 0\n",
       "month                0\n",
       "x_12                 0\n",
       "x_13                 0\n",
       "x_625                0\n",
       "x_627                0\n",
       "x_628                0\n",
       "mortgage_duration    0\n",
       "dtype: int64"
      ]
     },
     "execution_count": 26,
     "metadata": {},
     "output_type": "execute_result"
    }
   ],
   "source": [
    "df00.isna().sum()"
   ]
  },
  {
   "cell_type": "code",
   "execution_count": 27,
   "metadata": {},
   "outputs": [],
   "source": [
    "df00['year'] = df00['year'].replace(dict(zip(np.sort(df00['year'].value_counts().index), [i for i in range(len(df00['year'].value_counts().index))])))"
   ]
  },
  {
   "cell_type": "code",
   "execution_count": 28,
   "metadata": {},
   "outputs": [
    {
     "data": {
      "text/plain": [
       "x_2                  0\n",
       "x_3                  0\n",
       "x_4                  0\n",
       "x_5                  0\n",
       "seasons              0\n",
       "year                 0\n",
       "month                0\n",
       "x_12                 0\n",
       "x_13                 0\n",
       "x_625                0\n",
       "x_627                0\n",
       "x_628                0\n",
       "mortgage_duration    0\n",
       "dtype: int64"
      ]
     },
     "execution_count": 28,
     "metadata": {},
     "output_type": "execute_result"
    }
   ],
   "source": [
    "df00.isna().sum()"
   ]
  },
  {
   "cell_type": "code",
   "execution_count": 29,
   "metadata": {},
   "outputs": [
    {
     "data": {
      "text/plain": [
       "0          5\n",
       "1          5\n",
       "2          5\n",
       "3          3\n",
       "4          2\n",
       "          ..\n",
       "1943522    4\n",
       "1943523    1\n",
       "1943525    2\n",
       "1943526    5\n",
       "1943527    5\n",
       "Name: year, Length: 1527598, dtype: int64"
      ]
     },
     "execution_count": 29,
     "metadata": {},
     "output_type": "execute_result"
    }
   ],
   "source": [
    "df00['year']"
   ]
  },
  {
   "cell_type": "code",
   "execution_count": null,
   "metadata": {},
   "outputs": [],
   "source": []
  },
  {
   "cell_type": "code",
   "execution_count": 30,
   "metadata": {},
   "outputs": [],
   "source": [
    "#df00['mortgage_duration'] = df00['mortgage_duration'].replace(dict(zip(np.sort(df00['mortgage_duration'].value_counts().index), [i for i in range(len(df00['mortgage_duration'].value_counts().index))])))\n",
    "\n"
   ]
  },
  {
   "cell_type": "code",
   "execution_count": 31,
   "metadata": {},
   "outputs": [
    {
     "data": {
      "text/plain": [
       "13"
      ]
     },
     "execution_count": 31,
     "metadata": {},
     "output_type": "execute_result"
    }
   ],
   "source": [
    "len(df00.columns)"
   ]
  },
  {
   "cell_type": "code",
   "execution_count": 32,
   "metadata": {},
   "outputs": [],
   "source": [
    "test['year'] = test['year'].replace(dict(zip(np.sort(test['year'].value_counts().index), [i for i in range(len(test['year'].value_counts().index))])))\n",
    "\n"
   ]
  },
  {
   "cell_type": "code",
   "execution_count": 33,
   "metadata": {},
   "outputs": [
    {
     "data": {
      "text/html": [
       "<div>\n",
       "<style scoped>\n",
       "    .dataframe tbody tr th:only-of-type {\n",
       "        vertical-align: middle;\n",
       "    }\n",
       "\n",
       "    .dataframe tbody tr th {\n",
       "        vertical-align: top;\n",
       "    }\n",
       "\n",
       "    .dataframe thead th {\n",
       "        text-align: right;\n",
       "    }\n",
       "</style>\n",
       "<table border=\"1\" class=\"dataframe\">\n",
       "  <thead>\n",
       "    <tr style=\"text-align: right;\">\n",
       "      <th></th>\n",
       "      <th>x_2</th>\n",
       "      <th>x_3</th>\n",
       "      <th>x_4</th>\n",
       "      <th>x_5</th>\n",
       "      <th>seasons</th>\n",
       "      <th>year</th>\n",
       "      <th>month</th>\n",
       "      <th>x_12</th>\n",
       "      <th>x_13</th>\n",
       "      <th>x_625</th>\n",
       "      <th>x_627</th>\n",
       "      <th>x_628</th>\n",
       "      <th>mortgage_duration</th>\n",
       "    </tr>\n",
       "  </thead>\n",
       "  <tbody>\n",
       "    <tr>\n",
       "      <th>1943531</th>\n",
       "      <td>1</td>\n",
       "      <td>1</td>\n",
       "      <td>1100000.0</td>\n",
       "      <td>157773.90</td>\n",
       "      <td>autumn</td>\n",
       "      <td>2</td>\n",
       "      <td>10</td>\n",
       "      <td>D</td>\n",
       "      <td>4</td>\n",
       "      <td>other</td>\n",
       "      <td>28970.68</td>\n",
       "      <td>Улица</td>\n",
       "      <td>10.0</td>\n",
       "    </tr>\n",
       "    <tr>\n",
       "      <th>1943532</th>\n",
       "      <td>1</td>\n",
       "      <td>1</td>\n",
       "      <td>2580000.0</td>\n",
       "      <td>2187426.61</td>\n",
       "      <td>summer</td>\n",
       "      <td>5</td>\n",
       "      <td>8</td>\n",
       "      <td>D</td>\n",
       "      <td>1</td>\n",
       "      <td>living in city in apart</td>\n",
       "      <td>36616.10</td>\n",
       "      <td>Улица</td>\n",
       "      <td>20.0</td>\n",
       "    </tr>\n",
       "    <tr>\n",
       "      <th>1943533</th>\n",
       "      <td>1</td>\n",
       "      <td>1</td>\n",
       "      <td>1200000.0</td>\n",
       "      <td>385763.26</td>\n",
       "      <td>winter</td>\n",
       "      <td>1</td>\n",
       "      <td>2</td>\n",
       "      <td>D</td>\n",
       "      <td>4</td>\n",
       "      <td>living in city in apart</td>\n",
       "      <td>21713.75</td>\n",
       "      <td>Улица</td>\n",
       "      <td>10.0</td>\n",
       "    </tr>\n",
       "    <tr>\n",
       "      <th>1943534</th>\n",
       "      <td>1</td>\n",
       "      <td>1</td>\n",
       "      <td>637500.0</td>\n",
       "      <td>595369.13</td>\n",
       "      <td>autumn</td>\n",
       "      <td>3</td>\n",
       "      <td>11</td>\n",
       "      <td>B1</td>\n",
       "      <td>4</td>\n",
       "      <td>other</td>\n",
       "      <td>37500.00</td>\n",
       "      <td>ЗП</td>\n",
       "      <td>10.0</td>\n",
       "    </tr>\n",
       "    <tr>\n",
       "      <th>1943537</th>\n",
       "      <td>1</td>\n",
       "      <td>1</td>\n",
       "      <td>1232500.0</td>\n",
       "      <td>1118118.29</td>\n",
       "      <td>spring</td>\n",
       "      <td>2</td>\n",
       "      <td>3</td>\n",
       "      <td>D</td>\n",
       "      <td>2</td>\n",
       "      <td>other</td>\n",
       "      <td>30450.00</td>\n",
       "      <td>Улица</td>\n",
       "      <td>25.0</td>\n",
       "    </tr>\n",
       "  </tbody>\n",
       "</table>\n",
       "</div>"
      ],
      "text/plain": [
       "         x_2  x_3        x_4         x_5 seasons  year  month x_12 x_13  \\\n",
       "1943531    1    1  1100000.0   157773.90  autumn     2     10    D    4   \n",
       "1943532    1    1  2580000.0  2187426.61  summer     5      8    D    1   \n",
       "1943533    1    1  1200000.0   385763.26  winter     1      2    D    4   \n",
       "1943534    1    1   637500.0   595369.13  autumn     3     11   B1    4   \n",
       "1943537    1    1  1232500.0  1118118.29  spring     2      3    D    2   \n",
       "\n",
       "                           x_625     x_627  x_628  mortgage_duration  \n",
       "1943531                    other  28970.68  Улица               10.0  \n",
       "1943532  living in city in apart  36616.10  Улица               20.0  \n",
       "1943533  living in city in apart  21713.75  Улица               10.0  \n",
       "1943534                    other  37500.00     ЗП               10.0  \n",
       "1943537                    other  30450.00  Улица               25.0  "
      ]
     },
     "execution_count": 33,
     "metadata": {},
     "output_type": "execute_result"
    }
   ],
   "source": [
    "test.head()"
   ]
  },
  {
   "cell_type": "code",
   "execution_count": 31,
   "metadata": {},
   "outputs": [],
   "source": [
    "# df00['seasons'] = df00['seasons'].replace(dict(zip(np.sort(df00['seasons'].value_counts().index), [i for i in range(len(df00['seasons'].value_counts().index))])))\n",
    "\n",
    "\n",
    "\n",
    "\n",
    "# test['seasons'] = test['seasons'].replace(dict(zip(np.sort(test['seasons'].value_counts().index), [i for i in range(len(test['seasons'].value_counts().index))])))\n",
    "\n",
    "\n"
   ]
  },
  {
   "cell_type": "code",
   "execution_count": 34,
   "metadata": {},
   "outputs": [],
   "source": [
    "df00['x_625'] = df00['x_625'].replace(dict(zip(np.sort(df00['x_625'].value_counts().index), [i for i in range(len(df00['x_625'].value_counts().index))])))\n",
    "\n",
    "\n",
    "\n",
    "\n",
    "test['x_625'] = test['x_625'].replace(dict(zip(np.sort(test['x_625'].value_counts().index), [i for i in range(len(test['x_625'].value_counts().index))])))\n",
    "\n",
    "\n"
   ]
  },
  {
   "cell_type": "code",
   "execution_count": 35,
   "metadata": {},
   "outputs": [
    {
     "data": {
      "text/plain": [
       "x_2                  0\n",
       "x_3                  0\n",
       "x_4                  0\n",
       "x_5                  0\n",
       "seasons              0\n",
       "year                 0\n",
       "month                0\n",
       "x_12                 0\n",
       "x_13                 0\n",
       "x_625                0\n",
       "x_627                0\n",
       "x_628                0\n",
       "mortgage_duration    0\n",
       "dtype: int64"
      ]
     },
     "execution_count": 35,
     "metadata": {},
     "output_type": "execute_result"
    }
   ],
   "source": [
    "df00.isna().sum()"
   ]
  },
  {
   "cell_type": "code",
   "execution_count": 36,
   "metadata": {},
   "outputs": [
    {
     "data": {
      "text/plain": [
       "x_2                  0\n",
       "x_3                  0\n",
       "x_4                  0\n",
       "x_5                  0\n",
       "seasons              0\n",
       "year                 0\n",
       "month                0\n",
       "x_12                 0\n",
       "x_13                 0\n",
       "x_625                0\n",
       "x_627                0\n",
       "x_628                0\n",
       "mortgage_duration    0\n",
       "dtype: int64"
      ]
     },
     "execution_count": 36,
     "metadata": {},
     "output_type": "execute_result"
    }
   ],
   "source": [
    "test.isna().sum()"
   ]
  },
  {
   "cell_type": "code",
   "execution_count": 37,
   "metadata": {},
   "outputs": [
    {
     "data": {
      "text/html": [
       "<div>\n",
       "<style scoped>\n",
       "    .dataframe tbody tr th:only-of-type {\n",
       "        vertical-align: middle;\n",
       "    }\n",
       "\n",
       "    .dataframe tbody tr th {\n",
       "        vertical-align: top;\n",
       "    }\n",
       "\n",
       "    .dataframe thead th {\n",
       "        text-align: right;\n",
       "    }\n",
       "</style>\n",
       "<table border=\"1\" class=\"dataframe\">\n",
       "  <thead>\n",
       "    <tr style=\"text-align: right;\">\n",
       "      <th></th>\n",
       "      <th>x_2</th>\n",
       "      <th>x_3</th>\n",
       "      <th>x_4</th>\n",
       "      <th>x_5</th>\n",
       "      <th>seasons</th>\n",
       "      <th>year</th>\n",
       "      <th>month</th>\n",
       "      <th>x_12</th>\n",
       "      <th>x_13</th>\n",
       "      <th>x_625</th>\n",
       "      <th>x_627</th>\n",
       "      <th>x_628</th>\n",
       "      <th>mortgage_duration</th>\n",
       "    </tr>\n",
       "  </thead>\n",
       "  <tbody>\n",
       "    <tr>\n",
       "      <th>1943531</th>\n",
       "      <td>1</td>\n",
       "      <td>1</td>\n",
       "      <td>1100000.0</td>\n",
       "      <td>157773.90</td>\n",
       "      <td>autumn</td>\n",
       "      <td>2</td>\n",
       "      <td>10</td>\n",
       "      <td>D</td>\n",
       "      <td>4</td>\n",
       "      <td>1</td>\n",
       "      <td>28970.68</td>\n",
       "      <td>Улица</td>\n",
       "      <td>10.0</td>\n",
       "    </tr>\n",
       "    <tr>\n",
       "      <th>1943532</th>\n",
       "      <td>1</td>\n",
       "      <td>1</td>\n",
       "      <td>2580000.0</td>\n",
       "      <td>2187426.61</td>\n",
       "      <td>summer</td>\n",
       "      <td>5</td>\n",
       "      <td>8</td>\n",
       "      <td>D</td>\n",
       "      <td>1</td>\n",
       "      <td>0</td>\n",
       "      <td>36616.10</td>\n",
       "      <td>Улица</td>\n",
       "      <td>20.0</td>\n",
       "    </tr>\n",
       "    <tr>\n",
       "      <th>1943533</th>\n",
       "      <td>1</td>\n",
       "      <td>1</td>\n",
       "      <td>1200000.0</td>\n",
       "      <td>385763.26</td>\n",
       "      <td>winter</td>\n",
       "      <td>1</td>\n",
       "      <td>2</td>\n",
       "      <td>D</td>\n",
       "      <td>4</td>\n",
       "      <td>0</td>\n",
       "      <td>21713.75</td>\n",
       "      <td>Улица</td>\n",
       "      <td>10.0</td>\n",
       "    </tr>\n",
       "    <tr>\n",
       "      <th>1943534</th>\n",
       "      <td>1</td>\n",
       "      <td>1</td>\n",
       "      <td>637500.0</td>\n",
       "      <td>595369.13</td>\n",
       "      <td>autumn</td>\n",
       "      <td>3</td>\n",
       "      <td>11</td>\n",
       "      <td>B1</td>\n",
       "      <td>4</td>\n",
       "      <td>1</td>\n",
       "      <td>37500.00</td>\n",
       "      <td>ЗП</td>\n",
       "      <td>10.0</td>\n",
       "    </tr>\n",
       "    <tr>\n",
       "      <th>1943537</th>\n",
       "      <td>1</td>\n",
       "      <td>1</td>\n",
       "      <td>1232500.0</td>\n",
       "      <td>1118118.29</td>\n",
       "      <td>spring</td>\n",
       "      <td>2</td>\n",
       "      <td>3</td>\n",
       "      <td>D</td>\n",
       "      <td>2</td>\n",
       "      <td>1</td>\n",
       "      <td>30450.00</td>\n",
       "      <td>Улица</td>\n",
       "      <td>25.0</td>\n",
       "    </tr>\n",
       "  </tbody>\n",
       "</table>\n",
       "</div>"
      ],
      "text/plain": [
       "         x_2  x_3        x_4         x_5 seasons  year  month x_12 x_13  \\\n",
       "1943531    1    1  1100000.0   157773.90  autumn     2     10    D    4   \n",
       "1943532    1    1  2580000.0  2187426.61  summer     5      8    D    1   \n",
       "1943533    1    1  1200000.0   385763.26  winter     1      2    D    4   \n",
       "1943534    1    1   637500.0   595369.13  autumn     3     11   B1    4   \n",
       "1943537    1    1  1232500.0  1118118.29  spring     2      3    D    2   \n",
       "\n",
       "         x_625     x_627  x_628  mortgage_duration  \n",
       "1943531      1  28970.68  Улица               10.0  \n",
       "1943532      0  36616.10  Улица               20.0  \n",
       "1943533      0  21713.75  Улица               10.0  \n",
       "1943534      1  37500.00     ЗП               10.0  \n",
       "1943537      1  30450.00  Улица               25.0  "
      ]
     },
     "execution_count": 37,
     "metadata": {},
     "output_type": "execute_result"
    }
   ],
   "source": [
    "test.head()"
   ]
  },
  {
   "cell_type": "code",
   "execution_count": 38,
   "metadata": {},
   "outputs": [],
   "source": [
    "from sklearn.preprocessing import OneHotEncoder"
   ]
  },
  {
   "cell_type": "code",
   "execution_count": 39,
   "metadata": {},
   "outputs": [],
   "source": [
    "cat_feat = ['x_12', 'x_628', 'seasons']\n",
    "ohe = OneHotEncoder(sparse = False) \n",
    "encoded_feat = pd.DataFrame(ohe.fit_transform(df00[cat_feat]))\n"
   ]
  },
  {
   "cell_type": "code",
   "execution_count": 40,
   "metadata": {},
   "outputs": [
    {
     "name": "stdout",
     "output_type": "stream",
     "text": [
      "          0    1    2    3    4    5    6    7    8    9    10   11   12   13\n",
      "0        0.0  0.0  0.0  1.0  0.0  0.0  0.0  1.0  0.0  0.0  0.0  1.0  0.0  0.0\n",
      "1        0.0  0.0  0.0  1.0  0.0  0.0  0.0  1.0  0.0  0.0  0.0  0.0  0.0  1.0\n",
      "2        0.0  0.0  0.0  0.0  0.0  1.0  0.0  0.0  0.0  1.0  1.0  0.0  0.0  0.0\n",
      "3        0.0  0.0  0.0  0.0  0.0  0.0  1.0  0.0  0.0  1.0  0.0  0.0  0.0  1.0\n",
      "4        1.0  0.0  0.0  0.0  0.0  0.0  0.0  0.0  1.0  0.0  1.0  0.0  0.0  0.0\n",
      "...      ...  ...  ...  ...  ...  ...  ...  ...  ...  ...  ...  ...  ...  ...\n",
      "1527593  0.0  0.0  0.0  0.0  0.0  1.0  0.0  0.0  0.0  1.0  0.0  0.0  1.0  0.0\n",
      "1527594  0.0  0.0  0.0  1.0  0.0  0.0  0.0  1.0  0.0  0.0  0.0  0.0  1.0  0.0\n",
      "1527595  0.0  0.0  0.0  0.0  0.0  1.0  0.0  0.0  0.0  1.0  0.0  1.0  0.0  0.0\n",
      "1527596  0.0  0.0  0.0  1.0  0.0  0.0  0.0  1.0  0.0  0.0  0.0  0.0  0.0  1.0\n",
      "1527597  0.0  0.0  0.0  0.0  0.0  1.0  0.0  0.0  0.0  1.0  0.0  0.0  1.0  0.0\n",
      "\n",
      "[1527598 rows x 14 columns]\n"
     ]
    }
   ],
   "source": [
    "print(encoded_feat)"
   ]
  },
  {
   "cell_type": "code",
   "execution_count": 41,
   "metadata": {},
   "outputs": [],
   "source": [
    "\n",
    "encoded_columns = list(ohe.categories_[0]) + list(ohe.categories_[1]) + list(ohe.categories_[2])\n"
   ]
  },
  {
   "cell_type": "code",
   "execution_count": 42,
   "metadata": {},
   "outputs": [],
   "source": [
    "encoded_feat.columns = encoded_columns\n"
   ]
  },
  {
   "cell_type": "code",
   "execution_count": 49,
   "metadata": {},
   "outputs": [
    {
     "data": {
      "text/plain": [
       "(1527598, 10)"
      ]
     },
     "execution_count": 49,
     "metadata": {},
     "output_type": "execute_result"
    }
   ],
   "source": [
    "df00.shape"
   ]
  },
  {
   "cell_type": "code",
   "execution_count": 57,
   "metadata": {},
   "outputs": [],
   "source": [
    "df00.reset_index(inplace = True)"
   ]
  },
  {
   "cell_type": "code",
   "execution_count": 58,
   "metadata": {
    "scrolled": true
   },
   "outputs": [
    {
     "ename": "KeyError",
     "evalue": "\"['x_12' 'x_628' 'seasons'] not found in axis\"",
     "output_type": "error",
     "traceback": [
      "\u001b[0;31m---------------------------------------------------------------------------\u001b[0m",
      "\u001b[0;31mKeyError\u001b[0m                                  Traceback (most recent call last)",
      "\u001b[0;32m<ipython-input-58-3ba98f31a758>\u001b[0m in \u001b[0;36m<module>\u001b[0;34m\u001b[0m\n\u001b[1;32m      1\u001b[0m \u001b[0;34m\u001b[0m\u001b[0m\n\u001b[0;32m----> 2\u001b[0;31m \u001b[0mdf00\u001b[0m\u001b[0;34m.\u001b[0m\u001b[0mdrop\u001b[0m\u001b[0;34m(\u001b[0m\u001b[0mcat_feat\u001b[0m\u001b[0;34m,\u001b[0m \u001b[0maxis\u001b[0m \u001b[0;34m=\u001b[0m \u001b[0;36m1\u001b[0m\u001b[0;34m,\u001b[0m \u001b[0minplace\u001b[0m \u001b[0;34m=\u001b[0m \u001b[0;32mTrue\u001b[0m\u001b[0;34m)\u001b[0m\u001b[0;34m\u001b[0m\u001b[0;34m\u001b[0m\u001b[0m\n\u001b[0m\u001b[1;32m      3\u001b[0m \u001b[0;34m\u001b[0m\u001b[0m\n",
      "\u001b[0;32m/opt/conda/lib/python3.6/site-packages/pandas/core/frame.py\u001b[0m in \u001b[0;36mdrop\u001b[0;34m(self, labels, axis, index, columns, level, inplace, errors)\u001b[0m\n\u001b[1;32m   4172\u001b[0m             \u001b[0mlevel\u001b[0m\u001b[0;34m=\u001b[0m\u001b[0mlevel\u001b[0m\u001b[0;34m,\u001b[0m\u001b[0;34m\u001b[0m\u001b[0;34m\u001b[0m\u001b[0m\n\u001b[1;32m   4173\u001b[0m             \u001b[0minplace\u001b[0m\u001b[0;34m=\u001b[0m\u001b[0minplace\u001b[0m\u001b[0;34m,\u001b[0m\u001b[0;34m\u001b[0m\u001b[0;34m\u001b[0m\u001b[0m\n\u001b[0;32m-> 4174\u001b[0;31m             \u001b[0merrors\u001b[0m\u001b[0;34m=\u001b[0m\u001b[0merrors\u001b[0m\u001b[0;34m,\u001b[0m\u001b[0;34m\u001b[0m\u001b[0;34m\u001b[0m\u001b[0m\n\u001b[0m\u001b[1;32m   4175\u001b[0m         )\n\u001b[1;32m   4176\u001b[0m \u001b[0;34m\u001b[0m\u001b[0m\n",
      "\u001b[0;32m/opt/conda/lib/python3.6/site-packages/pandas/core/generic.py\u001b[0m in \u001b[0;36mdrop\u001b[0;34m(self, labels, axis, index, columns, level, inplace, errors)\u001b[0m\n\u001b[1;32m   3887\u001b[0m         \u001b[0;32mfor\u001b[0m \u001b[0maxis\u001b[0m\u001b[0;34m,\u001b[0m \u001b[0mlabels\u001b[0m \u001b[0;32min\u001b[0m \u001b[0maxes\u001b[0m\u001b[0;34m.\u001b[0m\u001b[0mitems\u001b[0m\u001b[0;34m(\u001b[0m\u001b[0;34m)\u001b[0m\u001b[0;34m:\u001b[0m\u001b[0;34m\u001b[0m\u001b[0;34m\u001b[0m\u001b[0m\n\u001b[1;32m   3888\u001b[0m             \u001b[0;32mif\u001b[0m \u001b[0mlabels\u001b[0m \u001b[0;32mis\u001b[0m \u001b[0;32mnot\u001b[0m \u001b[0;32mNone\u001b[0m\u001b[0;34m:\u001b[0m\u001b[0;34m\u001b[0m\u001b[0;34m\u001b[0m\u001b[0m\n\u001b[0;32m-> 3889\u001b[0;31m                 \u001b[0mobj\u001b[0m \u001b[0;34m=\u001b[0m \u001b[0mobj\u001b[0m\u001b[0;34m.\u001b[0m\u001b[0m_drop_axis\u001b[0m\u001b[0;34m(\u001b[0m\u001b[0mlabels\u001b[0m\u001b[0;34m,\u001b[0m \u001b[0maxis\u001b[0m\u001b[0;34m,\u001b[0m \u001b[0mlevel\u001b[0m\u001b[0;34m=\u001b[0m\u001b[0mlevel\u001b[0m\u001b[0;34m,\u001b[0m \u001b[0merrors\u001b[0m\u001b[0;34m=\u001b[0m\u001b[0merrors\u001b[0m\u001b[0;34m)\u001b[0m\u001b[0;34m\u001b[0m\u001b[0;34m\u001b[0m\u001b[0m\n\u001b[0m\u001b[1;32m   3890\u001b[0m \u001b[0;34m\u001b[0m\u001b[0m\n\u001b[1;32m   3891\u001b[0m         \u001b[0;32mif\u001b[0m \u001b[0minplace\u001b[0m\u001b[0;34m:\u001b[0m\u001b[0;34m\u001b[0m\u001b[0;34m\u001b[0m\u001b[0m\n",
      "\u001b[0;32m/opt/conda/lib/python3.6/site-packages/pandas/core/generic.py\u001b[0m in \u001b[0;36m_drop_axis\u001b[0;34m(self, labels, axis, level, errors)\u001b[0m\n\u001b[1;32m   3921\u001b[0m                 \u001b[0mnew_axis\u001b[0m \u001b[0;34m=\u001b[0m \u001b[0maxis\u001b[0m\u001b[0;34m.\u001b[0m\u001b[0mdrop\u001b[0m\u001b[0;34m(\u001b[0m\u001b[0mlabels\u001b[0m\u001b[0;34m,\u001b[0m \u001b[0mlevel\u001b[0m\u001b[0;34m=\u001b[0m\u001b[0mlevel\u001b[0m\u001b[0;34m,\u001b[0m \u001b[0merrors\u001b[0m\u001b[0;34m=\u001b[0m\u001b[0merrors\u001b[0m\u001b[0;34m)\u001b[0m\u001b[0;34m\u001b[0m\u001b[0;34m\u001b[0m\u001b[0m\n\u001b[1;32m   3922\u001b[0m             \u001b[0;32melse\u001b[0m\u001b[0;34m:\u001b[0m\u001b[0;34m\u001b[0m\u001b[0;34m\u001b[0m\u001b[0m\n\u001b[0;32m-> 3923\u001b[0;31m                 \u001b[0mnew_axis\u001b[0m \u001b[0;34m=\u001b[0m \u001b[0maxis\u001b[0m\u001b[0;34m.\u001b[0m\u001b[0mdrop\u001b[0m\u001b[0;34m(\u001b[0m\u001b[0mlabels\u001b[0m\u001b[0;34m,\u001b[0m \u001b[0merrors\u001b[0m\u001b[0;34m=\u001b[0m\u001b[0merrors\u001b[0m\u001b[0;34m)\u001b[0m\u001b[0;34m\u001b[0m\u001b[0;34m\u001b[0m\u001b[0m\n\u001b[0m\u001b[1;32m   3924\u001b[0m             \u001b[0mresult\u001b[0m \u001b[0;34m=\u001b[0m \u001b[0mself\u001b[0m\u001b[0;34m.\u001b[0m\u001b[0mreindex\u001b[0m\u001b[0;34m(\u001b[0m\u001b[0;34m**\u001b[0m\u001b[0;34m{\u001b[0m\u001b[0maxis_name\u001b[0m\u001b[0;34m:\u001b[0m \u001b[0mnew_axis\u001b[0m\u001b[0;34m}\u001b[0m\u001b[0;34m)\u001b[0m\u001b[0;34m\u001b[0m\u001b[0;34m\u001b[0m\u001b[0m\n\u001b[1;32m   3925\u001b[0m \u001b[0;34m\u001b[0m\u001b[0m\n",
      "\u001b[0;32m/opt/conda/lib/python3.6/site-packages/pandas/core/indexes/base.py\u001b[0m in \u001b[0;36mdrop\u001b[0;34m(self, labels, errors)\u001b[0m\n\u001b[1;32m   5285\u001b[0m         \u001b[0;32mif\u001b[0m \u001b[0mmask\u001b[0m\u001b[0;34m.\u001b[0m\u001b[0many\u001b[0m\u001b[0;34m(\u001b[0m\u001b[0;34m)\u001b[0m\u001b[0;34m:\u001b[0m\u001b[0;34m\u001b[0m\u001b[0;34m\u001b[0m\u001b[0m\n\u001b[1;32m   5286\u001b[0m             \u001b[0;32mif\u001b[0m \u001b[0merrors\u001b[0m \u001b[0;34m!=\u001b[0m \u001b[0;34m\"ignore\"\u001b[0m\u001b[0;34m:\u001b[0m\u001b[0;34m\u001b[0m\u001b[0;34m\u001b[0m\u001b[0m\n\u001b[0;32m-> 5287\u001b[0;31m                 \u001b[0;32mraise\u001b[0m \u001b[0mKeyError\u001b[0m\u001b[0;34m(\u001b[0m\u001b[0;34mf\"{labels[mask]} not found in axis\"\u001b[0m\u001b[0;34m)\u001b[0m\u001b[0;34m\u001b[0m\u001b[0;34m\u001b[0m\u001b[0m\n\u001b[0m\u001b[1;32m   5288\u001b[0m             \u001b[0mindexer\u001b[0m \u001b[0;34m=\u001b[0m \u001b[0mindexer\u001b[0m\u001b[0;34m[\u001b[0m\u001b[0;34m~\u001b[0m\u001b[0mmask\u001b[0m\u001b[0;34m]\u001b[0m\u001b[0;34m\u001b[0m\u001b[0;34m\u001b[0m\u001b[0m\n\u001b[1;32m   5289\u001b[0m         \u001b[0;32mreturn\u001b[0m \u001b[0mself\u001b[0m\u001b[0;34m.\u001b[0m\u001b[0mdelete\u001b[0m\u001b[0;34m(\u001b[0m\u001b[0mindexer\u001b[0m\u001b[0;34m)\u001b[0m\u001b[0;34m\u001b[0m\u001b[0;34m\u001b[0m\u001b[0m\n",
      "\u001b[0;31mKeyError\u001b[0m: \"['x_12' 'x_628' 'seasons'] not found in axis\""
     ]
    }
   ],
   "source": [
    "\n",
    "df00.drop(cat_feat, axis = 1, inplace = True)\n",
    "\n"
   ]
  },
  {
   "cell_type": "code",
   "execution_count": 64,
   "metadata": {},
   "outputs": [],
   "source": [
    "df00.to_csv('df00_dofinala.csv')"
   ]
  },
  {
   "cell_type": "code",
   "execution_count": 59,
   "metadata": {},
   "outputs": [],
   "source": [
    "df01 = pd.concat([df00, encoded_feat], axis = 1)"
   ]
  },
  {
   "cell_type": "code",
   "execution_count": 60,
   "metadata": {
    "scrolled": false
   },
   "outputs": [
    {
     "data": {
      "text/html": [
       "<div>\n",
       "<style scoped>\n",
       "    .dataframe tbody tr th:only-of-type {\n",
       "        vertical-align: middle;\n",
       "    }\n",
       "\n",
       "    .dataframe tbody tr th {\n",
       "        vertical-align: top;\n",
       "    }\n",
       "\n",
       "    .dataframe thead th {\n",
       "        text-align: right;\n",
       "    }\n",
       "</style>\n",
       "<table border=\"1\" class=\"dataframe\">\n",
       "  <thead>\n",
       "    <tr style=\"text-align: right;\">\n",
       "      <th></th>\n",
       "      <th>index</th>\n",
       "      <th>x_2</th>\n",
       "      <th>x_3</th>\n",
       "      <th>x_4</th>\n",
       "      <th>x_5</th>\n",
       "      <th>year</th>\n",
       "      <th>month</th>\n",
       "      <th>x_13</th>\n",
       "      <th>x_625</th>\n",
       "      <th>x_627</th>\n",
       "      <th>...</th>\n",
       "      <th>C</th>\n",
       "      <th>D</th>\n",
       "      <th>N</th>\n",
       "      <th>ЗП</th>\n",
       "      <th>Сотрудники</th>\n",
       "      <th>Улица</th>\n",
       "      <th>autumn</th>\n",
       "      <th>spring</th>\n",
       "      <th>summer</th>\n",
       "      <th>winter</th>\n",
       "    </tr>\n",
       "  </thead>\n",
       "  <tbody>\n",
       "    <tr>\n",
       "      <th>0</th>\n",
       "      <td>0</td>\n",
       "      <td>1</td>\n",
       "      <td>1</td>\n",
       "      <td>2100000.0</td>\n",
       "      <td>1505828.87</td>\n",
       "      <td>5</td>\n",
       "      <td>3</td>\n",
       "      <td>4</td>\n",
       "      <td>0</td>\n",
       "      <td>31776.56</td>\n",
       "      <td>...</td>\n",
       "      <td>0.0</td>\n",
       "      <td>0.0</td>\n",
       "      <td>0.0</td>\n",
       "      <td>1.0</td>\n",
       "      <td>0.0</td>\n",
       "      <td>0.0</td>\n",
       "      <td>0.0</td>\n",
       "      <td>1.0</td>\n",
       "      <td>0.0</td>\n",
       "      <td>0.0</td>\n",
       "    </tr>\n",
       "    <tr>\n",
       "      <th>1</th>\n",
       "      <td>1</td>\n",
       "      <td>1</td>\n",
       "      <td>1</td>\n",
       "      <td>900000.0</td>\n",
       "      <td>363535.29</td>\n",
       "      <td>5</td>\n",
       "      <td>2</td>\n",
       "      <td>4</td>\n",
       "      <td>1</td>\n",
       "      <td>75000.00</td>\n",
       "      <td>...</td>\n",
       "      <td>0.0</td>\n",
       "      <td>0.0</td>\n",
       "      <td>0.0</td>\n",
       "      <td>1.0</td>\n",
       "      <td>0.0</td>\n",
       "      <td>0.0</td>\n",
       "      <td>0.0</td>\n",
       "      <td>0.0</td>\n",
       "      <td>0.0</td>\n",
       "      <td>1.0</td>\n",
       "    </tr>\n",
       "    <tr>\n",
       "      <th>2</th>\n",
       "      <td>2</td>\n",
       "      <td>1</td>\n",
       "      <td>1</td>\n",
       "      <td>1000000.0</td>\n",
       "      <td>990956.71</td>\n",
       "      <td>5</td>\n",
       "      <td>9</td>\n",
       "      <td>1</td>\n",
       "      <td>0</td>\n",
       "      <td>44570.41</td>\n",
       "      <td>...</td>\n",
       "      <td>0.0</td>\n",
       "      <td>1.0</td>\n",
       "      <td>0.0</td>\n",
       "      <td>0.0</td>\n",
       "      <td>0.0</td>\n",
       "      <td>1.0</td>\n",
       "      <td>1.0</td>\n",
       "      <td>0.0</td>\n",
       "      <td>0.0</td>\n",
       "      <td>0.0</td>\n",
       "    </tr>\n",
       "    <tr>\n",
       "      <th>3</th>\n",
       "      <td>3</td>\n",
       "      <td>1</td>\n",
       "      <td>1</td>\n",
       "      <td>1400000.0</td>\n",
       "      <td>566338.60</td>\n",
       "      <td>3</td>\n",
       "      <td>2</td>\n",
       "      <td>4</td>\n",
       "      <td>0</td>\n",
       "      <td>85000.00</td>\n",
       "      <td>...</td>\n",
       "      <td>0.0</td>\n",
       "      <td>0.0</td>\n",
       "      <td>1.0</td>\n",
       "      <td>0.0</td>\n",
       "      <td>0.0</td>\n",
       "      <td>1.0</td>\n",
       "      <td>0.0</td>\n",
       "      <td>0.0</td>\n",
       "      <td>0.0</td>\n",
       "      <td>1.0</td>\n",
       "    </tr>\n",
       "    <tr>\n",
       "      <th>4</th>\n",
       "      <td>4</td>\n",
       "      <td>1</td>\n",
       "      <td>1</td>\n",
       "      <td>2114500.0</td>\n",
       "      <td>1414693.51</td>\n",
       "      <td>2</td>\n",
       "      <td>10</td>\n",
       "      <td>1</td>\n",
       "      <td>0</td>\n",
       "      <td>103837.03</td>\n",
       "      <td>...</td>\n",
       "      <td>0.0</td>\n",
       "      <td>0.0</td>\n",
       "      <td>0.0</td>\n",
       "      <td>0.0</td>\n",
       "      <td>1.0</td>\n",
       "      <td>0.0</td>\n",
       "      <td>1.0</td>\n",
       "      <td>0.0</td>\n",
       "      <td>0.0</td>\n",
       "      <td>0.0</td>\n",
       "    </tr>\n",
       "  </tbody>\n",
       "</table>\n",
       "<p>5 rows × 25 columns</p>\n",
       "</div>"
      ],
      "text/plain": [
       "   index  x_2  x_3        x_4         x_5  year  month x_13  x_625      x_627  \\\n",
       "0      0    1    1  2100000.0  1505828.87     5      3    4      0   31776.56   \n",
       "1      1    1    1   900000.0   363535.29     5      2    4      1   75000.00   \n",
       "2      2    1    1  1000000.0   990956.71     5      9    1      0   44570.41   \n",
       "3      3    1    1  1400000.0   566338.60     3      2    4      0   85000.00   \n",
       "4      4    1    1  2114500.0  1414693.51     2     10    1      0  103837.03   \n",
       "\n",
       "   ...    C    D    N   ЗП  Сотрудники  Улица  autumn  spring  summer  winter  \n",
       "0  ...  0.0  0.0  0.0  1.0         0.0    0.0     0.0     1.0     0.0     0.0  \n",
       "1  ...  0.0  0.0  0.0  1.0         0.0    0.0     0.0     0.0     0.0     1.0  \n",
       "2  ...  0.0  1.0  0.0  0.0         0.0    1.0     1.0     0.0     0.0     0.0  \n",
       "3  ...  0.0  0.0  1.0  0.0         0.0    1.0     0.0     0.0     0.0     1.0  \n",
       "4  ...  0.0  0.0  0.0  0.0         1.0    0.0     1.0     0.0     0.0     0.0  \n",
       "\n",
       "[5 rows x 25 columns]"
      ]
     },
     "execution_count": 60,
     "metadata": {},
     "output_type": "execute_result"
    }
   ],
   "source": [
    "df01.head()"
   ]
  },
  {
   "cell_type": "code",
   "execution_count": 61,
   "metadata": {},
   "outputs": [
    {
     "data": {
      "text/plain": [
       "index                0\n",
       "x_2                  0\n",
       "x_3                  0\n",
       "x_4                  0\n",
       "x_5                  0\n",
       "year                 0\n",
       "month                0\n",
       "x_13                 0\n",
       "x_625                0\n",
       "x_627                0\n",
       "mortgage_duration    0\n",
       "A                    0\n",
       "A1                   0\n",
       "B                    0\n",
       "B1                   0\n",
       "C                    0\n",
       "D                    0\n",
       "N                    0\n",
       "ЗП                   0\n",
       "Сотрудники           0\n",
       "Улица                0\n",
       "autumn               0\n",
       "spring               0\n",
       "summer               0\n",
       "winter               0\n",
       "dtype: int64"
      ]
     },
     "execution_count": 61,
     "metadata": {},
     "output_type": "execute_result"
    }
   ],
   "source": [
    "df01.isna().sum()"
   ]
  },
  {
   "cell_type": "code",
   "execution_count": 62,
   "metadata": {},
   "outputs": [
    {
     "data": {
      "text/plain": [
       "(1527598, 11)"
      ]
     },
     "execution_count": 62,
     "metadata": {},
     "output_type": "execute_result"
    }
   ],
   "source": [
    "df00.shape"
   ]
  },
  {
   "cell_type": "code",
   "execution_count": 65,
   "metadata": {},
   "outputs": [
    {
     "data": {
      "text/plain": [
       "index                0\n",
       "x_2                  0\n",
       "x_3                  0\n",
       "x_4                  0\n",
       "x_5                  0\n",
       "year                 0\n",
       "month                0\n",
       "x_13                 0\n",
       "x_625                0\n",
       "x_627                0\n",
       "mortgage_duration    0\n",
       "dtype: int64"
      ]
     },
     "execution_count": 65,
     "metadata": {},
     "output_type": "execute_result"
    }
   ],
   "source": [
    "df00.isna().sum()"
   ]
  },
  {
   "cell_type": "code",
   "execution_count": 66,
   "metadata": {},
   "outputs": [],
   "source": [
    "encoded_feat_test = pd.DataFrame(ohe.fit_transform(test[cat_feat]))"
   ]
  },
  {
   "cell_type": "code",
   "execution_count": 67,
   "metadata": {},
   "outputs": [],
   "source": [
    "encoded_feat_test.columns = encoded_columns"
   ]
  },
  {
   "cell_type": "code",
   "execution_count": null,
   "metadata": {},
   "outputs": [],
   "source": []
  },
  {
   "cell_type": "code",
   "execution_count": null,
   "metadata": {},
   "outputs": [],
   "source": []
  },
  {
   "cell_type": "code",
   "execution_count": 69,
   "metadata": {},
   "outputs": [],
   "source": [
    "test.reset_index(inplace = True)"
   ]
  },
  {
   "cell_type": "code",
   "execution_count": 71,
   "metadata": {},
   "outputs": [
    {
     "data": {
      "text/html": [
       "<div>\n",
       "<style scoped>\n",
       "    .dataframe tbody tr th:only-of-type {\n",
       "        vertical-align: middle;\n",
       "    }\n",
       "\n",
       "    .dataframe tbody tr th {\n",
       "        vertical-align: top;\n",
       "    }\n",
       "\n",
       "    .dataframe thead th {\n",
       "        text-align: right;\n",
       "    }\n",
       "</style>\n",
       "<table border=\"1\" class=\"dataframe\">\n",
       "  <thead>\n",
       "    <tr style=\"text-align: right;\">\n",
       "      <th></th>\n",
       "      <th>A</th>\n",
       "      <th>A1</th>\n",
       "      <th>B</th>\n",
       "      <th>B1</th>\n",
       "      <th>C</th>\n",
       "      <th>D</th>\n",
       "      <th>N</th>\n",
       "      <th>ЗП</th>\n",
       "      <th>Сотрудники</th>\n",
       "      <th>Улица</th>\n",
       "      <th>autumn</th>\n",
       "      <th>spring</th>\n",
       "      <th>summer</th>\n",
       "      <th>winter</th>\n",
       "    </tr>\n",
       "  </thead>\n",
       "  <tbody>\n",
       "    <tr>\n",
       "      <th>0</th>\n",
       "      <td>0.0</td>\n",
       "      <td>0.0</td>\n",
       "      <td>0.0</td>\n",
       "      <td>0.0</td>\n",
       "      <td>0.0</td>\n",
       "      <td>1.0</td>\n",
       "      <td>0.0</td>\n",
       "      <td>0.0</td>\n",
       "      <td>0.0</td>\n",
       "      <td>1.0</td>\n",
       "      <td>1.0</td>\n",
       "      <td>0.0</td>\n",
       "      <td>0.0</td>\n",
       "      <td>0.0</td>\n",
       "    </tr>\n",
       "    <tr>\n",
       "      <th>1</th>\n",
       "      <td>0.0</td>\n",
       "      <td>0.0</td>\n",
       "      <td>0.0</td>\n",
       "      <td>0.0</td>\n",
       "      <td>0.0</td>\n",
       "      <td>1.0</td>\n",
       "      <td>0.0</td>\n",
       "      <td>0.0</td>\n",
       "      <td>0.0</td>\n",
       "      <td>1.0</td>\n",
       "      <td>0.0</td>\n",
       "      <td>0.0</td>\n",
       "      <td>1.0</td>\n",
       "      <td>0.0</td>\n",
       "    </tr>\n",
       "    <tr>\n",
       "      <th>2</th>\n",
       "      <td>0.0</td>\n",
       "      <td>0.0</td>\n",
       "      <td>0.0</td>\n",
       "      <td>0.0</td>\n",
       "      <td>0.0</td>\n",
       "      <td>1.0</td>\n",
       "      <td>0.0</td>\n",
       "      <td>0.0</td>\n",
       "      <td>0.0</td>\n",
       "      <td>1.0</td>\n",
       "      <td>0.0</td>\n",
       "      <td>0.0</td>\n",
       "      <td>0.0</td>\n",
       "      <td>1.0</td>\n",
       "    </tr>\n",
       "    <tr>\n",
       "      <th>3</th>\n",
       "      <td>0.0</td>\n",
       "      <td>0.0</td>\n",
       "      <td>0.0</td>\n",
       "      <td>1.0</td>\n",
       "      <td>0.0</td>\n",
       "      <td>0.0</td>\n",
       "      <td>0.0</td>\n",
       "      <td>1.0</td>\n",
       "      <td>0.0</td>\n",
       "      <td>0.0</td>\n",
       "      <td>1.0</td>\n",
       "      <td>0.0</td>\n",
       "      <td>0.0</td>\n",
       "      <td>0.0</td>\n",
       "    </tr>\n",
       "    <tr>\n",
       "      <th>4</th>\n",
       "      <td>0.0</td>\n",
       "      <td>0.0</td>\n",
       "      <td>0.0</td>\n",
       "      <td>0.0</td>\n",
       "      <td>0.0</td>\n",
       "      <td>1.0</td>\n",
       "      <td>0.0</td>\n",
       "      <td>0.0</td>\n",
       "      <td>0.0</td>\n",
       "      <td>1.0</td>\n",
       "      <td>0.0</td>\n",
       "      <td>1.0</td>\n",
       "      <td>0.0</td>\n",
       "      <td>0.0</td>\n",
       "    </tr>\n",
       "    <tr>\n",
       "      <th>...</th>\n",
       "      <td>...</td>\n",
       "      <td>...</td>\n",
       "      <td>...</td>\n",
       "      <td>...</td>\n",
       "      <td>...</td>\n",
       "      <td>...</td>\n",
       "      <td>...</td>\n",
       "      <td>...</td>\n",
       "      <td>...</td>\n",
       "      <td>...</td>\n",
       "      <td>...</td>\n",
       "      <td>...</td>\n",
       "      <td>...</td>\n",
       "      <td>...</td>\n",
       "    </tr>\n",
       "    <tr>\n",
       "      <th>763804</th>\n",
       "      <td>0.0</td>\n",
       "      <td>0.0</td>\n",
       "      <td>0.0</td>\n",
       "      <td>0.0</td>\n",
       "      <td>0.0</td>\n",
       "      <td>1.0</td>\n",
       "      <td>0.0</td>\n",
       "      <td>0.0</td>\n",
       "      <td>0.0</td>\n",
       "      <td>1.0</td>\n",
       "      <td>0.0</td>\n",
       "      <td>0.0</td>\n",
       "      <td>1.0</td>\n",
       "      <td>0.0</td>\n",
       "    </tr>\n",
       "    <tr>\n",
       "      <th>763805</th>\n",
       "      <td>0.0</td>\n",
       "      <td>0.0</td>\n",
       "      <td>0.0</td>\n",
       "      <td>0.0</td>\n",
       "      <td>0.0</td>\n",
       "      <td>1.0</td>\n",
       "      <td>0.0</td>\n",
       "      <td>0.0</td>\n",
       "      <td>0.0</td>\n",
       "      <td>1.0</td>\n",
       "      <td>0.0</td>\n",
       "      <td>0.0</td>\n",
       "      <td>1.0</td>\n",
       "      <td>0.0</td>\n",
       "    </tr>\n",
       "    <tr>\n",
       "      <th>763806</th>\n",
       "      <td>0.0</td>\n",
       "      <td>0.0</td>\n",
       "      <td>0.0</td>\n",
       "      <td>1.0</td>\n",
       "      <td>0.0</td>\n",
       "      <td>0.0</td>\n",
       "      <td>0.0</td>\n",
       "      <td>1.0</td>\n",
       "      <td>0.0</td>\n",
       "      <td>0.0</td>\n",
       "      <td>1.0</td>\n",
       "      <td>0.0</td>\n",
       "      <td>0.0</td>\n",
       "      <td>0.0</td>\n",
       "    </tr>\n",
       "    <tr>\n",
       "      <th>763807</th>\n",
       "      <td>0.0</td>\n",
       "      <td>0.0</td>\n",
       "      <td>0.0</td>\n",
       "      <td>1.0</td>\n",
       "      <td>0.0</td>\n",
       "      <td>0.0</td>\n",
       "      <td>0.0</td>\n",
       "      <td>1.0</td>\n",
       "      <td>0.0</td>\n",
       "      <td>0.0</td>\n",
       "      <td>0.0</td>\n",
       "      <td>1.0</td>\n",
       "      <td>0.0</td>\n",
       "      <td>0.0</td>\n",
       "    </tr>\n",
       "    <tr>\n",
       "      <th>763808</th>\n",
       "      <td>0.0</td>\n",
       "      <td>0.0</td>\n",
       "      <td>0.0</td>\n",
       "      <td>0.0</td>\n",
       "      <td>0.0</td>\n",
       "      <td>1.0</td>\n",
       "      <td>0.0</td>\n",
       "      <td>0.0</td>\n",
       "      <td>0.0</td>\n",
       "      <td>1.0</td>\n",
       "      <td>0.0</td>\n",
       "      <td>0.0</td>\n",
       "      <td>1.0</td>\n",
       "      <td>0.0</td>\n",
       "    </tr>\n",
       "  </tbody>\n",
       "</table>\n",
       "<p>763809 rows × 14 columns</p>\n",
       "</div>"
      ],
      "text/plain": [
       "          A   A1    B   B1    C    D    N   ЗП  Сотрудники  Улица  autumn  \\\n",
       "0       0.0  0.0  0.0  0.0  0.0  1.0  0.0  0.0         0.0    1.0     1.0   \n",
       "1       0.0  0.0  0.0  0.0  0.0  1.0  0.0  0.0         0.0    1.0     0.0   \n",
       "2       0.0  0.0  0.0  0.0  0.0  1.0  0.0  0.0         0.0    1.0     0.0   \n",
       "3       0.0  0.0  0.0  1.0  0.0  0.0  0.0  1.0         0.0    0.0     1.0   \n",
       "4       0.0  0.0  0.0  0.0  0.0  1.0  0.0  0.0         0.0    1.0     0.0   \n",
       "...     ...  ...  ...  ...  ...  ...  ...  ...         ...    ...     ...   \n",
       "763804  0.0  0.0  0.0  0.0  0.0  1.0  0.0  0.0         0.0    1.0     0.0   \n",
       "763805  0.0  0.0  0.0  0.0  0.0  1.0  0.0  0.0         0.0    1.0     0.0   \n",
       "763806  0.0  0.0  0.0  1.0  0.0  0.0  0.0  1.0         0.0    0.0     1.0   \n",
       "763807  0.0  0.0  0.0  1.0  0.0  0.0  0.0  1.0         0.0    0.0     0.0   \n",
       "763808  0.0  0.0  0.0  0.0  0.0  1.0  0.0  0.0         0.0    1.0     0.0   \n",
       "\n",
       "        spring  summer  winter  \n",
       "0          0.0     0.0     0.0  \n",
       "1          0.0     1.0     0.0  \n",
       "2          0.0     0.0     1.0  \n",
       "3          0.0     0.0     0.0  \n",
       "4          1.0     0.0     0.0  \n",
       "...        ...     ...     ...  \n",
       "763804     0.0     1.0     0.0  \n",
       "763805     0.0     1.0     0.0  \n",
       "763806     0.0     0.0     0.0  \n",
       "763807     1.0     0.0     0.0  \n",
       "763808     0.0     1.0     0.0  \n",
       "\n",
       "[763809 rows x 14 columns]"
      ]
     },
     "execution_count": 71,
     "metadata": {},
     "output_type": "execute_result"
    }
   ],
   "source": [
    "encoded_feat_test"
   ]
  },
  {
   "cell_type": "code",
   "execution_count": 72,
   "metadata": {},
   "outputs": [],
   "source": [
    "test = pd.concat([test, encoded_feat_test], axis = 1)"
   ]
  },
  {
   "cell_type": "code",
   "execution_count": 73,
   "metadata": {},
   "outputs": [
    {
     "data": {
      "text/html": [
       "<div>\n",
       "<style scoped>\n",
       "    .dataframe tbody tr th:only-of-type {\n",
       "        vertical-align: middle;\n",
       "    }\n",
       "\n",
       "    .dataframe tbody tr th {\n",
       "        vertical-align: top;\n",
       "    }\n",
       "\n",
       "    .dataframe thead th {\n",
       "        text-align: right;\n",
       "    }\n",
       "</style>\n",
       "<table border=\"1\" class=\"dataframe\">\n",
       "  <thead>\n",
       "    <tr style=\"text-align: right;\">\n",
       "      <th></th>\n",
       "      <th>index</th>\n",
       "      <th>x_2</th>\n",
       "      <th>x_3</th>\n",
       "      <th>x_4</th>\n",
       "      <th>x_5</th>\n",
       "      <th>seasons</th>\n",
       "      <th>year</th>\n",
       "      <th>month</th>\n",
       "      <th>x_12</th>\n",
       "      <th>x_13</th>\n",
       "      <th>...</th>\n",
       "      <th>C</th>\n",
       "      <th>D</th>\n",
       "      <th>N</th>\n",
       "      <th>ЗП</th>\n",
       "      <th>Сотрудники</th>\n",
       "      <th>Улица</th>\n",
       "      <th>autumn</th>\n",
       "      <th>spring</th>\n",
       "      <th>summer</th>\n",
       "      <th>winter</th>\n",
       "    </tr>\n",
       "  </thead>\n",
       "  <tbody>\n",
       "    <tr>\n",
       "      <th>0</th>\n",
       "      <td>1943531</td>\n",
       "      <td>1</td>\n",
       "      <td>1</td>\n",
       "      <td>1100000.0</td>\n",
       "      <td>157773.90</td>\n",
       "      <td>autumn</td>\n",
       "      <td>2</td>\n",
       "      <td>10</td>\n",
       "      <td>D</td>\n",
       "      <td>4</td>\n",
       "      <td>...</td>\n",
       "      <td>0.0</td>\n",
       "      <td>1.0</td>\n",
       "      <td>0.0</td>\n",
       "      <td>0.0</td>\n",
       "      <td>0.0</td>\n",
       "      <td>1.0</td>\n",
       "      <td>1.0</td>\n",
       "      <td>0.0</td>\n",
       "      <td>0.0</td>\n",
       "      <td>0.0</td>\n",
       "    </tr>\n",
       "    <tr>\n",
       "      <th>1</th>\n",
       "      <td>1943532</td>\n",
       "      <td>1</td>\n",
       "      <td>1</td>\n",
       "      <td>2580000.0</td>\n",
       "      <td>2187426.61</td>\n",
       "      <td>summer</td>\n",
       "      <td>5</td>\n",
       "      <td>8</td>\n",
       "      <td>D</td>\n",
       "      <td>1</td>\n",
       "      <td>...</td>\n",
       "      <td>0.0</td>\n",
       "      <td>1.0</td>\n",
       "      <td>0.0</td>\n",
       "      <td>0.0</td>\n",
       "      <td>0.0</td>\n",
       "      <td>1.0</td>\n",
       "      <td>0.0</td>\n",
       "      <td>0.0</td>\n",
       "      <td>1.0</td>\n",
       "      <td>0.0</td>\n",
       "    </tr>\n",
       "    <tr>\n",
       "      <th>2</th>\n",
       "      <td>1943533</td>\n",
       "      <td>1</td>\n",
       "      <td>1</td>\n",
       "      <td>1200000.0</td>\n",
       "      <td>385763.26</td>\n",
       "      <td>winter</td>\n",
       "      <td>1</td>\n",
       "      <td>2</td>\n",
       "      <td>D</td>\n",
       "      <td>4</td>\n",
       "      <td>...</td>\n",
       "      <td>0.0</td>\n",
       "      <td>1.0</td>\n",
       "      <td>0.0</td>\n",
       "      <td>0.0</td>\n",
       "      <td>0.0</td>\n",
       "      <td>1.0</td>\n",
       "      <td>0.0</td>\n",
       "      <td>0.0</td>\n",
       "      <td>0.0</td>\n",
       "      <td>1.0</td>\n",
       "    </tr>\n",
       "    <tr>\n",
       "      <th>3</th>\n",
       "      <td>1943534</td>\n",
       "      <td>1</td>\n",
       "      <td>1</td>\n",
       "      <td>637500.0</td>\n",
       "      <td>595369.13</td>\n",
       "      <td>autumn</td>\n",
       "      <td>3</td>\n",
       "      <td>11</td>\n",
       "      <td>B1</td>\n",
       "      <td>4</td>\n",
       "      <td>...</td>\n",
       "      <td>0.0</td>\n",
       "      <td>0.0</td>\n",
       "      <td>0.0</td>\n",
       "      <td>1.0</td>\n",
       "      <td>0.0</td>\n",
       "      <td>0.0</td>\n",
       "      <td>1.0</td>\n",
       "      <td>0.0</td>\n",
       "      <td>0.0</td>\n",
       "      <td>0.0</td>\n",
       "    </tr>\n",
       "    <tr>\n",
       "      <th>4</th>\n",
       "      <td>1943537</td>\n",
       "      <td>1</td>\n",
       "      <td>1</td>\n",
       "      <td>1232500.0</td>\n",
       "      <td>1118118.29</td>\n",
       "      <td>spring</td>\n",
       "      <td>2</td>\n",
       "      <td>3</td>\n",
       "      <td>D</td>\n",
       "      <td>2</td>\n",
       "      <td>...</td>\n",
       "      <td>0.0</td>\n",
       "      <td>1.0</td>\n",
       "      <td>0.0</td>\n",
       "      <td>0.0</td>\n",
       "      <td>0.0</td>\n",
       "      <td>1.0</td>\n",
       "      <td>0.0</td>\n",
       "      <td>1.0</td>\n",
       "      <td>0.0</td>\n",
       "      <td>0.0</td>\n",
       "    </tr>\n",
       "  </tbody>\n",
       "</table>\n",
       "<p>5 rows × 28 columns</p>\n",
       "</div>"
      ],
      "text/plain": [
       "     index  x_2  x_3        x_4         x_5 seasons  year  month x_12 x_13  \\\n",
       "0  1943531    1    1  1100000.0   157773.90  autumn     2     10    D    4   \n",
       "1  1943532    1    1  2580000.0  2187426.61  summer     5      8    D    1   \n",
       "2  1943533    1    1  1200000.0   385763.26  winter     1      2    D    4   \n",
       "3  1943534    1    1   637500.0   595369.13  autumn     3     11   B1    4   \n",
       "4  1943537    1    1  1232500.0  1118118.29  spring     2      3    D    2   \n",
       "\n",
       "   ...    C    D    N   ЗП  Сотрудники  Улица  autumn  spring  summer  winter  \n",
       "0  ...  0.0  1.0  0.0  0.0         0.0    1.0     1.0     0.0     0.0     0.0  \n",
       "1  ...  0.0  1.0  0.0  0.0         0.0    1.0     0.0     0.0     1.0     0.0  \n",
       "2  ...  0.0  1.0  0.0  0.0         0.0    1.0     0.0     0.0     0.0     1.0  \n",
       "3  ...  0.0  0.0  0.0  1.0         0.0    0.0     1.0     0.0     0.0     0.0  \n",
       "4  ...  0.0  1.0  0.0  0.0         0.0    1.0     0.0     1.0     0.0     0.0  \n",
       "\n",
       "[5 rows x 28 columns]"
      ]
     },
     "execution_count": 73,
     "metadata": {},
     "output_type": "execute_result"
    }
   ],
   "source": [
    "test.head()"
   ]
  },
  {
   "cell_type": "code",
   "execution_count": 74,
   "metadata": {},
   "outputs": [],
   "source": [
    "test.drop(['seasons'], inplace = True, axis = 1)"
   ]
  },
  {
   "cell_type": "code",
   "execution_count": 79,
   "metadata": {
    "scrolled": true
   },
   "outputs": [
    {
     "data": {
      "text/html": [
       "<div>\n",
       "<style scoped>\n",
       "    .dataframe tbody tr th:only-of-type {\n",
       "        vertical-align: middle;\n",
       "    }\n",
       "\n",
       "    .dataframe tbody tr th {\n",
       "        vertical-align: top;\n",
       "    }\n",
       "\n",
       "    .dataframe thead th {\n",
       "        text-align: right;\n",
       "    }\n",
       "</style>\n",
       "<table border=\"1\" class=\"dataframe\">\n",
       "  <thead>\n",
       "    <tr style=\"text-align: right;\">\n",
       "      <th></th>\n",
       "      <th>index</th>\n",
       "      <th>x_2</th>\n",
       "      <th>x_3</th>\n",
       "      <th>x_4</th>\n",
       "      <th>x_5</th>\n",
       "      <th>year</th>\n",
       "      <th>month</th>\n",
       "      <th>x_13</th>\n",
       "      <th>x_625</th>\n",
       "      <th>x_627</th>\n",
       "      <th>...</th>\n",
       "      <th>C</th>\n",
       "      <th>D</th>\n",
       "      <th>N</th>\n",
       "      <th>ЗП</th>\n",
       "      <th>Сотрудники</th>\n",
       "      <th>Улица</th>\n",
       "      <th>autumn</th>\n",
       "      <th>spring</th>\n",
       "      <th>summer</th>\n",
       "      <th>winter</th>\n",
       "    </tr>\n",
       "  </thead>\n",
       "  <tbody>\n",
       "    <tr>\n",
       "      <th>0</th>\n",
       "      <td>0</td>\n",
       "      <td>1</td>\n",
       "      <td>1</td>\n",
       "      <td>2100000.0</td>\n",
       "      <td>1505828.87</td>\n",
       "      <td>5</td>\n",
       "      <td>3</td>\n",
       "      <td>4</td>\n",
       "      <td>0</td>\n",
       "      <td>31776.56</td>\n",
       "      <td>...</td>\n",
       "      <td>0.0</td>\n",
       "      <td>0.0</td>\n",
       "      <td>0.0</td>\n",
       "      <td>1.0</td>\n",
       "      <td>0.0</td>\n",
       "      <td>0.0</td>\n",
       "      <td>0.0</td>\n",
       "      <td>1.0</td>\n",
       "      <td>0.0</td>\n",
       "      <td>0.0</td>\n",
       "    </tr>\n",
       "    <tr>\n",
       "      <th>1</th>\n",
       "      <td>1</td>\n",
       "      <td>1</td>\n",
       "      <td>1</td>\n",
       "      <td>900000.0</td>\n",
       "      <td>363535.29</td>\n",
       "      <td>5</td>\n",
       "      <td>2</td>\n",
       "      <td>4</td>\n",
       "      <td>1</td>\n",
       "      <td>75000.00</td>\n",
       "      <td>...</td>\n",
       "      <td>0.0</td>\n",
       "      <td>0.0</td>\n",
       "      <td>0.0</td>\n",
       "      <td>1.0</td>\n",
       "      <td>0.0</td>\n",
       "      <td>0.0</td>\n",
       "      <td>0.0</td>\n",
       "      <td>0.0</td>\n",
       "      <td>0.0</td>\n",
       "      <td>1.0</td>\n",
       "    </tr>\n",
       "    <tr>\n",
       "      <th>2</th>\n",
       "      <td>2</td>\n",
       "      <td>1</td>\n",
       "      <td>1</td>\n",
       "      <td>1000000.0</td>\n",
       "      <td>990956.71</td>\n",
       "      <td>5</td>\n",
       "      <td>9</td>\n",
       "      <td>1</td>\n",
       "      <td>0</td>\n",
       "      <td>44570.41</td>\n",
       "      <td>...</td>\n",
       "      <td>0.0</td>\n",
       "      <td>1.0</td>\n",
       "      <td>0.0</td>\n",
       "      <td>0.0</td>\n",
       "      <td>0.0</td>\n",
       "      <td>1.0</td>\n",
       "      <td>1.0</td>\n",
       "      <td>0.0</td>\n",
       "      <td>0.0</td>\n",
       "      <td>0.0</td>\n",
       "    </tr>\n",
       "    <tr>\n",
       "      <th>3</th>\n",
       "      <td>3</td>\n",
       "      <td>1</td>\n",
       "      <td>1</td>\n",
       "      <td>1400000.0</td>\n",
       "      <td>566338.60</td>\n",
       "      <td>3</td>\n",
       "      <td>2</td>\n",
       "      <td>4</td>\n",
       "      <td>0</td>\n",
       "      <td>85000.00</td>\n",
       "      <td>...</td>\n",
       "      <td>0.0</td>\n",
       "      <td>0.0</td>\n",
       "      <td>1.0</td>\n",
       "      <td>0.0</td>\n",
       "      <td>0.0</td>\n",
       "      <td>1.0</td>\n",
       "      <td>0.0</td>\n",
       "      <td>0.0</td>\n",
       "      <td>0.0</td>\n",
       "      <td>1.0</td>\n",
       "    </tr>\n",
       "    <tr>\n",
       "      <th>4</th>\n",
       "      <td>4</td>\n",
       "      <td>1</td>\n",
       "      <td>1</td>\n",
       "      <td>2114500.0</td>\n",
       "      <td>1414693.51</td>\n",
       "      <td>2</td>\n",
       "      <td>10</td>\n",
       "      <td>1</td>\n",
       "      <td>0</td>\n",
       "      <td>103837.03</td>\n",
       "      <td>...</td>\n",
       "      <td>0.0</td>\n",
       "      <td>0.0</td>\n",
       "      <td>0.0</td>\n",
       "      <td>0.0</td>\n",
       "      <td>1.0</td>\n",
       "      <td>0.0</td>\n",
       "      <td>1.0</td>\n",
       "      <td>0.0</td>\n",
       "      <td>0.0</td>\n",
       "      <td>0.0</td>\n",
       "    </tr>\n",
       "    <tr>\n",
       "      <th>...</th>\n",
       "      <td>...</td>\n",
       "      <td>...</td>\n",
       "      <td>...</td>\n",
       "      <td>...</td>\n",
       "      <td>...</td>\n",
       "      <td>...</td>\n",
       "      <td>...</td>\n",
       "      <td>...</td>\n",
       "      <td>...</td>\n",
       "      <td>...</td>\n",
       "      <td>...</td>\n",
       "      <td>...</td>\n",
       "      <td>...</td>\n",
       "      <td>...</td>\n",
       "      <td>...</td>\n",
       "      <td>...</td>\n",
       "      <td>...</td>\n",
       "      <td>...</td>\n",
       "      <td>...</td>\n",
       "      <td>...</td>\n",
       "      <td>...</td>\n",
       "    </tr>\n",
       "    <tr>\n",
       "      <th>1527593</th>\n",
       "      <td>1943522</td>\n",
       "      <td>1</td>\n",
       "      <td>1</td>\n",
       "      <td>900000.0</td>\n",
       "      <td>869158.08</td>\n",
       "      <td>4</td>\n",
       "      <td>8</td>\n",
       "      <td>1</td>\n",
       "      <td>0</td>\n",
       "      <td>18030.33</td>\n",
       "      <td>...</td>\n",
       "      <td>0.0</td>\n",
       "      <td>1.0</td>\n",
       "      <td>0.0</td>\n",
       "      <td>0.0</td>\n",
       "      <td>0.0</td>\n",
       "      <td>1.0</td>\n",
       "      <td>0.0</td>\n",
       "      <td>0.0</td>\n",
       "      <td>1.0</td>\n",
       "      <td>0.0</td>\n",
       "    </tr>\n",
       "    <tr>\n",
       "      <th>1527594</th>\n",
       "      <td>1943523</td>\n",
       "      <td>1</td>\n",
       "      <td>1</td>\n",
       "      <td>1260000.0</td>\n",
       "      <td>1058131.44</td>\n",
       "      <td>1</td>\n",
       "      <td>8</td>\n",
       "      <td>4</td>\n",
       "      <td>1</td>\n",
       "      <td>33000.00</td>\n",
       "      <td>...</td>\n",
       "      <td>0.0</td>\n",
       "      <td>0.0</td>\n",
       "      <td>0.0</td>\n",
       "      <td>1.0</td>\n",
       "      <td>0.0</td>\n",
       "      <td>0.0</td>\n",
       "      <td>0.0</td>\n",
       "      <td>0.0</td>\n",
       "      <td>1.0</td>\n",
       "      <td>0.0</td>\n",
       "    </tr>\n",
       "    <tr>\n",
       "      <th>1527595</th>\n",
       "      <td>1943525</td>\n",
       "      <td>1</td>\n",
       "      <td>1</td>\n",
       "      <td>884000.0</td>\n",
       "      <td>737316.45</td>\n",
       "      <td>2</td>\n",
       "      <td>3</td>\n",
       "      <td>4</td>\n",
       "      <td>1</td>\n",
       "      <td>25648.44</td>\n",
       "      <td>...</td>\n",
       "      <td>0.0</td>\n",
       "      <td>1.0</td>\n",
       "      <td>0.0</td>\n",
       "      <td>0.0</td>\n",
       "      <td>0.0</td>\n",
       "      <td>1.0</td>\n",
       "      <td>0.0</td>\n",
       "      <td>1.0</td>\n",
       "      <td>0.0</td>\n",
       "      <td>0.0</td>\n",
       "    </tr>\n",
       "    <tr>\n",
       "      <th>1527596</th>\n",
       "      <td>1943526</td>\n",
       "      <td>2</td>\n",
       "      <td>2</td>\n",
       "      <td>1981000.0</td>\n",
       "      <td>1472026.08</td>\n",
       "      <td>5</td>\n",
       "      <td>1</td>\n",
       "      <td>4</td>\n",
       "      <td>0</td>\n",
       "      <td>65862.22</td>\n",
       "      <td>...</td>\n",
       "      <td>0.0</td>\n",
       "      <td>0.0</td>\n",
       "      <td>0.0</td>\n",
       "      <td>1.0</td>\n",
       "      <td>0.0</td>\n",
       "      <td>0.0</td>\n",
       "      <td>0.0</td>\n",
       "      <td>0.0</td>\n",
       "      <td>0.0</td>\n",
       "      <td>1.0</td>\n",
       "    </tr>\n",
       "    <tr>\n",
       "      <th>1527597</th>\n",
       "      <td>1943527</td>\n",
       "      <td>1</td>\n",
       "      <td>1</td>\n",
       "      <td>2800000.0</td>\n",
       "      <td>2766159.97</td>\n",
       "      <td>5</td>\n",
       "      <td>8</td>\n",
       "      <td>4</td>\n",
       "      <td>1</td>\n",
       "      <td>29716.91</td>\n",
       "      <td>...</td>\n",
       "      <td>0.0</td>\n",
       "      <td>1.0</td>\n",
       "      <td>0.0</td>\n",
       "      <td>0.0</td>\n",
       "      <td>0.0</td>\n",
       "      <td>1.0</td>\n",
       "      <td>0.0</td>\n",
       "      <td>0.0</td>\n",
       "      <td>1.0</td>\n",
       "      <td>0.0</td>\n",
       "    </tr>\n",
       "  </tbody>\n",
       "</table>\n",
       "<p>1527598 rows × 25 columns</p>\n",
       "</div>"
      ],
      "text/plain": [
       "           index  x_2  x_3        x_4         x_5  year  month x_13  x_625  \\\n",
       "0              0    1    1  2100000.0  1505828.87     5      3    4      0   \n",
       "1              1    1    1   900000.0   363535.29     5      2    4      1   \n",
       "2              2    1    1  1000000.0   990956.71     5      9    1      0   \n",
       "3              3    1    1  1400000.0   566338.60     3      2    4      0   \n",
       "4              4    1    1  2114500.0  1414693.51     2     10    1      0   \n",
       "...          ...  ...  ...        ...         ...   ...    ...  ...    ...   \n",
       "1527593  1943522    1    1   900000.0   869158.08     4      8    1      0   \n",
       "1527594  1943523    1    1  1260000.0  1058131.44     1      8    4      1   \n",
       "1527595  1943525    1    1   884000.0   737316.45     2      3    4      1   \n",
       "1527596  1943526    2    2  1981000.0  1472026.08     5      1    4      0   \n",
       "1527597  1943527    1    1  2800000.0  2766159.97     5      8    4      1   \n",
       "\n",
       "             x_627  ...    C    D    N   ЗП  Сотрудники  Улица  autumn  \\\n",
       "0         31776.56  ...  0.0  0.0  0.0  1.0         0.0    0.0     0.0   \n",
       "1         75000.00  ...  0.0  0.0  0.0  1.0         0.0    0.0     0.0   \n",
       "2         44570.41  ...  0.0  1.0  0.0  0.0         0.0    1.0     1.0   \n",
       "3         85000.00  ...  0.0  0.0  1.0  0.0         0.0    1.0     0.0   \n",
       "4        103837.03  ...  0.0  0.0  0.0  0.0         1.0    0.0     1.0   \n",
       "...            ...  ...  ...  ...  ...  ...         ...    ...     ...   \n",
       "1527593   18030.33  ...  0.0  1.0  0.0  0.0         0.0    1.0     0.0   \n",
       "1527594   33000.00  ...  0.0  0.0  0.0  1.0         0.0    0.0     0.0   \n",
       "1527595   25648.44  ...  0.0  1.0  0.0  0.0         0.0    1.0     0.0   \n",
       "1527596   65862.22  ...  0.0  0.0  0.0  1.0         0.0    0.0     0.0   \n",
       "1527597   29716.91  ...  0.0  1.0  0.0  0.0         0.0    1.0     0.0   \n",
       "\n",
       "         spring  summer  winter  \n",
       "0           1.0     0.0     0.0  \n",
       "1           0.0     0.0     1.0  \n",
       "2           0.0     0.0     0.0  \n",
       "3           0.0     0.0     1.0  \n",
       "4           0.0     0.0     0.0  \n",
       "...         ...     ...     ...  \n",
       "1527593     0.0     1.0     0.0  \n",
       "1527594     0.0     1.0     0.0  \n",
       "1527595     1.0     0.0     0.0  \n",
       "1527596     0.0     0.0     1.0  \n",
       "1527597     0.0     1.0     0.0  \n",
       "\n",
       "[1527598 rows x 25 columns]"
      ]
     },
     "execution_count": 79,
     "metadata": {},
     "output_type": "execute_result"
    }
   ],
   "source": [
    "df01"
   ]
  },
  {
   "cell_type": "code",
   "execution_count": 84,
   "metadata": {},
   "outputs": [
    {
     "data": {
      "text/plain": [
       "Index(['index', 'x_2', 'x_3', 'x_4', 'x_5', 'year', 'month', 'x_13', 'x_625',\n",
       "       'x_627', 'mortgage_duration', 'A', 'A1', 'B', 'B1', 'C', 'D', 'N', 'ЗП',\n",
       "       'Сотрудники', 'Улица', 'autumn', 'spring', 'summer', 'winter'],\n",
       "      dtype='object')"
      ]
     },
     "execution_count": 84,
     "metadata": {},
     "output_type": "execute_result"
    }
   ],
   "source": [
    "df01.columns"
   ]
  },
  {
   "cell_type": "code",
   "execution_count": 81,
   "metadata": {},
   "outputs": [],
   "source": [
    "test.drop(['x_12'], axis = 1, inplace = True)"
   ]
  },
  {
   "cell_type": "code",
   "execution_count": 85,
   "metadata": {},
   "outputs": [],
   "source": [
    "test.drop(['x_628'], axis = 1, inplace = True)"
   ]
  },
  {
   "cell_type": "code",
   "execution_count": 88,
   "metadata": {},
   "outputs": [],
   "source": [
    "test.drop(['index'], inplace = True, axis = 1)"
   ]
  },
  {
   "cell_type": "code",
   "execution_count": 90,
   "metadata": {},
   "outputs": [],
   "source": [
    "df01.drop(['index'], inplace = True, axis = 1)"
   ]
  },
  {
   "cell_type": "code",
   "execution_count": 91,
   "metadata": {
    "scrolled": true
   },
   "outputs": [
    {
     "data": {
      "text/html": [
       "<div>\n",
       "<style scoped>\n",
       "    .dataframe tbody tr th:only-of-type {\n",
       "        vertical-align: middle;\n",
       "    }\n",
       "\n",
       "    .dataframe tbody tr th {\n",
       "        vertical-align: top;\n",
       "    }\n",
       "\n",
       "    .dataframe thead th {\n",
       "        text-align: right;\n",
       "    }\n",
       "</style>\n",
       "<table border=\"1\" class=\"dataframe\">\n",
       "  <thead>\n",
       "    <tr style=\"text-align: right;\">\n",
       "      <th></th>\n",
       "      <th>x_2</th>\n",
       "      <th>x_3</th>\n",
       "      <th>x_4</th>\n",
       "      <th>x_5</th>\n",
       "      <th>year</th>\n",
       "      <th>month</th>\n",
       "      <th>x_13</th>\n",
       "      <th>x_625</th>\n",
       "      <th>x_627</th>\n",
       "      <th>mortgage_duration</th>\n",
       "      <th>...</th>\n",
       "      <th>C</th>\n",
       "      <th>D</th>\n",
       "      <th>N</th>\n",
       "      <th>ЗП</th>\n",
       "      <th>Сотрудники</th>\n",
       "      <th>Улица</th>\n",
       "      <th>autumn</th>\n",
       "      <th>spring</th>\n",
       "      <th>summer</th>\n",
       "      <th>winter</th>\n",
       "    </tr>\n",
       "  </thead>\n",
       "  <tbody>\n",
       "    <tr>\n",
       "      <th>0</th>\n",
       "      <td>1</td>\n",
       "      <td>1</td>\n",
       "      <td>2100000.0</td>\n",
       "      <td>1505828.87</td>\n",
       "      <td>5</td>\n",
       "      <td>3</td>\n",
       "      <td>4</td>\n",
       "      <td>0</td>\n",
       "      <td>31776.56</td>\n",
       "      <td>20.0</td>\n",
       "      <td>...</td>\n",
       "      <td>0.0</td>\n",
       "      <td>0.0</td>\n",
       "      <td>0.0</td>\n",
       "      <td>1.0</td>\n",
       "      <td>0.0</td>\n",
       "      <td>0.0</td>\n",
       "      <td>0.0</td>\n",
       "      <td>1.0</td>\n",
       "      <td>0.0</td>\n",
       "      <td>0.0</td>\n",
       "    </tr>\n",
       "    <tr>\n",
       "      <th>1</th>\n",
       "      <td>1</td>\n",
       "      <td>1</td>\n",
       "      <td>900000.0</td>\n",
       "      <td>363535.29</td>\n",
       "      <td>5</td>\n",
       "      <td>2</td>\n",
       "      <td>4</td>\n",
       "      <td>1</td>\n",
       "      <td>75000.00</td>\n",
       "      <td>5.0</td>\n",
       "      <td>...</td>\n",
       "      <td>0.0</td>\n",
       "      <td>0.0</td>\n",
       "      <td>0.0</td>\n",
       "      <td>1.0</td>\n",
       "      <td>0.0</td>\n",
       "      <td>0.0</td>\n",
       "      <td>0.0</td>\n",
       "      <td>0.0</td>\n",
       "      <td>0.0</td>\n",
       "      <td>1.0</td>\n",
       "    </tr>\n",
       "    <tr>\n",
       "      <th>2</th>\n",
       "      <td>1</td>\n",
       "      <td>1</td>\n",
       "      <td>1000000.0</td>\n",
       "      <td>990956.71</td>\n",
       "      <td>5</td>\n",
       "      <td>9</td>\n",
       "      <td>1</td>\n",
       "      <td>0</td>\n",
       "      <td>44570.41</td>\n",
       "      <td>7.0</td>\n",
       "      <td>...</td>\n",
       "      <td>0.0</td>\n",
       "      <td>1.0</td>\n",
       "      <td>0.0</td>\n",
       "      <td>0.0</td>\n",
       "      <td>0.0</td>\n",
       "      <td>1.0</td>\n",
       "      <td>1.0</td>\n",
       "      <td>0.0</td>\n",
       "      <td>0.0</td>\n",
       "      <td>0.0</td>\n",
       "    </tr>\n",
       "    <tr>\n",
       "      <th>3</th>\n",
       "      <td>1</td>\n",
       "      <td>1</td>\n",
       "      <td>1400000.0</td>\n",
       "      <td>566338.60</td>\n",
       "      <td>3</td>\n",
       "      <td>2</td>\n",
       "      <td>4</td>\n",
       "      <td>0</td>\n",
       "      <td>85000.00</td>\n",
       "      <td>15.0</td>\n",
       "      <td>...</td>\n",
       "      <td>0.0</td>\n",
       "      <td>0.0</td>\n",
       "      <td>1.0</td>\n",
       "      <td>0.0</td>\n",
       "      <td>0.0</td>\n",
       "      <td>1.0</td>\n",
       "      <td>0.0</td>\n",
       "      <td>0.0</td>\n",
       "      <td>0.0</td>\n",
       "      <td>1.0</td>\n",
       "    </tr>\n",
       "    <tr>\n",
       "      <th>4</th>\n",
       "      <td>1</td>\n",
       "      <td>1</td>\n",
       "      <td>2114500.0</td>\n",
       "      <td>1414693.51</td>\n",
       "      <td>2</td>\n",
       "      <td>10</td>\n",
       "      <td>1</td>\n",
       "      <td>0</td>\n",
       "      <td>103837.03</td>\n",
       "      <td>20.0</td>\n",
       "      <td>...</td>\n",
       "      <td>0.0</td>\n",
       "      <td>0.0</td>\n",
       "      <td>0.0</td>\n",
       "      <td>0.0</td>\n",
       "      <td>1.0</td>\n",
       "      <td>0.0</td>\n",
       "      <td>1.0</td>\n",
       "      <td>0.0</td>\n",
       "      <td>0.0</td>\n",
       "      <td>0.0</td>\n",
       "    </tr>\n",
       "  </tbody>\n",
       "</table>\n",
       "<p>5 rows × 24 columns</p>\n",
       "</div>"
      ],
      "text/plain": [
       "   x_2  x_3        x_4         x_5  year  month x_13  x_625      x_627  \\\n",
       "0    1    1  2100000.0  1505828.87     5      3    4      0   31776.56   \n",
       "1    1    1   900000.0   363535.29     5      2    4      1   75000.00   \n",
       "2    1    1  1000000.0   990956.71     5      9    1      0   44570.41   \n",
       "3    1    1  1400000.0   566338.60     3      2    4      0   85000.00   \n",
       "4    1    1  2114500.0  1414693.51     2     10    1      0  103837.03   \n",
       "\n",
       "   mortgage_duration  ...    C    D    N   ЗП  Сотрудники  Улица  autumn  \\\n",
       "0               20.0  ...  0.0  0.0  0.0  1.0         0.0    0.0     0.0   \n",
       "1                5.0  ...  0.0  0.0  0.0  1.0         0.0    0.0     0.0   \n",
       "2                7.0  ...  0.0  1.0  0.0  0.0         0.0    1.0     1.0   \n",
       "3               15.0  ...  0.0  0.0  1.0  0.0         0.0    1.0     0.0   \n",
       "4               20.0  ...  0.0  0.0  0.0  0.0         1.0    0.0     1.0   \n",
       "\n",
       "   spring  summer  winter  \n",
       "0     1.0     0.0     0.0  \n",
       "1     0.0     0.0     1.0  \n",
       "2     0.0     0.0     0.0  \n",
       "3     0.0     0.0     1.0  \n",
       "4     0.0     0.0     0.0  \n",
       "\n",
       "[5 rows x 24 columns]"
      ]
     },
     "execution_count": 91,
     "metadata": {},
     "output_type": "execute_result"
    }
   ],
   "source": [
    "df01.head()"
   ]
  },
  {
   "cell_type": "code",
   "execution_count": null,
   "metadata": {},
   "outputs": [],
   "source": [
    "df"
   ]
  },
  {
   "cell_type": "code",
   "execution_count": 92,
   "metadata": {},
   "outputs": [],
   "source": [
    "df01.to_pickle('train_not_norm.pkl')"
   ]
  },
  {
   "cell_type": "code",
   "execution_count": 93,
   "metadata": {},
   "outputs": [],
   "source": [
    "test.to_pickle('test_not_norm.pkl')"
   ]
  },
  {
   "cell_type": "code",
   "execution_count": null,
   "metadata": {},
   "outputs": [],
   "source": []
  },
  {
   "cell_type": "code",
   "execution_count": null,
   "metadata": {},
   "outputs": [],
   "source": []
  },
  {
   "cell_type": "code",
   "execution_count": null,
   "metadata": {},
   "outputs": [],
   "source": []
  },
  {
   "cell_type": "code",
   "execution_count": 75,
   "metadata": {},
   "outputs": [],
   "source": [
    "from sklearn.preprocessing import StandardScaler"
   ]
  },
  {
   "cell_type": "code",
   "execution_count": 76,
   "metadata": {},
   "outputs": [],
   "source": [
    "scaler = StandardScaler()"
   ]
  },
  {
   "cell_type": "code",
   "execution_count": 94,
   "metadata": {},
   "outputs": [],
   "source": [
    "df01[['x_4', 'x_5', 'x_627']] = scaler.fit_transform(df01[['x_4', 'x_5', 'x_627']])"
   ]
  },
  {
   "cell_type": "code",
   "execution_count": 95,
   "metadata": {},
   "outputs": [
    {
     "data": {
      "text/html": [
       "<div>\n",
       "<style scoped>\n",
       "    .dataframe tbody tr th:only-of-type {\n",
       "        vertical-align: middle;\n",
       "    }\n",
       "\n",
       "    .dataframe tbody tr th {\n",
       "        vertical-align: top;\n",
       "    }\n",
       "\n",
       "    .dataframe thead th {\n",
       "        text-align: right;\n",
       "    }\n",
       "</style>\n",
       "<table border=\"1\" class=\"dataframe\">\n",
       "  <thead>\n",
       "    <tr style=\"text-align: right;\">\n",
       "      <th></th>\n",
       "      <th>x_2</th>\n",
       "      <th>x_3</th>\n",
       "      <th>x_4</th>\n",
       "      <th>x_5</th>\n",
       "      <th>year</th>\n",
       "      <th>month</th>\n",
       "      <th>x_13</th>\n",
       "      <th>x_625</th>\n",
       "      <th>x_627</th>\n",
       "      <th>mortgage_duration</th>\n",
       "      <th>...</th>\n",
       "      <th>C</th>\n",
       "      <th>D</th>\n",
       "      <th>N</th>\n",
       "      <th>ЗП</th>\n",
       "      <th>Сотрудники</th>\n",
       "      <th>Улица</th>\n",
       "      <th>autumn</th>\n",
       "      <th>spring</th>\n",
       "      <th>summer</th>\n",
       "      <th>winter</th>\n",
       "    </tr>\n",
       "  </thead>\n",
       "  <tbody>\n",
       "    <tr>\n",
       "      <th>0</th>\n",
       "      <td>1</td>\n",
       "      <td>1</td>\n",
       "      <td>0.406610</td>\n",
       "      <td>0.348686</td>\n",
       "      <td>5</td>\n",
       "      <td>3</td>\n",
       "      <td>4</td>\n",
       "      <td>0</td>\n",
       "      <td>-0.230682</td>\n",
       "      <td>20.0</td>\n",
       "      <td>...</td>\n",
       "      <td>0.0</td>\n",
       "      <td>0.0</td>\n",
       "      <td>0.0</td>\n",
       "      <td>1.0</td>\n",
       "      <td>0.0</td>\n",
       "      <td>0.0</td>\n",
       "      <td>0.0</td>\n",
       "      <td>1.0</td>\n",
       "      <td>0.0</td>\n",
       "      <td>0.0</td>\n",
       "    </tr>\n",
       "    <tr>\n",
       "      <th>1</th>\n",
       "      <td>1</td>\n",
       "      <td>1</td>\n",
       "      <td>-0.617483</td>\n",
       "      <td>-0.791948</td>\n",
       "      <td>5</td>\n",
       "      <td>2</td>\n",
       "      <td>4</td>\n",
       "      <td>1</td>\n",
       "      <td>0.329393</td>\n",
       "      <td>5.0</td>\n",
       "      <td>...</td>\n",
       "      <td>0.0</td>\n",
       "      <td>0.0</td>\n",
       "      <td>0.0</td>\n",
       "      <td>1.0</td>\n",
       "      <td>0.0</td>\n",
       "      <td>0.0</td>\n",
       "      <td>0.0</td>\n",
       "      <td>0.0</td>\n",
       "      <td>0.0</td>\n",
       "      <td>1.0</td>\n",
       "    </tr>\n",
       "    <tr>\n",
       "      <th>2</th>\n",
       "      <td>1</td>\n",
       "      <td>1</td>\n",
       "      <td>-0.532142</td>\n",
       "      <td>-0.165438</td>\n",
       "      <td>5</td>\n",
       "      <td>9</td>\n",
       "      <td>1</td>\n",
       "      <td>0</td>\n",
       "      <td>-0.064903</td>\n",
       "      <td>7.0</td>\n",
       "      <td>...</td>\n",
       "      <td>0.0</td>\n",
       "      <td>1.0</td>\n",
       "      <td>0.0</td>\n",
       "      <td>0.0</td>\n",
       "      <td>0.0</td>\n",
       "      <td>1.0</td>\n",
       "      <td>1.0</td>\n",
       "      <td>0.0</td>\n",
       "      <td>0.0</td>\n",
       "      <td>0.0</td>\n",
       "    </tr>\n",
       "    <tr>\n",
       "      <th>3</th>\n",
       "      <td>1</td>\n",
       "      <td>1</td>\n",
       "      <td>-0.190777</td>\n",
       "      <td>-0.589439</td>\n",
       "      <td>3</td>\n",
       "      <td>2</td>\n",
       "      <td>4</td>\n",
       "      <td>0</td>\n",
       "      <td>0.458970</td>\n",
       "      <td>15.0</td>\n",
       "      <td>...</td>\n",
       "      <td>0.0</td>\n",
       "      <td>0.0</td>\n",
       "      <td>1.0</td>\n",
       "      <td>0.0</td>\n",
       "      <td>0.0</td>\n",
       "      <td>1.0</td>\n",
       "      <td>0.0</td>\n",
       "      <td>0.0</td>\n",
       "      <td>0.0</td>\n",
       "      <td>1.0</td>\n",
       "    </tr>\n",
       "    <tr>\n",
       "      <th>4</th>\n",
       "      <td>1</td>\n",
       "      <td>1</td>\n",
       "      <td>0.418985</td>\n",
       "      <td>0.257683</td>\n",
       "      <td>2</td>\n",
       "      <td>10</td>\n",
       "      <td>1</td>\n",
       "      <td>0</td>\n",
       "      <td>0.703054</td>\n",
       "      <td>20.0</td>\n",
       "      <td>...</td>\n",
       "      <td>0.0</td>\n",
       "      <td>0.0</td>\n",
       "      <td>0.0</td>\n",
       "      <td>0.0</td>\n",
       "      <td>1.0</td>\n",
       "      <td>0.0</td>\n",
       "      <td>1.0</td>\n",
       "      <td>0.0</td>\n",
       "      <td>0.0</td>\n",
       "      <td>0.0</td>\n",
       "    </tr>\n",
       "  </tbody>\n",
       "</table>\n",
       "<p>5 rows × 24 columns</p>\n",
       "</div>"
      ],
      "text/plain": [
       "   x_2  x_3       x_4       x_5  year  month x_13  x_625     x_627  \\\n",
       "0    1    1  0.406610  0.348686     5      3    4      0 -0.230682   \n",
       "1    1    1 -0.617483 -0.791948     5      2    4      1  0.329393   \n",
       "2    1    1 -0.532142 -0.165438     5      9    1      0 -0.064903   \n",
       "3    1    1 -0.190777 -0.589439     3      2    4      0  0.458970   \n",
       "4    1    1  0.418985  0.257683     2     10    1      0  0.703054   \n",
       "\n",
       "   mortgage_duration  ...    C    D    N   ЗП  Сотрудники  Улица  autumn  \\\n",
       "0               20.0  ...  0.0  0.0  0.0  1.0         0.0    0.0     0.0   \n",
       "1                5.0  ...  0.0  0.0  0.0  1.0         0.0    0.0     0.0   \n",
       "2                7.0  ...  0.0  1.0  0.0  0.0         0.0    1.0     1.0   \n",
       "3               15.0  ...  0.0  0.0  1.0  0.0         0.0    1.0     0.0   \n",
       "4               20.0  ...  0.0  0.0  0.0  0.0         1.0    0.0     1.0   \n",
       "\n",
       "   spring  summer  winter  \n",
       "0     1.0     0.0     0.0  \n",
       "1     0.0     0.0     1.0  \n",
       "2     0.0     0.0     0.0  \n",
       "3     0.0     0.0     1.0  \n",
       "4     0.0     0.0     0.0  \n",
       "\n",
       "[5 rows x 24 columns]"
      ]
     },
     "execution_count": 95,
     "metadata": {},
     "output_type": "execute_result"
    }
   ],
   "source": [
    "df01.head()"
   ]
  },
  {
   "cell_type": "code",
   "execution_count": 97,
   "metadata": {},
   "outputs": [],
   "source": [
    "test[['x_4', 'x_5', 'x_627']] = scaler.fit_transform(test[['x_4', 'x_5', 'x_627']])"
   ]
  },
  {
   "cell_type": "code",
   "execution_count": 98,
   "metadata": {},
   "outputs": [
    {
     "data": {
      "text/html": [
       "<div>\n",
       "<style scoped>\n",
       "    .dataframe tbody tr th:only-of-type {\n",
       "        vertical-align: middle;\n",
       "    }\n",
       "\n",
       "    .dataframe tbody tr th {\n",
       "        vertical-align: top;\n",
       "    }\n",
       "\n",
       "    .dataframe thead th {\n",
       "        text-align: right;\n",
       "    }\n",
       "</style>\n",
       "<table border=\"1\" class=\"dataframe\">\n",
       "  <thead>\n",
       "    <tr style=\"text-align: right;\">\n",
       "      <th></th>\n",
       "      <th>x_2</th>\n",
       "      <th>x_3</th>\n",
       "      <th>x_4</th>\n",
       "      <th>x_5</th>\n",
       "      <th>year</th>\n",
       "      <th>month</th>\n",
       "      <th>x_13</th>\n",
       "      <th>x_625</th>\n",
       "      <th>x_627</th>\n",
       "      <th>mortgage_duration</th>\n",
       "      <th>...</th>\n",
       "      <th>C</th>\n",
       "      <th>D</th>\n",
       "      <th>N</th>\n",
       "      <th>ЗП</th>\n",
       "      <th>Сотрудники</th>\n",
       "      <th>Улица</th>\n",
       "      <th>autumn</th>\n",
       "      <th>spring</th>\n",
       "      <th>summer</th>\n",
       "      <th>winter</th>\n",
       "    </tr>\n",
       "  </thead>\n",
       "  <tbody>\n",
       "    <tr>\n",
       "      <th>0</th>\n",
       "      <td>1</td>\n",
       "      <td>1</td>\n",
       "      <td>-0.465610</td>\n",
       "      <td>-0.964460</td>\n",
       "      <td>2</td>\n",
       "      <td>10</td>\n",
       "      <td>4</td>\n",
       "      <td>1</td>\n",
       "      <td>-0.266648</td>\n",
       "      <td>10.0</td>\n",
       "      <td>...</td>\n",
       "      <td>0.0</td>\n",
       "      <td>1.0</td>\n",
       "      <td>0.0</td>\n",
       "      <td>0.0</td>\n",
       "      <td>0.0</td>\n",
       "      <td>1.0</td>\n",
       "      <td>1.0</td>\n",
       "      <td>0.0</td>\n",
       "      <td>0.0</td>\n",
       "      <td>0.0</td>\n",
       "    </tr>\n",
       "    <tr>\n",
       "      <th>1</th>\n",
       "      <td>1</td>\n",
       "      <td>1</td>\n",
       "      <td>0.798686</td>\n",
       "      <td>1.166100</td>\n",
       "      <td>5</td>\n",
       "      <td>8</td>\n",
       "      <td>1</td>\n",
       "      <td>0</td>\n",
       "      <td>-0.161885</td>\n",
       "      <td>20.0</td>\n",
       "      <td>...</td>\n",
       "      <td>0.0</td>\n",
       "      <td>1.0</td>\n",
       "      <td>0.0</td>\n",
       "      <td>0.0</td>\n",
       "      <td>0.0</td>\n",
       "      <td>1.0</td>\n",
       "      <td>0.0</td>\n",
       "      <td>0.0</td>\n",
       "      <td>1.0</td>\n",
       "      <td>0.0</td>\n",
       "    </tr>\n",
       "    <tr>\n",
       "      <th>2</th>\n",
       "      <td>1</td>\n",
       "      <td>1</td>\n",
       "      <td>-0.380185</td>\n",
       "      <td>-0.725136</td>\n",
       "      <td>1</td>\n",
       "      <td>2</td>\n",
       "      <td>4</td>\n",
       "      <td>0</td>\n",
       "      <td>-0.366088</td>\n",
       "      <td>10.0</td>\n",
       "      <td>...</td>\n",
       "      <td>0.0</td>\n",
       "      <td>1.0</td>\n",
       "      <td>0.0</td>\n",
       "      <td>0.0</td>\n",
       "      <td>0.0</td>\n",
       "      <td>1.0</td>\n",
       "      <td>0.0</td>\n",
       "      <td>0.0</td>\n",
       "      <td>0.0</td>\n",
       "      <td>1.0</td>\n",
       "    </tr>\n",
       "    <tr>\n",
       "      <th>3</th>\n",
       "      <td>1</td>\n",
       "      <td>1</td>\n",
       "      <td>-0.860703</td>\n",
       "      <td>-0.505109</td>\n",
       "      <td>3</td>\n",
       "      <td>11</td>\n",
       "      <td>4</td>\n",
       "      <td>1</td>\n",
       "      <td>-0.149773</td>\n",
       "      <td>10.0</td>\n",
       "      <td>...</td>\n",
       "      <td>0.0</td>\n",
       "      <td>0.0</td>\n",
       "      <td>0.0</td>\n",
       "      <td>1.0</td>\n",
       "      <td>0.0</td>\n",
       "      <td>0.0</td>\n",
       "      <td>1.0</td>\n",
       "      <td>0.0</td>\n",
       "      <td>0.0</td>\n",
       "      <td>0.0</td>\n",
       "    </tr>\n",
       "    <tr>\n",
       "      <th>4</th>\n",
       "      <td>1</td>\n",
       "      <td>1</td>\n",
       "      <td>-0.352422</td>\n",
       "      <td>0.043629</td>\n",
       "      <td>2</td>\n",
       "      <td>3</td>\n",
       "      <td>2</td>\n",
       "      <td>1</td>\n",
       "      <td>-0.246377</td>\n",
       "      <td>25.0</td>\n",
       "      <td>...</td>\n",
       "      <td>0.0</td>\n",
       "      <td>1.0</td>\n",
       "      <td>0.0</td>\n",
       "      <td>0.0</td>\n",
       "      <td>0.0</td>\n",
       "      <td>1.0</td>\n",
       "      <td>0.0</td>\n",
       "      <td>1.0</td>\n",
       "      <td>0.0</td>\n",
       "      <td>0.0</td>\n",
       "    </tr>\n",
       "  </tbody>\n",
       "</table>\n",
       "<p>5 rows × 24 columns</p>\n",
       "</div>"
      ],
      "text/plain": [
       "   x_2  x_3       x_4       x_5  year  month x_13  x_625     x_627  \\\n",
       "0    1    1 -0.465610 -0.964460     2     10    4      1 -0.266648   \n",
       "1    1    1  0.798686  1.166100     5      8    1      0 -0.161885   \n",
       "2    1    1 -0.380185 -0.725136     1      2    4      0 -0.366088   \n",
       "3    1    1 -0.860703 -0.505109     3     11    4      1 -0.149773   \n",
       "4    1    1 -0.352422  0.043629     2      3    2      1 -0.246377   \n",
       "\n",
       "   mortgage_duration  ...    C    D    N   ЗП  Сотрудники  Улица  autumn  \\\n",
       "0               10.0  ...  0.0  1.0  0.0  0.0         0.0    1.0     1.0   \n",
       "1               20.0  ...  0.0  1.0  0.0  0.0         0.0    1.0     0.0   \n",
       "2               10.0  ...  0.0  1.0  0.0  0.0         0.0    1.0     0.0   \n",
       "3               10.0  ...  0.0  0.0  0.0  1.0         0.0    0.0     1.0   \n",
       "4               25.0  ...  0.0  1.0  0.0  0.0         0.0    1.0     0.0   \n",
       "\n",
       "   spring  summer  winter  \n",
       "0     0.0     0.0     0.0  \n",
       "1     0.0     1.0     0.0  \n",
       "2     0.0     0.0     1.0  \n",
       "3     0.0     0.0     0.0  \n",
       "4     1.0     0.0     0.0  \n",
       "\n",
       "[5 rows x 24 columns]"
      ]
     },
     "execution_count": 98,
     "metadata": {},
     "output_type": "execute_result"
    }
   ],
   "source": [
    "test.head()"
   ]
  },
  {
   "cell_type": "code",
   "execution_count": 100,
   "metadata": {},
   "outputs": [],
   "source": [
    "Y.to_pickle('target.pkl')"
   ]
  },
  {
   "cell_type": "code",
   "execution_count": 102,
   "metadata": {},
   "outputs": [],
   "source": [
    "df01.to_pickle('train_norm.pkl')"
   ]
  },
  {
   "cell_type": "code",
   "execution_count": 103,
   "metadata": {},
   "outputs": [],
   "source": [
    "test.to_pickle('test_norm.pkl')"
   ]
  },
  {
   "cell_type": "code",
   "execution_count": 105,
   "metadata": {},
   "outputs": [],
   "source": [
    "SEED = 42\n",
    "from sklearn.model_selection import train_test_split\n",
    "X_train, X_val, y_train, y_val = train_test_split(df01, Y, test_size=0.25, random_state=SEED)"
   ]
  },
  {
   "cell_type": "code",
   "execution_count": 129,
   "metadata": {},
   "outputs": [],
   "source": []
  },
  {
   "cell_type": "code",
   "execution_count": 106,
   "metadata": {},
   "outputs": [
    {
     "data": {
      "text/plain": [
       "(1145698, 24)"
      ]
     },
     "execution_count": 106,
     "metadata": {},
     "output_type": "execute_result"
    }
   ],
   "source": [
    "X_train.shape"
   ]
  },
  {
   "cell_type": "code",
   "execution_count": 116,
   "metadata": {},
   "outputs": [],
   "source": [
    "from sklearn.ensemble import RandomForestClassifier\n",
    "from sklearn.linear_model import LogisticRegression\n",
    "from sklearn.metrics import roc_auc_score"
   ]
  },
  {
   "cell_type": "code",
   "execution_count": 129,
   "metadata": {},
   "outputs": [
    {
     "data": {
      "text/plain": [
       "RandomForestClassifier(max_depth=20, n_jobs=-1, random_state=42)"
      ]
     },
     "execution_count": 129,
     "metadata": {},
     "output_type": "execute_result"
    }
   ],
   "source": [
    "clf = RandomForestClassifier(n_estimators=100, max_depth=20, random_state=42, n_jobs = -1)\n",
    "#clf = LogisticRegression(random_state=SEED, solver = 'liblinear', C=100, max_iter=50, n_jobs=-1,\n",
    "   #                      class_weight='balanced', verbose=2) #penalty='l2'\n",
    "#clf = LogisticRegression(random_state=SEED, solver = 'sag', C=10, max_iter=100, n_jobs=-1)\n",
    "clf.fit(X_train, y_train)"
   ]
  },
  {
   "cell_type": "code",
   "execution_count": 130,
   "metadata": {},
   "outputs": [],
   "source": [
    "y_val_pred = clf.predict_proba(X_val)"
   ]
  },
  {
   "cell_type": "code",
   "execution_count": 131,
   "metadata": {},
   "outputs": [
    {
     "data": {
      "text/plain": [
       "array([0.0136615 , 0.07198072, 0.03857432, ..., 0.01139294, 0.01422382,\n",
       "       0.04625337])"
      ]
     },
     "execution_count": 131,
     "metadata": {},
     "output_type": "execute_result"
    }
   ],
   "source": [
    "y_val_pred[:,1]"
   ]
  },
  {
   "cell_type": "code",
   "execution_count": 132,
   "metadata": {},
   "outputs": [],
   "source": [
    "#q = y_val.to_list()"
   ]
  },
  {
   "cell_type": "code",
   "execution_count": 133,
   "metadata": {},
   "outputs": [
    {
     "data": {
      "text/plain": [
       "0.8781720609397347"
      ]
     },
     "execution_count": 133,
     "metadata": {},
     "output_type": "execute_result"
    }
   ],
   "source": [
    "roc_auc_score(y_val, y_val_pred[:,1])"
   ]
  },
  {
   "cell_type": "markdown",
   "metadata": {},
   "source": [
    "# drop x_2 x_3"
   ]
  },
  {
   "cell_type": "code",
   "execution_count": 134,
   "metadata": {},
   "outputs": [
    {
     "data": {
      "text/plain": [
       "Index(['x_2', 'x_3', 'x_4', 'x_5', 'year', 'month', 'x_13', 'x_625', 'x_627',\n",
       "       'mortgage_duration', 'A', 'A1', 'B', 'B1', 'C', 'D', 'N', 'ЗП',\n",
       "       'Сотрудники', 'Улица', 'autumn', 'spring', 'summer', 'winter'],\n",
       "      dtype='object')"
      ]
     },
     "execution_count": 134,
     "metadata": {},
     "output_type": "execute_result"
    }
   ],
   "source": [
    "df01.columns"
   ]
  },
  {
   "cell_type": "code",
   "execution_count": 153,
   "metadata": {},
   "outputs": [],
   "source": [
    "col_list = ['x_4', 'x_5', 'year', 'month', 'x_13', 'x_625', 'x_627',\n",
    "       'mortgage_duration', 'A', 'A1', 'B', 'B1', 'C', 'D', 'N', 'ЗП',\n",
    "       'Сотрудники', 'Улица', 'autumn', 'spring', 'summer', 'winter']"
   ]
  },
  {
   "cell_type": "code",
   "execution_count": 184,
   "metadata": {},
   "outputs": [],
   "source": [
    "df01['x_13'] = df01['x_13'].apply(lambda x: int(x))\n",
    "test['x_13'] = test['x_13'].apply(lambda x: int(x))"
   ]
  },
  {
   "cell_type": "code",
   "execution_count": 185,
   "metadata": {},
   "outputs": [],
   "source": [
    "SEED = 42\n",
    "from sklearn.model_selection import train_test_split\n",
    "X_train, X_val, y_train, y_val = train_test_split(df01[col_list], Y, test_size=0.25, random_state=SEED)"
   ]
  },
  {
   "cell_type": "code",
   "execution_count": 186,
   "metadata": {
    "scrolled": true
   },
   "outputs": [
    {
     "name": "stderr",
     "output_type": "stream",
     "text": [
      "/opt/conda/lib/python3.6/site-packages/sklearn/linear_model/_logistic.py:1357: UserWarning: 'n_jobs' > 1 does not have any effect when 'solver' is set to 'liblinear'. Got 'n_jobs' = 8.\n",
      "  \" = {}.\".format(effective_n_jobs(self.n_jobs)))\n"
     ]
    },
    {
     "name": "stdout",
     "output_type": "stream",
     "text": [
      "[LibLinear]"
     ]
    },
    {
     "data": {
      "text/plain": [
       "LogisticRegression(C=10000, class_weight='balanced', max_iter=5000, n_jobs=-1,\n",
       "                   random_state=42, solver='liblinear', verbose=2)"
      ]
     },
     "execution_count": 186,
     "metadata": {},
     "output_type": "execute_result"
    }
   ],
   "source": [
    "#clf = RandomForestClassifier(n_estimators=100, max_depth=20, random_state=42, n_jobs = -1)\n",
    "clf = LogisticRegression(random_state=SEED, solver = 'liblinear', C=10000, max_iter=5000, n_jobs=-1,\n",
    "                         class_weight='balanced', verbose=2) #penalty='l2'\n",
    "#clf = LogisticRegression(random_state=SEED, solver = 'sag', C=10, max_iter=100, n_jobs=-1)\n",
    "clf.fit(X_train, y_train)"
   ]
  },
  {
   "cell_type": "code",
   "execution_count": 188,
   "metadata": {},
   "outputs": [],
   "source": [
    "y_val_pred = clf.predict_proba(X_val)"
   ]
  },
  {
   "cell_type": "code",
   "execution_count": 189,
   "metadata": {},
   "outputs": [
    {
     "data": {
      "text/plain": [
       "0.6871236635710642"
      ]
     },
     "execution_count": 189,
     "metadata": {},
     "output_type": "execute_result"
    }
   ],
   "source": [
    "y_val_pred[:,1]\n",
    "\n",
    "#q = y_val.to_list()\n",
    "\n",
    "roc_auc_score(y_val, y_val_pred[:,1])"
   ]
  },
  {
   "cell_type": "code",
   "execution_count": 167,
   "metadata": {},
   "outputs": [
    {
     "name": "stdout",
     "output_type": "stream",
     "text": [
      "Collecting xgboost\n",
      "\u001b[?25l  Downloading https://files.pythonhosted.org/packages/15/70/7308768fdd4a35477efb01098ffd426e455b600837ed0dd70c3293cd3e03/xgboost-1.5.0.tar.gz (728kB)\n",
      "\u001b[K     |████████████████████████████████| 737kB 1.2MB/s eta 0:00:01\n",
      "\u001b[?25hRequirement already satisfied: numpy in /opt/conda/lib/python3.6/site-packages (from xgboost) (1.16.2)\n",
      "Requirement already satisfied: scipy in /opt/conda/lib/python3.6/site-packages (from xgboost) (1.3.1)\n",
      "Building wheels for collected packages: xgboost\n",
      "  Building wheel for xgboost (setup.py) ... \u001b[?25ldone\n",
      "\u001b[?25h  Stored in directory: /root/.cache/pip/wheels/ed/56/b3/97c7aa0befee433bedf292e8f85293c7183226d4bd80de4460\n",
      "Successfully built xgboost\n",
      "Installing collected packages: xgboost\n",
      "Successfully installed xgboost-1.5.0\n",
      "Note: you may need to restart the kernel to use updated packages.\n"
     ]
    }
   ],
   "source": [
    "pip install xgboost"
   ]
  },
  {
   "cell_type": "code",
   "execution_count": 168,
   "metadata": {},
   "outputs": [],
   "source": [
    "import xgboost as xgb"
   ]
  },
  {
   "cell_type": "code",
   "execution_count": 190,
   "metadata": {},
   "outputs": [],
   "source": [
    "boost = xgb.XGBClassifier()"
   ]
  },
  {
   "cell_type": "code",
   "execution_count": 191,
   "metadata": {},
   "outputs": [
    {
     "data": {
      "text/html": [
       "<div>\n",
       "<style scoped>\n",
       "    .dataframe tbody tr th:only-of-type {\n",
       "        vertical-align: middle;\n",
       "    }\n",
       "\n",
       "    .dataframe tbody tr th {\n",
       "        vertical-align: top;\n",
       "    }\n",
       "\n",
       "    .dataframe thead th {\n",
       "        text-align: right;\n",
       "    }\n",
       "</style>\n",
       "<table border=\"1\" class=\"dataframe\">\n",
       "  <thead>\n",
       "    <tr style=\"text-align: right;\">\n",
       "      <th></th>\n",
       "      <th>x_4</th>\n",
       "      <th>x_5</th>\n",
       "      <th>year</th>\n",
       "      <th>month</th>\n",
       "      <th>x_13</th>\n",
       "      <th>x_625</th>\n",
       "      <th>x_627</th>\n",
       "      <th>mortgage_duration</th>\n",
       "      <th>A</th>\n",
       "      <th>A1</th>\n",
       "      <th>...</th>\n",
       "      <th>C</th>\n",
       "      <th>D</th>\n",
       "      <th>N</th>\n",
       "      <th>ЗП</th>\n",
       "      <th>Сотрудники</th>\n",
       "      <th>Улица</th>\n",
       "      <th>autumn</th>\n",
       "      <th>spring</th>\n",
       "      <th>summer</th>\n",
       "      <th>winter</th>\n",
       "    </tr>\n",
       "  </thead>\n",
       "  <tbody>\n",
       "    <tr>\n",
       "      <th>1439348</th>\n",
       "      <td>0.035377</td>\n",
       "      <td>-0.001058</td>\n",
       "      <td>1</td>\n",
       "      <td>1</td>\n",
       "      <td>4</td>\n",
       "      <td>1</td>\n",
       "      <td>-0.327962</td>\n",
       "      <td>25.000000</td>\n",
       "      <td>0.0</td>\n",
       "      <td>0.0</td>\n",
       "      <td>...</td>\n",
       "      <td>0.0</td>\n",
       "      <td>0.0</td>\n",
       "      <td>0.0</td>\n",
       "      <td>1.0</td>\n",
       "      <td>0.0</td>\n",
       "      <td>0.0</td>\n",
       "      <td>0.0</td>\n",
       "      <td>0.0</td>\n",
       "      <td>0.0</td>\n",
       "      <td>1.0</td>\n",
       "    </tr>\n",
       "    <tr>\n",
       "      <th>10751</th>\n",
       "      <td>-0.105436</td>\n",
       "      <td>-0.688643</td>\n",
       "      <td>4</td>\n",
       "      <td>4</td>\n",
       "      <td>4</td>\n",
       "      <td>0</td>\n",
       "      <td>1.301218</td>\n",
       "      <td>15.000000</td>\n",
       "      <td>0.0</td>\n",
       "      <td>0.0</td>\n",
       "      <td>...</td>\n",
       "      <td>0.0</td>\n",
       "      <td>0.0</td>\n",
       "      <td>0.0</td>\n",
       "      <td>1.0</td>\n",
       "      <td>0.0</td>\n",
       "      <td>0.0</td>\n",
       "      <td>0.0</td>\n",
       "      <td>1.0</td>\n",
       "      <td>0.0</td>\n",
       "      <td>0.0</td>\n",
       "    </tr>\n",
       "    <tr>\n",
       "      <th>1425893</th>\n",
       "      <td>0.287133</td>\n",
       "      <td>0.677642</td>\n",
       "      <td>1</td>\n",
       "      <td>9</td>\n",
       "      <td>4</td>\n",
       "      <td>0</td>\n",
       "      <td>-0.420856</td>\n",
       "      <td>18.000000</td>\n",
       "      <td>0.0</td>\n",
       "      <td>0.0</td>\n",
       "      <td>...</td>\n",
       "      <td>0.0</td>\n",
       "      <td>0.0</td>\n",
       "      <td>0.0</td>\n",
       "      <td>1.0</td>\n",
       "      <td>0.0</td>\n",
       "      <td>0.0</td>\n",
       "      <td>1.0</td>\n",
       "      <td>0.0</td>\n",
       "      <td>0.0</td>\n",
       "      <td>0.0</td>\n",
       "    </tr>\n",
       "    <tr>\n",
       "      <th>1442630</th>\n",
       "      <td>-0.579933</td>\n",
       "      <td>-0.697072</td>\n",
       "      <td>4</td>\n",
       "      <td>8</td>\n",
       "      <td>4</td>\n",
       "      <td>0</td>\n",
       "      <td>-0.123271</td>\n",
       "      <td>15.000000</td>\n",
       "      <td>0.0</td>\n",
       "      <td>0.0</td>\n",
       "      <td>...</td>\n",
       "      <td>0.0</td>\n",
       "      <td>1.0</td>\n",
       "      <td>0.0</td>\n",
       "      <td>0.0</td>\n",
       "      <td>0.0</td>\n",
       "      <td>1.0</td>\n",
       "      <td>0.0</td>\n",
       "      <td>0.0</td>\n",
       "      <td>1.0</td>\n",
       "      <td>0.0</td>\n",
       "    </tr>\n",
       "    <tr>\n",
       "      <th>1240012</th>\n",
       "      <td>-0.702824</td>\n",
       "      <td>-0.860786</td>\n",
       "      <td>3</td>\n",
       "      <td>3</td>\n",
       "      <td>4</td>\n",
       "      <td>1</td>\n",
       "      <td>-0.501527</td>\n",
       "      <td>9.166667</td>\n",
       "      <td>0.0</td>\n",
       "      <td>0.0</td>\n",
       "      <td>...</td>\n",
       "      <td>0.0</td>\n",
       "      <td>1.0</td>\n",
       "      <td>0.0</td>\n",
       "      <td>0.0</td>\n",
       "      <td>0.0</td>\n",
       "      <td>1.0</td>\n",
       "      <td>0.0</td>\n",
       "      <td>1.0</td>\n",
       "      <td>0.0</td>\n",
       "      <td>0.0</td>\n",
       "    </tr>\n",
       "    <tr>\n",
       "      <th>...</th>\n",
       "      <td>...</td>\n",
       "      <td>...</td>\n",
       "      <td>...</td>\n",
       "      <td>...</td>\n",
       "      <td>...</td>\n",
       "      <td>...</td>\n",
       "      <td>...</td>\n",
       "      <td>...</td>\n",
       "      <td>...</td>\n",
       "      <td>...</td>\n",
       "      <td>...</td>\n",
       "      <td>...</td>\n",
       "      <td>...</td>\n",
       "      <td>...</td>\n",
       "      <td>...</td>\n",
       "      <td>...</td>\n",
       "      <td>...</td>\n",
       "      <td>...</td>\n",
       "      <td>...</td>\n",
       "      <td>...</td>\n",
       "      <td>...</td>\n",
       "    </tr>\n",
       "    <tr>\n",
       "      <th>259178</th>\n",
       "      <td>4.957987</td>\n",
       "      <td>5.842965</td>\n",
       "      <td>3</td>\n",
       "      <td>11</td>\n",
       "      <td>1</td>\n",
       "      <td>0</td>\n",
       "      <td>1.575141</td>\n",
       "      <td>20.000000</td>\n",
       "      <td>0.0</td>\n",
       "      <td>0.0</td>\n",
       "      <td>...</td>\n",
       "      <td>0.0</td>\n",
       "      <td>1.0</td>\n",
       "      <td>0.0</td>\n",
       "      <td>0.0</td>\n",
       "      <td>0.0</td>\n",
       "      <td>1.0</td>\n",
       "      <td>1.0</td>\n",
       "      <td>0.0</td>\n",
       "      <td>0.0</td>\n",
       "      <td>0.0</td>\n",
       "    </tr>\n",
       "    <tr>\n",
       "      <th>1414414</th>\n",
       "      <td>0.321269</td>\n",
       "      <td>0.714203</td>\n",
       "      <td>2</td>\n",
       "      <td>6</td>\n",
       "      <td>1</td>\n",
       "      <td>0</td>\n",
       "      <td>1.016150</td>\n",
       "      <td>20.000000</td>\n",
       "      <td>0.0</td>\n",
       "      <td>0.0</td>\n",
       "      <td>...</td>\n",
       "      <td>0.0</td>\n",
       "      <td>0.0</td>\n",
       "      <td>1.0</td>\n",
       "      <td>0.0</td>\n",
       "      <td>0.0</td>\n",
       "      <td>1.0</td>\n",
       "      <td>0.0</td>\n",
       "      <td>0.0</td>\n",
       "      <td>1.0</td>\n",
       "      <td>0.0</td>\n",
       "    </tr>\n",
       "    <tr>\n",
       "      <th>131932</th>\n",
       "      <td>-0.702824</td>\n",
       "      <td>-0.465195</td>\n",
       "      <td>5</td>\n",
       "      <td>6</td>\n",
       "      <td>4</td>\n",
       "      <td>0</td>\n",
       "      <td>-0.083678</td>\n",
       "      <td>9.250000</td>\n",
       "      <td>0.0</td>\n",
       "      <td>0.0</td>\n",
       "      <td>...</td>\n",
       "      <td>0.0</td>\n",
       "      <td>0.0</td>\n",
       "      <td>0.0</td>\n",
       "      <td>1.0</td>\n",
       "      <td>0.0</td>\n",
       "      <td>0.0</td>\n",
       "      <td>0.0</td>\n",
       "      <td>0.0</td>\n",
       "      <td>1.0</td>\n",
       "      <td>0.0</td>\n",
       "    </tr>\n",
       "    <tr>\n",
       "      <th>671155</th>\n",
       "      <td>-0.593587</td>\n",
       "      <td>-0.685604</td>\n",
       "      <td>3</td>\n",
       "      <td>1</td>\n",
       "      <td>1</td>\n",
       "      <td>0</td>\n",
       "      <td>-0.360141</td>\n",
       "      <td>20.000000</td>\n",
       "      <td>0.0</td>\n",
       "      <td>0.0</td>\n",
       "      <td>...</td>\n",
       "      <td>0.0</td>\n",
       "      <td>1.0</td>\n",
       "      <td>0.0</td>\n",
       "      <td>0.0</td>\n",
       "      <td>0.0</td>\n",
       "      <td>1.0</td>\n",
       "      <td>0.0</td>\n",
       "      <td>0.0</td>\n",
       "      <td>0.0</td>\n",
       "      <td>1.0</td>\n",
       "    </tr>\n",
       "    <tr>\n",
       "      <th>121958</th>\n",
       "      <td>-0.148107</td>\n",
       "      <td>0.215053</td>\n",
       "      <td>5</td>\n",
       "      <td>7</td>\n",
       "      <td>4</td>\n",
       "      <td>0</td>\n",
       "      <td>-0.052180</td>\n",
       "      <td>10.000000</td>\n",
       "      <td>0.0</td>\n",
       "      <td>0.0</td>\n",
       "      <td>...</td>\n",
       "      <td>0.0</td>\n",
       "      <td>0.0</td>\n",
       "      <td>0.0</td>\n",
       "      <td>1.0</td>\n",
       "      <td>0.0</td>\n",
       "      <td>0.0</td>\n",
       "      <td>0.0</td>\n",
       "      <td>0.0</td>\n",
       "      <td>1.0</td>\n",
       "      <td>0.0</td>\n",
       "    </tr>\n",
       "  </tbody>\n",
       "</table>\n",
       "<p>1145698 rows × 22 columns</p>\n",
       "</div>"
      ],
      "text/plain": [
       "              x_4       x_5  year  month  x_13  x_625     x_627  \\\n",
       "1439348  0.035377 -0.001058     1      1     4      1 -0.327962   \n",
       "10751   -0.105436 -0.688643     4      4     4      0  1.301218   \n",
       "1425893  0.287133  0.677642     1      9     4      0 -0.420856   \n",
       "1442630 -0.579933 -0.697072     4      8     4      0 -0.123271   \n",
       "1240012 -0.702824 -0.860786     3      3     4      1 -0.501527   \n",
       "...           ...       ...   ...    ...   ...    ...       ...   \n",
       "259178   4.957987  5.842965     3     11     1      0  1.575141   \n",
       "1414414  0.321269  0.714203     2      6     1      0  1.016150   \n",
       "131932  -0.702824 -0.465195     5      6     4      0 -0.083678   \n",
       "671155  -0.593587 -0.685604     3      1     1      0 -0.360141   \n",
       "121958  -0.148107  0.215053     5      7     4      0 -0.052180   \n",
       "\n",
       "         mortgage_duration    A   A1  ...    C    D    N   ЗП  Сотрудники  \\\n",
       "1439348          25.000000  0.0  0.0  ...  0.0  0.0  0.0  1.0         0.0   \n",
       "10751            15.000000  0.0  0.0  ...  0.0  0.0  0.0  1.0         0.0   \n",
       "1425893          18.000000  0.0  0.0  ...  0.0  0.0  0.0  1.0         0.0   \n",
       "1442630          15.000000  0.0  0.0  ...  0.0  1.0  0.0  0.0         0.0   \n",
       "1240012           9.166667  0.0  0.0  ...  0.0  1.0  0.0  0.0         0.0   \n",
       "...                    ...  ...  ...  ...  ...  ...  ...  ...         ...   \n",
       "259178           20.000000  0.0  0.0  ...  0.0  1.0  0.0  0.0         0.0   \n",
       "1414414          20.000000  0.0  0.0  ...  0.0  0.0  1.0  0.0         0.0   \n",
       "131932            9.250000  0.0  0.0  ...  0.0  0.0  0.0  1.0         0.0   \n",
       "671155           20.000000  0.0  0.0  ...  0.0  1.0  0.0  0.0         0.0   \n",
       "121958           10.000000  0.0  0.0  ...  0.0  0.0  0.0  1.0         0.0   \n",
       "\n",
       "         Улица  autumn  spring  summer  winter  \n",
       "1439348    0.0     0.0     0.0     0.0     1.0  \n",
       "10751      0.0     0.0     1.0     0.0     0.0  \n",
       "1425893    0.0     1.0     0.0     0.0     0.0  \n",
       "1442630    1.0     0.0     0.0     1.0     0.0  \n",
       "1240012    1.0     0.0     1.0     0.0     0.0  \n",
       "...        ...     ...     ...     ...     ...  \n",
       "259178     1.0     1.0     0.0     0.0     0.0  \n",
       "1414414    1.0     0.0     0.0     1.0     0.0  \n",
       "131932     0.0     0.0     0.0     1.0     0.0  \n",
       "671155     1.0     0.0     0.0     0.0     1.0  \n",
       "121958     0.0     0.0     0.0     1.0     0.0  \n",
       "\n",
       "[1145698 rows x 22 columns]"
      ]
     },
     "execution_count": 191,
     "metadata": {},
     "output_type": "execute_result"
    }
   ],
   "source": [
    "X_train"
   ]
  },
  {
   "cell_type": "raw",
   "metadata": {},
   "source": [
    "print(X_train.dtypes)"
   ]
  },
  {
   "cell_type": "code",
   "execution_count": 192,
   "metadata": {},
   "outputs": [
    {
     "name": "stderr",
     "output_type": "stream",
     "text": [
      "/opt/conda/lib/python3.6/site-packages/xgboost/sklearn.py:1224: UserWarning: The use of label encoder in XGBClassifier is deprecated and will be removed in a future release. To remove this warning, do the following: 1) Pass option use_label_encoder=False when constructing XGBClassifier object; and 2) Encode your labels (y) as integers starting with 0, i.e. 0, 1, 2, ..., [num_class - 1].\n",
      "  warnings.warn(label_encoder_deprecation_msg, UserWarning)\n"
     ]
    },
    {
     "name": "stdout",
     "output_type": "stream",
     "text": [
      "[03:46:46] WARNING: xgboost/src/learner.cc:1115: Starting in XGBoost 1.3.0, the default evaluation metric used with the objective 'binary:logistic' was changed from 'error' to 'logloss'. Explicitly set eval_metric if you'd like to restore the old behavior.\n"
     ]
    },
    {
     "data": {
      "text/plain": [
       "XGBClassifier(base_score=0.5, booster='gbtree', colsample_bylevel=1,\n",
       "              colsample_bynode=1, colsample_bytree=1, enable_categorical=False,\n",
       "              gamma=0, gpu_id=-1, importance_type=None,\n",
       "              interaction_constraints='', learning_rate=0.300000012,\n",
       "              max_delta_step=0, max_depth=6, min_child_weight=1, missing=nan,\n",
       "              monotone_constraints='()', n_estimators=100, n_jobs=80,\n",
       "              num_parallel_tree=1, predictor='auto', random_state=0,\n",
       "              reg_alpha=0, reg_lambda=1, scale_pos_weight=1, subsample=1,\n",
       "              tree_method='exact', validate_parameters=1, verbosity=None)"
      ]
     },
     "execution_count": 192,
     "metadata": {},
     "output_type": "execute_result"
    }
   ],
   "source": [
    "boost.fit(X_train, y_train)"
   ]
  },
  {
   "cell_type": "code",
   "execution_count": 195,
   "metadata": {},
   "outputs": [],
   "source": [
    "y_pred_prob_boost = boost.predict_proba(X_val)"
   ]
  },
  {
   "cell_type": "code",
   "execution_count": 196,
   "metadata": {},
   "outputs": [
    {
     "data": {
      "text/plain": [
       "0.7602742977145479"
      ]
     },
     "execution_count": 196,
     "metadata": {},
     "output_type": "execute_result"
    }
   ],
   "source": [
    "roc_auc_score(y_val, y_pred_prob_boost[:, 1])"
   ]
  },
  {
   "cell_type": "code",
   "execution_count": 200,
   "metadata": {},
   "outputs": [],
   "source": [
    "from sklearn.model_selection import KFold, GridSearchCV"
   ]
  },
  {
   "cell_type": "code",
   "execution_count": 207,
   "metadata": {},
   "outputs": [],
   "source": [
    "cv = KFold(n_splits = 2, shuffle = True, random_state = 42 )"
   ]
  },
  {
   "cell_type": "code",
   "execution_count": 208,
   "metadata": {},
   "outputs": [
    {
     "name": "stdout",
     "output_type": "stream",
     "text": [
      "Fitting 2 folds for each of 2 candidates, totalling 4 fits\n"
     ]
    },
    {
     "name": "stderr",
     "output_type": "stream",
     "text": [
      "/opt/conda/lib/python3.6/site-packages/xgboost/sklearn.py:1224: UserWarning: The use of label encoder in XGBClassifier is deprecated and will be removed in a future release. To remove this warning, do the following: 1) Pass option use_label_encoder=False when constructing XGBClassifier object; and 2) Encode your labels (y) as integers starting with 0, i.e. 0, 1, 2, ..., [num_class - 1].\n",
      "  warnings.warn(label_encoder_deprecation_msg, UserWarning)\n"
     ]
    },
    {
     "name": "stdout",
     "output_type": "stream",
     "text": [
      "[04:44:25] WARNING: xgboost/src/learner.cc:576: \n",
      "Parameters: { \"estimator__learning_rate\", \"estimator__max_depth\", \"estimator__n_estimators\" } might not be used.\n",
      "\n",
      "  This could be a false alarm, with some parameters getting used by language bindings but\n",
      "  then being mistakenly passed down to XGBoost core, or some parameter actually being used\n",
      "  but getting flagged wrongly here. Please open an issue if you find any such cases.\n",
      "\n",
      "\n",
      "[04:44:28] WARNING: xgboost/src/learner.cc:1115: Starting in XGBoost 1.3.0, the default evaluation metric used with the objective 'binary:logistic' was changed from 'error' to 'logloss'. Explicitly set eval_metric if you'd like to restore the old behavior.\n"
     ]
    },
    {
     "data": {
      "text/plain": [
       "GridSearchCV(cv=KFold(n_splits=2, random_state=42, shuffle=True),\n",
       "             estimator=XGBClassifier(base_score=None, booster=None,\n",
       "                                     colsample_bylevel=None,\n",
       "                                     colsample_bynode=None,\n",
       "                                     colsample_bytree=None,\n",
       "                                     enable_categorical=False, gamma=None,\n",
       "                                     gpu_id=None, importance_type=None,\n",
       "                                     interaction_constraints=None,\n",
       "                                     learning_rate=None, max_delta_step=None,\n",
       "                                     max_depth=None, min_child_weigh...\n",
       "                                     n_estimators=100, n_jobs=None,\n",
       "                                     num_parallel_tree=None, predictor=None,\n",
       "                                     random_state=None, reg_alpha=None,\n",
       "                                     reg_lambda=None, scale_pos_weight=None,\n",
       "                                     subsample=None, tree_method=None,\n",
       "                                     validate_parameters=None, verbosity=None),\n",
       "             n_jobs=-1,\n",
       "             param_grid={'estimator__learning_rate': [0.1, 0.01],\n",
       "                         'estimator__max_depth': [10],\n",
       "                         'estimator__n_estimators': [100]},\n",
       "             scoring='roc_auc', verbose=6)"
      ]
     },
     "execution_count": 208,
     "metadata": {},
     "output_type": "execute_result"
    }
   ],
   "source": [
    "xg_clf = xgb.XGBClassifier()\n",
    "\n",
    "params = {\n",
    "    'estimator__max_depth': [10],\n",
    "    'estimator__n_estimators': [100],\n",
    "    'estimator__learning_rate': [0.1, 0.01],\n",
    "}\n",
    "\n",
    "gs_xg = GridSearchCV(estimator=xg_clf, param_grid=params, scoring='roc_auc', cv=cv, n_jobs=-1, verbose = 6)\n",
    "\n",
    "gs_xg.fit(X_train, y_train)"
   ]
  },
  {
   "cell_type": "code",
   "execution_count": 209,
   "metadata": {},
   "outputs": [
    {
     "data": {
      "text/plain": [
       "{'estimator__learning_rate': 0.1,\n",
       " 'estimator__max_depth': 10,\n",
       " 'estimator__n_estimators': 100}"
      ]
     },
     "execution_count": 209,
     "metadata": {},
     "output_type": "execute_result"
    }
   ],
   "source": [
    "gs_xg.best_params_"
   ]
  },
  {
   "cell_type": "code",
   "execution_count": 214,
   "metadata": {},
   "outputs": [
    {
     "data": {
      "text/plain": [
       "0.7572658831122756"
      ]
     },
     "execution_count": 214,
     "metadata": {},
     "output_type": "execute_result"
    }
   ],
   "source": [
    "gs_xg.best_score_"
   ]
  },
  {
   "cell_type": "code",
   "execution_count": 215,
   "metadata": {},
   "outputs": [],
   "source": [
    "y_pp_xg = gs_xg.predict_proba(X_test)"
   ]
  },
  {
   "cell_type": "code",
   "execution_count": 216,
   "metadata": {
    "scrolled": true
   },
   "outputs": [
    {
     "data": {
      "text/plain": [
       "array([[0.9688847 , 0.03111532],\n",
       "       [0.9773224 , 0.0226776 ],\n",
       "       [0.9497039 , 0.05029615],\n",
       "       ...,\n",
       "       [0.976274  , 0.02372598],\n",
       "       [0.97304004, 0.02695994],\n",
       "       [0.99085474, 0.00914529]], dtype=float32)"
      ]
     },
     "execution_count": 216,
     "metadata": {},
     "output_type": "execute_result"
    }
   ],
   "source": [
    "y_pp_xg"
   ]
  },
  {
   "cell_type": "code",
   "execution_count": 218,
   "metadata": {},
   "outputs": [],
   "source": [
    "sub_xg = pd.read_csv('submission.csv')"
   ]
  },
  {
   "cell_type": "code",
   "execution_count": 219,
   "metadata": {},
   "outputs": [],
   "source": [
    "sub_xg['Probability'] = y_pp_xg[:,1]\n",
    "\n"
   ]
  },
  {
   "cell_type": "code",
   "execution_count": 223,
   "metadata": {},
   "outputs": [
    {
     "data": {
      "text/plain": [
       "(763809, 2)"
      ]
     },
     "execution_count": 223,
     "metadata": {},
     "output_type": "execute_result"
    }
   ],
   "source": [
    "sub_xg.shape"
   ]
  },
  {
   "cell_type": "code",
   "execution_count": null,
   "metadata": {},
   "outputs": [],
   "source": []
  },
  {
   "cell_type": "code",
   "execution_count": 224,
   "metadata": {},
   "outputs": [],
   "source": [
    "#clf.coef_\n",
    "sub_xg.to_csv('submission_XGB_76.csv',index=False)"
   ]
  },
  {
   "cell_type": "code",
   "execution_count": null,
   "metadata": {},
   "outputs": [],
   "source": []
  },
  {
   "cell_type": "code",
   "execution_count": null,
   "metadata": {},
   "outputs": [],
   "source": []
  },
  {
   "cell_type": "code",
   "execution_count": null,
   "metadata": {},
   "outputs": [],
   "source": []
  },
  {
   "cell_type": "code",
   "execution_count": null,
   "metadata": {},
   "outputs": [],
   "source": []
  },
  {
   "cell_type": "code",
   "execution_count": null,
   "metadata": {},
   "outputs": [],
   "source": []
  },
  {
   "cell_type": "code",
   "execution_count": 213,
   "metadata": {},
   "outputs": [
    {
     "ename": "KeyboardInterrupt",
     "evalue": "",
     "output_type": "error",
     "traceback": [
      "\u001b[0;31m---------------------------------------------------------------------------\u001b[0m",
      "\u001b[0;31mKeyboardInterrupt\u001b[0m                         Traceback (most recent call last)",
      "\u001b[0;32m<ipython-input-213-7b63a43b633c>\u001b[0m in \u001b[0;36m<module>\u001b[0;34m\u001b[0m\n\u001b[1;32m     10\u001b[0m \u001b[0mgs_xg2\u001b[0m \u001b[0;34m=\u001b[0m \u001b[0mGridSearchCV\u001b[0m\u001b[0;34m(\u001b[0m\u001b[0mestimator\u001b[0m\u001b[0;34m=\u001b[0m\u001b[0mxg_clf2\u001b[0m\u001b[0;34m,\u001b[0m \u001b[0mparam_grid\u001b[0m\u001b[0;34m=\u001b[0m\u001b[0mparams\u001b[0m\u001b[0;34m,\u001b[0m \u001b[0mscoring\u001b[0m\u001b[0;34m=\u001b[0m\u001b[0;34m'roc_auc'\u001b[0m\u001b[0;34m,\u001b[0m \u001b[0mcv\u001b[0m\u001b[0;34m=\u001b[0m\u001b[0mcv\u001b[0m\u001b[0;34m,\u001b[0m \u001b[0mn_jobs\u001b[0m\u001b[0;34m=\u001b[0m\u001b[0;34m-\u001b[0m\u001b[0;36m1\u001b[0m\u001b[0;34m)\u001b[0m\u001b[0;34m\u001b[0m\u001b[0;34m\u001b[0m\u001b[0m\n\u001b[1;32m     11\u001b[0m \u001b[0;34m\u001b[0m\u001b[0m\n\u001b[0;32m---> 12\u001b[0;31m \u001b[0mgs_xg2\u001b[0m\u001b[0;34m.\u001b[0m\u001b[0mfit\u001b[0m\u001b[0;34m(\u001b[0m\u001b[0mX_train\u001b[0m\u001b[0;34m,\u001b[0m \u001b[0my_train\u001b[0m\u001b[0;34m)\u001b[0m\u001b[0;34m\u001b[0m\u001b[0;34m\u001b[0m\u001b[0m\n\u001b[0m",
      "\u001b[0;32m/opt/conda/lib/python3.6/site-packages/sklearn/utils/validation.py\u001b[0m in \u001b[0;36minner_f\u001b[0;34m(*args, **kwargs)\u001b[0m\n\u001b[1;32m     61\u001b[0m             \u001b[0mextra_args\u001b[0m \u001b[0;34m=\u001b[0m \u001b[0mlen\u001b[0m\u001b[0;34m(\u001b[0m\u001b[0margs\u001b[0m\u001b[0;34m)\u001b[0m \u001b[0;34m-\u001b[0m \u001b[0mlen\u001b[0m\u001b[0;34m(\u001b[0m\u001b[0mall_args\u001b[0m\u001b[0;34m)\u001b[0m\u001b[0;34m\u001b[0m\u001b[0;34m\u001b[0m\u001b[0m\n\u001b[1;32m     62\u001b[0m             \u001b[0;32mif\u001b[0m \u001b[0mextra_args\u001b[0m \u001b[0;34m<=\u001b[0m \u001b[0;36m0\u001b[0m\u001b[0;34m:\u001b[0m\u001b[0;34m\u001b[0m\u001b[0;34m\u001b[0m\u001b[0m\n\u001b[0;32m---> 63\u001b[0;31m                 \u001b[0;32mreturn\u001b[0m \u001b[0mf\u001b[0m\u001b[0;34m(\u001b[0m\u001b[0;34m*\u001b[0m\u001b[0margs\u001b[0m\u001b[0;34m,\u001b[0m \u001b[0;34m**\u001b[0m\u001b[0mkwargs\u001b[0m\u001b[0;34m)\u001b[0m\u001b[0;34m\u001b[0m\u001b[0;34m\u001b[0m\u001b[0m\n\u001b[0m\u001b[1;32m     64\u001b[0m \u001b[0;34m\u001b[0m\u001b[0m\n\u001b[1;32m     65\u001b[0m             \u001b[0;31m# extra_args > 0\u001b[0m\u001b[0;34m\u001b[0m\u001b[0;34m\u001b[0m\u001b[0;34m\u001b[0m\u001b[0m\n",
      "\u001b[0;32m/opt/conda/lib/python3.6/site-packages/sklearn/model_selection/_search.py\u001b[0m in \u001b[0;36mfit\u001b[0;34m(self, X, y, groups, **fit_params)\u001b[0m\n\u001b[1;32m    839\u001b[0m                 \u001b[0;32mreturn\u001b[0m \u001b[0mresults\u001b[0m\u001b[0;34m\u001b[0m\u001b[0;34m\u001b[0m\u001b[0m\n\u001b[1;32m    840\u001b[0m \u001b[0;34m\u001b[0m\u001b[0m\n\u001b[0;32m--> 841\u001b[0;31m             \u001b[0mself\u001b[0m\u001b[0;34m.\u001b[0m\u001b[0m_run_search\u001b[0m\u001b[0;34m(\u001b[0m\u001b[0mevaluate_candidates\u001b[0m\u001b[0;34m)\u001b[0m\u001b[0;34m\u001b[0m\u001b[0;34m\u001b[0m\u001b[0m\n\u001b[0m\u001b[1;32m    842\u001b[0m \u001b[0;34m\u001b[0m\u001b[0m\n\u001b[1;32m    843\u001b[0m             \u001b[0;31m# multimetric is determined here because in the case of a callable\u001b[0m\u001b[0;34m\u001b[0m\u001b[0;34m\u001b[0m\u001b[0;34m\u001b[0m\u001b[0m\n",
      "\u001b[0;32m/opt/conda/lib/python3.6/site-packages/sklearn/model_selection/_search.py\u001b[0m in \u001b[0;36m_run_search\u001b[0;34m(self, evaluate_candidates)\u001b[0m\n\u001b[1;32m   1294\u001b[0m     \u001b[0;32mdef\u001b[0m \u001b[0m_run_search\u001b[0m\u001b[0;34m(\u001b[0m\u001b[0mself\u001b[0m\u001b[0;34m,\u001b[0m \u001b[0mevaluate_candidates\u001b[0m\u001b[0;34m)\u001b[0m\u001b[0;34m:\u001b[0m\u001b[0;34m\u001b[0m\u001b[0;34m\u001b[0m\u001b[0m\n\u001b[1;32m   1295\u001b[0m         \u001b[0;34m\"\"\"Search all candidates in param_grid\"\"\"\u001b[0m\u001b[0;34m\u001b[0m\u001b[0;34m\u001b[0m\u001b[0m\n\u001b[0;32m-> 1296\u001b[0;31m         \u001b[0mevaluate_candidates\u001b[0m\u001b[0;34m(\u001b[0m\u001b[0mParameterGrid\u001b[0m\u001b[0;34m(\u001b[0m\u001b[0mself\u001b[0m\u001b[0;34m.\u001b[0m\u001b[0mparam_grid\u001b[0m\u001b[0;34m)\u001b[0m\u001b[0;34m)\u001b[0m\u001b[0;34m\u001b[0m\u001b[0;34m\u001b[0m\u001b[0m\n\u001b[0m\u001b[1;32m   1297\u001b[0m \u001b[0;34m\u001b[0m\u001b[0m\n\u001b[1;32m   1298\u001b[0m \u001b[0;34m\u001b[0m\u001b[0m\n",
      "\u001b[0;32m/opt/conda/lib/python3.6/site-packages/sklearn/model_selection/_search.py\u001b[0m in \u001b[0;36mevaluate_candidates\u001b[0;34m(candidate_params, cv, more_results)\u001b[0m\n\u001b[1;32m    807\u001b[0m                                    (split_idx, (train, test)) in product(\n\u001b[1;32m    808\u001b[0m                                    \u001b[0menumerate\u001b[0m\u001b[0;34m(\u001b[0m\u001b[0mcandidate_params\u001b[0m\u001b[0;34m)\u001b[0m\u001b[0;34m,\u001b[0m\u001b[0;34m\u001b[0m\u001b[0;34m\u001b[0m\u001b[0m\n\u001b[0;32m--> 809\u001b[0;31m                                    enumerate(cv.split(X, y, groups))))\n\u001b[0m\u001b[1;32m    810\u001b[0m \u001b[0;34m\u001b[0m\u001b[0m\n\u001b[1;32m    811\u001b[0m                 \u001b[0;32mif\u001b[0m \u001b[0mlen\u001b[0m\u001b[0;34m(\u001b[0m\u001b[0mout\u001b[0m\u001b[0;34m)\u001b[0m \u001b[0;34m<\u001b[0m \u001b[0;36m1\u001b[0m\u001b[0;34m:\u001b[0m\u001b[0;34m\u001b[0m\u001b[0;34m\u001b[0m\u001b[0m\n",
      "\u001b[0;32m/opt/conda/lib/python3.6/site-packages/joblib/parallel.py\u001b[0m in \u001b[0;36m__call__\u001b[0;34m(self, iterable)\u001b[0m\n\u001b[1;32m    932\u001b[0m \u001b[0;34m\u001b[0m\u001b[0m\n\u001b[1;32m    933\u001b[0m             \u001b[0;32mwith\u001b[0m \u001b[0mself\u001b[0m\u001b[0;34m.\u001b[0m\u001b[0m_backend\u001b[0m\u001b[0;34m.\u001b[0m\u001b[0mretrieval_context\u001b[0m\u001b[0;34m(\u001b[0m\u001b[0;34m)\u001b[0m\u001b[0;34m:\u001b[0m\u001b[0;34m\u001b[0m\u001b[0;34m\u001b[0m\u001b[0m\n\u001b[0;32m--> 934\u001b[0;31m                 \u001b[0mself\u001b[0m\u001b[0;34m.\u001b[0m\u001b[0mretrieve\u001b[0m\u001b[0;34m(\u001b[0m\u001b[0;34m)\u001b[0m\u001b[0;34m\u001b[0m\u001b[0;34m\u001b[0m\u001b[0m\n\u001b[0m\u001b[1;32m    935\u001b[0m             \u001b[0;31m# Make sure that we get a last message telling us we are done\u001b[0m\u001b[0;34m\u001b[0m\u001b[0;34m\u001b[0m\u001b[0;34m\u001b[0m\u001b[0m\n\u001b[1;32m    936\u001b[0m             \u001b[0melapsed_time\u001b[0m \u001b[0;34m=\u001b[0m \u001b[0mtime\u001b[0m\u001b[0;34m.\u001b[0m\u001b[0mtime\u001b[0m\u001b[0;34m(\u001b[0m\u001b[0;34m)\u001b[0m \u001b[0;34m-\u001b[0m \u001b[0mself\u001b[0m\u001b[0;34m.\u001b[0m\u001b[0m_start_time\u001b[0m\u001b[0;34m\u001b[0m\u001b[0;34m\u001b[0m\u001b[0m\n",
      "\u001b[0;32m/opt/conda/lib/python3.6/site-packages/joblib/parallel.py\u001b[0m in \u001b[0;36mretrieve\u001b[0;34m(self)\u001b[0m\n\u001b[1;32m    831\u001b[0m             \u001b[0;32mtry\u001b[0m\u001b[0;34m:\u001b[0m\u001b[0;34m\u001b[0m\u001b[0;34m\u001b[0m\u001b[0m\n\u001b[1;32m    832\u001b[0m                 \u001b[0;32mif\u001b[0m \u001b[0mgetattr\u001b[0m\u001b[0;34m(\u001b[0m\u001b[0mself\u001b[0m\u001b[0;34m.\u001b[0m\u001b[0m_backend\u001b[0m\u001b[0;34m,\u001b[0m \u001b[0;34m'supports_timeout'\u001b[0m\u001b[0;34m,\u001b[0m \u001b[0;32mFalse\u001b[0m\u001b[0;34m)\u001b[0m\u001b[0;34m:\u001b[0m\u001b[0;34m\u001b[0m\u001b[0;34m\u001b[0m\u001b[0m\n\u001b[0;32m--> 833\u001b[0;31m                     \u001b[0mself\u001b[0m\u001b[0;34m.\u001b[0m\u001b[0m_output\u001b[0m\u001b[0;34m.\u001b[0m\u001b[0mextend\u001b[0m\u001b[0;34m(\u001b[0m\u001b[0mjob\u001b[0m\u001b[0;34m.\u001b[0m\u001b[0mget\u001b[0m\u001b[0;34m(\u001b[0m\u001b[0mtimeout\u001b[0m\u001b[0;34m=\u001b[0m\u001b[0mself\u001b[0m\u001b[0;34m.\u001b[0m\u001b[0mtimeout\u001b[0m\u001b[0;34m)\u001b[0m\u001b[0;34m)\u001b[0m\u001b[0;34m\u001b[0m\u001b[0;34m\u001b[0m\u001b[0m\n\u001b[0m\u001b[1;32m    834\u001b[0m                 \u001b[0;32melse\u001b[0m\u001b[0;34m:\u001b[0m\u001b[0;34m\u001b[0m\u001b[0;34m\u001b[0m\u001b[0m\n\u001b[1;32m    835\u001b[0m                     \u001b[0mself\u001b[0m\u001b[0;34m.\u001b[0m\u001b[0m_output\u001b[0m\u001b[0;34m.\u001b[0m\u001b[0mextend\u001b[0m\u001b[0;34m(\u001b[0m\u001b[0mjob\u001b[0m\u001b[0;34m.\u001b[0m\u001b[0mget\u001b[0m\u001b[0;34m(\u001b[0m\u001b[0;34m)\u001b[0m\u001b[0;34m)\u001b[0m\u001b[0;34m\u001b[0m\u001b[0;34m\u001b[0m\u001b[0m\n",
      "\u001b[0;32m/opt/conda/lib/python3.6/site-packages/joblib/_parallel_backends.py\u001b[0m in \u001b[0;36mwrap_future_result\u001b[0;34m(future, timeout)\u001b[0m\n\u001b[1;32m    519\u001b[0m         AsyncResults.get from multiprocessing.\"\"\"\n\u001b[1;32m    520\u001b[0m         \u001b[0;32mtry\u001b[0m\u001b[0;34m:\u001b[0m\u001b[0;34m\u001b[0m\u001b[0;34m\u001b[0m\u001b[0m\n\u001b[0;32m--> 521\u001b[0;31m             \u001b[0;32mreturn\u001b[0m \u001b[0mfuture\u001b[0m\u001b[0;34m.\u001b[0m\u001b[0mresult\u001b[0m\u001b[0;34m(\u001b[0m\u001b[0mtimeout\u001b[0m\u001b[0;34m=\u001b[0m\u001b[0mtimeout\u001b[0m\u001b[0;34m)\u001b[0m\u001b[0;34m\u001b[0m\u001b[0;34m\u001b[0m\u001b[0m\n\u001b[0m\u001b[1;32m    522\u001b[0m         \u001b[0;32mexcept\u001b[0m \u001b[0mLokyTimeoutError\u001b[0m\u001b[0;34m:\u001b[0m\u001b[0;34m\u001b[0m\u001b[0;34m\u001b[0m\u001b[0m\n\u001b[1;32m    523\u001b[0m             \u001b[0;32mraise\u001b[0m \u001b[0mTimeoutError\u001b[0m\u001b[0;34m(\u001b[0m\u001b[0;34m)\u001b[0m\u001b[0;34m\u001b[0m\u001b[0;34m\u001b[0m\u001b[0m\n",
      "\u001b[0;32m/opt/conda/lib/python3.6/concurrent/futures/_base.py\u001b[0m in \u001b[0;36mresult\u001b[0;34m(self, timeout)\u001b[0m\n\u001b[1;32m    425\u001b[0m                 \u001b[0;32mreturn\u001b[0m \u001b[0mself\u001b[0m\u001b[0;34m.\u001b[0m\u001b[0m__get_result\u001b[0m\u001b[0;34m(\u001b[0m\u001b[0;34m)\u001b[0m\u001b[0;34m\u001b[0m\u001b[0;34m\u001b[0m\u001b[0m\n\u001b[1;32m    426\u001b[0m \u001b[0;34m\u001b[0m\u001b[0m\n\u001b[0;32m--> 427\u001b[0;31m             \u001b[0mself\u001b[0m\u001b[0;34m.\u001b[0m\u001b[0m_condition\u001b[0m\u001b[0;34m.\u001b[0m\u001b[0mwait\u001b[0m\u001b[0;34m(\u001b[0m\u001b[0mtimeout\u001b[0m\u001b[0;34m)\u001b[0m\u001b[0;34m\u001b[0m\u001b[0;34m\u001b[0m\u001b[0m\n\u001b[0m\u001b[1;32m    428\u001b[0m \u001b[0;34m\u001b[0m\u001b[0m\n\u001b[1;32m    429\u001b[0m             \u001b[0;32mif\u001b[0m \u001b[0mself\u001b[0m\u001b[0;34m.\u001b[0m\u001b[0m_state\u001b[0m \u001b[0;32min\u001b[0m \u001b[0;34m[\u001b[0m\u001b[0mCANCELLED\u001b[0m\u001b[0;34m,\u001b[0m \u001b[0mCANCELLED_AND_NOTIFIED\u001b[0m\u001b[0;34m]\u001b[0m\u001b[0;34m:\u001b[0m\u001b[0;34m\u001b[0m\u001b[0;34m\u001b[0m\u001b[0m\n",
      "\u001b[0;32m/opt/conda/lib/python3.6/threading.py\u001b[0m in \u001b[0;36mwait\u001b[0;34m(self, timeout)\u001b[0m\n\u001b[1;32m    293\u001b[0m         \u001b[0;32mtry\u001b[0m\u001b[0;34m:\u001b[0m    \u001b[0;31m# restore state no matter what (e.g., KeyboardInterrupt)\u001b[0m\u001b[0;34m\u001b[0m\u001b[0;34m\u001b[0m\u001b[0m\n\u001b[1;32m    294\u001b[0m             \u001b[0;32mif\u001b[0m \u001b[0mtimeout\u001b[0m \u001b[0;32mis\u001b[0m \u001b[0;32mNone\u001b[0m\u001b[0;34m:\u001b[0m\u001b[0;34m\u001b[0m\u001b[0;34m\u001b[0m\u001b[0m\n\u001b[0;32m--> 295\u001b[0;31m                 \u001b[0mwaiter\u001b[0m\u001b[0;34m.\u001b[0m\u001b[0macquire\u001b[0m\u001b[0;34m(\u001b[0m\u001b[0;34m)\u001b[0m\u001b[0;34m\u001b[0m\u001b[0;34m\u001b[0m\u001b[0m\n\u001b[0m\u001b[1;32m    296\u001b[0m                 \u001b[0mgotit\u001b[0m \u001b[0;34m=\u001b[0m \u001b[0;32mTrue\u001b[0m\u001b[0;34m\u001b[0m\u001b[0;34m\u001b[0m\u001b[0m\n\u001b[1;32m    297\u001b[0m             \u001b[0;32melse\u001b[0m\u001b[0;34m:\u001b[0m\u001b[0;34m\u001b[0m\u001b[0;34m\u001b[0m\u001b[0m\n",
      "\u001b[0;31mKeyboardInterrupt\u001b[0m: "
     ]
    }
   ],
   "source": [
    "xg_clf2 = xgb.XGBClassifier(learning_rate = 0.1, max_depth = 10, n_estimators = 80, verbose = 5)\n",
    "\n",
    "params = {\n",
    "    'estimator__colsample_bytree': [0.7],\n",
    "    'estimator__reg_alpha': [1.1, 1.2],\n",
    "    'estimator__reg_lambda': [1.1, 1.2,],\n",
    "    'estimator__subsample': [0.7, 0.8]\n",
    "}\n",
    "\n",
    "gs_xg2 = GridSearchCV(estimator=xg_clf2, param_grid=params, scoring='roc_auc', cv=cv, n_jobs=-1)\n",
    "\n",
    "gs_xg2.fit(X_train, y_train)"
   ]
  },
  {
   "cell_type": "code",
   "execution_count": null,
   "metadata": {},
   "outputs": [],
   "source": [
    "gs_xg2.best_params_"
   ]
  },
  {
   "cell_type": "code",
   "execution_count": null,
   "metadata": {},
   "outputs": [],
   "source": [
    "xg_clf3 = xgb.XGBClassifier(\n",
    "    learning_rate=0.1,\n",
    "    max_depth=2,\n",
    "    n_estimators=60,\n",
    "    colsample_bytree=0.7,\n",
    "    reg_alpha=1.1,\n",
    "    reg_lambda=1.1,\n",
    "    subsample=0.7)\n",
    "\n",
    "params = {\n",
    "    'estimator__gamma':[i/10.0 for i in range(0,9)]\n",
    "}\n",
    "\n",
    "gs_xg3 = GridSearchCV(estimator=xg_clf3, param_grid=params, scoring='roc_auc', cv=cv, n_jobs=-1)\n",
    "\n",
    "gs_xg3.fit(X_train, y_train)"
   ]
  },
  {
   "cell_type": "code",
   "execution_count": 225,
   "metadata": {},
   "outputs": [],
   "source": [
    "q= gs_xg.predict_proba(X_val)"
   ]
  },
  {
   "cell_type": "code",
   "execution_count": 226,
   "metadata": {},
   "outputs": [
    {
     "data": {
      "text/plain": [
       "0.7602742977145479"
      ]
     },
     "execution_count": 226,
     "metadata": {},
     "output_type": "execute_result"
    }
   ],
   "source": [
    "roc_auc_score(y_val, q[:,1])"
   ]
  },
  {
   "cell_type": "code",
   "execution_count": null,
   "metadata": {},
   "outputs": [],
   "source": []
  },
  {
   "cell_type": "code",
   "execution_count": null,
   "metadata": {},
   "outputs": [],
   "source": []
  },
  {
   "cell_type": "code",
   "execution_count": null,
   "metadata": {},
   "outputs": [],
   "source": []
  },
  {
   "cell_type": "code",
   "execution_count": 147,
   "metadata": {},
   "outputs": [],
   "source": [
    "X_test = np.array(test[col_list])"
   ]
  },
  {
   "cell_type": "code",
   "execution_count": 148,
   "metadata": {},
   "outputs": [],
   "source": [
    "y_pred_test = clf.predict_proba(X_test)"
   ]
  },
  {
   "cell_type": "code",
   "execution_count": null,
   "metadata": {},
   "outputs": [],
   "source": []
  },
  {
   "cell_type": "code",
   "execution_count": 149,
   "metadata": {},
   "outputs": [
    {
     "data": {
      "text/html": [
       "<div>\n",
       "<style scoped>\n",
       "    .dataframe tbody tr th:only-of-type {\n",
       "        vertical-align: middle;\n",
       "    }\n",
       "\n",
       "    .dataframe tbody tr th {\n",
       "        vertical-align: top;\n",
       "    }\n",
       "\n",
       "    .dataframe thead th {\n",
       "        text-align: right;\n",
       "    }\n",
       "</style>\n",
       "<table border=\"1\" class=\"dataframe\">\n",
       "  <thead>\n",
       "    <tr style=\"text-align: right;\">\n",
       "      <th></th>\n",
       "      <th>ID</th>\n",
       "      <th>Probability</th>\n",
       "    </tr>\n",
       "  </thead>\n",
       "  <tbody>\n",
       "    <tr>\n",
       "      <th>0</th>\n",
       "      <td>1943531</td>\n",
       "      <td>0.172594</td>\n",
       "    </tr>\n",
       "    <tr>\n",
       "      <th>1</th>\n",
       "      <td>1943532</td>\n",
       "      <td>0.535728</td>\n",
       "    </tr>\n",
       "    <tr>\n",
       "      <th>2</th>\n",
       "      <td>1943533</td>\n",
       "      <td>0.658073</td>\n",
       "    </tr>\n",
       "    <tr>\n",
       "      <th>3</th>\n",
       "      <td>1943534</td>\n",
       "      <td>0.321833</td>\n",
       "    </tr>\n",
       "    <tr>\n",
       "      <th>4</th>\n",
       "      <td>1943537</td>\n",
       "      <td>0.695918</td>\n",
       "    </tr>\n",
       "  </tbody>\n",
       "</table>\n",
       "</div>"
      ],
      "text/plain": [
       "        ID  Probability\n",
       "0  1943531     0.172594\n",
       "1  1943532     0.535728\n",
       "2  1943533     0.658073\n",
       "3  1943534     0.321833\n",
       "4  1943537     0.695918"
      ]
     },
     "execution_count": 149,
     "metadata": {},
     "output_type": "execute_result"
    }
   ],
   "source": [
    "sub = pd.read_csv('submission.csv')\n",
    "sub.head()"
   ]
  },
  {
   "cell_type": "code",
   "execution_count": 150,
   "metadata": {},
   "outputs": [
    {
     "data": {
      "text/plain": [
       "763809"
      ]
     },
     "execution_count": 150,
     "metadata": {},
     "output_type": "execute_result"
    }
   ],
   "source": [
    "len(sub)"
   ]
  },
  {
   "cell_type": "code",
   "execution_count": null,
   "metadata": {},
   "outputs": [],
   "source": []
  },
  {
   "cell_type": "code",
   "execution_count": 151,
   "metadata": {},
   "outputs": [],
   "source": [
    "sub['Probability'] = y_pred_test[:,1]\n",
    "\n"
   ]
  },
  {
   "cell_type": "code",
   "execution_count": 152,
   "metadata": {},
   "outputs": [],
   "source": [
    "#clf.coef_\n",
    "sub.to_csv('submission_RF_88.csv',index=False)"
   ]
  },
  {
   "cell_type": "code",
   "execution_count": null,
   "metadata": {},
   "outputs": [],
   "source": []
  },
  {
   "cell_type": "code",
   "execution_count": null,
   "metadata": {},
   "outputs": [],
   "source": []
  },
  {
   "cell_type": "code",
   "execution_count": null,
   "metadata": {},
   "outputs": [],
   "source": []
  },
  {
   "cell_type": "code",
   "execution_count": null,
   "metadata": {},
   "outputs": [],
   "source": []
  },
  {
   "cell_type": "code",
   "execution_count": 78,
   "metadata": {
    "scrolled": true
   },
   "outputs": [
    {
     "data": {
      "text/html": [
       "<div>\n",
       "<style scoped>\n",
       "    .dataframe tbody tr th:only-of-type {\n",
       "        vertical-align: middle;\n",
       "    }\n",
       "\n",
       "    .dataframe tbody tr th {\n",
       "        vertical-align: top;\n",
       "    }\n",
       "\n",
       "    .dataframe thead th {\n",
       "        text-align: right;\n",
       "    }\n",
       "</style>\n",
       "<table border=\"1\" class=\"dataframe\">\n",
       "  <thead>\n",
       "    <tr style=\"text-align: right;\">\n",
       "      <th></th>\n",
       "      <th>index</th>\n",
       "      <th>x_2</th>\n",
       "      <th>x_3</th>\n",
       "      <th>x_4</th>\n",
       "      <th>x_5</th>\n",
       "      <th>year</th>\n",
       "      <th>month</th>\n",
       "      <th>x_13</th>\n",
       "      <th>x_625</th>\n",
       "      <th>x_627</th>\n",
       "      <th>mortgage_duration</th>\n",
       "    </tr>\n",
       "  </thead>\n",
       "  <tbody>\n",
       "    <tr>\n",
       "      <th>0</th>\n",
       "      <td>0</td>\n",
       "      <td>1</td>\n",
       "      <td>1</td>\n",
       "      <td>0.406610</td>\n",
       "      <td>0.348686</td>\n",
       "      <td>5</td>\n",
       "      <td>3</td>\n",
       "      <td>4</td>\n",
       "      <td>0</td>\n",
       "      <td>-0.230682</td>\n",
       "      <td>20.0</td>\n",
       "    </tr>\n",
       "    <tr>\n",
       "      <th>1</th>\n",
       "      <td>1</td>\n",
       "      <td>1</td>\n",
       "      <td>1</td>\n",
       "      <td>-0.617483</td>\n",
       "      <td>-0.791948</td>\n",
       "      <td>5</td>\n",
       "      <td>2</td>\n",
       "      <td>4</td>\n",
       "      <td>1</td>\n",
       "      <td>0.329393</td>\n",
       "      <td>5.0</td>\n",
       "    </tr>\n",
       "    <tr>\n",
       "      <th>2</th>\n",
       "      <td>2</td>\n",
       "      <td>1</td>\n",
       "      <td>1</td>\n",
       "      <td>-0.532142</td>\n",
       "      <td>-0.165438</td>\n",
       "      <td>5</td>\n",
       "      <td>9</td>\n",
       "      <td>1</td>\n",
       "      <td>0</td>\n",
       "      <td>-0.064903</td>\n",
       "      <td>7.0</td>\n",
       "    </tr>\n",
       "    <tr>\n",
       "      <th>3</th>\n",
       "      <td>3</td>\n",
       "      <td>1</td>\n",
       "      <td>1</td>\n",
       "      <td>-0.190777</td>\n",
       "      <td>-0.589439</td>\n",
       "      <td>3</td>\n",
       "      <td>2</td>\n",
       "      <td>4</td>\n",
       "      <td>0</td>\n",
       "      <td>0.458970</td>\n",
       "      <td>15.0</td>\n",
       "    </tr>\n",
       "    <tr>\n",
       "      <th>4</th>\n",
       "      <td>4</td>\n",
       "      <td>1</td>\n",
       "      <td>1</td>\n",
       "      <td>0.418985</td>\n",
       "      <td>0.257683</td>\n",
       "      <td>2</td>\n",
       "      <td>10</td>\n",
       "      <td>1</td>\n",
       "      <td>0</td>\n",
       "      <td>0.703054</td>\n",
       "      <td>20.0</td>\n",
       "    </tr>\n",
       "  </tbody>\n",
       "</table>\n",
       "</div>"
      ],
      "text/plain": [
       "   index  x_2  x_3       x_4       x_5  year  month x_13  x_625     x_627  \\\n",
       "0      0    1    1  0.406610  0.348686     5      3    4      0 -0.230682   \n",
       "1      1    1    1 -0.617483 -0.791948     5      2    4      1  0.329393   \n",
       "2      2    1    1 -0.532142 -0.165438     5      9    1      0 -0.064903   \n",
       "3      3    1    1 -0.190777 -0.589439     3      2    4      0  0.458970   \n",
       "4      4    1    1  0.418985  0.257683     2     10    1      0  0.703054   \n",
       "\n",
       "   mortgage_duration  \n",
       "0               20.0  \n",
       "1                5.0  \n",
       "2                7.0  \n",
       "3               15.0  \n",
       "4               20.0  "
      ]
     },
     "execution_count": 78,
     "metadata": {},
     "output_type": "execute_result"
    }
   ],
   "source": [
    "df00.head()"
   ]
  },
  {
   "cell_type": "code",
   "execution_count": 52,
   "metadata": {},
   "outputs": [
    {
     "data": {
      "text/plain": [
       "(1854364, 24)"
      ]
     },
     "execution_count": 52,
     "metadata": {},
     "output_type": "execute_result"
    }
   ],
   "source": [
    "df00.shape"
   ]
  },
  {
   "cell_type": "code",
   "execution_count": 57,
   "metadata": {},
   "outputs": [
    {
     "data": {
      "text/plain": [
       "Index(['x_2', 'x_3', 'x_4', 'x_5', 'year', 'month', 'x_13', 'x_625', 'x_627',\n",
       "       'mortgage_duration', 'A', 'A1', 'B', 'B1', 'C', 'D', 'N', 'ЗП',\n",
       "       'Сотрудники', 'Улица', 'autumn', 'spring', 'summer', 'winter'],\n",
       "      dtype='object')"
      ]
     },
     "execution_count": 57,
     "metadata": {},
     "output_type": "execute_result"
    }
   ],
   "source": [
    "df00.columns"
   ]
  },
  {
   "cell_type": "code",
   "execution_count": null,
   "metadata": {},
   "outputs": [],
   "source": []
  }
 ],
 "metadata": {
  "kernelspec": {
   "display_name": "Python 3",
   "language": "python",
   "name": "python3"
  },
  "language_info": {
   "codemirror_mode": {
    "name": "ipython",
    "version": 3
   },
   "file_extension": ".py",
   "mimetype": "text/x-python",
   "name": "python",
   "nbconvert_exporter": "python",
   "pygments_lexer": "ipython3",
   "version": "3.6.8"
  }
 },
 "nbformat": 4,
 "nbformat_minor": 2
}
