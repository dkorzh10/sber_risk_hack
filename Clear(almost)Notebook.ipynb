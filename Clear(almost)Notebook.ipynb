{
 "cells": [
  {
   "cell_type": "code",
   "execution_count": 1,
   "metadata": {},
   "outputs": [],
   "source": [
    "import pandas as pd\n",
    "import matplotlib.pyplot as plt\n",
    "import numpy as np\n",
    "import torch"
   ]
  },
  {
   "cell_type": "markdown",
   "metadata": {},
   "source": [
    "# Logreg, that achieved highest open test score"
   ]
  },
  {
   "cell_type": "code",
   "execution_count": 3,
   "metadata": {},
   "outputs": [
    {
     "data": {
      "text/html": [
       "<div>\n",
       "<style scoped>\n",
       "    .dataframe tbody tr th:only-of-type {\n",
       "        vertical-align: middle;\n",
       "    }\n",
       "\n",
       "    .dataframe tbody tr th {\n",
       "        vertical-align: top;\n",
       "    }\n",
       "\n",
       "    .dataframe thead th {\n",
       "        text-align: right;\n",
       "    }\n",
       "</style>\n",
       "<table border=\"1\" class=\"dataframe\">\n",
       "  <thead>\n",
       "    <tr style=\"text-align: right;\">\n",
       "      <th></th>\n",
       "      <th>REPORT_DT</th>\n",
       "      <th>x_0</th>\n",
       "      <th>x_1</th>\n",
       "      <th>x_2</th>\n",
       "      <th>x_3</th>\n",
       "      <th>x_4</th>\n",
       "      <th>x_5</th>\n",
       "      <th>x_7</th>\n",
       "      <th>x_9</th>\n",
       "      <th>x_10</th>\n",
       "      <th>...</th>\n",
       "      <th>x_639</th>\n",
       "      <th>x_640</th>\n",
       "      <th>x_641</th>\n",
       "      <th>x_642</th>\n",
       "      <th>x_643</th>\n",
       "      <th>x_644</th>\n",
       "      <th>x_645</th>\n",
       "      <th>x_646</th>\n",
       "      <th>TARGET</th>\n",
       "      <th>ID</th>\n",
       "    </tr>\n",
       "  </thead>\n",
       "  <tbody>\n",
       "    <tr>\n",
       "      <th>0</th>\n",
       "      <td>2019-08-25</td>\n",
       "      <td>1</td>\n",
       "      <td>0</td>\n",
       "      <td>1</td>\n",
       "      <td>1</td>\n",
       "      <td>2100000.0</td>\n",
       "      <td>1505828.87</td>\n",
       "      <td>1505828.87</td>\n",
       "      <td>2017-03-20</td>\n",
       "      <td>1400000.0</td>\n",
       "      <td>...</td>\n",
       "      <td>11.75</td>\n",
       "      <td>0.436268</td>\n",
       "      <td>0.436268</td>\n",
       "      <td>40.257001</td>\n",
       "      <td>28</td>\n",
       "      <td>22757.85</td>\n",
       "      <td>0.505730</td>\n",
       "      <td>0.716184</td>\n",
       "      <td>0</td>\n",
       "      <td>0</td>\n",
       "    </tr>\n",
       "    <tr>\n",
       "      <th>1</th>\n",
       "      <td>2019-06-27</td>\n",
       "      <td>1</td>\n",
       "      <td>0</td>\n",
       "      <td>1</td>\n",
       "      <td>1</td>\n",
       "      <td>900000.0</td>\n",
       "      <td>363535.29</td>\n",
       "      <td>363535.29</td>\n",
       "      <td>2017-02-02</td>\n",
       "      <td>900000.0</td>\n",
       "      <td>...</td>\n",
       "      <td>12.25</td>\n",
       "      <td>0.321785</td>\n",
       "      <td>0.321785</td>\n",
       "      <td>12.000000</td>\n",
       "      <td>28</td>\n",
       "      <td>20133.89</td>\n",
       "      <td>0.268452</td>\n",
       "      <td>0.268452</td>\n",
       "      <td>0</td>\n",
       "      <td>1</td>\n",
       "    </tr>\n",
       "    <tr>\n",
       "      <th>2</th>\n",
       "      <td>2018-01-09</td>\n",
       "      <td>1</td>\n",
       "      <td>0</td>\n",
       "      <td>1</td>\n",
       "      <td>1</td>\n",
       "      <td>1000000.0</td>\n",
       "      <td>990956.71</td>\n",
       "      <td>982069.19</td>\n",
       "      <td>2017-09-20</td>\n",
       "      <td>1000000.0</td>\n",
       "      <td>...</td>\n",
       "      <td>7.90</td>\n",
       "      <td>0.284704</td>\n",
       "      <td>0.284704</td>\n",
       "      <td>NaN</td>\n",
       "      <td>4</td>\n",
       "      <td>15536.44</td>\n",
       "      <td>0.154156</td>\n",
       "      <td>0.348582</td>\n",
       "      <td>0</td>\n",
       "      <td>2</td>\n",
       "    </tr>\n",
       "    <tr>\n",
       "      <th>3</th>\n",
       "      <td>2019-09-03</td>\n",
       "      <td>1</td>\n",
       "      <td>0</td>\n",
       "      <td>1</td>\n",
       "      <td>1</td>\n",
       "      <td>1400000.0</td>\n",
       "      <td>566338.60</td>\n",
       "      <td>564045.39</td>\n",
       "      <td>2015-02-06</td>\n",
       "      <td>1400000.0</td>\n",
       "      <td>...</td>\n",
       "      <td>15.75</td>\n",
       "      <td>0.274333</td>\n",
       "      <td>0.274333</td>\n",
       "      <td>16.470588</td>\n",
       "      <td>55</td>\n",
       "      <td>20318.31</td>\n",
       "      <td>0.239039</td>\n",
       "      <td>0.239039</td>\n",
       "      <td>0</td>\n",
       "      <td>3</td>\n",
       "    </tr>\n",
       "    <tr>\n",
       "      <th>4</th>\n",
       "      <td>2017-12-18</td>\n",
       "      <td>1</td>\n",
       "      <td>0</td>\n",
       "      <td>1</td>\n",
       "      <td>1</td>\n",
       "      <td>2114500.0</td>\n",
       "      <td>1414693.51</td>\n",
       "      <td>1396391.57</td>\n",
       "      <td>2014-10-13</td>\n",
       "      <td>1700000.0</td>\n",
       "      <td>...</td>\n",
       "      <td>13.00</td>\n",
       "      <td>0.382492</td>\n",
       "      <td>0.382492</td>\n",
       "      <td>16.700842</td>\n",
       "      <td>36</td>\n",
       "      <td>24772.97</td>\n",
       "      <td>0.190561</td>\n",
       "      <td>0.238575</td>\n",
       "      <td>0</td>\n",
       "      <td>4</td>\n",
       "    </tr>\n",
       "  </tbody>\n",
       "</table>\n",
       "<p>5 rows × 648 columns</p>\n",
       "</div>"
      ],
      "text/plain": [
       "   REPORT_DT  x_0  x_1  x_2  x_3        x_4         x_5         x_7  \\\n",
       "0 2019-08-25    1    0    1    1  2100000.0  1505828.87  1505828.87   \n",
       "1 2019-06-27    1    0    1    1   900000.0   363535.29   363535.29   \n",
       "2 2018-01-09    1    0    1    1  1000000.0   990956.71   982069.19   \n",
       "3 2019-09-03    1    0    1    1  1400000.0   566338.60   564045.39   \n",
       "4 2017-12-18    1    0    1    1  2114500.0  1414693.51  1396391.57   \n",
       "\n",
       "         x_9       x_10  ...  x_639     x_640     x_641      x_642  x_643  \\\n",
       "0 2017-03-20  1400000.0  ...  11.75  0.436268  0.436268  40.257001     28   \n",
       "1 2017-02-02   900000.0  ...  12.25  0.321785  0.321785  12.000000     28   \n",
       "2 2017-09-20  1000000.0  ...   7.90  0.284704  0.284704        NaN      4   \n",
       "3 2015-02-06  1400000.0  ...  15.75  0.274333  0.274333  16.470588     55   \n",
       "4 2014-10-13  1700000.0  ...  13.00  0.382492  0.382492  16.700842     36   \n",
       "\n",
       "      x_644     x_645     x_646 TARGET  ID  \n",
       "0  22757.85  0.505730  0.716184      0   0  \n",
       "1  20133.89  0.268452  0.268452      0   1  \n",
       "2  15536.44  0.154156  0.348582      0   2  \n",
       "3  20318.31  0.239039  0.239039      0   3  \n",
       "4  24772.97  0.190561  0.238575      0   4  \n",
       "\n",
       "[5 rows x 648 columns]"
      ]
     },
     "execution_count": 3,
     "metadata": {},
     "output_type": "execute_result"
    }
   ],
   "source": [
    "df1 = pd.read_pickle('train_part1.pkl')\n",
    "df1.head()"
   ]
  },
  {
   "cell_type": "code",
   "execution_count": 4,
   "metadata": {},
   "outputs": [
    {
     "data": {
      "text/html": [
       "<div>\n",
       "<style scoped>\n",
       "    .dataframe tbody tr th:only-of-type {\n",
       "        vertical-align: middle;\n",
       "    }\n",
       "\n",
       "    .dataframe tbody tr th {\n",
       "        vertical-align: top;\n",
       "    }\n",
       "\n",
       "    .dataframe thead th {\n",
       "        text-align: right;\n",
       "    }\n",
       "</style>\n",
       "<table border=\"1\" class=\"dataframe\">\n",
       "  <thead>\n",
       "    <tr style=\"text-align: right;\">\n",
       "      <th></th>\n",
       "      <th>REPORT_DT</th>\n",
       "      <th>x_0</th>\n",
       "      <th>x_1</th>\n",
       "      <th>x_2</th>\n",
       "      <th>x_3</th>\n",
       "      <th>x_4</th>\n",
       "      <th>x_5</th>\n",
       "      <th>x_7</th>\n",
       "      <th>x_9</th>\n",
       "      <th>x_10</th>\n",
       "      <th>...</th>\n",
       "      <th>x_639</th>\n",
       "      <th>x_640</th>\n",
       "      <th>x_641</th>\n",
       "      <th>x_642</th>\n",
       "      <th>x_643</th>\n",
       "      <th>x_644</th>\n",
       "      <th>x_645</th>\n",
       "      <th>x_646</th>\n",
       "      <th>TARGET</th>\n",
       "      <th>ID</th>\n",
       "    </tr>\n",
       "  </thead>\n",
       "  <tbody>\n",
       "    <tr>\n",
       "      <th>971632</th>\n",
       "      <td>2018-11-29</td>\n",
       "      <td>1</td>\n",
       "      <td>0</td>\n",
       "      <td>1</td>\n",
       "      <td>1</td>\n",
       "      <td>1586000.0</td>\n",
       "      <td>370525.32</td>\n",
       "      <td>370525.32</td>\n",
       "      <td>2017-08-02</td>\n",
       "      <td>1600000.0</td>\n",
       "      <td>...</td>\n",
       "      <td>9.0</td>\n",
       "      <td>0.519917</td>\n",
       "      <td>0.519917</td>\n",
       "      <td>57.786131</td>\n",
       "      <td>14</td>\n",
       "      <td>14269.65</td>\n",
       "      <td>0.150207</td>\n",
       "      <td>0.515368</td>\n",
       "      <td>1</td>\n",
       "      <td>971632</td>\n",
       "    </tr>\n",
       "    <tr>\n",
       "      <th>971633</th>\n",
       "      <td>2018-03-12</td>\n",
       "      <td>1</td>\n",
       "      <td>0</td>\n",
       "      <td>1</td>\n",
       "      <td>1</td>\n",
       "      <td>2892000.0</td>\n",
       "      <td>828797.94</td>\n",
       "      <td>827507.87</td>\n",
       "      <td>2014-07-28</td>\n",
       "      <td>2892000.0</td>\n",
       "      <td>...</td>\n",
       "      <td>13.5</td>\n",
       "      <td>0.370445</td>\n",
       "      <td>0.370445</td>\n",
       "      <td>31.780198</td>\n",
       "      <td>43</td>\n",
       "      <td>33710.45</td>\n",
       "      <td>0.293134</td>\n",
       "      <td>0.396594</td>\n",
       "      <td>0</td>\n",
       "      <td>971633</td>\n",
       "    </tr>\n",
       "    <tr>\n",
       "      <th>971634</th>\n",
       "      <td>2019-03-31</td>\n",
       "      <td>1</td>\n",
       "      <td>0</td>\n",
       "      <td>1</td>\n",
       "      <td>1</td>\n",
       "      <td>1242200.0</td>\n",
       "      <td>683018.20</td>\n",
       "      <td>683018.20</td>\n",
       "      <td>2016-04-29</td>\n",
       "      <td>2200000.0</td>\n",
       "      <td>...</td>\n",
       "      <td>12.0</td>\n",
       "      <td>0.276360</td>\n",
       "      <td>0.276360</td>\n",
       "      <td>16.185670</td>\n",
       "      <td>35</td>\n",
       "      <td>17821.96</td>\n",
       "      <td>0.133000</td>\n",
       "      <td>0.131118</td>\n",
       "      <td>0</td>\n",
       "      <td>971634</td>\n",
       "    </tr>\n",
       "    <tr>\n",
       "      <th>971635</th>\n",
       "      <td>2017-11-19</td>\n",
       "      <td>1</td>\n",
       "      <td>0</td>\n",
       "      <td>1</td>\n",
       "      <td>1</td>\n",
       "      <td>405000.0</td>\n",
       "      <td>326739.23</td>\n",
       "      <td>326739.23</td>\n",
       "      <td>2016-06-28</td>\n",
       "      <td>405000.0</td>\n",
       "      <td>...</td>\n",
       "      <td>14.5</td>\n",
       "      <td>0.119566</td>\n",
       "      <td>0.119566</td>\n",
       "      <td>NaN</td>\n",
       "      <td>16</td>\n",
       "      <td>9528.95</td>\n",
       "      <td>0.105877</td>\n",
       "      <td>0.119566</td>\n",
       "      <td>0</td>\n",
       "      <td>971635</td>\n",
       "    </tr>\n",
       "    <tr>\n",
       "      <th>971636</th>\n",
       "      <td>2019-06-03</td>\n",
       "      <td>1</td>\n",
       "      <td>0</td>\n",
       "      <td>1</td>\n",
       "      <td>1</td>\n",
       "      <td>680000.0</td>\n",
       "      <td>608045.43</td>\n",
       "      <td>608045.43</td>\n",
       "      <td>2017-08-19</td>\n",
       "      <td>680000.0</td>\n",
       "      <td>...</td>\n",
       "      <td>8.9</td>\n",
       "      <td>0.347095</td>\n",
       "      <td>0.347095</td>\n",
       "      <td>NaN</td>\n",
       "      <td>20</td>\n",
       "      <td>8577.19</td>\n",
       "      <td>0.276684</td>\n",
       "      <td>0.347095</td>\n",
       "      <td>0</td>\n",
       "      <td>971636</td>\n",
       "    </tr>\n",
       "  </tbody>\n",
       "</table>\n",
       "<p>5 rows × 648 columns</p>\n",
       "</div>"
      ],
      "text/plain": [
       "        REPORT_DT  x_0  x_1  x_2  x_3        x_4        x_5        x_7  \\\n",
       "971632 2018-11-29    1    0    1    1  1586000.0  370525.32  370525.32   \n",
       "971633 2018-03-12    1    0    1    1  2892000.0  828797.94  827507.87   \n",
       "971634 2019-03-31    1    0    1    1  1242200.0  683018.20  683018.20   \n",
       "971635 2017-11-19    1    0    1    1   405000.0  326739.23  326739.23   \n",
       "971636 2019-06-03    1    0    1    1   680000.0  608045.43  608045.43   \n",
       "\n",
       "              x_9       x_10  ...  x_639     x_640     x_641      x_642  \\\n",
       "971632 2017-08-02  1600000.0  ...    9.0  0.519917  0.519917  57.786131   \n",
       "971633 2014-07-28  2892000.0  ...   13.5  0.370445  0.370445  31.780198   \n",
       "971634 2016-04-29  2200000.0  ...   12.0  0.276360  0.276360  16.185670   \n",
       "971635 2016-06-28   405000.0  ...   14.5  0.119566  0.119566        NaN   \n",
       "971636 2017-08-19   680000.0  ...    8.9  0.347095  0.347095        NaN   \n",
       "\n",
       "        x_643     x_644     x_645     x_646 TARGET      ID  \n",
       "971632     14  14269.65  0.150207  0.515368      1  971632  \n",
       "971633     43  33710.45  0.293134  0.396594      0  971633  \n",
       "971634     35  17821.96  0.133000  0.131118      0  971634  \n",
       "971635     16   9528.95  0.105877  0.119566      0  971635  \n",
       "971636     20   8577.19  0.276684  0.347095      0  971636  \n",
       "\n",
       "[5 rows x 648 columns]"
      ]
     },
     "execution_count": 4,
     "metadata": {},
     "output_type": "execute_result"
    }
   ],
   "source": [
    "df2 = pd.read_pickle('train_part2.pkl')\n",
    "df2.head()"
   ]
  },
  {
   "cell_type": "code",
   "execution_count": 5,
   "metadata": {},
   "outputs": [
    {
     "data": {
      "text/html": [
       "<div>\n",
       "<style scoped>\n",
       "    .dataframe tbody tr th:only-of-type {\n",
       "        vertical-align: middle;\n",
       "    }\n",
       "\n",
       "    .dataframe tbody tr th {\n",
       "        vertical-align: top;\n",
       "    }\n",
       "\n",
       "    .dataframe thead th {\n",
       "        text-align: right;\n",
       "    }\n",
       "</style>\n",
       "<table border=\"1\" class=\"dataframe\">\n",
       "  <thead>\n",
       "    <tr style=\"text-align: right;\">\n",
       "      <th></th>\n",
       "      <th>REPORT_DT</th>\n",
       "      <th>x_0</th>\n",
       "      <th>x_1</th>\n",
       "      <th>x_2</th>\n",
       "      <th>x_3</th>\n",
       "      <th>x_4</th>\n",
       "      <th>x_5</th>\n",
       "      <th>x_7</th>\n",
       "      <th>x_9</th>\n",
       "      <th>x_10</th>\n",
       "      <th>...</th>\n",
       "      <th>x_638</th>\n",
       "      <th>x_639</th>\n",
       "      <th>x_640</th>\n",
       "      <th>x_641</th>\n",
       "      <th>x_642</th>\n",
       "      <th>x_643</th>\n",
       "      <th>x_644</th>\n",
       "      <th>x_645</th>\n",
       "      <th>x_646</th>\n",
       "      <th>ID</th>\n",
       "    </tr>\n",
       "  </thead>\n",
       "  <tbody>\n",
       "    <tr>\n",
       "      <th>1943531</th>\n",
       "      <td>2019-09-01</td>\n",
       "      <td>1</td>\n",
       "      <td>0</td>\n",
       "      <td>1</td>\n",
       "      <td>1</td>\n",
       "      <td>1100000.0</td>\n",
       "      <td>157773.90</td>\n",
       "      <td>157773.90</td>\n",
       "      <td>2014-10-25</td>\n",
       "      <td>1000000.0</td>\n",
       "      <td>...</td>\n",
       "      <td>0.0</td>\n",
       "      <td>13.75</td>\n",
       "      <td>0.530767</td>\n",
       "      <td>0.530767</td>\n",
       "      <td>34.517588</td>\n",
       "      <td>58</td>\n",
       "      <td>16914.35</td>\n",
       "      <td>0.583844</td>\n",
       "      <td>0.583844</td>\n",
       "      <td>1943531</td>\n",
       "    </tr>\n",
       "    <tr>\n",
       "      <th>1943532</th>\n",
       "      <td>2017-12-18</td>\n",
       "      <td>1</td>\n",
       "      <td>0</td>\n",
       "      <td>1</td>\n",
       "      <td>1</td>\n",
       "      <td>2580000.0</td>\n",
       "      <td>2187426.61</td>\n",
       "      <td>2183868.19</td>\n",
       "      <td>2017-08-17</td>\n",
       "      <td>2600000.0</td>\n",
       "      <td>...</td>\n",
       "      <td>0.0</td>\n",
       "      <td>9.00</td>\n",
       "      <td>0.735124</td>\n",
       "      <td>0.735124</td>\n",
       "      <td>71.603967</td>\n",
       "      <td>3</td>\n",
       "      <td>23212.93</td>\n",
       "      <td>0.356027</td>\n",
       "      <td>0.633954</td>\n",
       "      <td>1943532</td>\n",
       "    </tr>\n",
       "    <tr>\n",
       "      <th>1943533</th>\n",
       "      <td>2019-04-24</td>\n",
       "      <td>1</td>\n",
       "      <td>0</td>\n",
       "      <td>1</td>\n",
       "      <td>1</td>\n",
       "      <td>1200000.0</td>\n",
       "      <td>385763.26</td>\n",
       "      <td>218655.96</td>\n",
       "      <td>2013-02-07</td>\n",
       "      <td>1200000.0</td>\n",
       "      <td>...</td>\n",
       "      <td>0.0</td>\n",
       "      <td>14.00</td>\n",
       "      <td>0.858073</td>\n",
       "      <td>0.858073</td>\n",
       "      <td>NaN</td>\n",
       "      <td>73</td>\n",
       "      <td>18631.97</td>\n",
       "      <td>0.388166</td>\n",
       "      <td>0.858072</td>\n",
       "      <td>1943533</td>\n",
       "    </tr>\n",
       "    <tr>\n",
       "      <th>1943534</th>\n",
       "      <td>2017-05-15</td>\n",
       "      <td>1</td>\n",
       "      <td>0</td>\n",
       "      <td>1</td>\n",
       "      <td>1</td>\n",
       "      <td>637500.0</td>\n",
       "      <td>595369.13</td>\n",
       "      <td>595369.13</td>\n",
       "      <td>2015-11-16</td>\n",
       "      <td>637500.0</td>\n",
       "      <td>...</td>\n",
       "      <td>0.0</td>\n",
       "      <td>14.45</td>\n",
       "      <td>0.268572</td>\n",
       "      <td>0.268572</td>\n",
       "      <td>NaN</td>\n",
       "      <td>17</td>\n",
       "      <td>10071.45</td>\n",
       "      <td>0.402858</td>\n",
       "      <td>0.268572</td>\n",
       "      <td>1943534</td>\n",
       "    </tr>\n",
       "    <tr>\n",
       "      <th>1943537</th>\n",
       "      <td>2019-03-10</td>\n",
       "      <td>1</td>\n",
       "      <td>0</td>\n",
       "      <td>1</td>\n",
       "      <td>1</td>\n",
       "      <td>1232500.0</td>\n",
       "      <td>1118118.29</td>\n",
       "      <td>1118118.29</td>\n",
       "      <td>2014-03-24</td>\n",
       "      <td>1870000.0</td>\n",
       "      <td>...</td>\n",
       "      <td>15000.0</td>\n",
       "      <td>13.50</td>\n",
       "      <td>0.651646</td>\n",
       "      <td>0.651646</td>\n",
       "      <td>56.539372</td>\n",
       "      <td>56</td>\n",
       "      <td>14366.57</td>\n",
       "      <td>0.287331</td>\n",
       "      <td>0.471809</td>\n",
       "      <td>1943537</td>\n",
       "    </tr>\n",
       "  </tbody>\n",
       "</table>\n",
       "<p>5 rows × 647 columns</p>\n",
       "</div>"
      ],
      "text/plain": [
       "         REPORT_DT  x_0  x_1  x_2  x_3        x_4         x_5         x_7  \\\n",
       "1943531 2019-09-01    1    0    1    1  1100000.0   157773.90   157773.90   \n",
       "1943532 2017-12-18    1    0    1    1  2580000.0  2187426.61  2183868.19   \n",
       "1943533 2019-04-24    1    0    1    1  1200000.0   385763.26   218655.96   \n",
       "1943534 2017-05-15    1    0    1    1   637500.0   595369.13   595369.13   \n",
       "1943537 2019-03-10    1    0    1    1  1232500.0  1118118.29  1118118.29   \n",
       "\n",
       "               x_9       x_10  ...    x_638  x_639     x_640     x_641  \\\n",
       "1943531 2014-10-25  1000000.0  ...      0.0  13.75  0.530767  0.530767   \n",
       "1943532 2017-08-17  2600000.0  ...      0.0   9.00  0.735124  0.735124   \n",
       "1943533 2013-02-07  1200000.0  ...      0.0  14.00  0.858073  0.858073   \n",
       "1943534 2015-11-16   637500.0  ...      0.0  14.45  0.268572  0.268572   \n",
       "1943537 2014-03-24  1870000.0  ...  15000.0  13.50  0.651646  0.651646   \n",
       "\n",
       "             x_642  x_643     x_644     x_645     x_646       ID  \n",
       "1943531  34.517588     58  16914.35  0.583844  0.583844  1943531  \n",
       "1943532  71.603967      3  23212.93  0.356027  0.633954  1943532  \n",
       "1943533        NaN     73  18631.97  0.388166  0.858072  1943533  \n",
       "1943534        NaN     17  10071.45  0.402858  0.268572  1943534  \n",
       "1943537  56.539372     56  14366.57  0.287331  0.471809  1943537  \n",
       "\n",
       "[5 rows x 647 columns]"
      ]
     },
     "execution_count": 5,
     "metadata": {},
     "output_type": "execute_result"
    }
   ],
   "source": [
    "df_test = pd.read_pickle('test_data.pkl')\n",
    "df_test.head()"
   ]
  },
  {
   "cell_type": "code",
   "execution_count": 6,
   "metadata": {},
   "outputs": [
    {
     "data": {
      "text/plain": [
       "(1527598, 648)"
      ]
     },
     "execution_count": 6,
     "metadata": {},
     "output_type": "execute_result"
    }
   ],
   "source": [
    "df = df1.append(df2)\n",
    "df.shape"
   ]
  },
  {
   "cell_type": "code",
   "execution_count": 7,
   "metadata": {},
   "outputs": [
    {
     "name": "stdout",
     "output_type": "stream",
     "text": [
      "INFO: Pandarallel will run on 32 workers.\n",
      "INFO: Pandarallel will use Memory file system to transfer data between the main process and workers.\n"
     ]
    }
   ],
   "source": [
    "from pandarallel import pandarallel\n",
    "pandarallel.initialize(nb_workers = 32)"
   ]
  },
  {
   "cell_type": "code",
   "execution_count": 8,
   "metadata": {},
   "outputs": [],
   "source": [
    "def nans_counter_row(x):\n",
    "    return x.isna().sum()"
   ]
  },
  {
   "cell_type": "code",
   "execution_count": 9,
   "metadata": {},
   "outputs": [],
   "source": [
    "df['NnansParall'] = df.parallel_apply(nans_counter_row, axis=1)"
   ]
  },
  {
   "cell_type": "code",
   "execution_count": 10,
   "metadata": {},
   "outputs": [
    {
     "data": {
      "text/plain": [
       "<matplotlib.axes._subplots.AxesSubplot at 0x7f4df85938d0>"
      ]
     },
     "execution_count": 10,
     "metadata": {},
     "output_type": "execute_result"
    },
    {
     "data": {
      "image/png": "[encoded data removed]",
      "text/plain": [
       "<Figure size 432x288 with 1 Axes>"
      ]
     },
     "metadata": {
      "needs_background": "light"
     },
     "output_type": "display_data"
    }
   ],
   "source": [
    "df['NnansParall'].hist()"
   ]
  },
  {
   "cell_type": "code",
   "execution_count": 11,
   "metadata": {},
   "outputs": [],
   "source": [
    "nn = df.isna().sum()"
   ]
  },
  {
   "cell_type": "code",
   "execution_count": 12,
   "metadata": {},
   "outputs": [],
   "source": [
    "features_dict = dict(zip(df.columns, nn))\n"
   ]
  },
  {
   "cell_type": "code",
   "execution_count": 13,
   "metadata": {},
   "outputs": [],
   "source": [
    "columns_to_drop = {}\n",
    "\n",
    "for elem in features_dict:\n",
    "    if features_dict[elem]>=df1.shape[0]:\n",
    "        columns_to_drop[elem] = features_dict[elem]\n",
    "        #features_to_drop.append(features_dict[elem].keys())\n",
    "        "
   ]
  },
  {
   "cell_type": "code",
   "execution_count": 14,
   "metadata": {},
   "outputs": [
    {
     "data": {
      "text/plain": [
       "dict_keys(['x_17', 'x_25', 'x_26', 'x_27', 'x_29', 'x_30', 'x_32', 'x_36', 'x_37', 'x_38', 'x_39', 'x_40', 'x_41', 'x_42', 'x_43', 'x_44', 'x_60', 'x_61', 'x_63', 'x_64', 'x_65', 'x_66', 'x_67', 'x_68', 'x_69', 'x_70', 'x_71', 'x_72', 'x_73', 'x_74', 'x_76', 'x_77', 'x_78', 'x_100', 'x_101', 'x_102', 'x_103', 'x_104', 'x_105', 'x_106', 'x_107', 'x_111', 'x_112', 'x_113', 'x_114', 'x_115', 'x_116', 'x_117', 'x_118', 'x_122', 'x_123', 'x_128', 'x_129', 'x_130', 'x_132', 'x_135', 'x_142', 'x_143', 'x_164', 'x_166', 'x_171', 'x_172', 'x_173', 'x_174', 'x_175', 'x_176', 'x_177', 'x_203', 'x_204', 'x_205', 'x_206', 'x_207', 'x_208', 'x_209', 'x_210', 'x_214', 'x_215', 'x_216', 'x_217', 'x_218', 'x_219', 'x_220', 'x_221', 'x_225', 'x_226', 'x_231', 'x_232', 'x_233', 'x_245', 'x_246', 'x_278', 'x_279', 'x_306', 'x_307', 'x_308', 'x_309', 'x_310', 'x_311', 'x_312', 'x_313', 'x_317', 'x_318', 'x_319', 'x_320', 'x_321', 'x_322', 'x_323', 'x_324', 'x_328', 'x_329', 'x_334', 'x_335', 'x_336', 'x_343', 'x_344', 'x_345', 'x_346', 'x_349', 'x_351', 'x_353', 'x_355', 'x_356', 'x_357', 'x_358', 'x_361', 'x_362', 'x_363', 'x_364', 'x_365', 'x_366', 'x_367', 'x_368', 'x_369', 'x_370', 'x_372', 'x_463', 'x_490', 'x_491', 'x_492', 'x_493', 'x_494', 'x_495', 'x_496', 'x_497', 'x_498', 'x_499', 'x_540', 'x_541', 'x_543', 'x_546', 'x_548', 'x_549', 'x_550', 'x_551', 'x_609'])"
      ]
     },
     "execution_count": 14,
     "metadata": {},
     "output_type": "execute_result"
    }
   ],
   "source": [
    "features_to_drop = columns_to_drop.keys()\n",
    "features_to_drop\n",
    "\n",
    "#these features has more nans than no nans"
   ]
  },
  {
   "cell_type": "markdown",
   "metadata": {},
   "source": [
    "## Feature selection was significantly based on baseline and morning results in dataset observation (some meaningful int/float columns and almost all object columns)"
   ]
  },
  {
   "cell_type": "code",
   "execution_count": 16,
   "metadata": {
    "scrolled": true
   },
   "outputs": [
    {
     "data": {
      "text/html": [
       "<div>\n",
       "<style scoped>\n",
       "    .dataframe tbody tr th:only-of-type {\n",
       "        vertical-align: middle;\n",
       "    }\n",
       "\n",
       "    .dataframe tbody tr th {\n",
       "        vertical-align: top;\n",
       "    }\n",
       "\n",
       "    .dataframe thead th {\n",
       "        text-align: right;\n",
       "    }\n",
       "</style>\n",
       "<table border=\"1\" class=\"dataframe\">\n",
       "  <thead>\n",
       "    <tr style=\"text-align: right;\">\n",
       "      <th></th>\n",
       "      <th>x_12</th>\n",
       "      <th>x_13</th>\n",
       "      <th>x_17</th>\n",
       "      <th>x_18</th>\n",
       "      <th>x_19</th>\n",
       "      <th>x_21</th>\n",
       "      <th>x_25</th>\n",
       "      <th>x_26</th>\n",
       "      <th>x_27</th>\n",
       "      <th>x_614</th>\n",
       "      <th>x_615</th>\n",
       "      <th>x_617</th>\n",
       "      <th>x_618</th>\n",
       "      <th>x_625</th>\n",
       "      <th>x_628</th>\n",
       "      <th>x_634</th>\n",
       "    </tr>\n",
       "  </thead>\n",
       "  <tbody>\n",
       "    <tr>\n",
       "      <th>0</th>\n",
       "      <td>B1</td>\n",
       "      <td>4</td>\n",
       "      <td>None</td>\n",
       "      <td>Пн</td>\n",
       "      <td>1</td>\n",
       "      <td>Приобретение</td>\n",
       "      <td>None</td>\n",
       "      <td>None</td>\n",
       "      <td>None</td>\n",
       "      <td>1</td>\n",
       "      <td>1</td>\n",
       "      <td>4</td>\n",
       "      <td>Приобретение</td>\n",
       "      <td>living in city in apart</td>\n",
       "      <td>ЗП</td>\n",
       "      <td>0</td>\n",
       "    </tr>\n",
       "    <tr>\n",
       "      <th>1</th>\n",
       "      <td>B1</td>\n",
       "      <td>4</td>\n",
       "      <td>None</td>\n",
       "      <td>Чт</td>\n",
       "      <td>1</td>\n",
       "      <td>Приобретение</td>\n",
       "      <td>None</td>\n",
       "      <td>None</td>\n",
       "      <td>None</td>\n",
       "      <td>0</td>\n",
       "      <td>1</td>\n",
       "      <td>4</td>\n",
       "      <td>Приобретение</td>\n",
       "      <td>other</td>\n",
       "      <td>ЗП</td>\n",
       "      <td>0</td>\n",
       "    </tr>\n",
       "    <tr>\n",
       "      <th>2</th>\n",
       "      <td>D</td>\n",
       "      <td>1</td>\n",
       "      <td>None</td>\n",
       "      <td>Ср</td>\n",
       "      <td>0</td>\n",
       "      <td>Инвестирование</td>\n",
       "      <td>None</td>\n",
       "      <td>None</td>\n",
       "      <td>None</td>\n",
       "      <td>1</td>\n",
       "      <td>0</td>\n",
       "      <td>1</td>\n",
       "      <td>Инвестирование</td>\n",
       "      <td>living in city in apart</td>\n",
       "      <td>Улица</td>\n",
       "      <td>1</td>\n",
       "    </tr>\n",
       "    <tr>\n",
       "      <th>3</th>\n",
       "      <td>N</td>\n",
       "      <td>4</td>\n",
       "      <td>None</td>\n",
       "      <td>Пт</td>\n",
       "      <td>0</td>\n",
       "      <td>Приобретение</td>\n",
       "      <td>None</td>\n",
       "      <td>None</td>\n",
       "      <td>None</td>\n",
       "      <td>1</td>\n",
       "      <td>0</td>\n",
       "      <td>4</td>\n",
       "      <td>Приобретение</td>\n",
       "      <td>living in city in apart</td>\n",
       "      <td>Улица</td>\n",
       "      <td>1</td>\n",
       "    </tr>\n",
       "    <tr>\n",
       "      <th>4</th>\n",
       "      <td>A</td>\n",
       "      <td>1</td>\n",
       "      <td>None</td>\n",
       "      <td>Пн</td>\n",
       "      <td>0</td>\n",
       "      <td>Инвестирование</td>\n",
       "      <td>None</td>\n",
       "      <td>None</td>\n",
       "      <td>None</td>\n",
       "      <td>1</td>\n",
       "      <td>0</td>\n",
       "      <td>1</td>\n",
       "      <td>Инвестирование</td>\n",
       "      <td>living in city in apart</td>\n",
       "      <td>Сотрудники</td>\n",
       "      <td>1</td>\n",
       "    </tr>\n",
       "    <tr>\n",
       "      <th>...</th>\n",
       "      <td>...</td>\n",
       "      <td>...</td>\n",
       "      <td>...</td>\n",
       "      <td>...</td>\n",
       "      <td>...</td>\n",
       "      <td>...</td>\n",
       "      <td>...</td>\n",
       "      <td>...</td>\n",
       "      <td>...</td>\n",
       "      <td>...</td>\n",
       "      <td>...</td>\n",
       "      <td>...</td>\n",
       "      <td>...</td>\n",
       "      <td>...</td>\n",
       "      <td>...</td>\n",
       "      <td>...</td>\n",
       "    </tr>\n",
       "    <tr>\n",
       "      <th>1943522</th>\n",
       "      <td>D</td>\n",
       "      <td>1</td>\n",
       "      <td>None</td>\n",
       "      <td>Пн</td>\n",
       "      <td>0</td>\n",
       "      <td>Инвестирование</td>\n",
       "      <td>None</td>\n",
       "      <td>None</td>\n",
       "      <td>None</td>\n",
       "      <td>1</td>\n",
       "      <td>0</td>\n",
       "      <td>1</td>\n",
       "      <td>Инвестирование</td>\n",
       "      <td>living in city in apart</td>\n",
       "      <td>Улица</td>\n",
       "      <td>0</td>\n",
       "    </tr>\n",
       "    <tr>\n",
       "      <th>1943523</th>\n",
       "      <td>B1</td>\n",
       "      <td>4</td>\n",
       "      <td>None</td>\n",
       "      <td>Пн</td>\n",
       "      <td>1</td>\n",
       "      <td>Приобретение</td>\n",
       "      <td>None</td>\n",
       "      <td>None</td>\n",
       "      <td>None</td>\n",
       "      <td>0</td>\n",
       "      <td>1</td>\n",
       "      <td>4</td>\n",
       "      <td>Приобретение</td>\n",
       "      <td>other</td>\n",
       "      <td>ЗП</td>\n",
       "      <td>0</td>\n",
       "    </tr>\n",
       "    <tr>\n",
       "      <th>1943525</th>\n",
       "      <td>D</td>\n",
       "      <td>4</td>\n",
       "      <td>None</td>\n",
       "      <td>Пн</td>\n",
       "      <td>0</td>\n",
       "      <td>Приобретение</td>\n",
       "      <td>None</td>\n",
       "      <td>None</td>\n",
       "      <td>None</td>\n",
       "      <td>0</td>\n",
       "      <td>0</td>\n",
       "      <td>4</td>\n",
       "      <td>Приобретение</td>\n",
       "      <td>other</td>\n",
       "      <td>Улица</td>\n",
       "      <td>0</td>\n",
       "    </tr>\n",
       "    <tr>\n",
       "      <th>1943526</th>\n",
       "      <td>B1</td>\n",
       "      <td>4</td>\n",
       "      <td>None</td>\n",
       "      <td>Вт</td>\n",
       "      <td>0</td>\n",
       "      <td>Приобретение</td>\n",
       "      <td>None</td>\n",
       "      <td>None</td>\n",
       "      <td>None</td>\n",
       "      <td>1</td>\n",
       "      <td>0</td>\n",
       "      <td>4</td>\n",
       "      <td>Приобретение</td>\n",
       "      <td>living in city in apart</td>\n",
       "      <td>ЗП</td>\n",
       "      <td>0</td>\n",
       "    </tr>\n",
       "    <tr>\n",
       "      <th>1943527</th>\n",
       "      <td>D</td>\n",
       "      <td>4</td>\n",
       "      <td>None</td>\n",
       "      <td>Чт</td>\n",
       "      <td>0</td>\n",
       "      <td>Приобретение</td>\n",
       "      <td>None</td>\n",
       "      <td>None</td>\n",
       "      <td>None</td>\n",
       "      <td>0</td>\n",
       "      <td>0</td>\n",
       "      <td>4</td>\n",
       "      <td>Приобретение</td>\n",
       "      <td>other</td>\n",
       "      <td>Улица</td>\n",
       "      <td>1</td>\n",
       "    </tr>\n",
       "  </tbody>\n",
       "</table>\n",
       "<p>1527598 rows × 16 columns</p>\n",
       "</div>"
      ],
      "text/plain": [
       "        x_12 x_13  x_17 x_18 x_19            x_21  x_25  x_26  x_27 x_614  \\\n",
       "0         B1    4  None   Пн    1    Приобретение  None  None  None     1   \n",
       "1         B1    4  None   Чт    1    Приобретение  None  None  None     0   \n",
       "2          D    1  None   Ср    0  Инвестирование  None  None  None     1   \n",
       "3          N    4  None   Пт    0    Приобретение  None  None  None     1   \n",
       "4          A    1  None   Пн    0  Инвестирование  None  None  None     1   \n",
       "...      ...  ...   ...  ...  ...             ...   ...   ...   ...   ...   \n",
       "1943522    D    1  None   Пн    0  Инвестирование  None  None  None     1   \n",
       "1943523   B1    4  None   Пн    1    Приобретение  None  None  None     0   \n",
       "1943525    D    4  None   Пн    0    Приобретение  None  None  None     0   \n",
       "1943526   B1    4  None   Вт    0    Приобретение  None  None  None     1   \n",
       "1943527    D    4  None   Чт    0    Приобретение  None  None  None     0   \n",
       "\n",
       "        x_615 x_617           x_618                    x_625       x_628 x_634  \n",
       "0           1     4    Приобретение  living in city in apart          ЗП     0  \n",
       "1           1     4    Приобретение                    other          ЗП     0  \n",
       "2           0     1  Инвестирование  living in city in apart       Улица     1  \n",
       "3           0     4    Приобретение  living in city in apart       Улица     1  \n",
       "4           0     1  Инвестирование  living in city in apart  Сотрудники     1  \n",
       "...       ...   ...             ...                      ...         ...   ...  \n",
       "1943522     0     1  Инвестирование  living in city in apart       Улица     0  \n",
       "1943523     1     4    Приобретение                    other          ЗП     0  \n",
       "1943525     0     4    Приобретение                    other       Улица     0  \n",
       "1943526     0     4    Приобретение  living in city in apart          ЗП     0  \n",
       "1943527     0     4    Приобретение                    other       Улица     1  \n",
       "\n",
       "[1527598 rows x 16 columns]"
      ]
     },
     "execution_count": 16,
     "metadata": {},
     "output_type": "execute_result"
    }
   ],
   "source": [
    "df.select_dtypes('object') #"
   ]
  },
  {
   "cell_type": "code",
   "execution_count": 15,
   "metadata": {},
   "outputs": [],
   "source": [
    "features_to_drop = ['x_17', 'x_25', 'x_26', 'x_27', 'x_29', 'x_30', 'x_32', 'x_36', 'x_37', 'x_38', 'x_39', 'x_40', 'x_41', 'x_42', 'x_43', 'x_44', 'x_60', 'x_61', 'x_63', 'x_64', 'x_65', 'x_66', 'x_67', 'x_68', 'x_69', 'x_70', 'x_71', 'x_72', 'x_73', 'x_74', 'x_76', 'x_77', 'x_78', 'x_100', 'x_101', 'x_102', 'x_103', 'x_104', 'x_105', 'x_106', 'x_107', 'x_111', 'x_112', 'x_113', 'x_114', 'x_115', 'x_116', 'x_117', 'x_118', 'x_122', 'x_123', 'x_128', 'x_129', 'x_130', 'x_132', 'x_135', 'x_142', 'x_143', 'x_164', 'x_166', 'x_171', 'x_172', 'x_173', 'x_174', 'x_175', 'x_176', 'x_177', 'x_203', 'x_204', 'x_205', 'x_206', 'x_207', 'x_208', 'x_209', 'x_210', 'x_214', 'x_215', 'x_216', 'x_217', 'x_218', 'x_219', 'x_220', 'x_221', 'x_225', 'x_226', 'x_231', 'x_232', 'x_233', 'x_245', 'x_246', 'x_278', 'x_279', 'x_306', 'x_307', 'x_308', 'x_309', 'x_310', 'x_311', 'x_312', 'x_313', 'x_317', 'x_318', 'x_319', 'x_320', 'x_321', 'x_322', 'x_323', 'x_324', 'x_328', 'x_329', 'x_334', 'x_335', 'x_336', 'x_343', 'x_344', 'x_345', 'x_346', 'x_349', 'x_351', 'x_353', 'x_355', 'x_356', 'x_357', 'x_358', 'x_361', 'x_362', 'x_363', 'x_364', 'x_365', 'x_366', 'x_367', 'x_368', 'x_369', 'x_370', 'x_372', 'x_463', 'x_490', 'x_491', 'x_492', 'x_493', 'x_494', 'x_495', 'x_496', 'x_497', 'x_498', 'x_499', 'x_540', 'x_541', 'x_543', 'x_546', 'x_548', 'x_549', 'x_550', 'x_551', 'x_609']"
   ]
  },
  {
   "cell_type": "code",
   "execution_count": 17,
   "metadata": {},
   "outputs": [],
   "source": [
    "from sklearn import preprocessing\n",
    "from sklearn.preprocessing import StandardScaler\n",
    "from tqdm import tqdm\n",
    "def cat_to_le(df, categs):\n",
    "    for cat in tqdm(categs):\n",
    "        inv = df[cat]\n",
    "        #inv.value_counts()\n",
    "\n",
    " \n",
    "        le = preprocessing.LabelEncoder()\n",
    "        le.fit(inv)\n",
    "        q = le.transform(df[cat])\n",
    "        df[cat] = q\n",
    "        df[cat]= df[cat].astype('int64')\n",
    "    return df"
   ]
  },
  {
   "cell_type": "code",
   "execution_count": 18,
   "metadata": {},
   "outputs": [],
   "source": [
    "def dataset_preproc(df, features_to_drop = features_to_drop):\n",
    "    \n",
    "    df = df.drop(columns = features_to_drop, axis = 1)\n",
    "    for column in ['x_19', 'x_614', 'x_615', 'x_617', 'x_634']:\n",
    "        pd.to_numeric(df[column])\n",
    "    \n",
    "    description = df.describe()\n",
    "\n",
    "    std_stat = description.loc['std', :].values\n",
    "    features = df.select_dtypes(['float64', 'int64']).columns[std_stat == 0]\n",
    "\n",
    "    without_nan = features[df[features].isnull().sum() == 0]\n",
    "    with_nan = features[df[features].isnull().sum() != 0]\n",
    "    \n",
    "    df = df.drop(with_nan, axis=1)\n",
    "\n",
    "    df.shape\n",
    "\n",
    "    ##datetime preprocces\n",
    "\n",
    "    df['REPORT_DT'] = df['REPORT_DT'].astype('datetime64')\n",
    "    df['x_9'] = df['x_9'].astype('datetime64')\n",
    "\n",
    "    df['month_9'] = df['x_9'].dt.month\n",
    "    df['year_9'] = df['x_9'].dt.year\n",
    "\n",
    "    df['month_rep'] = df['REPORT_DT'].dt.month\n",
    "    df['year_rep'] = df['REPORT_DT'].dt.year\n",
    "\n",
    "    df['month_9'] = df['month_9'].astype('int64')\n",
    "    df['year_9'] = df['year_9'].astype('int64')\n",
    "\n",
    "    df['month_rep'] = df['month_rep'].astype('int64')\n",
    "    df['year_rep'] = df['year_rep'].astype('int64')\n",
    "    df = df.drop(['x_9', 'REPORT_DT'], axis = 1)\n",
    "    \n",
    "    #df['x_19'] = df['x_19'].astype('int64')\n",
    "\n",
    "    #df['x_614'] = df['x_614'].astype('int64')\n",
    "    #df['x_615'] = df['x_615'].astype('int64')\n",
    "    categorical_features = ['x_12', 'x_13', 'x_18', 'x_618', 'x_625', 'x_628']\n",
    "    df = cat_to_le(df, categorical_features)\n",
    "    \n",
    "    #DUPLICATES\n",
    "\n",
    "    description = df.describe().transpose()\n",
    "\n",
    "    features = description.duplicated(subset=['mean', 'std', 'min', 'max'])\n",
    "\n",
    "    duplicates = df.select_dtypes(['float64', 'int64']).columns[features]\n",
    "\n",
    "    df = df.drop(columns= duplicates, axis = 1)\n",
    "    \n",
    "    return df"
   ]
  },
  {
   "cell_type": "code",
   "execution_count": 19,
   "metadata": {},
   "outputs": [],
   "source": [
    "def date_pars(df):\n",
    "    df['REPORT_DT'] = df['REPORT_DT'].astype('datetime64')\n",
    "    df['x_9'] = df['x_9'].astype('datetime64')\n",
    "\n",
    "    df['month_9'] = df['x_9'].dt.month\n",
    "    df['year_9'] = df['x_9'].dt.year\n",
    "\n",
    "    df['month_rep'] = df['REPORT_DT'].dt.month\n",
    "    df['year_rep'] = df['REPORT_DT'].dt.year\n",
    "\n",
    "    df['month_9'] = df['month_9'].astype('int64')\n",
    "    df['year_9'] = df['year_9'].astype('int64')\n",
    "    return df"
   ]
  },
  {
   "cell_type": "code",
   "execution_count": 20,
   "metadata": {},
   "outputs": [],
   "source": [
    "FEATURES_ALL = ['x_0','x_1',\n",
    "                'x_2','x_3','x_4','x_5','x_7',\n",
    "                'month_9', 'year_9', 'month_rep', 'year_rep', 'x_12', 'x_13', 'x_18', 'x_618', 'x_625', 'x_628' ]"
   ]
  },
  {
   "cell_type": "code",
   "execution_count": 46,
   "metadata": {},
   "outputs": [],
   "source": [
    "df1 = pd.read_pickle('train_part1.pkl')  #open original file if you havn't preproccesed it yet\n",
    "#df1 = pd.read_pickle('data1.pkl') #preproccesed version"
   ]
  },
  {
   "cell_type": "code",
   "execution_count": 22,
   "metadata": {},
   "outputs": [
    {
     "data": {
      "text/plain": [
       "763801"
      ]
     },
     "execution_count": 22,
     "metadata": {},
     "output_type": "execute_result"
    }
   ],
   "source": [
    "len(df1)"
   ]
  },
  {
   "cell_type": "code",
   "execution_count": 47,
   "metadata": {},
   "outputs": [
    {
     "name": "stderr",
     "output_type": "stream",
     "text": [
      "100%|██████████| 6/6 [00:03<00:00,  1.56it/s]\n"
     ]
    }
   ],
   "source": [
    "df1 = dataset_preproc(df1) #preprocces"
   ]
  },
  {
   "cell_type": "code",
   "execution_count": 61,
   "metadata": {},
   "outputs": [],
   "source": [
    "#df1.to_pickle('data1.pkl') #saving preproccessed dataset "
   ]
  },
  {
   "cell_type": "code",
   "execution_count": 48,
   "metadata": {
    "scrolled": true
   },
   "outputs": [],
   "source": [
    "df2 = pd.read_pickle('train_part2.pkl')\n",
    "#df2 = pd.read_pickle('data2.pkl') preproccesed\n"
   ]
  },
  {
   "cell_type": "code",
   "execution_count": 49,
   "metadata": {},
   "outputs": [
    {
     "name": "stderr",
     "output_type": "stream",
     "text": [
      "100%|██████████| 6/6 [00:03<00:00,  1.57it/s]\n"
     ]
    }
   ],
   "source": [
    "df2 = dataset_preproc(df2)"
   ]
  },
  {
   "cell_type": "code",
   "execution_count": 25,
   "metadata": {},
   "outputs": [],
   "source": [
    "#df2.to_pickle('data2.pkl')"
   ]
  },
  {
   "cell_type": "code",
   "execution_count": 26,
   "metadata": {},
   "outputs": [],
   "source": [
    "#df2['year_9'].value_counts()"
   ]
  },
  {
   "cell_type": "code",
   "execution_count": 50,
   "metadata": {},
   "outputs": [],
   "source": [
    "test = pd.read_pickle('test_data.pkl')\n",
    "#test = pd.read_pickle('test.pkl')"
   ]
  },
  {
   "cell_type": "code",
   "execution_count": 28,
   "metadata": {},
   "outputs": [
    {
     "data": {
      "text/plain": [
       "763809"
      ]
     },
     "execution_count": 28,
     "metadata": {},
     "output_type": "execute_result"
    }
   ],
   "source": [
    "len(test)"
   ]
  },
  {
   "cell_type": "code",
   "execution_count": 51,
   "metadata": {},
   "outputs": [
    {
     "name": "stderr",
     "output_type": "stream",
     "text": [
      "100%|██████████| 6/6 [00:03<00:00,  1.79it/s]\n"
     ]
    }
   ],
   "source": [
    "test = dataset_preproc(test)"
   ]
  },
  {
   "cell_type": "code",
   "execution_count": 66,
   "metadata": {},
   "outputs": [],
   "source": [
    "#test.to_pickle('test.pkl')"
   ]
  },
  {
   "cell_type": "markdown",
   "metadata": {},
   "source": [
    "## Training"
   ]
  },
  {
   "cell_type": "code",
   "execution_count": 52,
   "metadata": {},
   "outputs": [],
   "source": [
    "from sklearn.linear_model import LogisticRegression\n",
    "from sklearn.model_selection import train_test_split\n",
    "from sklearn.metrics import roc_auc_score"
   ]
  },
  {
   "cell_type": "code",
   "execution_count": 53,
   "metadata": {},
   "outputs": [],
   "source": [
    "SEED = 42"
   ]
  },
  {
   "cell_type": "code",
   "execution_count": 54,
   "metadata": {},
   "outputs": [],
   "source": [
    "X_train, X_val, y_train, y_val = train_test_split(df1[FEATURES_ALL], df1['TARGET'], test_size=0.25, random_state=SEED)"
   ]
  },
  {
   "cell_type": "code",
   "execution_count": 55,
   "metadata": {},
   "outputs": [],
   "source": [
    "scaler = StandardScaler()\n",
    "X_train = scaler.fit_transform(X_train)"
   ]
  },
  {
   "cell_type": "code",
   "execution_count": 56,
   "metadata": {},
   "outputs": [],
   "source": [
    "X_val = scaler.transform(X_val)"
   ]
  },
  {
   "cell_type": "code",
   "execution_count": 57,
   "metadata": {},
   "outputs": [
    {
     "data": {
      "text/plain": [
       "(572850, 17)"
      ]
     },
     "execution_count": 57,
     "metadata": {},
     "output_type": "execute_result"
    }
   ],
   "source": [
    "X_train.shape"
   ]
  },
  {
   "cell_type": "code",
   "execution_count": 58,
   "metadata": {},
   "outputs": [],
   "source": [
    "from sklearn.ensemble import RandomForestClassifier"
   ]
  },
  {
   "cell_type": "code",
   "execution_count": 59,
   "metadata": {},
   "outputs": [
    {
     "name": "stderr",
     "output_type": "stream",
     "text": [
      "/opt/conda/lib/python3.6/site-packages/sklearn/linear_model/_logistic.py:1357: UserWarning: 'n_jobs' > 1 does not have any effect when 'solver' is set to 'liblinear'. Got 'n_jobs' = 8.\n",
      "  \" = {}.\".format(effective_n_jobs(self.n_jobs)))\n"
     ]
    },
    {
     "data": {
      "text/plain": [
       "LogisticRegression(C=1000, max_iter=50, n_jobs=-1, random_state=42,\n",
       "                   solver='liblinear')"
      ]
     },
     "execution_count": 59,
     "metadata": {},
     "output_type": "execute_result"
    }
   ],
   "source": [
    "#clf = RandomForestClassifier(n_estimators=100, max_depth=20, random_state=42, n_jobs = -1)\n",
    "#clf = LogisticRegression(random_state=SEED, solver = 'sag', C=10, max_iter=100, n_jobs=-1)\n",
    "\n",
    "\n",
    "#major model\n",
    "clf = LogisticRegression(random_state=SEED, solver = 'liblinear', C=1000, max_iter=50, n_jobs=-1) #penalty='l2'\n",
    "#major model\n",
    "\n",
    "\n",
    "\n",
    "\n",
    "\n",
    "clf.fit(X_train, y_train)"
   ]
  },
  {
   "cell_type": "code",
   "execution_count": 60,
   "metadata": {},
   "outputs": [],
   "source": [
    "y_val_pred = clf.predict_proba(X_val)"
   ]
  },
  {
   "cell_type": "code",
   "execution_count": 61,
   "metadata": {},
   "outputs": [
    {
     "data": {
      "text/plain": [
       "array([7.16187705e-07, 5.80028139e-07, 4.68903777e-02, ...,\n",
       "       7.82449345e-03, 7.94144180e-03, 5.13546757e-03])"
      ]
     },
     "execution_count": 61,
     "metadata": {},
     "output_type": "execute_result"
    }
   ],
   "source": [
    "y_val_pred[:,1]"
   ]
  },
  {
   "cell_type": "code",
   "execution_count": 63,
   "metadata": {},
   "outputs": [
    {
     "data": {
      "text/plain": [
       "0.840910593546906"
      ]
     },
     "execution_count": 63,
     "metadata": {},
     "output_type": "execute_result"
    }
   ],
   "source": [
    "roc_auc_score(y_val, y_val_pred[:,1])"
   ]
  },
  {
   "cell_type": "code",
   "execution_count": 45,
   "metadata": {},
   "outputs": [],
   "source": [
    "# should be 0.84.."
   ]
  },
  {
   "cell_type": "code",
   "execution_count": 64,
   "metadata": {},
   "outputs": [
    {
     "data": {
      "text/plain": [
       "(763809, 17)"
      ]
     },
     "execution_count": 64,
     "metadata": {},
     "output_type": "execute_result"
    }
   ],
   "source": [
    "X_test = np.array(test[FEATURES_ALL])\n",
    "\n",
    "X_test.shape"
   ]
  },
  {
   "cell_type": "code",
   "execution_count": 65,
   "metadata": {},
   "outputs": [],
   "source": [
    "X_test = scaler.transform(X_test)"
   ]
  },
  {
   "cell_type": "code",
   "execution_count": 66,
   "metadata": {},
   "outputs": [],
   "source": [
    "q = clf.predict_proba(X_test)"
   ]
  },
  {
   "cell_type": "code",
   "execution_count": 67,
   "metadata": {},
   "outputs": [
    {
     "data": {
      "text/html": [
       "<div>\n",
       "<style scoped>\n",
       "    .dataframe tbody tr th:only-of-type {\n",
       "        vertical-align: middle;\n",
       "    }\n",
       "\n",
       "    .dataframe tbody tr th {\n",
       "        vertical-align: top;\n",
       "    }\n",
       "\n",
       "    .dataframe thead th {\n",
       "        text-align: right;\n",
       "    }\n",
       "</style>\n",
       "<table border=\"1\" class=\"dataframe\">\n",
       "  <thead>\n",
       "    <tr style=\"text-align: right;\">\n",
       "      <th></th>\n",
       "      <th>ID</th>\n",
       "      <th>Probability</th>\n",
       "    </tr>\n",
       "  </thead>\n",
       "  <tbody>\n",
       "    <tr>\n",
       "      <th>0</th>\n",
       "      <td>1943531</td>\n",
       "      <td>0.172594</td>\n",
       "    </tr>\n",
       "    <tr>\n",
       "      <th>1</th>\n",
       "      <td>1943532</td>\n",
       "      <td>0.535728</td>\n",
       "    </tr>\n",
       "    <tr>\n",
       "      <th>2</th>\n",
       "      <td>1943533</td>\n",
       "      <td>0.658073</td>\n",
       "    </tr>\n",
       "    <tr>\n",
       "      <th>3</th>\n",
       "      <td>1943534</td>\n",
       "      <td>0.321833</td>\n",
       "    </tr>\n",
       "    <tr>\n",
       "      <th>4</th>\n",
       "      <td>1943537</td>\n",
       "      <td>0.695918</td>\n",
       "    </tr>\n",
       "  </tbody>\n",
       "</table>\n",
       "</div>"
      ],
      "text/plain": [
       "        ID  Probability\n",
       "0  1943531     0.172594\n",
       "1  1943532     0.535728\n",
       "2  1943533     0.658073\n",
       "3  1943534     0.321833\n",
       "4  1943537     0.695918"
      ]
     },
     "execution_count": 67,
     "metadata": {},
     "output_type": "execute_result"
    }
   ],
   "source": [
    "sub = pd.read_csv('submission.csv')\n",
    "sub.head()"
   ]
  },
  {
   "cell_type": "code",
   "execution_count": 68,
   "metadata": {},
   "outputs": [
    {
     "data": {
      "text/plain": [
       "763809"
      ]
     },
     "execution_count": 68,
     "metadata": {},
     "output_type": "execute_result"
    }
   ],
   "source": [
    "len(sub)"
   ]
  },
  {
   "cell_type": "code",
   "execution_count": 69,
   "metadata": {},
   "outputs": [
    {
     "data": {
      "text/html": [
       "<div>\n",
       "<style scoped>\n",
       "    .dataframe tbody tr th:only-of-type {\n",
       "        vertical-align: middle;\n",
       "    }\n",
       "\n",
       "    .dataframe tbody tr th {\n",
       "        vertical-align: top;\n",
       "    }\n",
       "\n",
       "    .dataframe thead th {\n",
       "        text-align: right;\n",
       "    }\n",
       "</style>\n",
       "<table border=\"1\" class=\"dataframe\">\n",
       "  <thead>\n",
       "    <tr style=\"text-align: right;\">\n",
       "      <th></th>\n",
       "      <th>ID</th>\n",
       "      <th>Probability</th>\n",
       "    </tr>\n",
       "  </thead>\n",
       "  <tbody>\n",
       "    <tr>\n",
       "      <th>0</th>\n",
       "      <td>1943531</td>\n",
       "      <td>9.353642e-02</td>\n",
       "    </tr>\n",
       "    <tr>\n",
       "      <th>1</th>\n",
       "      <td>1943532</td>\n",
       "      <td>9.860573e-03</td>\n",
       "    </tr>\n",
       "    <tr>\n",
       "      <th>2</th>\n",
       "      <td>1943533</td>\n",
       "      <td>1.481581e-39</td>\n",
       "    </tr>\n",
       "    <tr>\n",
       "      <th>3</th>\n",
       "      <td>1943534</td>\n",
       "      <td>6.148672e-02</td>\n",
       "    </tr>\n",
       "    <tr>\n",
       "      <th>4</th>\n",
       "      <td>1943537</td>\n",
       "      <td>2.133411e-01</td>\n",
       "    </tr>\n",
       "  </tbody>\n",
       "</table>\n",
       "</div>"
      ],
      "text/plain": [
       "        ID   Probability\n",
       "0  1943531  9.353642e-02\n",
       "1  1943532  9.860573e-03\n",
       "2  1943533  1.481581e-39\n",
       "3  1943534  6.148672e-02\n",
       "4  1943537  2.133411e-01"
      ]
     },
     "execution_count": 69,
     "metadata": {},
     "output_type": "execute_result"
    }
   ],
   "source": [
    "sub['Probability'] = q[:,1]\n",
    "sub.head()"
   ]
  },
  {
   "cell_type": "code",
   "execution_count": 70,
   "metadata": {},
   "outputs": [],
   "source": [
    "sub.to_csv('submission84_afterparty.csv',index=False)"
   ]
  },
  {
   "cell_type": "code",
   "execution_count": 72,
   "metadata": {},
   "outputs": [],
   "source": [
    "import pickle"
   ]
  },
  {
   "cell_type": "code",
   "execution_count": 73,
   "metadata": {},
   "outputs": [],
   "source": [
    "with open('model.pkl', 'wb') as files:\n",
    "    pickle.dump(clf, files)"
   ]
  },
  {
   "cell_type": "code",
   "execution_count": 75,
   "metadata": {},
   "outputs": [],
   "source": [
    "with open('features.pkl', 'wb') as files:\n",
    "    pickle.dump(FEATURES_ALL, files)"
   ]
  },
  {
   "cell_type": "code",
   "execution_count": 76,
   "metadata": {},
   "outputs": [
    {
     "name": "stdout",
     "output_type": "stream",
     "text": [
      "tqdm==4.62.3\n",
      "torch==1.9.1\n",
      "scikit-learn==0.24.2\n",
      "pandas==1.1.5\n",
      "pandarallel==1.5.4\n",
      "numpy==1.16.2\n",
      "matplotlib==3.0.3\n"
     ]
    }
   ],
   "source": [
    "import pkg_resources\n",
    "import types\n",
    "def get_imports():\n",
    "    for name, val in globals().items():\n",
    "        if isinstance(val, types.ModuleType):\n",
    "            # Split ensures you get root package, \n",
    "            # not just imported function\n",
    "            name = val.__name__.split(\".\")[0]\n",
    "\n",
    "        elif isinstance(val, type):\n",
    "            name = val.__module__.split(\".\")[0]\n",
    "\n",
    "        # Some packages are weird and have different\n",
    "        # imported names vs. system names\n",
    "        if name == \"PIL\":\n",
    "            name = \"Pillow\"\n",
    "        elif name == \"sklearn\":\n",
    "            name = \"scikit-learn\"\n",
    "\n",
    "        yield name\n",
    "imports = list(set(get_imports()))\n",
    "\n",
    "requirements = []\n",
    "for m in pkg_resources.working_set:\n",
    "    if m.project_name in imports and m.project_name!=\"pip\":\n",
    "        requirements.append((m.project_name, m.version))\n",
    "\n",
    "for r in requirements:\n",
    "    print(\"{}=={}\".format(*r))"
   ]
  },
  {
   "cell_type": "code",
   "execution_count": 77,
   "metadata": {},
   "outputs": [],
   "source": [
    "with open('requirements.txt', 'w') as f:\n",
    "    for r in requirements:\n",
    "        f.write(\"{}=={} \\n\".format(*r))"
   ]
  },
  {
   "cell_type": "code",
   "execution_count": null,
   "metadata": {},
   "outputs": [],
   "source": []
  },
  {
   "cell_type": "markdown",
   "metadata": {},
   "source": [
    "# Second approach was to use another features, did better preproccessing and apply LogReg/RF/Boosting\n",
    "\n",
    "# However, it resulted in not so good score on Kaggle"
   ]
  },
  {
   "cell_type": "code",
   "execution_count": null,
   "metadata": {},
   "outputs": [],
   "source": []
  }
 ],
 "metadata": {
  "kernelspec": {
   "display_name": "Python 3",
   "language": "python",
   "name": "python3"
  },
  "language_info": {
   "codemirror_mode": {
    "name": "ipython",
    "version": 3
   },
   "file_extension": ".py",
   "mimetype": "text/x-python",
   "name": "python",
   "nbconvert_exporter": "python",
   "pygments_lexer": "ipython3",
   "version": "3.6.8"
  }
 },
 "nbformat": 4,
 "nbformat_minor": 2
}
